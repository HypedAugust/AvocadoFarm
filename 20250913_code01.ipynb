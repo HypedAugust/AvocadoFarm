{
 "cells": [
  {
   "cell_type": "code",
   "execution_count": 10,
   "metadata": {},
   "outputs": [
    {
     "name": "stdout",
     "output_type": "stream",
     "text": [
      "6\n"
     ]
    }
   ],
   "source": [
    "# 자연수 n이 주어지면, n의 각 자릿수의 합을 구해서 return하는 solution 함수를 만들어주세요. \n",
    "# 예) 123 = n , answer = 1+2+3 \n",
    "# 내 접근 -> for 문으로 순회한다 인덱싱을 해야할거 같다. \n",
    "\n",
    "def solution(n):\n",
    "    answer = 0\n",
    "    for i in str(n):\n",
    "        answer += int(i)\n",
    "\n",
    "    return answer\n",
    "\n",
    "print(solution(n))"
   ]
  },
  {
   "cell_type": "code",
   "execution_count": 14,
   "metadata": {},
   "outputs": [
    {
     "name": "stdout",
     "output_type": "stream",
     "text": [
      "2\n",
      "0\n",
      "3\n",
      "12\n"
     ]
    }
   ],
   "source": [
    "def solution(n):\n",
    "    if n < 10:\n",
    "        return n \n",
    "\n",
    "    return n%10 + solution(n//10)\n",
    "\n",
    "print(20//10) \n",
    "print(20%10)\n",
    "\n",
    "print(123%10)\n",
    "print(123//10)"
   ]
  },
  {
   "cell_type": "code",
   "execution_count": null,
   "metadata": {},
   "outputs": [],
   "source": []
  }
 ],
 "metadata": {
  "kernelspec": {
   "display_name": "Python 3",
   "language": "python",
   "name": "python3"
  },
  "language_info": {
   "codemirror_mode": {
    "name": "ipython",
    "version": 3
   },
   "file_extension": ".py",
   "mimetype": "text/x-python",
   "name": "python",
   "nbconvert_exporter": "python",
   "pygments_lexer": "ipython3",
   "version": "3.11.9"
  }
 },
 "nbformat": 4,
 "nbformat_minor": 2
}
