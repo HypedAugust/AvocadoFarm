{
 "cells": [
  {
   "cell_type": "code",
   "execution_count": 1,
   "metadata": {},
   "outputs": [
    {
     "name": "stdout",
     "output_type": "stream",
     "text": [
      "[1, 2, 3, 4, 5, 6, 7, 8, 9, 10]\n"
     ]
    }
   ],
   "source": [
    "# dfs recursion \n",
    "# 1 start with root node \n",
    "# 2 append current node to visited \n",
    "# 3 visit node that were not visited \n",
    "# 4 repeat 2 \n",
    "\n",
    "graph = {\n",
    "    1: [2, 5, 9],\n",
    "    2: [1, 3],\n",
    "    3: [2, 4],\n",
    "    4: [3],\n",
    "    5: [1, 6, 8],\n",
    "    6: [5, 7],\n",
    "    7: [6],\n",
    "    8: [5],\n",
    "    9: [1, 10],\n",
    "    10: [9]\n",
    "}\n",
    "\n",
    "visited = []\n",
    "\n",
    "\n",
    "def dfs_recursion(adjacent_graph, cur_node, visited_array):\n",
    "    visited_array.append(cur_node) # 1\n",
    "    for adjacent_node in adjacent_graph[cur_node]: # 2,5,9\n",
    "        if adjacent_node not in visited_array: # 2, 5, 9\n",
    "            dfs_recursion(adjacent_graph, adjacent_node, visited_array) # adjacent_graph, 2, visited_array \n",
    "    return\n",
    "\n",
    "\n",
    "dfs_recursion(graph, 1, visited)  # 1 이 시작노드입니다!\n",
    "print(visited)  # [1, 2, 3, 4, 5, 6, 7, 8, 9, 10] 이 출력되어야 합니다!"
   ]
  },
  {
   "cell_type": "code",
   "execution_count": 4,
   "metadata": {},
   "outputs": [
    {
     "name": "stdout",
     "output_type": "stream",
     "text": [
      "[1, 9, 10, 5, 8, 6, 7, 2, 3, 4]\n"
     ]
    }
   ],
   "source": [
    "# 위의 그래프를 예시로 삼아서 인접 리스트 방식으로 표현했습니다!\n",
    "graph = {\n",
    "    1: [2, 5, 9],\n",
    "    2: [1, 3],\n",
    "    3: [2, 4],\n",
    "    4: [3],\n",
    "    5: [1, 6, 8],\n",
    "    6: [5, 7],\n",
    "    7: [6],\n",
    "    8: [5],\n",
    "    9: [1, 10],\n",
    "    10: [9]\n",
    "}\n",
    "\n",
    "\n",
    "def dfs_stack(adjacent_graph, start_node): # graph, 1 \n",
    "    stack = [start_node] # stack [1]\n",
    "    visited = []\n",
    "    while stack: # [1]\n",
    "        current_node = stack.pop() \n",
    "        visited.append(current_node) # visited.append(1)\n",
    "        for adjacent_node in adjacent_graph[current_node]: # 2,5,6 because adjacent_grpha[1] = 2,5,9\n",
    "            if adjacent_node not in visited: # 2 없음. \n",
    "                stack.append(adjacent_node) # stack 에 2 추가 \n",
    "    return visited \n",
    "\n",
    "\n",
    "print(dfs_stack(graph, 1))  # 1 이 시작노드입니다!\n",
    "# [1, 9, 10, 5, 8, 6, 7, 2, 3, 4] 이 출력되어야 합니다!"
   ]
  },
  {
   "cell_type": "code",
   "execution_count": 3,
   "metadata": {},
   "outputs": [
    {
     "name": "stdout",
     "output_type": "stream",
     "text": [
      "[1, 2, 3, 4, 5, 6, 7, 8, 9, 10]\n"
     ]
    }
   ],
   "source": [
    "from collections import deque\n",
    "# 위의 그래프를 예시로 삼아서 인접 리스트 방식으로 표현했습니다!\n",
    "graph = {\n",
    "    1: [2, 3, 4],\n",
    "    2: [1, 5],\n",
    "    3: [1, 6, 7],\n",
    "    4: [1, 8],\n",
    "    5: [2, 9],\n",
    "    6: [3, 10],\n",
    "    7: [3],\n",
    "    8: [4],\n",
    "    9: [5],\n",
    "    10: [6]\n",
    "}\n",
    "\n",
    "\n",
    "def bfs_queue(adj_graph, start_node):\n",
    "    queue = deque([start_node])\n",
    "    visited = []\n",
    "\n",
    "    while queue:\n",
    "        current_node = queue.popleft()\n",
    "        visited.append(current_node)\n",
    "        for adj_numbers in adj_graph[current_node]:\n",
    "            if adj_numbers not in visited:\n",
    "                queue.append(adj_numbers)\n",
    "    return visited\n",
    "\n",
    "\n",
    "print(bfs_queue(graph, 1))  # 1 이 시작노드입니다!\n",
    "# [1, 2, 3, 4, 5, 6, 7, 8, 9, 10] 이 출력되어야 합니다!"
   ]
  }
 ],
 "metadata": {
  "kernelspec": {
   "display_name": "coursera",
   "language": "python",
   "name": "python3"
  },
  "language_info": {
   "codemirror_mode": {
    "name": "ipython",
    "version": 3
   },
   "file_extension": ".py",
   "mimetype": "text/x-python",
   "name": "python",
   "nbconvert_exporter": "python",
   "pygments_lexer": "ipython3",
   "version": "3.10.8"
  }
 },
 "nbformat": 4,
 "nbformat_minor": 2
}
