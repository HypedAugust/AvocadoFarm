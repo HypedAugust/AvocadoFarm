{
 "cells": [
  {
   "cell_type": "code",
   "execution_count": 1,
   "id": "9d99e76a",
   "metadata": {},
   "outputs": [
    {
     "name": "stdout",
     "output_type": "stream",
     "text": [
      "[-1, -1, 1, -1, -1, -1]\n"
     ]
    }
   ],
   "source": [
    "# 가장 가까운 같은 글자 \n",
    "\n",
    "def solution(s):\n",
    "    answer = []\n",
    "\n",
    "    for index, value in enumerate(s):\n",
    "        before = s[0:index]\n",
    "        current = before.rfind(value)\n",
    "        if current == -1:\n",
    "            answer.append(-1)\n",
    "        else:\n",
    "            answer.append(index-current)\n",
    "    return answer\n",
    "\n",
    "s = \"foobar\" # [-1, -1, 1, -1, -1, -1]\n",
    "\n",
    "print(solution(s))\n",
    "\n",
    "\n"
   ]
  },
  {
   "cell_type": "code",
   "execution_count": 4,
   "id": "1941d101",
   "metadata": {},
   "outputs": [
    {
     "name": "stdout",
     "output_type": "stream",
     "text": [
      "BC\n"
     ]
    }
   ],
   "source": [
    "# 시저 암호 \n",
    "def solution(s, n):  \n",
    "    s = list(s)\n",
    "\n",
    "    for i in range(len(s)):\n",
    "        if s[i].isupper():  \n",
    "            num = ord(s[i]) - ord('A')\n",
    "            new_num = (num + n) % 26\n",
    "            new_chr = chr(new_num + ord('A'))\n",
    "            s[i] = new_chr\n",
    "            \n",
    "        elif s[i].islower(): \n",
    "            num = ord(s[i]) - ord('a')  \n",
    "            new_num = (num + n) % 26\n",
    "            new_chr = chr(new_num + ord('a'))\n",
    "            s[i] = new_chr\n",
    "            \n",
    "    answer = ''.join(s)  \n",
    "    return answer\n",
    "\n",
    "# 테스트\n",
    "print(solution('AB', 1))      # 'BC'"
   ]
  },
  {
   "cell_type": "code",
   "execution_count": 23,
   "id": "7ec51d6d",
   "metadata": {},
   "outputs": [
    {
     "name": "stdout",
     "output_type": "stream",
     "text": [
      "[2, 3, 4, 5, 6, 7]\n"
     ]
    }
   ],
   "source": [
    "# 두 개 뽑아서 더하기 \n",
    "from itertools import combinations\n",
    "def solution(numbers):\n",
    "    answer = []\n",
    "    comb = combinations(numbers,2)\n",
    "    for num in comb:\n",
    "        answer.append(sum(num))\n",
    "\n",
    "    return list(sorted(set(answer)))\n",
    "\n",
    "\n",
    "numbers = [2,1,3,4,1] # [2,3,4,5,6,7]\n",
    "print(solution(numbers))"
   ]
  },
  {
   "cell_type": "code",
   "execution_count": 24,
   "id": "b16afa4a",
   "metadata": {},
   "outputs": [
    {
     "name": "stdout",
     "output_type": "stream",
     "text": [
      "[2, 3, 4, 5, 6, 7]\n"
     ]
    }
   ],
   "source": [
    "def solution(numbers):\n",
    "    answer = []\n",
    "    for i in range(len(numbers)):\n",
    "        for j in range(i+1, len(numbers)):\n",
    "            answer.append(numbers[i]+numbers[j])\n",
    "    return sorted(list(set(answer)))\n",
    "\n",
    "numbers = [2,1,3,4,1] # [2,3,4,5,6,7]\n",
    "print(solution(numbers))"
   ]
  }
 ],
 "metadata": {
  "kernelspec": {
   "display_name": "Python 3",
   "language": "python",
   "name": "python3"
  },
  "language_info": {
   "codemirror_mode": {
    "name": "ipython",
    "version": 3
   },
   "file_extension": ".py",
   "mimetype": "text/x-python",
   "name": "python",
   "nbconvert_exporter": "python",
   "pygments_lexer": "ipython3",
   "version": "3.12.3"
  }
 },
 "nbformat": 4,
 "nbformat_minor": 5
}
