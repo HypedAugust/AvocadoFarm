{
 "cells": [
  {
   "cell_type": "code",
   "execution_count": null,
   "metadata": {},
   "outputs": [],
   "source": [
    "import json \n",
    "\n",
    "file_path = \n",
    "with open(file_path, \"r\", encoding=\"utf-8\") as file:\n",
    "    lines = [line.strip() for line in file.readlines()]  # 줄바꿈 제거\n",
    "\n",
    "# parsing \n",
    "parsed_data = {}\n",
    "category = None\n",
    "\n",
    "for line in lines:\n",
    "    line = line.strip()\n",
    "\n",
    "    if not line:\n",
    "        continue\n",
    "               \n",
    "    elif line.startswith(\"- \"):  \n",
    "        item = line.lstrip(\"- \").strip()\n",
    "        if category:\n",
    "            parsed_data[category].append(item)\n",
    "            \n",
    "    elif line.startswith(\"-\"):  \n",
    "        item = line.lstrip(\"-\").strip()\n",
    "        if category:\n",
    "            parsed_data[category].append(item)\n",
    "    \n",
    "    else:\n",
    "        category = line.replace(\"**\",\"\").replace(\":\",\"\").strip()\n",
    "        parsed_data.setdefault(category, [])\n",
    "        \n",
    "# 중복 제거\n",
    "for key in parsed_data:\n",
    "    parsed_data[key] = list(set(parsed_data[key]))\n",
    "\n",
    "# JSON 변환\n",
    "raw_response_8_output = json.dumps(parsed_data, indent=2, ensure_ascii=False)\n",
    "\n",
    "# JSON 출력\n",
    "print(raw_response_8_output)\n",
    "\n",
    "# JSON 파일 저장 (올바른 데이터 사용)\n",
    "with open(\"raw_response_8_output.json\", \"w\", encoding=\"utf-8\") as file:\n",
    "    json.dump(parsed_data, file, indent=2, ensure_ascii=False)"
   ]
  }
 ],
 "metadata": {
  "language_info": {
   "name": "python"
  }
 },
 "nbformat": 4,
 "nbformat_minor": 2
}
