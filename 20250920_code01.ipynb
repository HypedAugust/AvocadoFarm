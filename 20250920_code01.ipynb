{
 "cells": [
  {
   "cell_type": "code",
   "execution_count": null,
   "id": "60878b9d",
   "metadata": {},
   "outputs": [
    {
     "name": "stdout",
     "output_type": "stream",
     "text": [
      "수박수박수\n"
     ]
    }
   ],
   "source": [
    "# 수박수박\n",
    "def solution(n):\n",
    "    answer = ''\n",
    "    if n % 2 == 0:\n",
    "        num = n//2\n",
    "        word1 = \"수박\"*num\n",
    "        return word1 \n",
    "    elif n%2 != 0:\n",
    "        num = n//2 \n",
    "        word = \"수박\" * num\n",
    "        word += \"수\"\n",
    "        return  word\n",
    "\n",
    "n = 4 # 수박수 \n",
    "\n",
    "print(solution(n))"
   ]
  },
  {
   "cell_type": "code",
   "execution_count": 10,
   "id": "43216159",
   "metadata": {},
   "outputs": [
    {
     "name": "stdout",
     "output_type": "stream",
     "text": [
      "수박수박\n",
      "수박수박수\n"
     ]
    }
   ],
   "source": [
    "num = 2 \n",
    "word = \"수박\" * num\n",
    "print(word)\n",
    "word += \"수\"\n",
    "print(word)"
   ]
  },
  {
   "cell_type": "code",
   "execution_count": null,
   "id": "412ca0b4",
   "metadata": {},
   "outputs": [
    {
     "name": "stdout",
     "output_type": "stream",
     "text": [
      "[1, 34, 2, 17]\n"
     ]
    }
   ],
   "source": [
    "# 약수의 개수와 덧셈 \n",
    "# 두 정수 left와 right가 매개변수로 주어집니다. \n",
    "# left 부터 right까지의 모든 수들 중에서, 약수의 개수가 짝수인 수는 더하고,\n",
    "# 약수의 개수가 홀수인 수는 뺀수를 return하도록 solution 함수를 완성해주세요. \n",
    "\n",
    "import math \n",
    "list = []\n",
    "n = 34\n",
    "for i in range(1, int(math.sqrt(34)+1)):\n",
    "    if n % i == 0:\n",
    "        list.append(i)\n",
    "        if i != n //i:\n",
    "            list.append(n//i)\n",
    "\n",
    "print(list)\n",
    "\n",
    "\n"
   ]
  },
  {
   "cell_type": "code",
   "execution_count": 21,
   "id": "7c1ec552",
   "metadata": {},
   "outputs": [
    {
     "name": "stdout",
     "output_type": "stream",
     "text": [
      "3\n"
     ]
    }
   ],
   "source": [
    "import math \n",
    "\n",
    "def solution(left, right):\n",
    "    answer = 0\n",
    "    list = []\n",
    "    for i in range(left,right+1):\n",
    "        cnt = 0\n",
    "        root = math.isqrt(i)\n",
    "        for j in range(1,root+1):\n",
    "            if i % j == 0:\n",
    "                cnt += 1 if j == i // j else 2 \n",
    "        answer += cnt\n",
    "    return answer\n",
    "\n",
    "# 2 (2개) + 1 == 3 \n",
    "\n",
    "print(solution(1,2))"
   ]
  },
  {
   "cell_type": "code",
   "execution_count": null,
   "id": "a8b08d30",
   "metadata": {},
   "outputs": [],
   "source": [
    "import math \n",
    "def solution(left,right):\n",
    "    answer += 0\n",
    "    for i in range(left,right+1):\n",
    "        if int(math.sqrt(i))**2 == i:\n",
    "            answer -=i\n",
    "        else:\n",
    "            answer += i\n",
    "    return answer \n",
    "\n"
   ]
  },
  {
   "cell_type": "code",
   "execution_count": 31,
   "id": "24879c81",
   "metadata": {},
   "outputs": [
    {
     "name": "stdout",
     "output_type": "stream",
     "text": [
      "gfedcbZ\n"
     ]
    }
   ],
   "source": [
    "# 문자열 내림차순으로 배치하기 \n",
    "def solution(s):\n",
    "    new_s = sorted(s, reverse=True)\n",
    "    update_s = \"\".join(new_s)\n",
    "    return update_s\n",
    "s = \"Zbcdefg\"\t# \"gfedcbZ\"\n",
    "\n",
    "print(solution(s))"
   ]
  },
  {
   "cell_type": "code",
   "execution_count": null,
   "id": "e0d65869",
   "metadata": {},
   "outputs": [
    {
     "name": "stdout",
     "output_type": "stream",
     "text": [
      "10\n"
     ]
    }
   ],
   "source": [
    "# 부족한 금액 계산하기 \n",
    "# 가격 원래 price \n",
    "# price*n으로 가격이 늘어남 \n",
    "# 놀이기구를 count 번타게 되면 자금 가지고 있는 금액에서 얼마가 모자를까? \n",
    "\n",
    "def solution(price, money, count):\n",
    "    total_price = 0\n",
    "    for i in range(1,count+1):\n",
    "        new_price = price*i\n",
    "        total_price += new_price \n",
    "    if total_price == money:\n",
    "        return 0 \n",
    "    else: \n",
    "        return total_price-money\n",
    "\n",
    "price = 3\n",
    "money = 20\n",
    "count = 4\n",
    "# 10 \n",
    "\n",
    "print(solution(price, money, count))\n"
   ]
  },
  {
   "cell_type": "code",
   "execution_count": 36,
   "id": "7ca9d1aa",
   "metadata": {},
   "outputs": [
    {
     "name": "stdout",
     "output_type": "stream",
     "text": [
      "False\n"
     ]
    }
   ],
   "source": [
    "# 문자열 다루기 기본 \n",
    "# 문자열s의 길이가 4 or 6이고 숫자로만 구성되어있는지 확인하는 함수 환성 \n",
    "# s 가 a234면 False임. 1234면 True \n",
    "\n",
    "def solution(s):\n",
    "    answer = True\n",
    "    if (len(s)== 4 or 6) and s.isdigit():\n",
    "        return answer \n",
    "    else: \n",
    "        return False \n",
    "\n",
    "\n",
    "s = 'a234'\n",
    "print(solution(s))"
   ]
  }
 ],
 "metadata": {
  "kernelspec": {
   "display_name": "Python 3",
   "language": "python",
   "name": "python3"
  },
  "language_info": {
   "codemirror_mode": {
    "name": "ipython",
    "version": 3
   },
   "file_extension": ".py",
   "mimetype": "text/x-python",
   "name": "python",
   "nbconvert_exporter": "python",
   "pygments_lexer": "ipython3",
   "version": "3.12.3"
  }
 },
 "nbformat": 4,
 "nbformat_minor": 5
}
