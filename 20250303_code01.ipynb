{
 "cells": [
  {
   "cell_type": "code",
   "execution_count": null,
   "metadata": {},
   "outputs": [],
   "source": [
    "def solution(citations): \n",
    "    citations.sort(reverse = True)\n",
    "    for i in range(len(citations)):\n",
    "        if citations[i] < i+1:\n",
    "            return i \n",
    "    return len(citations) "
   ]
  },
  {
   "cell_type": "code",
   "execution_count": null,
   "metadata": {},
   "outputs": [],
   "source": [
    "# 큐 \n",
    "def enqueue(self, value):\n",
    "    new_node = Node(value) # 얘는 변수가 없는데 어떻게 이해해야해. \n",
    "    if self.is_empty():\n",
    "        self.head = new_node\n",
    "        self.tail = new_node\n",
    "    self.tail.next = new_node # 이 2줄이 이해가 안가. \n",
    "    self.tail = new_node \n",
    "\n",
    "def dequeue(self):\n",
    "    if self.is_empty():\n",
    "        return \"empty\"\n",
    "    delete_head = self.head\n",
    "    self.head = self.head.next\n",
    "\n",
    "    return delete_head.data \n",
    "\n",
    "def peek(self):\n",
    "    if self.is_empty():\n",
    "        return \" empty \"\n",
    "    return self.head.data\n",
    "\n",
    "def is_empty(self):\n",
    "    return self.head is None "
   ]
  },
  {
   "cell_type": "code",
   "execution_count": null,
   "metadata": {},
   "outputs": [],
   "source": [
    "def get_price_not_fall_periods(prices):\n",
    "    result = []\n",
    "    prices = deque(prices)\n",
    "\n",
    "    while prices:\n",
    "        pricenotfall = 0\n",
    "        currentprice = prices.popleft()\n",
    "        \n",
    "        for next_price in prices:\n",
    "            if currentprice > next_price:  # 가격이 떨어졌을 때\n",
    "                break  # 그냥 중단하고 결과에 추가\n",
    "            \n",
    "            pricenotfall += 1  # 가격이 떨어지지 않았을 때만 +1\n",
    "            \n",
    "        result.append(pricenotfall)\n",
    "    \n",
    "    return result"
   ]
  },
  {
   "cell_type": "code",
   "execution_count": null,
   "metadata": {},
   "outputs": [],
   "source": [
    "class Node:\n",
    "    def __init__(self, data):\n",
    "        self.data = data \n",
    "        self.next = None \n",
    "\n",
    "first_node = Node(5)\n",
    "second_node = Node(12)\n",
    "first_node.next = second_node"
   ]
  }
 ],
 "metadata": {
  "language_info": {
   "name": "python"
  }
 },
 "nbformat": 4,
 "nbformat_minor": 2
}
