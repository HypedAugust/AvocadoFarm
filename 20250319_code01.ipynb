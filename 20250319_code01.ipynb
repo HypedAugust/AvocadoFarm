{
 "cells": [
  {
   "cell_type": "code",
   "execution_count": null,
   "metadata": {},
   "outputs": [],
   "source": [
    "# Binary Search \n",
    "# 값이 특정 범위에 속하는 데이터 개수 구하기 \n",
    "\n",
    "from bisect import bisect_left, bisect_right\n",
    "\n",
    "def count_by_range(a, left_value, right_value):\n",
    "    right_index = bisect_right(a, right_value)\n",
    "    left_index = bisect_left(a, left_value)\n",
    "    return right_index - left_index\n",
    "\n",
    "\n",
    "\n"
   ]
  },
  {
   "cell_type": "code",
   "execution_count": 3,
   "metadata": {},
   "outputs": [
    {
     "name": "stdout",
     "output_type": "stream",
     "text": [
      "bisect right: 8\n",
      "bisect left: 6\n",
      "result: 2\n"
     ]
    }
   ],
   "source": [
    "from bisect import bisect_left, bisect_right\n",
    "a = [1,2,3,3,3,3,4,4,8,9]\n",
    "value = 4  # 찾고자 하는 값\n",
    "\n",
    "right_index = bisect_right(a, value)\n",
    "left_index = bisect_left(a, value)\n",
    "\n",
    "print(f'bisect right: {right_index}')\n",
    "print(f'bisect left: {left_index}')\n",
    "print(f'result: {right_index - left_index}')"
   ]
  },
  {
   "cell_type": "code",
   "execution_count": null,
   "metadata": {},
   "outputs": [],
   "source": [
    "def binary_search(target,array):\n",
    "    current_min = 0 \n",
    "    current_max = len(array)-1\n",
    "    current_guess = (current_min + current_max)//2\n",
    "\n",
    "    find_count = 0\n",
    "    while current_min <= current_max:\n",
    "        if array[current_guess] == target:\n",
    "            return True \n",
    "        elif array[current_guess] < target:\n",
    "            current_min = current_guess+1\n",
    "        else:\n",
    "            current_max = current_guess-1\n",
    "        current_guess = (current_min + current_max) //2 \n",
    "\n",
    "    return False "
   ]
  },
  {
   "cell_type": "code",
   "execution_count": null,
   "metadata": {},
   "outputs": [
    {
     "name": "stdout",
     "output_type": "stream",
     "text": [
      "True\n"
     ]
    }
   ],
   "source": [
    "# Binary Search 문제 \n",
    "# 무작위 수 찾기 \n",
    "# Q. 다음과 같이 숫자로 이루어진 배열이 있을 때, \n",
    "# 2이 존재한다면 True 존재하지 않는다면 \n",
    "# False 를 반환하시오.\n",
    "\n",
    "from bisect import bisect_left, bisect_right\n",
    "\n",
    "finding_target = 2\n",
    "finding_numbers = [0, 3, 5, 6, 1, 2, 4]\n",
    "\n",
    "def is_exist_target_number_binary(target, array):\n",
    "    array = sorted(array) # 이진 탐색은 무작위로 되어있는 배열에서는 사용 불가능 \n",
    "\n",
    "    pos = bisect_left(array, target)\n",
    "\n",
    "    return pos < len(array) and array[pos] == target\n",
    "\n",
    "\n",
    "result = is_exist_target_number_binary(finding_target, finding_numbers)\n",
    "print(result)"
   ]
  },
  {
   "cell_type": "code",
   "execution_count": null,
   "metadata": {},
   "outputs": [],
   "source": [
    "from collections import deque\n",
    "\n",
    "def josephus_problem(n, k):\n",
    "    queue = deque(range(1, n+1))\n",
    "    result = []\n",
    "\n",
    "    while queue:\n",
    "       for _ in range(k-1):\n",
    "        queue.append(queue.popleft()) \n",
    "    result.append(queue.popleft())\n",
    "    return result\n",
    "\n",
    "array = 1, 2, 3, 4, 5, 6, 7\n",
    "n = 7\n",
    "k = 3\n",
    "josephus_problem(n, k)"
   ]
  },
  {
   "cell_type": "code",
   "execution_count": null,
   "metadata": {},
   "outputs": [],
   "source": [
    "# 문제: 문자열 뒤집기\n",
    "# \n",
    "# 문제 설명:\n",
    "# 주어진 문자열을 뒤집는 함수를 작성하세요.\n",
    "# 단, 파이썬의 기본 함수인 reverse나 [::-1]을 사용하지 않고 구현해보세요.\n",
    "# \n",
    "# 예시:\n",
    "# 입력: \"안녕하세요\"\n",
    "# 출력: \"요세하녕안\"\n",
    "#\n",
    "# 입력: \"파이썬 알고리즘\"\n",
    "# 출력: \"즘리고알 썬이파\"\n",
    "#\n",
    "# 제약 조건:\n",
    "# - 문자열의 길이는 1 이상 100 이하입니다.\n",
    "# - 문자열은 알파벳, 숫자, 한글, 공백 및 특수 문자로 구성될 수 있습니다.\n",
    "\n",
    "def reverse_string(text):\n",
    "    # 여기에 코드를 작성하세요\n",
    "    pass\n",
    "\n",
    "# 테스트\n",
    "text1 = \"안녕하세요\"\n",
    "text2 = \"파이썬 알고리즘\"\n",
    "\n",
    "print(reverse_string(text1))  # 요세하녕안\n",
    "print(reverse_string(text2))  # 즘리고알 썬이파"
   ]
  }
 ],
 "metadata": {
  "kernelspec": {
   "display_name": "coursera",
   "language": "python",
   "name": "python3"
  },
  "language_info": {
   "codemirror_mode": {
    "name": "ipython",
    "version": 3
   },
   "file_extension": ".py",
   "mimetype": "text/x-python",
   "name": "python",
   "nbconvert_exporter": "python",
   "pygments_lexer": "ipython3",
   "version": "3.10.8"
  }
 },
 "nbformat": 4,
 "nbformat_minor": 2
}
