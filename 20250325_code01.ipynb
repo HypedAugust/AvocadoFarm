{
 "cells": [
  {
   "cell_type": "code",
   "execution_count": null,
   "metadata": {},
   "outputs": [
    {
     "name": "stdout",
     "output_type": "stream",
     "text": [
      "[None, 9, 4, 2, 3]\n"
     ]
    }
   ],
   "source": [
    "class MaxHeap:\n",
    "    def __init__(self):\n",
    "        self.items = [None]\n",
    "    \n",
    "    def insert(self,value):\n",
    "        self.items.append(value)\n",
    "        cur_index = len(self.items)-1\n",
    "\n",
    "        while cur_index >1:\n",
    "            parent_index = cur_index //2\n",
    "            if self.items[parent_index] <self.items[cur_index]:\n",
    "                self.items[parent_index],self.items[cur_index] = self.items[cur_index],self.items[parent_index]\n",
    "                cur_index = parent_index\n",
    "            else:\n",
    "                break  \n",
    "        return\n",
    "    \n",
    "    def delete(self):\n",
    "        self.items[1], self.items[-1] = self.items[-1], self.items[1]\n",
    "        prev_max = self.items.pop()\n",
    "\n",
    "max_heap = MaxHeap()\n",
    "max_heap.insert(3)\n",
    "max_heap.insert(4)\n",
    "max_heap.insert(2)\n",
    "max_heap.insert(9)\n",
    "print(max_heap.items)  # [None, 9, 4, 2, 3] 가 출력되어야 합니다!"
   ]
  }
 ],
 "metadata": {
  "kernelspec": {
   "display_name": "coursera",
   "language": "python",
   "name": "python3"
  },
  "language_info": {
   "codemirror_mode": {
    "name": "ipython",
    "version": 3
   },
   "file_extension": ".py",
   "mimetype": "text/x-python",
   "name": "python",
   "nbconvert_exporter": "python",
   "pygments_lexer": "ipython3",
   "version": "3.10.8"
  }
 },
 "nbformat": 4,
 "nbformat_minor": 2
}
