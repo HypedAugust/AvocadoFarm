{
 "cells": [
  {
   "cell_type": "code",
   "execution_count": null,
   "id": "72439458",
   "metadata": {},
   "outputs": [],
   "source": [
    "# 재귀 푸는법 \n",
    "# 패턴을 한번 써보자. \n",
    "# 탈출조건을 줘야 한다. \n",
    "# 회문 검사 \n",
    "\n",
    "def is_palindrome(string):\n",
    "    n = len(string)\n",
    "    for i in range(n):\n",
    "        if string[i] != string[n-i-1]:\n",
    "            return False\n",
    "    return True \n",
    "\n",
    "print(is_palindrome(input))"
   ]
  },
  {
   "cell_type": "code",
   "execution_count": null,
   "id": "475185d5",
   "metadata": {},
   "outputs": [],
   "source": [
    "# 모두이용해서! 여행경로 짜기 -> BFS  \n",
    "# 시작은 ICN \n",
    "# 2차원 배열은 문자열로 되어있음. \n",
    "# 방문하는 경로를 1차원 배열로 담아 return하기 \n",
    "\n",
    "tikets = [\n",
    "    [\"ICN\", \"JFK\"], \n",
    "    [\"HND\", \"IAD\"], \n",
    "    [\"JFK\", \"HND\"]\n",
    "]\n",
    "\n",
    "# return : [\"ICN\", \"JFK\", \"HND\", \"IAD\"]\n",
    "\n",
    "from collections import defaultdict # defaultdict라는 것을 배웠다. \n",
    "\n",
    "def solution(tickets): # 2차원 배열을 받는다. \n",
    "\n",
    "    graph = defaultdict(list) # 이거는 2차원 배열을 받은 것을 graph화 한다는 명령어이다. \n",
    "    for departer, arrival in tickes:# 2차원 배열의 첫번쨰가 departure\n",
    "        graph[departure].append(arrival) # dic 형태므로 departure : arrival 형태로 정리된다. \n",
    "    \n",
    "    for departure in graph: # 그래프의 키인 departure를 순회 하며 \n",
    "        graph[departure].sort() # departure 알파벳 순서 대로 sort을 한다. \n",
    "    \n",
    "    visit = [\"ICN\"] # 방문 지점은 ICN으로 시작한다. \n",
    "\n",
    "    def dfs(airport): # airport = 처음엔 ICN이다. \n",
    "        remaining_tickets = 0  # 남은 ticket을 센다. 끝나면 0이 된다. \n",
    "        for airport_name in graph: # 그래프의 value를 순회한다. \n",
    "            remaining_tickets += len(graph[airport_name]) # ticket의 길이는 arrival 위치들이다.  \n",
    "        \n",
    "        if remaining_tickets == 0: # 남은 티켓이 없다면 그냥 true로 반환한다. \n",
    "            return True\n",
    "        \n",
    "        if airport in graph and graph[airport]: # 만약 ICN이 graph에도 있고 graph의 arrival에도 있다면  \n",
    "            for i in range(len(graph[airport])): # graph의 arrival 전체 순회 하면서 \n",
    "\n",
    "                next_airport = graph[airport].pop(0) # 다음 도착 예정지는 현재 공항(departure)의 도착지 이고 이것을 pop 해 버린다.  \n",
    "                visit.append(next_airport) # 도착지에 JFK를 추가한다. \n",
    "\n",
    "                if dfs(next_airport): # 이제 JFK로 dfs를 재귀적으로 돌 예정이다. \n",
    "                    return True \n",
    "                \n",
    "                graph[airport].append(next_airport) \n",
    "                visit.pop() \n",
    "        return False \n",
    "    dfs(\"ICN\")\n",
    "    return visit \n"
   ]
  }
 ],
 "metadata": {
  "kernelspec": {
   "display_name": "Python 3",
   "language": "python",
   "name": "python3"
  },
  "language_info": {
   "codemirror_mode": {
    "name": "ipython",
    "version": 3
   },
   "file_extension": ".py",
   "mimetype": "text/x-python",
   "name": "python",
   "nbconvert_exporter": "python",
   "pygments_lexer": "ipython3",
   "version": "3.11.9"
  }
 },
 "nbformat": 4,
 "nbformat_minor": 5
}
