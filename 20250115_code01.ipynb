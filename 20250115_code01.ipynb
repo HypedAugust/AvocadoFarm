{
 "cells": [
  {
   "cell_type": "code",
   "execution_count": null,
   "metadata": {},
   "outputs": [],
   "source": [
    "# # Logistic Regression Training \n",
    "# The main objective of training and logistic regression is \n",
    "# to change the parameters of the model, so as to be the best estimation of the labels of the samples in the dataset.\n",
    "\n",
    "\n",
    "# How to minimize the cost function?\n",
    "# # use GD\n",
    "\n",
    "# Gradient \n",
    "# how do we calculate? "
   ]
  },
  {
   "cell_type": "markdown",
   "metadata": {},
   "source": [
    "Key Notes on Logistic Regression Training and Gradient Descent\n",
    "Objective of Training:\n",
    "\n",
    "Find the best parameters (weights) for the model to estimate labels accurately.\n",
    "Minimize the cost function to reduce the error.\n",
    "Cost Function:\n",
    "Measures the difference between actual labels =\n",
    "The total cost is the average cost across all training samples.\n",
    "Gradient Descent:\n",
    "\n",
    "Optimization method to minimize the cost function:\n",
    "Calculate the gradient (slope) of the cost function at the current parameter values.\n",
    "Update parameters by moving in the opposite direction of the gradient.\n",
    "Learning rate (\n",
    "𝜇\n",
    "μ): Controls step size. Smaller values ensure precision; larger values speed up learning.\n",
    "Training Steps:\n",
    "\n",
    "Initialize parameters randomly.\n",
    "Calculate the cost function with current parameters.\n",
    "Compute the gradient (partial derivatives).\n",
    "Update parameters using the gradient and learning rate.\n",
    "Repeat until the cost converges (minimum value) or after a set number of iterations.\n",
    "Concept of Logistic Regression:\n",
    "\n",
    "Predicts probabilities for classes (values between 0 and 1).\n",
    "Uses the sigmoid function.\n",
    "=\n",
    "Model learns the optimal parameters to predict probabilities effectively, e.g., customer churn prediction.\n"
   ]
  }
 ],
 "metadata": {
  "language_info": {
   "name": "python"
  }
 },
 "nbformat": 4,
 "nbformat_minor": 2
}
