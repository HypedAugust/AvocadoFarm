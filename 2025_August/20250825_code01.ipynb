{
 "cells": [
  {
   "cell_type": "markdown",
   "id": "1255cbe8",
   "metadata": {},
   "source": [
    "## 내일 공부할 것\n",
    "\n",
    "- Unreal\n",
    "    - https://www.youtube.com/watch?v=5VTtsEU6Dsw&list=PLIn-yd4vnXbjWeYqU7epakdnVzoysMToy&index=4\n",
    "- Zapier를 한번 알아보자.\n",
    "- https://www.youtube.com/watch?v=oMlsOS0fzSk 클로드 코드 무료 템플릿\n",
    "- https://www.youtube.com/watch?v=FeajKnXLkt0 윈도우즈 에서 mcp 사용하기\n",
    "\n",
    "## 오늘 공부한 것\n",
    "\n",
    "해야할 것, Sequential thinking mcp를 깔아보자. \n",
    "\n",
    "- https://www.youtube.com/watch?v=Jz4Frsy_MZk 알아두면 좋을 MCP 서버\n",
    "- https://www.youtube.com/watch?v=1o1kxKItYRs 클로드 코드 사용하기"
   ]
  }
 ],
 "metadata": {
  "language_info": {
   "name": "python"
  }
 },
 "nbformat": 4,
 "nbformat_minor": 5
}
