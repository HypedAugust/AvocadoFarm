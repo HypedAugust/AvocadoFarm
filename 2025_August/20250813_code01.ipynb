{
 "cells": [
  {
   "cell_type": "code",
   "execution_count": null,
   "id": "81260cea",
   "metadata": {},
   "outputs": [],
   "source": [
    "def solution(my_string):\n",
    "    answer = []\n",
    "    for i in range(len(my_string)):\n",
    "        answer.append(my_string[i:])\n",
    "    answer.sort()\n",
    "    return answer "
   ]
  }
 ],
 "metadata": {
  "language_info": {
   "name": "python"
  }
 },
 "nbformat": 4,
 "nbformat_minor": 5
}
