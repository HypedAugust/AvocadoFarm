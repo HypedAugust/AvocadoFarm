{
 "cells": [
  {
   "cell_type": "code",
   "execution_count": null,
   "id": "589e7aaf",
   "metadata": {},
   "outputs": [],
   "source": [
    "def solution(my_strings, parts):\n",
    "    answer = ''\n",
    "    for string, part in zip(my_strings, parts):\n",
    "        start,end = part[0], part[1]\n",
    "        answer += string[start:end+1]\n",
    "    return answer"
   ]
  },
  {
   "cell_type": "markdown",
   "id": "cbaa0380",
   "metadata": {},
   "source": [
    "길이가 같은 문자열 배열 my_strings와 이차원 정수 배열 parts가 매개변수로 주어집니다. parts[i]는 [s, e] 형태로, my_string[i]의 인덱스 s부터 인덱스 e까지의 부분 문자열을 의미합니다. 각 my_strings의 원소의 parts에 해당하는 부분 문자열을 순서대로 이어 붙인 문자열을 return 하는 solution 함수를 작성해 주세요.\n",
    "\n",
    "\n",
    "my_strings\tparts\tresult\n",
    "[\"progressive\", \"hamburger\", \"hammer\", \"ahocorasick\"]\t[[0, 4], [1, 2], [3, 5], [7, 7]]\t\"programmers\"\n"
   ]
  },
  {
   "cell_type": "code",
   "execution_count": 3,
   "id": "f47e0be2",
   "metadata": {},
   "outputs": [
    {
     "name": "stdout",
     "output_type": "stream",
     "text": [
      "0 4\n",
      "progr\n",
      "1 2\n",
      "program\n",
      "3 5\n",
      "programmer\n",
      "7 7\n",
      "programmers\n"
     ]
    }
   ],
   "source": [
    "my_stringss = [\"progressive\", \"hamburger\", \"hammer\", \"ahocorasick\"]\n",
    "\n",
    "parts = [[0, 4], [1, 2], [3, 5], [7, 7]]\n",
    "\n",
    "answer = ''\n",
    "\n",
    "for string, part in zip(my_strings, parts):\n",
    "    start,end = part[0], part[1]\n",
    "    print(start, end)\n",
    "    answer += string[start:end+1]\n",
    "    print(answer)\n"
   ]
  },
  {
   "cell_type": "code",
   "execution_count": 4,
   "id": "6b0c5bbd",
   "metadata": {},
   "outputs": [
    {
     "name": "stdout",
     "output_type": "stream",
     "text": [
      "kyu is awesome\n"
     ]
    }
   ],
   "source": [
    "string1  = \"kyu\"\n",
    "string2 = \" is awesome\"\n",
    "\n",
    "print(string1 + string2)"
   ]
  }
 ],
 "metadata": {
  "kernelspec": {
   "display_name": "legalnlp",
   "language": "python",
   "name": "python3"
  },
  "language_info": {
   "codemirror_mode": {
    "name": "ipython",
    "version": 3
   },
   "file_extension": ".py",
   "mimetype": "text/x-python",
   "name": "python",
   "nbconvert_exporter": "python",
   "pygments_lexer": "ipython3",
   "version": "3.10.16"
  }
 },
 "nbformat": 4,
 "nbformat_minor": 5
}
