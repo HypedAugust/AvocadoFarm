{
 "cells": [
  {
   "cell_type": "code",
   "execution_count": 4,
   "id": "cf44b066",
   "metadata": {},
   "outputs": [
    {
     "name": "stdout",
     "output_type": "stream",
     "text": [
      "1\n"
     ]
    }
   ],
   "source": [
    "def solution(num, n):\n",
    "    if num % n == 0:\n",
    "        return 1\n",
    "    elif num % n != 0:\n",
    "        return 0\n",
    "\n",
    "num = 98\n",
    "n = 2 \n",
    "\n",
    "print(solution(num,n))"
   ]
  }
 ],
 "metadata": {
  "kernelspec": {
   "display_name": "legalnlp",
   "language": "python",
   "name": "python3"
  },
  "language_info": {
   "codemirror_mode": {
    "name": "ipython",
    "version": 3
   },
   "file_extension": ".py",
   "mimetype": "text/x-python",
   "name": "python",
   "nbconvert_exporter": "python",
   "pygments_lexer": "ipython3",
   "version": "3.10.16"
  }
 },
 "nbformat": 4,
 "nbformat_minor": 5
}
