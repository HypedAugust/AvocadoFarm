{
 "cells": [
  {
   "cell_type": "code",
   "execution_count": null,
   "metadata": {},
   "outputs": [],
   "source": [
    "# 우선순위 큐 : 우선순위가 가장 높은 데이터를 가장 먼저 삭제하는 자료구조 \n",
    "# 힙을 이용하여 구현이 가능하다. \n",
    "# 힙은 완전 이진 트리 자료구조의 일종이다. \n",
    "# 힙에서는 항상 루트 노드를 제거한다. \n",
    "# 최소힙과 최대힙이 있다. \n",
    "# 완전 이진 트리란 루트 노드에서 시작해 왼쪽 자식 노드 오른쪽 자식 노드 순으로 데이터가 삽입되는 트리이다. \n",
    "\n",
    "# priority que, heap \n",
    "\n",
    "import sys \n",
    "import heapq \n",
    "input = sys.stdin.readline \n",
    "\n",
    "def heapsort(iterable):\n",
    "    h = []\n",
    "    result = []\n",
    "\n",
    "    for value in iterable:\n",
    "        heapq.heappush(h, value)\n",
    "\n",
    "    for i in range(len(h)):\n",
    "        result.append(heapq.heappop(h))\n",
    "    return result \n",
    "\n",
    "n = int(input())\n",
    "arr = []\n",
    "\n",
    "for i in range(n):\n",
    "    arr.append(int(input()))\n",
    "\n",
    "res = heapsort(arr)\n",
    "\n",
    "for i in range(n):\n",
    "    print(res[i])"
   ]
  }
 ],
 "metadata": {
  "language_info": {
   "name": "python"
  }
 },
 "nbformat": 4,
 "nbformat_minor": 2
}
