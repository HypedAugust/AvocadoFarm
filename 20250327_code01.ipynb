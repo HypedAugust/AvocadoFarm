{
 "cells": [
  {
   "cell_type": "code",
   "execution_count": 4,
   "metadata": {},
   "outputs": [
    {
     "name": "stdout",
     "output_type": "stream",
     "text": [
      "6765\n"
     ]
    }
   ],
   "source": [
    "input = 20\n",
    "\n",
    "\n",
    "def fibo_recursion(n):\n",
    "    if n == 1 or n == 2:\n",
    "        return 1\n",
    "    \n",
    "    return fibo_recursion(n-1)+fibo_recursion(n-2)\n",
    "\n",
    "\n",
    "print(fibo_recursion(20))  # 6765"
   ]
  },
  {
   "cell_type": "code",
   "execution_count": null,
   "metadata": {},
   "outputs": [
    {
     "name": "stdout",
     "output_type": "stream",
     "text": [
      "12586269025\n"
     ]
    }
   ],
   "source": [
    "input = 3\n",
    "\n",
    "# memo 라는 변수에 Fibo(1)과 Fibo(2) 값을 저장해놨습니다!\n",
    "memo = {\n",
    "    1: 1,\n",
    "    2: 1\n",
    "}\n",
    "\n",
    "\n",
    "def fibo_dynamic_programming(n, fibo_memo):\n",
    "    if n in fibo_memo:\n",
    "        return fibo_memo[n]\n",
    "    \n",
    "    nth_fibo = fibo_dynamic_programming(n-1, fibo_memo) + fibo_dynamic_programming(n-2, fibo_memo) \n",
    "    # input 이 3일때 fibo[2], fibo[1] 이 있음. 그냥 2+1 작업 끝 \n",
    "\n",
    "    fibo_memo[n] = nth_fibo \n",
    "    return nth_fibo\n",
    "\n",
    "\n",
    "print(fibo_dynamic_programming(input, memo))"
   ]
  },
  {
   "cell_type": "code",
   "execution_count": null,
   "metadata": {},
   "outputs": [
    {
     "name": "stdout",
     "output_type": "stream",
     "text": [
      "2\n",
      "정답 = 2 / 현재 풀이 값 =  2\n",
      "정답 = 4 / 현재 풀이 값 =  4\n",
      "정답 = 1 / 현재 풀이 값 =  1\n"
     ]
    }
   ],
   "source": [
    "# 농심 \n",
    "# 하루 1톤 사용 \n",
    "# 공급 가능 날짜와 수량을 제공함 \n",
    "# 최소한의 횟수로 밀가루 공급받고 싶음. \n",
    "\n",
    "import heapq\n",
    "\n",
    "ramen_stock = 4\n",
    "supply_dates = [4, 10, 15]\n",
    "supply_supplies = [20, 5, 10]\n",
    "supply_recover_k = 30\n",
    "\n",
    "\n",
    "def get_minimum_count_of_overseas_supply(stock, dates, supplies, k):\n",
    "    answer = 0 \n",
    "    last_added_date_index = 0 \n",
    "    max_heap = []\n",
    "\n",
    "    while stock <= k: # 가지고 있는 양이 목표일수인 k와 동일하면 끝남. \n",
    "        while last_added_date_index < len(dates) and dates[last_added_date_index] <= stock: \n",
    "            # 첫 사이클에서는 0 < 3 and 4 <= 4 이라서 바로 끝남. \n",
    "            # 두번째 사이클에서는 1<3 and 10 <= 24 임\n",
    "            # 세번째 사이클에서는 2<3 and 15 <= 24 임 \n",
    "            # 네번째는 3<3 이므로 break   \n",
    "            heapq.heappush(max_heap, -supplies[last_added_date_index]) \n",
    "            # 첫 사이클에서는 maxheap에 -20이 들어감. \n",
    "            # 두번째 사이클에서 max heap 에 -5 들어감\n",
    "            # 세번째 사이클에서 max heap에 -10 들어감 \n",
    "            # 현재 maxheap 은 [-10,-5] 이렇게 되어있는거임. \n",
    "            last_added_date_index += 1 \n",
    "            # 이제 인덱스가 1로 올라갔음. \n",
    "            # 인덱스 2가 됨.  \n",
    "            # 인덱스 3이 됨. \n",
    "        answer += 1 \n",
    "        # 첫 사이클에서 4일에 받을 거니까 1이 됨.\n",
    "        # 최종 answer += 1 추가로 해서 답은 2가 됨.  \n",
    "        heappop = heapq.heappop(max_heap) # -20을 꺼냈음.\n",
    "        # -10를 꺼냈음.  \n",
    "        stock += -heappop # +20이 더해져서 24가 현재 stock이 됨. \n",
    "        # 최종 stock이 34여서 while문 다 빠져나옴.  \n",
    "    return answer\n",
    "\n",
    "\n",
    "print(get_minimum_count_of_overseas_supply(ramen_stock, supply_dates, supply_supplies, supply_recover_k))\n",
    "print(\"정답 = 2 / 현재 풀이 값 = \", get_minimum_count_of_overseas_supply(4, [4, 10, 15], [20, 5, 10], 30))\n",
    "print(\"정답 = 4 / 현재 풀이 값 = \", get_minimum_count_of_overseas_supply(4, [4, 10, 15, 20], [20, 5, 10, 5], 40))\n",
    "print(\"정답 = 1 / 현재 풀이 값 = \", get_minimum_count_of_overseas_supply(2, [1, 10], [10, 100], 11))\n"
   ]
  }
 ],
 "metadata": {
  "kernelspec": {
   "display_name": "test_env",
   "language": "python",
   "name": "python3"
  },
  "language_info": {
   "codemirror_mode": {
    "name": "ipython",
    "version": 3
   },
   "file_extension": ".py",
   "mimetype": "text/x-python",
   "name": "python",
   "nbconvert_exporter": "python",
   "pygments_lexer": "ipython3",
   "version": "3.11.9"
  }
 },
 "nbformat": 4,
 "nbformat_minor": 2
}
