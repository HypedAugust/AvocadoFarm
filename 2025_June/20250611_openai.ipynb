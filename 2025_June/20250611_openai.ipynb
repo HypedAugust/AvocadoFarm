{
 "cells": [
  {
   "cell_type": "code",
   "execution_count": 26,
   "id": "a0d7df1d",
   "metadata": {},
   "outputs": [],
   "source": [
    "import requests"
   ]
  },
  {
   "cell_type": "markdown",
   "id": "c7ae81f8",
   "metadata": {},
   "source": [
    "def reuqest_gpt(user_text) : \n",
    "\n",
    "    endpoint = 'flil in '\n",
    "    headers = {\n",
    "        \"Content-Type\": \"application/json\",\n",
    "        \"api-key\": \"fill in \"\n",
    "        }\n",
    "    payload = {\n",
    "        \"messages\": [\n",
    "            {\n",
    "                \"role\": \"system\",\n",
    "                \"content\": [\n",
    "                    {\n",
    "                        \"type\": \"text\",\n",
    "                        \"text\": \"너는 친환경 도시락 브랜드 회사의 전문 마케터야. 창의적인 마케팅 방법을 제안해줘. 최대한 귀엽게 얘기해해\"\n",
    "                        }\n",
    "                    ]\n",
    "                },\n",
    "                 {\n",
    "        \"role\": \"user\",\n",
    "        \"content\": [\n",
    "            {\n",
    "                \"type\": \"text\",\n",
    "                \"text\": \"고등어 설명해줘\"\n",
    "            }\n",
    "        ]\n",
    "    },\n",
    "    {\n",
    "        \"role\": \"assistant\",\n",
    "        \"content\": [\n",
    "            {\n",
    "                \"type\": \"text\",\n",
    "                \"text\": \" 고등어 맛있쪙 \" \n",
    "            }\n",
    "        ]\n",
    "    },\n",
    "            {\n",
    "                \"role\": \"user\",\n",
    "                \"content\": [\n",
    "                    {\n",
    "                        \"type\": \"text\",\n",
    "                        \"text\": user_text\n",
    "                    }\n",
    "                ]\n",
    "            }\n",
    "        ],\n",
    "        \"temperature\" : 0.7,\n",
    "        \"top_p\": 0.95,\n",
    "        \"max_tokens\": 800\n",
    "    }\n",
    "\n",
    "    response = requests.post(endpoint, headers= headers, json = payload)\n",
    "\n",
    "    if response.status_code == 200:\n",
    "        response_json = response.json()\n",
    "        contest_text = response_json['choices'][0]['message']['content']\n",
    "        return contest_text\n",
    "    else:\n",
    "        return 'request failed'\n",
    "\n",
    "user_text = '고등어'\n",
    "reuqest_gpt(user_text)\n"
   ]
  },
  {
   "cell_type": "code",
   "execution_count": 28,
   "id": "76d84fd8",
   "metadata": {},
   "outputs": [
    {
     "data": {
      "text/plain": [
       "<Response [200]>"
      ]
     },
     "execution_count": 28,
     "metadata": {},
     "output_type": "execute_result"
    }
   ],
   "source": [
    "response"
   ]
  },
  {
   "cell_type": "code",
   "execution_count": 29,
   "id": "9254e93c",
   "metadata": {},
   "outputs": [],
   "source": [
    "response_json = response.json() "
   ]
  },
  {
   "cell_type": "code",
   "execution_count": 30,
   "id": "5820e80d",
   "metadata": {},
   "outputs": [
    {
     "data": {
      "text/plain": [
       "{'choices': [{'content_filter_results': {'hate': {'filtered': False,\n",
       "     'severity': 'safe'},\n",
       "    'protected_material_code': {'filtered': False, 'detected': False},\n",
       "    'protected_material_text': {'filtered': False, 'detected': False},\n",
       "    'self_harm': {'filtered': False, 'severity': 'safe'},\n",
       "    'sexual': {'filtered': False, 'severity': 'safe'},\n",
       "    'violence': {'filtered': False, 'severity': 'safe'}},\n",
       "   'finish_reason': 'stop',\n",
       "   'index': 0,\n",
       "   'logprobs': None,\n",
       "   'message': {'annotations': [],\n",
       "    'content': '키위는 주로 뉴질랜드와 중국 원산지로 알려진 과일로, 영양가가 높고 맛이 독특한 특징을 가지고 있습니다. 키위는 둥글고 털이 있는 갈색 껍질을 가지고 있으며, 속은 선명한 녹색 또는 노란색으로, 검은 씨앗이 고르게 분포되어 있습니다.\\n\\n### 주요 특징:\\n1. **영양소**: 키위는 비타민 C, 비타민 K, 비타민 E, 식이 섬유, 항산화 물질이 풍부하여 면역력 증진, 소화 개선, 피부 건강에 도움을 줍니다.\\n2. **맛**: 상큼하고 달콤한 맛이 특징이며, 약간의 산미도 느껴집니다.\\n3. **소화 건강**: 키위에는 키위 효소인 아크티니딘이 포함되어 있어 단백질 소화에 도움을 줍니다.\\n4. **다양한 활용**: 신선하게 먹거나 샐러드, 스무디, 디저트, 잼 등 다양한 요리에 활용될 수 있습니다.\\n\\n### 재배:\\n키위는 온난한 기후에서 잘 자라며, 대개 봄에 꽃이 피고 가을에 수확합니다. 재배가 쉽지 않아 상대적으로 높은 가격에 판매되는 경우가 많습니다.\\n\\n키위는 건강에 좋은 과일로 많은 사람들에게 사랑받고 있으며, 다양한 요리에 활용될 수 있는 다재다능한 과일입니다.',\n",
       "    'refusal': None,\n",
       "    'role': 'assistant'}}],\n",
       " 'created': 1749609943,\n",
       " 'id': 'chatcmpl-Bh5l9ZQDSqj82CVCST7Ug7pNGvt4u',\n",
       " 'model': 'gpt-4o-mini-2024-07-18',\n",
       " 'object': 'chat.completion',\n",
       " 'prompt_filter_results': [{'prompt_index': 0,\n",
       "   'content_filter_results': {'hate': {'filtered': False, 'severity': 'safe'},\n",
       "    'jailbreak': {'filtered': False, 'detected': False},\n",
       "    'self_harm': {'filtered': False, 'severity': 'safe'},\n",
       "    'sexual': {'filtered': False, 'severity': 'safe'},\n",
       "    'violence': {'filtered': False, 'severity': 'safe'}}}],\n",
       " 'system_fingerprint': 'fp_57db37749c',\n",
       " 'usage': {'completion_tokens': 339,\n",
       "  'completion_tokens_details': {'accepted_prediction_tokens': 0,\n",
       "   'audio_tokens': 0,\n",
       "   'reasoning_tokens': 0,\n",
       "   'rejected_prediction_tokens': 0},\n",
       "  'prompt_tokens': 14,\n",
       "  'prompt_tokens_details': {'audio_tokens': 0, 'cached_tokens': 0},\n",
       "  'total_tokens': 353}}"
      ]
     },
     "execution_count": 30,
     "metadata": {},
     "output_type": "execute_result"
    }
   ],
   "source": [
    "response_json\n",
    "\n"
   ]
  },
  {
   "cell_type": "code",
   "execution_count": 31,
   "id": "77140940",
   "metadata": {},
   "outputs": [
    {
     "name": "stdout",
     "output_type": "stream",
     "text": [
      "키위는 주로 뉴질랜드와 중국 원산지로 알려진 과일로, 영양가가 높고 맛이 독특한 특징을 가지고 있습니다. 키위는 둥글고 털이 있는 갈색 껍질을 가지고 있으며, 속은 선명한 녹색 또는 노란색으로, 검은 씨앗이 고르게 분포되어 있습니다.\n",
      "\n",
      "### 주요 특징:\n",
      "1. **영양소**: 키위는 비타민 C, 비타민 K, 비타민 E, 식이 섬유, 항산화 물질이 풍부하여 면역력 증진, 소화 개선, 피부 건강에 도움을 줍니다.\n",
      "2. **맛**: 상큼하고 달콤한 맛이 특징이며, 약간의 산미도 느껴집니다.\n",
      "3. **소화 건강**: 키위에는 키위 효소인 아크티니딘이 포함되어 있어 단백질 소화에 도움을 줍니다.\n",
      "4. **다양한 활용**: 신선하게 먹거나 샐러드, 스무디, 디저트, 잼 등 다양한 요리에 활용될 수 있습니다.\n",
      "\n",
      "### 재배:\n",
      "키위는 온난한 기후에서 잘 자라며, 대개 봄에 꽃이 피고 가을에 수확합니다. 재배가 쉽지 않아 상대적으로 높은 가격에 판매되는 경우가 많습니다.\n",
      "\n",
      "키위는 건강에 좋은 과일로 많은 사람들에게 사랑받고 있으며, 다양한 요리에 활용될 수 있는 다재다능한 과일입니다.\n"
     ]
    }
   ],
   "source": [
    "message_content = response_json['choices'][0]['message']['content']\n",
    "print(message_content)\n"
   ]
  },
  {
   "cell_type": "code",
   "execution_count": null,
   "id": "a4fa2b08",
   "metadata": {},
   "outputs": [],
   "source": []
  }
 ],
 "metadata": {
  "kernelspec": {
   "display_name": "py313",
   "language": "python",
   "name": "python3"
  },
  "language_info": {
   "codemirror_mode": {
    "name": "ipython",
    "version": 3
   },
   "file_extension": ".py",
   "mimetype": "text/x-python",
   "name": "python",
   "nbconvert_exporter": "python",
   "pygments_lexer": "ipython3",
   "version": "3.13.2"
  }
 },
 "nbformat": 4,
 "nbformat_minor": 5
}
