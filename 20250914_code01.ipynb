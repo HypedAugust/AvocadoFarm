{
 "cells": [
  {
   "cell_type": "code",
   "execution_count": 6,
   "metadata": {},
   "outputs": [
    {
     "name": "stdout",
     "output_type": "stream",
     "text": [
      "[3, 2, 1]\n"
     ]
    }
   ],
   "source": [
    "# 자연수 뒤집에 배열로 만들기 \n",
    "def solution(n):\n",
    "    answer = []\n",
    "    for i in str(n):\n",
    "        answer.append(int(i))\n",
    "    answer.reverse()        \n",
    "    return answer\n",
    "\n",
    "n=123 \n",
    "print(solution(123))\n",
    "\n",
    "# 배운점 : int는 iterable하지 않다. "
   ]
  },
  {
   "cell_type": "code",
   "execution_count": 7,
   "metadata": {},
   "outputs": [
    {
     "name": "stdout",
     "output_type": "stream",
     "text": [
      "Odd\n"
     ]
    }
   ],
   "source": [
    "# 짝수와 홀수 \n",
    "def solution(num):\n",
    "    answer = ''\n",
    "    if num%2 == 1:\n",
    "        return 'Odd'\n",
    "    elif num%2 == 0:\n",
    "        return 'Even'\n",
    "    return answer\n",
    "\n",
    "num = 3 # 'Odd'\n",
    "print(solution(num))"
   ]
  },
  {
   "cell_type": "code",
   "execution_count": 9,
   "metadata": {},
   "outputs": [
    {
     "name": "stdout",
     "output_type": "stream",
     "text": [
      "2.5\n"
     ]
    }
   ],
   "source": [
    "# 평균 구하기 \n",
    "# 정수를 담고 있는 배열 arr의 평균값을 return하는 함수, solution을 완성해 보세요. \n",
    "arr = [1,2,3,4] # 2.5 \n",
    "\n",
    "def solution(arr):\n",
    "    answer = 0\n",
    "    for i in arr:\n",
    "        answer +=i \n",
    "    return answer/len(arr)\n",
    "\n",
    "print(solution(arr))"
   ]
  },
  {
   "cell_type": "code",
   "execution_count": 12,
   "metadata": {},
   "outputs": [
    {
     "name": "stdout",
     "output_type": "stream",
     "text": [
      "[2, 4, 6, 8, 10]\n"
     ]
    }
   ],
   "source": [
    "# x만큼 간격이 있는 n개의 숫자 \n",
    "# 받는 값 = x,n \n",
    "# x 부터 시작해서 x씩 증가하는 숫자를 n개 지니는 리스트를 받아야 한다. \n",
    "\n",
    "def solution(x,n):\n",
    "    answer = []\n",
    "    for i in range(n):\n",
    "        answer.append(x + x*i)\n",
    "    return answer \n",
    "\n",
    "x = 2\n",
    "n = 5\n",
    "# answer = [2,4,6,8,10]\n",
    "\n",
    "print(solution(x,n))\n",
    "\n"
   ]
  },
  {
   "cell_type": "code",
   "execution_count": 13,
   "metadata": {},
   "outputs": [
    {
     "name": "stdout",
     "output_type": "stream",
     "text": [
      "3\n"
     ]
    }
   ],
   "source": [
    "# 나머지가 1이 되는 수 찾기 \n",
    "# 매개변수 n \n",
    "# 가장 작은 자연수 x를 찾아야 하는데 n % x 가 1이 되면 됨. \n",
    "\n",
    "n = 10 # 3\n",
    "\n",
    "def solution(n):\n",
    "    answer = 0\n",
    "    for i in range(2,n): \n",
    "        if n % i == 1:\n",
    "            return i\n",
    "\n",
    "print(solution(n))"
   ]
  },
  {
   "cell_type": "markdown",
   "metadata": {},
   "source": [
    "[range 특징]\n",
    "range(start, end) 는 start 포함, end 제외예요.\n",
    "예: range(1, 5) → [1, 2, 3, 4]\n",
    "그래서 range(1, n) → [1, 2, 3, …, n-1]\n",
    "range(1, n+1) → [1, 2, 3, …, n]\n",
    "\n",
    "\n",
    "range(start, stop) → start부터 stop-1까지\n",
    "range(stop) → 자동으로 0부터 시작\n",
    "stop 값은 포함되지 않는다"
   ]
  },
  {
   "cell_type": "markdown",
   "metadata": {},
   "source": [
    "int not iterable\n",
    "iterable = 하나씩 순서대로 꺼낼 수 있는 객체 list, tuple, str, dict, range \n",
    "int는 묶음이 아니기 때문에 iterable하지 않는다. "
   ]
  }
 ],
 "metadata": {
  "kernelspec": {
   "display_name": "Python 3",
   "language": "python",
   "name": "python3"
  },
  "language_info": {
   "codemirror_mode": {
    "name": "ipython",
    "version": 3
   },
   "file_extension": ".py",
   "mimetype": "text/x-python",
   "name": "python",
   "nbconvert_exporter": "python",
   "pygments_lexer": "ipython3",
   "version": "3.11.9"
  }
 },
 "nbformat": 4,
 "nbformat_minor": 2
}
