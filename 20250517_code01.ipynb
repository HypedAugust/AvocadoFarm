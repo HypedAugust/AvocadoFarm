{
 "cells": [
  {
   "cell_type": "code",
   "execution_count": null,
   "id": "98d61622",
   "metadata": {},
   "outputs": [],
   "source": [
    "# from typing import List\n",
    "\n",
    "# class Solution:\n",
    "#     def removeElement(self, nums: List[int], val: int) -> int:\n",
    "#         for i in nums:\n",
    "#             if val == i:\n",
    "#                 nums.remove(i)\n",
    "               \n",
    "#             elif val != i:\n",
    "#                 continue\n",
    "#         k = len(nums)\n",
    "#         return k \n",
    "\n",
    "# nums = [3,2,2,3]\n",
    "# val = 3\n",
    "# # 2 \n",
    "# print(solution.removeElement(nums, val))\n",
    "\n",
    "\n",
    "# #======\n",
    "# # 1 remove 매서드로 특정 요소를 없엔다. if 문으로 val이 nums에 있다면 그 단어를 지운다. \n",
    "# # 2 없다면 그냥 nums의 길이를 반환한다. \n",
    "# # 3 있다면 지우고 나서 길이를 반환한다. "
   ]
  },
  {
   "cell_type": "code",
   "execution_count": null,
   "id": "72d11fe7",
   "metadata": {},
   "outputs": [],
   "source": [
    "# 투포인터 기법 \n",
    "# 1) 투 포인터 fast and slow를 0으로 초기화 \n",
    "# 2) 리스트 순회 fast 부터 전체 \n",
    "# 3) 만약 nums[fast]가 val과 다르다면 이 요소를 nums[slow]위치에 저장하고 sloq를 1 증가 시킴 \n",
    "# 4) 만약 nums[fast]가 val과 같다면 그냥 pass\n",
    "# 5) 순회가 끝나면 slow는 val이 아닌 요소들의 개수를 나타내게 됨. "
   ]
  },
  {
   "cell_type": "code",
   "execution_count": 8,
   "id": "4d0e4e16",
   "metadata": {},
   "outputs": [
    {
     "name": "stdout",
     "output_type": "stream",
     "text": [
      "[2, 2]\n",
      "[2, 2]\n"
     ]
    }
   ],
   "source": [
    "nums = [3,2,2,3]\n",
    "val = 3 \n",
    "\n",
    "for i in nums:\n",
    "    if val == i:\n",
    "        nums.remove(i)\n",
    "\n",
    "print(nums)\n",
    "\n",
    "if val in nums:\n",
    "    nums.remove(val)\n",
    "print(nums)\n",
    "\n"
   ]
  },
  {
   "cell_type": "code",
   "execution_count": null,
   "id": "aa3e1751",
   "metadata": {},
   "outputs": [],
   "source": [
    "from typing import List\n",
    "\n",
    "class Solution:\n",
    "    def removeElement(self, nums: List[int] , val : int ) -> int:\n",
    "        slow = 0\n",
    "\n",
    "        for fast in range(len(nums)):\n",
    "            if nums[fast] != val:\n",
    "                nums[slow] = nums[fast]\n",
    "                slow += 1\n",
    "            if nums[fast] == val:\n",
    "                pass\n",
    "        return slow "
   ]
  }
 ],
 "metadata": {
  "kernelspec": {
   "display_name": "Python 3",
   "language": "python",
   "name": "python3"
  },
  "language_info": {
   "codemirror_mode": {
    "name": "ipython",
    "version": 3
   },
   "file_extension": ".py",
   "mimetype": "text/x-python",
   "name": "python",
   "nbconvert_exporter": "python",
   "pygments_lexer": "ipython3",
   "version": "3.11.9"
  }
 },
 "nbformat": 4,
 "nbformat_minor": 5
}
