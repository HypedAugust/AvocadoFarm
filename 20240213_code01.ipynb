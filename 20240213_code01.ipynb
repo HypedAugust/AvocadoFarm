{
 "cells": [
  {
   "cell_type": "code",
   "execution_count": null,
   "metadata": {},
   "outputs": [],
   "source": [
    "import json\n",
    "import os\n",
    "\n",
    "# 파일 경로 설정\n",
    "input_file = \n",
    "output_file = \n",
    "\n",
    "parsed_data = {}\n",
    "\n",
    "# 파일 읽기\n",
    "with open(input_file, \"r\", encoding=\"utf-8\") as file:\n",
    "    lines = [line.strip() for line in file.readlines() if line.strip()]  # 빈 줄 제거\n",
    "\n",
    "# 데이터 파싱\n",
    "for line in lines:\n",
    "    try:\n",
    "        name, category = line.split(\":\", 1)  # 첫 번째 `:`만 기준으로 분리\n",
    "        name, category = name.strip(), category.strip()\n",
    "\n",
    "        if category not in parsed_data:\n",
    "            parsed_data[category] = []\n",
    "        \n",
    "        parsed_data[category].append(name)\n",
    "\n",
    "    except ValueError:\n",
    "        print(f\"⚠️ 잘못된 형식: {line}\")  # 예외 발생 시 출력 (필요하면 주석 처리 가능)\n",
    "\n",
    "# JSON 파일 저장\n",
    "with open(output_file, \"w\", encoding=\"utf-8\") as file:\n",
    "    json.dump(parsed_data, file, indent=2, ensure_ascii=False)\n",
    "\n",
    "print(f\"✅ 정리된 데이터가 저장되었습니다: {output_file}\")\n"
   ]
  }
 ],
 "metadata": {
  "language_info": {
   "name": "python"
  }
 },
 "nbformat": 4,
 "nbformat_minor": 2
}
