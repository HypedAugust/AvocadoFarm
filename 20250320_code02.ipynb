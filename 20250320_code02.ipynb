{
 "cells": [
  {
   "cell_type": "code",
   "execution_count": null,
   "metadata": {},
   "outputs": [],
   "source": [
    "shop_menus = [\"만두\", \"떡볶이\", \"오뎅\", \"사이다\", \"콜라\"]\n",
    "shop_orders = [\"오뎅\", \"콜라\", \"만두\"]\n",
    "\n",
    "def solution(menus, orders):\n",
    "    menus_set = set(menus)\n",
    "    for order in orders:\n",
    "        if order not in menus_set:\n",
    "            return False\n",
    "    \n",
    "    return True "
   ]
  },
  {
   "cell_type": "code",
   "execution_count": 1,
   "metadata": {},
   "outputs": [
    {
     "name": "stdout",
     "output_type": "stream",
     "text": [
      "2\n"
     ]
    }
   ],
   "source": [
    "numbers = [2, 3, 1]\n",
    "target_number = 0\n",
    "result_count = 0 \n",
    "\n",
    "def solution(array, target, current_index, current_sum):\n",
    "    if current_index == len(array):\n",
    "        if current_sum == target:\n",
    "            global result_count\n",
    "            result_count += 1\n",
    "        return\n",
    "    solution(array, target, current_index + 1, current_sum + array[current_index])\n",
    "    solution(array, target, current_index + 1, current_sum - array[current_index])\n",
    "\n",
    "solution(numbers, target_number, 0,0)\n",
    "print(result_count)"
   ]
  }
 ],
 "metadata": {
  "kernelspec": {
   "display_name": "coursera",
   "language": "python",
   "name": "python3"
  },
  "language_info": {
   "codemirror_mode": {
    "name": "ipython",
    "version": 3
   },
   "file_extension": ".py",
   "mimetype": "text/x-python",
   "name": "python",
   "nbconvert_exporter": "python",
   "pygments_lexer": "ipython3",
   "version": "3.10.8"
  }
 },
 "nbformat": 4,
 "nbformat_minor": 2
}
