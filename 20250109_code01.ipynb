{
 "cells": [
  {
   "cell_type": "code",
   "execution_count": null,
   "metadata": {},
   "outputs": [],
   "source": [
    "# Regression Tree\n",
    "\n",
    "# Data pre-processing \n",
    "data.isna().sum() # NA 확인\n",
    "\n",
    "data.dropna(inplace=True) # NA 드랍 \n",
    "\n",
    "X = data.drop(columns=[\"MEDV\"]) # 타깃 y 스플릿\n",
    "Y = data[\"MEDV\"]\n",
    "\n",
    "X_train, X_test, Y_train, Y_test = train_test_split(X, Y, test_size=.2, random_state=1) # dataset split \n",
    "\n",
    "# Create Regression Tree\n",
    "regression_tree = DecisionTreeRegressor(criterion = 'mse')\n",
    "\n",
    "# Training \n",
    "regression_tree.fit(X_train, Y_train)\n",
    "\n",
    "# Evaluation \n",
    "regression_tree.score(X_test, Y_test) # 알 스퀘어 발류 나옴. \n",
    "prediction = regression_tree.predict(X_test)\n",
    "\n",
    "print(\"$\",(prediction - Y_test).abs().mean()*1000)\n",
    "\n",
    "regression_tree = DecisionTreeRegressor(criterion = 'mae')\n",
    "regression_tree.fit(X_train, Y_train)\n",
    "regression_tree.score(X_test, Y_test)\n",
    "prediction = regression_tree.predict(X_test)\n",
    "print(\"$\",(prediction - Y_test).abs().mean()*1000)"
   ]
  }
 ],
 "metadata": {
  "language_info": {
   "name": "python"
  }
 },
 "nbformat": 4,
 "nbformat_minor": 2
}
