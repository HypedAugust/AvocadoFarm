{
 "cells": [
  {
   "cell_type": "code",
   "execution_count": 1,
   "id": "e8f67568",
   "metadata": {},
   "outputs": [
    {
     "name": "stdout",
     "output_type": "stream",
     "text": [
      "30\n"
     ]
    }
   ],
   "source": [
    "person = {'name': 'John', 'age': 30, 'city': 'New York'}\n",
    "print(person['age'])"
   ]
  },
  {
   "cell_type": "code",
   "execution_count": 2,
   "id": "98b69cdc",
   "metadata": {},
   "outputs": [
    {
     "name": "stdout",
     "output_type": "stream",
     "text": [
      "A\n",
      "C\n",
      "D\n"
     ]
    }
   ],
   "source": [
    "\n",
    "try:\n",
    "    print(\"A\")\n",
    "    raise Exception(\"Error\")\n",
    "    print(\"B\")\n",
    "except:\n",
    "    print(\"C\")\n",
    "finally:\n",
    "    print(\"D\")"
   ]
  },
  {
   "cell_type": "code",
   "execution_count": null,
   "id": "20f708de",
   "metadata": {},
   "outputs": [
    {
     "data": {
      "text/plain": [
       "{1, 2, 3}"
      ]
     },
     "execution_count": 3,
     "metadata": {},
     "output_type": "execute_result"
    }
   ],
   "source": [
    "# 다음 두 집합의 교집합을 구하는 올바른 코드는?\n",
    "\n",
    "set1 = {1, 2, 3, 4, 5}\n",
    "set2 = {4, 5, 6, 7, 8}\n",
    "set1-set2"
   ]
  },
  {
   "cell_type": "code",
   "execution_count": null,
   "id": "07e8b8ed",
   "metadata": {},
   "outputs": [],
   "source": [
    "def solution(arr, idx):\n",
    "    for i in range(idx,len(arr)):\n",
    "        if arr[i] == 1:\n",
    "            return i\n",
    "     \n",
    "    return -1 "
   ]
  },
  {
   "cell_type": "code",
   "execution_count": null,
   "id": "f7dba5ca",
   "metadata": {},
   "outputs": [],
   "source": [
    "# # comb = [('1', '2', '3'), ('1', '3', '2')]\n",
    "\n",
    "\n",
    "# # for j in comb: \n",
    "# #     ready_numbers = ''.join(map(str,j))\n",
    "# #     ready_numbers_list.append(j)\n",
    "# #     print(ready_numbers)\n",
    "\n",
    "\n",
    "# numbers = [6,10,2] # return 6210\n",
    "# from itertools import permutations\n",
    "\n",
    "# def solution(numbers):\n",
    "#     answer = ''\n",
    "#     number_combinations = []\n",
    "#     for i in permutations(numbers, len(numbers)):\n",
    "#         number_combinations += list(permutations(numbers, i))\n",
    "    \n",
    "#     ready_numbers_list = []\n",
    "#     for j in number_combinations:\n",
    "#         ready_numbers = ''.join(map(str,j))\n",
    "#         ready_numbers_list.append(ready_numbers)\n",
    "    \n",
    "#     for k in range(len(ready_numbers_list)-1):\n",
    "#         for f in range(len(ready_numbers_list)-k-1):\n",
    "#             if ready_numbers_list[f] > ready_numbers_list[f + 1]:\n",
    "#                 ready_numbers_list[f], ready_numbers_list[f + 1] = ready_numbers_list[k + 1], ready_numbers_list[k]\n",
    "\n",
    "#     return ready_numbers_list[-1]\n",
    "\n",
    "\n",
    "# print(solution(numbers))\n"
   ]
  },
  {
   "cell_type": "code",
   "execution_count": null,
   "id": "518ee919",
   "metadata": {},
   "outputs": [],
   "source": [
    "def solution(numbers):\n",
    "    numbers = list(map(str,numbers))\n",
    "\n",
    "    numbers.sort(key=lambda x: x*3, reverse=True) # 이거 무슨뜻이야? \n",
    "\n",
    "    answer = ''.join(numbers)\n",
    "\n",
    "    return answer if answer[0] != \"0\" else \"0\""
   ]
  }
 ],
 "metadata": {
  "kernelspec": {
   "display_name": "Python 3",
   "language": "python",
   "name": "python3"
  },
  "language_info": {
   "codemirror_mode": {
    "name": "ipython",
    "version": 3
   },
   "file_extension": ".py",
   "mimetype": "text/x-python",
   "name": "python",
   "nbconvert_exporter": "python",
   "pygments_lexer": "ipython3",
   "version": "3.11.9"
  }
 },
 "nbformat": 4,
 "nbformat_minor": 5
}
