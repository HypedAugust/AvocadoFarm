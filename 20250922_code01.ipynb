{
 "cells": [
  {
   "cell_type": "code",
   "execution_count": null,
   "id": "f2c4a1f5",
   "metadata": {},
   "outputs": [],
   "source": [
    "# 그리디 문제! \n",
    "# 각 부서가 신청한 배열 d 항목. 예산은 budget임 \n",
    "# 최대 몇개의 부서에 물품을 지원할 수 있는지?? \n",
    "\n",
    "def solution(d, budget):\n",
    "    d.sort()\n",
    "    total = 0\n",
    "    count = 0\n",
    "    for i in d:\n",
    "        if total + i > budget:\n",
    "            break \n",
    "        elif total + i <= budeget:\n",
    "            total += i\n",
    "            count += 1\n",
    "    return count\n",
    "\n",
    "d = [1,3,2,5,4]\n",
    "budget = 9\n",
    "\n"
   ]
  },
  {
   "cell_type": "code",
   "execution_count": null,
   "id": "11efafa6",
   "metadata": {},
   "outputs": [],
   "source": [
    "# 3진법 뒤집기 \n",
    "# 자연수 n이 매개변수로 주어집니다. n을 3진법 상에서 앞뒤로 뒤집은 후, \n",
    "# 이를 다시 10진법으로 표현한 수를 return 하도록 solution 함수를 완성해주세요.\n",
    "\n",
    "def solution(n):\n",
    "    temp = ''\n",
    "    while n >0:\n",
    "        temp += str(n%3)\n",
    "        n//=3\n",
    "    return int(temp,3)"
   ]
  },
  {
   "cell_type": "code",
   "execution_count": null,
   "id": "72d76cfe",
   "metadata": {},
   "outputs": [],
   "source": [
    "# 삼총사 \n",
    "number = [-2, 3, 0, 2, -5] #2 \n",
    "def solution(number):\n",
    "    answer = 0\n",
    "    return answer"
   ]
  }
 ],
 "metadata": {
  "kernelspec": {
   "display_name": "Python 3",
   "language": "python",
   "name": "python3"
  },
  "language_info": {
   "codemirror_mode": {
    "name": "ipython",
    "version": 3
   },
   "file_extension": ".py",
   "mimetype": "text/x-python",
   "name": "python",
   "nbconvert_exporter": "python",
   "pygments_lexer": "ipython3",
   "version": "3.12.3"
  }
 },
 "nbformat": 4,
 "nbformat_minor": 5
}
