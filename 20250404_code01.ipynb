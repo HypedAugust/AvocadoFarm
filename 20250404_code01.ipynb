{
 "cells": [
  {
   "cell_type": "code",
   "execution_count": null,
   "metadata": {},
   "outputs": [
    {
     "name": "stdout",
     "output_type": "stream",
     "text": [
      "5\n",
      "3\n",
      "<__main__.LinkedList object at 0x0000020257F44910>\n",
      "5\n"
     ]
    }
   ],
   "source": [
    "# linked list 구현 \n",
    "class Node: \n",
    "    def __init__(self,data):\n",
    "        self.data = data \n",
    "        self.next = None\n",
    "\n",
    "class LinkedList:\n",
    "    def __init__(self, value):\n",
    "        self.head = Node(value)\n",
    "    \n",
    "    def append(self,value):\n",
    "        cur = self.head\n",
    "        while cur.next is not None:\n",
    "            cur = cur.next \n",
    "        cur.next = Node(value)\n",
    "    \n",
    "    def print_all(self):\n",
    "        cur = self.head\n",
    "        while cur is not None:  # cur.next가 아닌 cur로 수정\n",
    "            print(cur.data)\n",
    "            cur = cur.next\n",
    "    \n",
    "    def get_node(self, index):\n",
    "        cur = self.head\n",
    "        cur_index = 0 \n",
    "\n",
    "        while cur_index != index:\n",
    "            cur = cur.next\n",
    "            cur_index += 1 \n",
    "        \n",
    "        return cur  \n",
    "    \n",
    "    def add_node(self, index, value):\n",
    "        new_node = Node(value)\n",
    "        if index == 0:\n",
    "            new_node.next = self.head\n",
    "            self.head = new_node\n",
    "            return \n",
    "\n",
    "        index_minus_1_node = self.get_node(index-1)\n",
    "        next_node = index_minus_1_node.next\n",
    "        index_minus_1_node.next = new_node\n",
    "        new_node.next - next.node \n",
    "\n",
    "    def delete_node(self, index):\n",
    "        if index == 0:\n",
    "            self.head = self.head.next\n",
    "            return\n",
    "        prev_node = self.get_node(index-1)\n",
    "        prev_node.next = prev_node.next.next\n",
    "\n",
    "linkedList = LinkedList(5)\n",
    "linkedList.append(3)  # LinkedList 클래스가 아닌 linkedList 인스턴스에서 호출\n",
    "linkedList.print_all()\n",
    "print(linkedList)\n",
    "print(linkedList.head.data)"
   ]
  },
  {
   "cell_type": "code",
   "execution_count": null,
   "metadata": {},
   "outputs": [],
   "source": []
  }
 ],
 "metadata": {
  "kernelspec": {
   "display_name": "Python 3",
   "language": "python",
   "name": "python3"
  },
  "language_info": {
   "codemirror_mode": {
    "name": "ipython",
    "version": 3
   },
   "file_extension": ".py",
   "mimetype": "text/x-python",
   "name": "python",
   "nbconvert_exporter": "python",
   "pygments_lexer": "ipython3",
   "version": "3.11.9"
  }
 },
 "nbformat": 4,
 "nbformat_minor": 2
}
