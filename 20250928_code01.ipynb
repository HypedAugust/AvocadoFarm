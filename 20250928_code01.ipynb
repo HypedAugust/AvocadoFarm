{
 "cells": [
  {
   "cell_type": "code",
   "execution_count": 2,
   "metadata": {},
   "outputs": [
    {
     "name": "stdout",
     "output_type": "stream",
     "text": [
      "120\n"
     ]
    }
   ],
   "source": [
    "# 최소직사각형 \n",
    "\n",
    "def solution(sizes):\n",
    "    maxw , maxh = 0,0\n",
    "    for i in sizes:\n",
    "        if i[0] < i[1]:\n",
    "            i[0], i[1] = i[1], i[0]\n",
    "        maxw = max(maxw,i[0])\n",
    "        maxh = max(maxh,i[1])\n",
    "    return maxw*maxh\n",
    "\n",
    "sizes = [[10, 7], [12, 3], [8, 15], [14, 7], [5, 15]] # 120\n",
    "\n",
    "print(solution(sizes))\n"
   ]
  },
  {
   "cell_type": "code",
   "execution_count": null,
   "metadata": {},
   "outputs": [],
   "source": []
  }
 ],
 "metadata": {
  "kernelspec": {
   "display_name": "Python 3",
   "language": "python",
   "name": "python3"
  },
  "language_info": {
   "codemirror_mode": {
    "name": "ipython",
    "version": 3
   },
   "file_extension": ".py",
   "mimetype": "text/x-python",
   "name": "python",
   "nbconvert_exporter": "python",
   "pygments_lexer": "ipython3",
   "version": "3.11.9"
  }
 },
 "nbformat": 4,
 "nbformat_minor": 2
}
