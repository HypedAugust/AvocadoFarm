{
 "cells": [
  {
   "cell_type": "code",
   "execution_count": null,
   "metadata": {},
   "outputs": [],
   "source": [
    "# Reversing a String (Recursion)\n",
    "\n",
    "## Non recursive version \n",
    "def reverse(str):\n",
    "    output = \"\"\n",
    "    for i in range(len(str)):\n",
    "        output += str[-i] \n",
    "    return output \n",
    "\n",
    "## Recursive version\n",
    "def reverse(str):\n",
    "    if not str:\n",
    "        return str\n",
    "    else:\n",
    "        return str[-1] + reverse(str[:-1]) "
   ]
  }
 ],
 "metadata": {
  "kernelspec": {
   "display_name": "Python 3",
   "language": "python",
   "name": "python3"
  },
  "language_info": {
   "codemirror_mode": {
    "name": "ipython",
    "version": 3
   },
   "file_extension": ".py",
   "mimetype": "text/x-python",
   "name": "python",
   "nbconvert_exporter": "python",
   "pygments_lexer": "ipython3",
   "version": "3.11.9"
  }
 },
 "nbformat": 4,
 "nbformat_minor": 2
}
