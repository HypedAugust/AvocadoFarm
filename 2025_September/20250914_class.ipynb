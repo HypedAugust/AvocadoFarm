{
 "cells": [
  {
   "cell_type": "code",
   "execution_count": 4,
   "metadata": {},
   "outputs": [
    {
     "name": "stdout",
     "output_type": "stream",
     "text": [
      "마린유닛이 생성되었습니다.\n",
      "체력 40, 공격력 5\n",
      "\n",
      "탱크유닛이 생성되었습니다.\n",
      "체력 150, 공격력 35\n",
      "\n",
      "마린:1시방향으로 적군을 공격합니다. [공격력5]\n",
      "탱크:1시방향으로 적군을 공격합니다. [공격력35]\n"
     ]
    }
   ],
   "source": [
    "# 마린 : 공격 유닛, 구인, 총을 쏠 수 있다. \n",
    "name = '마린' # 유닛이름\n",
    "hp = 40 # 유닛의 채력 \n",
    "damage = 5 # 유닛의 공격력\n",
    "\n",
    "print(\"{0}유닛이 생성되었습니다.\".format(name))\n",
    "print(\"체력 {0}, 공격력 {1}\\n\".format(hp,damage))\n",
    "\n",
    "# 탱크 \n",
    "tank_name = '탱크'\n",
    "tank_hp = 150\n",
    "tank_damage = 35\n",
    "\n",
    "print(\"{0}유닛이 생성되었습니다.\".format(tank_name))\n",
    "print(\"체력 {0}, 공격력 {1}\\n\".format(tank_hp,tank_damage))\n",
    "\n",
    "def attack(name, location, damage):\n",
    "    print(\"{0}:{1}방향으로 적군을 공격합니다. [공격력{2}]\".format(\\\n",
    "        name, location, damage))\n",
    "    \n",
    "attack(name,\"1시\", damage)\n",
    "attack(tank_name,\"1시\",tank_damage)"
   ]
  },
  {
   "cell_type": "code",
   "execution_count": 8,
   "metadata": {},
   "outputs": [
    {
     "name": "stdout",
     "output_type": "stream",
     "text": [
      "마린 유닛이 생성 되었습니다.\n",
      "체력 40, 공격력 5\n",
      "마린 유닛이 생성 되었습니다.\n",
      "체력 40, 공격력 5\n",
      "탱크 유닛이 생성 되었습니다.\n",
      "체력 150, 공격력 35\n",
      "레이스 유닛이 생성 되었습니다.\n",
      "체력 80, 공격력 5\n",
      "유닛이름 : 레이스, 공격력 : 5\n",
      "빼앗은 레이스 유닛이 생성 되었습니다.\n",
      "체력 80, 공격력 5\n",
      "빼앗은 레이스는 현재 클로킹 상태입니다.\n"
     ]
    }
   ],
   "source": [
    "\n",
    "class Unit:\n",
    "    def __init__(self,name,hp,damage): #생성자 \n",
    "        self.name = name\n",
    "        self.hp = hp\n",
    "        self.damage = damage \n",
    "        print(\"{0} 유닛이 생성 되었습니다.\".format(self.name))\n",
    "        print(\"체력 {0}, 공격력 {1}\".format(self.hp, self.damage))\n",
    "\n",
    "marine1 = Unit(\"마린\", 40, 5)\n",
    "marine2 = Unit(\"마린\", 40, 5)\n",
    "tank = Unit(\"탱크\",150, 35)\n",
    "\n",
    "wraith1 = Unit(\"레이스\", 80, 5)\n",
    "print(\"유닛이름 : {0}, 공격력 : {1}\".format(wraith1.name, wraith1.damage)) # 외부에서 작성한 부분 .으로 맴버 변수에 접속\n",
    "\n",
    "# 마인드 컨트롤 : 상대방 유닛을 내것으로 만드는 것 \n",
    "wraith2 = Unit(\"빼앗은 레이스\", 80, 5)\n",
    "wraith2.clocking = True # 외부에서 추가로 줄 수 있음. \n",
    "\n",
    "if wraith2.clocking == True:\n",
    "    print(\"{0}는 현재 클로킹 상태입니다.\".format(wraith2.name))"
   ]
  },
  {
   "cell_type": "code",
   "execution_count": 11,
   "metadata": {},
   "outputs": [
    {
     "name": "stdout",
     "output_type": "stream",
     "text": [
      "파이어뱃:5시방향으로 적군을 공격 합니다.[공격력16]\n",
      "파이어뱃:25데미지를 입었습니다.\n",
      "파이어뱃: 현재 체력은 25입니다.\n",
      "파이어뱃:25데미지를 입었습니다.\n",
      "파이어뱃: 현재 체력은 0입니다.\n",
      "파이어뱃: 파괴되었습니다.\n"
     ]
    }
   ],
   "source": [
    "class Unit:\n",
    "    def __init__(self,name,hp): #생성자 \n",
    "        self.name = name\n",
    "        self.hp = hp        \n",
    "\n",
    "# 공격 유닛 \n",
    "class AttackUnit(Unit): # 공격 유닛은 일반 유닛 클래스를 상속 받았다는 거임\n",
    "    def __init__(self,name,hp,damage): #생성자 \n",
    "        # self.name = name 일반 유닛 클래스에서 상속 받았으므로 없엔다. \n",
    "        # self.hp = hp\n",
    "        Unit.__init__(self, name, hp)\n",
    "        self.damage = damage \n",
    "    \n",
    "    def attack(self,location):\n",
    "        print(\"{0}:{1}방향으로 적군을 공격 합니다.[공격력{2}]\"\\\n",
    "              .format(self.name, location, self.damage)) \n",
    "        \n",
    "    def damaged(self, damage):\n",
    "        print(\"{0}:{1}데미지를 입었습니다.\".format(self.name, damage))\n",
    "        self.hp -= damage\n",
    "        print(\"{0}: 현재 체력은 {1}입니다.\".format(self.name, self.hp))\n",
    "        if self.hp <= 0:\n",
    "            print(\"{0}: 파괴되었습니다.\".format(self.name))\n",
    "\n",
    "# 파이어뱃 : 공격유닛, 화염 방사기 \n",
    "firebat1 = AttackUnit(\"파이어뱃\", 50, 16)\n",
    "firebat1.attack(\"5시\")\n",
    "firebat1.damaged(25)\n",
    "firebat1.damaged(25)\n",
    "\n",
    "# 메딕 : 공격력이 없음."
   ]
  },
  {
   "cell_type": "code",
   "execution_count": 16,
   "metadata": {},
   "outputs": [
    {
     "name": "stdout",
     "output_type": "stream",
     "text": [
      "[지상유닛 이동]\n",
      "벌쳐:11시 방향으로 이동합니다. [속도] 10\n",
      "[공중 유닛 이동]\n",
      "배틀크루져:9시방향으로 날아갑니다. [속도 3]\n"
     ]
    }
   ],
   "source": [
    "class Unit:\n",
    "    def __init__(self,name,hp, speed): #생성자 \n",
    "        self.name = name\n",
    "        self.hp = hp    \n",
    "        self.speed = speed\n",
    "\n",
    "    def move(self, location):\n",
    "        print(\"[지상유닛 이동]\")    \n",
    "        print(\"{0}:{1} 방향으로 이동합니다. [속도] {2}\"\\\n",
    "              .format(self.name, location, self.speed))\n",
    "\n",
    "# 공격 유닛 \n",
    "class AttackUnit(Unit): # 공격 유닛은 일반 유닛 클래스를 상속 받았다는 거임\n",
    "    def __init__(self,name,hp,speed,damage): #생성자 \n",
    "        # self.name = name 일반 유닛 클래스에서 상속 받았으므로 없엔다. \n",
    "        # self.hp = hp\n",
    "        Unit.__init__(self, name, hp, speed)\n",
    "        self.damage = damage \n",
    "    \n",
    "    def attack(self,location):\n",
    "        print(\"{0}:{1}방향으로 적군을 공격 합니다.[공격력{2}]\"\\\n",
    "              .format(self.name, location, self.damage)) \n",
    "        \n",
    "    def damaged(self, damage):\n",
    "        print(\"{0}:{1}데미지를 입었습니다.\".format(self.name, damage))\n",
    "        self.hp -= damage\n",
    "        print(\"{0}: 현재 체력은 {1}입니다.\".format(self.name, self.hp))\n",
    "        if self.hp <= 0:\n",
    "            print(\"{0}: 파괴되었습니다.\".format(self.name))\n",
    " \n",
    "\n",
    "class Flyable: \n",
    "    def __init__(self,flying_speed):\n",
    "        self.flying_speed = flying_speed\n",
    "    \n",
    "    def fly(self, name, location):\n",
    "        print(\"{0}:{1}방향으로 날아갑니다. [속도 {2}]\"\\\n",
    "              .format(name,location,self.flying_speed))\n",
    "\n",
    "# 공중 공격 유닛 클래스 \n",
    "class FlyableAttackUnit(AttackUnit, Flyable): # 다중상속은 콤마로 구분한다. \n",
    "    def __init__(self, name, hp, damage, flying_speed):\n",
    "        AttackUnit.__init__(self, name, hp,0,damage)\n",
    "        Flyable.__init__(self,flying_speed)\n",
    "    \n",
    "    def move(self, location):\n",
    "        print(\"[공중 유닛 이동]\")\n",
    "        self.fly(self.name, location)\n",
    "\n",
    "vulture = AttackUnit(\"벌쳐\", 80, 10, 20)\n",
    "\n",
    "battlecruiser = FlyableAttackUnit(\"배틀크루져\", 500, 25, 3)\n",
    "\n",
    "vulture.move(\"11시\")\n",
    "# battlecruiser.fly(battlecruiser.name, \"9시\")\n",
    "battlecruiser.move(\"9시\")\n",
    "\n",
    "# 건물 \n",
    "\n",
    "class BuildingUnit(Unit):\n",
    "    def __init__(self, name, hp, location):\n",
    "        super().__init__(name,hp,0) # super는 상속받을 때 초기화 하는 방법이다. 근데 self 빼야함\n",
    "        self.location = location"
   ]
  },
  {
   "cell_type": "code",
   "execution_count": null,
   "metadata": {},
   "outputs": [],
   "source": [
    "class Unit:\n",
    "    def __init__(self):\n",
    "        print(\"Unit 생성자\")\n",
    "\n",
    "class Flyable:\n",
    "    def __init__(self):\n",
    "        print(\"Flyable 생성자\")\n",
    "\n",
    "class FlyableUnit(Unit, Flyable):\n",
    "    def __init__(self):\n",
    "        # super().__init__()\n",
    "\n",
    "# super는 다중상속 초기화 안되고 앞에거만 가능하다. "
   ]
  }
 ],
 "metadata": {
  "kernelspec": {
   "display_name": "Python 3",
   "language": "python",
   "name": "python3"
  },
  "language_info": {
   "codemirror_mode": {
    "name": "ipython",
    "version": 3
   },
   "file_extension": ".py",
   "mimetype": "text/x-python",
   "name": "python",
   "nbconvert_exporter": "python",
   "pygments_lexer": "ipython3",
   "version": "3.11.9"
  }
 },
 "nbformat": 4,
 "nbformat_minor": 2
}
