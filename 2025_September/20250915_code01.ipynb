{
 "cells": [
  {
   "cell_type": "code",
   "execution_count": 2,
   "id": "a422cc18",
   "metadata": {},
   "outputs": [
    {
     "data": {
      "text/plain": [
       "1234"
      ]
     },
     "execution_count": 2,
     "metadata": {},
     "output_type": "execute_result"
    }
   ],
   "source": [
    "# 문자열 s를 숫자로 변환한 결과를 반환하는 함수, solution을 완성하세요. \n",
    "\n",
    "def solution(s):\n",
    "    answer = 0\n",
    "    answer += int(s)\n",
    "    return answer\n",
    "\n",
    "\n",
    "s = '1234'\n",
    "solution(s)"
   ]
  },
  {
   "cell_type": "code",
   "execution_count": null,
   "id": "db02cab2",
   "metadata": {},
   "outputs": [
    {
     "name": "stdout",
     "output_type": "stream",
     "text": [
      "1\n",
      "7\n",
      "7\n"
     ]
    }
   ],
   "source": [
    "# range는 end값을 포함하지 않음 \n",
    "\n",
    "# 약수의 합 \n",
    "# 정수 n을 입력 받아 약수를 모두 더한 값을 리턴 하세요. \n",
    "n = 5 # 6\n",
    "\n",
    "import math \n",
    "def solution(n):\n",
    "    answer = 0\n",
    "    for i in range(1, int(math.sqrt(n))+1):\n",
    "        if n % i == 0:\n",
    "            answer += i\n",
    "            print(answer)\n",
    "            if i != n //i:\n",
    "                answer += n // i\n",
    "                print(answer)\n",
    "    return answer\n",
    "\n"
   ]
  },
  {
   "cell_type": "code",
   "execution_count": null,
   "id": "16e7b52f",
   "metadata": {},
   "outputs": [
    {
     "name": "stdout",
     "output_type": "stream",
     "text": [
      "873211\n",
      "<class 'int'>\n"
     ]
    }
   ],
   "source": [
    "# 정수 내림차순으로 배치하기 \n",
    "# 함수 solution은 정수 n을 매개변수로 받습니다. n의 각 자릿수를 큰거부터 작은 순으로 정렬한 새로운 정수를 리턴하세요. \n",
    "n = 118372 #873211\n",
    "\n",
    "def solution(n):\n",
    "    answer = 0\n",
    "    answer = sorted(str(n), reverse=True)\n",
    "    answer = ''.join(answer)\n",
    "    return int(answer)\n",
    "\n",
    "print(solution(n))\n",
    "print(type(n))"
   ]
  },
  {
   "cell_type": "code",
   "execution_count": null,
   "id": "41dba47e",
   "metadata": {},
   "outputs": [],
   "source": [
    "# sort and sorted # sorted는 원본이 따로 있다. \n",
    "numbers = [3, 1, 4, 1, 5, 9, 2]\n",
    "sorted(numbers, reverse=True)\n",
    "numbers.sort(reverse=True)\n",
    "\n",
    "words = ['apple','kiwi']\n",
    "sorted(words, key = len)\n",
    "\n",
    "sorted(numbers, key=abs)\n",
    "\n",
    "students = [\n",
    "    (\"철수\", 85),\n",
    "    (\"영희\", 92), \n",
    "    (\"민수\", 78),\n",
    "    (\"지영\", 96)\n",
    "]\n",
    "\n",
    "scores = sorted(students, key = lambda x : x[1], reverse = True) # 여기서 [1]이 왜 점수야? "
   ]
  },
  {
   "cell_type": "code",
   "execution_count": 15,
   "id": "d521ed7e",
   "metadata": {},
   "outputs": [
    {
     "name": "stdout",
     "output_type": "stream",
     "text": [
      "12\n"
     ]
    }
   ],
   "source": [
    "# 두 정수 사이의 합 \n",
    "# 두 정수 a,b가 주어졌을때 a와 b 사이에 속한 모든 정수의 합을 리턴하는 함수 solution을 완성하세요. \n",
    "a = 3\n",
    "b = 5 \n",
    "# 3+4+5 = 12 \n",
    "\n",
    "def solution(a, b):\n",
    "    answer = 0\n",
    "    if a < b:\n",
    "        for i in range(a,b+1):\n",
    "            answer += i \n",
    "    else: \n",
    "        for i in range(b,a+1):\n",
    "            answer += i \n",
    "    return answer\n",
    "\n",
    "print(solution(a,b))"
   ]
  },
  {
   "cell_type": "code",
   "execution_count": 17,
   "id": "afde58dd",
   "metadata": {},
   "outputs": [],
   "source": [
    "# 문자열 내 p와 y의 개수 \n",
    "# 대소문자가 섞인 문자열 s가 주어집니다. p와 y의 개수가 같으면 True 아니면 False를 return\n",
    "# p,y 모두 없으면 항상 True이며 개수 구할때 대소문자 구분 안합니다. \n",
    "\n",
    "s = 'pPoooyY' # True \n",
    "\n",
    "def solution(s):\n",
    "    answer = True\n",
    "    s = s.lower()\n",
    "    if s.count('p') == s.count('y'):\n",
    "        return answer \n",
    "    elif s.count('p') ==0 and s.count('y') ==0:\n",
    "        return answer \n",
    "    else:\n",
    "        return False\n",
    "\n",
    "    return True"
   ]
  },
  {
   "cell_type": "code",
   "execution_count": 16,
   "id": "ecc98f84",
   "metadata": {},
   "outputs": [
    {
     "name": "stdout",
     "output_type": "stream",
     "text": [
      "원본: pPoooyY\n",
      "이후: pPoooyY\n"
     ]
    }
   ],
   "source": [
    "s = 'pPoooyY'\n",
    "print(f\"원본: {s}\")\n",
    "s.lower()  # 이 줄 후에\n",
    "print(f\"이후: {s}\")  # s가 바뀌었을까요?"
   ]
  },
  {
   "cell_type": "markdown",
   "id": "6352d653",
   "metadata": {},
   "source": [
    "mutable / immutable \n",
    "문자열, 숫자, 튜플 \n",
    "리스트, 딕셔너리, 집합 "
   ]
  }
 ],
 "metadata": {
  "kernelspec": {
   "display_name": "Python 3",
   "language": "python",
   "name": "python3"
  },
  "language_info": {
   "codemirror_mode": {
    "name": "ipython",
    "version": 3
   },
   "file_extension": ".py",
   "mimetype": "text/x-python",
   "name": "python",
   "nbconvert_exporter": "python",
   "pygments_lexer": "ipython3",
   "version": "3.12.3"
  }
 },
 "nbformat": 4,
 "nbformat_minor": 5
}
