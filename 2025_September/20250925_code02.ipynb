{
 "cells": [
  {
   "cell_type": "code",
   "execution_count": null,
   "id": "1f52724f",
   "metadata": {},
   "outputs": [
    {
     "name": "stdout",
     "output_type": "stream",
     "text": [
      "[[1.         1.41421356 1.73205081]\n",
      " [2.         2.23606798 2.44948974]]\n"
     ]
    }
   ],
   "source": [
    "# 배열의 연산 1\n",
    "# 두배열의 shape이 같아야함. \n",
    "import numpy as np\n",
    "arr1 = np.array([[1,2,3],\n",
    "                [4,5,6]])\n",
    "\n",
    "arr2 = np.array([[1,1,1],\n",
    "                [1,1,1]])\n",
    "\n",
    "\n",
    "\n",
    "# print(arr1 + arr2)\n",
    "# print(np.add(arr1,arr2))\n",
    "\n",
    "# print(arr1 - arr2)\n",
    "# print(arr1*arr2) 이거는 내적이 아니다. \n",
    "\n",
    "# print(np.divide(arr1,arr2))\n",
    "\n",
    "# print(np.sqrt(arr1))\n",
    "\n"
   ]
  },
  {
   "cell_type": "code",
   "execution_count": null,
   "id": "eb5e223c",
   "metadata": {},
   "outputs": [],
   "source": [
    "# 배열의 연산 2"
   ]
  },
  {
   "cell_type": "code",
   "execution_count": null,
   "id": "0c8a7bd5",
   "metadata": {},
   "outputs": [],
   "source": [
    "# 배열의 연산 3"
   ]
  },
  {
   "cell_type": "code",
   "execution_count": null,
   "id": "a6c1c338",
   "metadata": {},
   "outputs": [],
   "source": [
    "# 배열의 연산 4"
   ]
  },
  {
   "cell_type": "code",
   "execution_count": null,
   "id": "4987cffb",
   "metadata": {},
   "outputs": [],
   "source": [
    "# 브로드 캐스팅"
   ]
  },
  {
   "cell_type": "code",
   "execution_count": null,
   "id": "447fd36e",
   "metadata": {},
   "outputs": [],
   "source": [
    "# 전치 행렬 "
   ]
  }
 ],
 "metadata": {
  "kernelspec": {
   "display_name": "Python 3",
   "language": "python",
   "name": "python3"
  },
  "language_info": {
   "codemirror_mode": {
    "name": "ipython",
    "version": 3
   },
   "file_extension": ".py",
   "mimetype": "text/x-python",
   "name": "python",
   "nbconvert_exporter": "python",
   "pygments_lexer": "ipython3",
   "version": "3.12.3"
  }
 },
 "nbformat": 4,
 "nbformat_minor": 5
}
