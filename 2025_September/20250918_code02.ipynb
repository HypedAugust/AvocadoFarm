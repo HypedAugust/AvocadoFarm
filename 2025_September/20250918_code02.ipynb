{
 "cells": [
  {
   "cell_type": "code",
   "execution_count": 9,
   "id": "2501ced6",
   "metadata": {},
   "outputs": [
    {
     "name": "stdout",
     "output_type": "stream",
     "text": [
      "['report', 'csv']\n",
      "hello world\n",
      "banana cake\n"
     ]
    }
   ],
   "source": [
    "# string split()\n",
    "file_name = \"report.csv\"\n",
    "parts = file_name.split('.')\n",
    "print(parts)\n",
    "\n",
    "# string .join()\n",
    "words = [\"hello\", \"world\"]\n",
    "sentence = ' '.join(words)\n",
    "print(sentence)\n",
    "\n",
    "# string replace \n",
    "a = \"apple cake\"\n",
    "b = a.replace('apple', 'banana')\n",
    "print(b)"
   ]
  },
  {
   "cell_type": "code",
   "execution_count": null,
   "id": "d5a8bb8c",
   "metadata": {},
   "outputs": [
    {
     "name": "stdout",
     "output_type": "stream",
     "text": [
      "5\n",
      "{'John': 100}\n",
      "{'John': 95}\n"
     ]
    }
   ],
   "source": [
    "# dic get \n",
    "count = {'apple':5}\n",
    "apple_count = count.get('apple',0)\n",
    "print(apple_count)\n",
    "\n",
    "# dic add or update new item \n",
    "\n",
    "student_scores = {}\n",
    "student_scores['John'] = 100 \n",
    "print(student_scores)\n",
    "\n",
    "student_scores['John'] = 95\n",
    "print(student_scores)\n",
    "\n",
    "# 딕셔너리는 나도코딩 한번 훑자. \n"
   ]
  },
  {
   "cell_type": "code",
   "execution_count": 29,
   "id": "887ec2ba",
   "metadata": {},
   "outputs": [
    {
     "name": "stdout",
     "output_type": "stream",
     "text": [
      "[3, 2, 1]\n",
      "['b', 'a']\n",
      "['a', 'b', 'c', 'd']\n",
      "c\n",
      "hello world\n",
      "name\n",
      "age\n",
      "John\n",
      "25\n",
      "('name', 'John')\n",
      "('age', 25)\n",
      "65\n",
      "B\n",
      "(5, 0)\n"
     ]
    }
   ],
   "source": [
    "# List \n",
    "# .reverse()\n",
    "numbers = [1,2,3]\n",
    "numbers.reverse()\n",
    "print(numbers)\n",
    "\n",
    "string = ['a','b']\n",
    "string.reverse()\n",
    "print(string)\n",
    "\n",
    "# .insert()\n",
    "my_list = ['a','b','c']\n",
    "my_list.insert(3,'d')\n",
    "print(my_list)\n",
    "# .count()\n",
    "score=[100,20,100]\n",
    "score.count(100)\n",
    "\n",
    "# .pop()\n",
    "cards = ['a','b','c']\n",
    "last_card = cards.pop()\n",
    "print(last_card)\n",
    "\n",
    "# String\n",
    "# .strip()\n",
    "user_input = \" hello world \"\n",
    "clean_input = user_input.strip()\n",
    "print(clean_input)\n",
    "# .stratswith(), .endswith()\n",
    "file_name = 'report.pdf'\n",
    "file_name.startswith('report')\n",
    "file_name.endswith('report')\n",
    "\n",
    "# Dic\n",
    "# .keys()\n",
    "student = {'name': 'John', 'age': 25}\n",
    "for key in student.keys():\n",
    "    print(key)\n",
    "# .values()\n",
    "student = {'name': 'John', 'age': 25}\n",
    "for value in student.values():\n",
    "    print(value)\n",
    "# .items()\n",
    "student = {'name': 'John', 'age': 25}\n",
    "for item in student.items():\n",
    "    print(item)\n",
    "# .get()\n",
    "student = {'name': 'John', 'age': 25}\n",
    "student.get('height',0)\n",
    " \n",
    "# Others \n",
    "# ord(), chr()\n",
    "ascii_A = ord('A')\n",
    "char_B = chr(66)\n",
    "\n",
    "print(ascii_A)\n",
    "print(char_B)\n",
    "\n",
    "# divmod()\n",
    "total_seconds = 150\n",
    "print(divmod(total_seconds,30))\n"
   ]
  }
 ],
 "metadata": {
  "kernelspec": {
   "display_name": "Python 3",
   "language": "python",
   "name": "python3"
  },
  "language_info": {
   "codemirror_mode": {
    "name": "ipython",
    "version": 3
   },
   "file_extension": ".py",
   "mimetype": "text/x-python",
   "name": "python",
   "nbconvert_exporter": "python",
   "pygments_lexer": "ipython3",
   "version": "3.12.3"
  }
 },
 "nbformat": 4,
 "nbformat_minor": 5
}
