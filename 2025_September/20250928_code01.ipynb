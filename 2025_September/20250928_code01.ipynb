{
 "cells": [
  {
   "cell_type": "code",
   "execution_count": 2,
   "metadata": {},
   "outputs": [
    {
     "name": "stdout",
     "output_type": "stream",
     "text": [
      "120\n"
     ]
    }
   ],
   "source": [
    "# 최소직사각형 \n",
    "\n",
    "def solution(sizes):\n",
    "    maxw , maxh = 0,0\n",
    "    for i in sizes:\n",
    "        if i[0] < i[1]:\n",
    "            i[0], i[1] = i[1], i[0]\n",
    "        maxw = max(maxw,i[0])\n",
    "        maxh = max(maxh,i[1])\n",
    "    return maxw*maxh\n",
    "\n",
    "sizes = [[10, 7], [12, 3], [8, 15], [14, 7], [5, 15]] # 120\n",
    "\n",
    "print(solution(sizes))\n"
   ]
  },
  {
   "cell_type": "code",
   "execution_count": 1,
   "metadata": {},
   "outputs": [
    {
     "name": "stdout",
     "output_type": "stream",
     "text": [
      "9\n"
     ]
    }
   ],
   "source": [
    "# 숫자 리스트에서 최댓값 찾기 \n",
    "\n",
    "nums = [3,7,2,9,5]\n",
    "max_val = 0\n",
    "for n in nums:\n",
    "    max_val = max(max_val, n)\n",
    "\n",
    "print(max_val)"
   ]
  },
  {
   "cell_type": "code",
   "execution_count": 4,
   "metadata": {},
   "outputs": [
    {
     "name": "stdout",
     "output_type": "stream",
     "text": [
      "elephant\n"
     ]
    }
   ],
   "source": [
    "# 문자열 리스트에서 가장 긴 단어 찾기 \n",
    "words = [\"cat\", \"elephant\", \"dog\", \"tiger\"]\n",
    "answer = \"\"\n",
    "for w in words:\n",
    "    if len(w) > len(answer):\n",
    "        answer = w\n",
    "    else:\n",
    "        answer\n",
    "\n",
    "print(answer)\n"
   ]
  },
  {
   "cell_type": "code",
   "execution_count": 5,
   "metadata": {},
   "outputs": [
    {
     "name": "stdout",
     "output_type": "stream",
     "text": [
      "7 8\n"
     ]
    }
   ],
   "source": [
    "# 좌표 리스트에서 가장 오른쪽 위 점 찾기 \n",
    "points = [(1,5), (3,2), (7,8), (6,4)]\n",
    "max_x, max_y = 0,0\n",
    "for x,y in points:\n",
    "    max_x = max(max_x,x)\n",
    "    max_y = max(max_y,y)\n",
    "\n",
    "print(max_x, max_y)"
   ]
  }
 ],
 "metadata": {
  "kernelspec": {
   "display_name": "Python 3",
   "language": "python",
   "name": "python3"
  },
  "language_info": {
   "codemirror_mode": {
    "name": "ipython",
    "version": 3
   },
   "file_extension": ".py",
   "mimetype": "text/x-python",
   "name": "python",
   "nbconvert_exporter": "python",
   "pygments_lexer": "ipython3",
   "version": "3.11.9"
  }
 },
 "nbformat": 4,
 "nbformat_minor": 2
}
