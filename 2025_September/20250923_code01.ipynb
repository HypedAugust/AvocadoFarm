{
 "cells": [
  {
   "cell_type": "code",
   "execution_count": 1,
   "id": "272314a4",
   "metadata": {},
   "outputs": [
    {
     "name": "stdout",
     "output_type": "stream",
     "text": [
      "2\n"
     ]
    }
   ],
   "source": [
    "# 삼총사 \n",
    "from itertools import combinations\n",
    "def solution(number):\n",
    "    answer = 0\n",
    "    comb = list(combinations(number,3))\n",
    "    for i in comb:\n",
    "        if sum(i) == 0:\n",
    "            answer +=1\n",
    "        else:\n",
    "            continue\n",
    "    return answer\n",
    "\n",
    "number = [-2, 3, 0, 2, -5]\n",
    "\n",
    "print(solution(number))"
   ]
  }
 ],
 "metadata": {
  "kernelspec": {
   "display_name": "Python 3",
   "language": "python",
   "name": "python3"
  },
  "language_info": {
   "codemirror_mode": {
    "name": "ipython",
    "version": 3
   },
   "file_extension": ".py",
   "mimetype": "text/x-python",
   "name": "python",
   "nbconvert_exporter": "python",
   "pygments_lexer": "ipython3",
   "version": "3.12.3"
  }
 },
 "nbformat": 4,
 "nbformat_minor": 5
}
