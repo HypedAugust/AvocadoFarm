{
 "cells": [
  {
   "cell_type": "code",
   "execution_count": 18,
   "id": "345f2f12",
   "metadata": {},
   "outputs": [
    {
     "name": "stdout",
     "output_type": "stream",
     "text": [
      "True\n"
     ]
    }
   ],
   "source": [
    "# 하샤드 수 \n",
    "# 양의 정수 X가 하샤드 수이려면 X의 자릿수의 합으로 X가 나누어져야 합니다. \n",
    "# X를 입력받아 X가 하샤드 수인지 아닌지 검사하는 함수, solution을 완성하세요.\n",
    "\n",
    "X = 10 # True \n",
    "B = 12 # True \n",
    "\n",
    "def solution(X):\n",
    "    str_X = str(X)\n",
    "    list = []\n",
    "    for digit in str_X: #for 문에서는 변수명만 써야한다. \n",
    "        list.append(int(digit))\n",
    "        digit_sum = sum(list) # digit은 하나의 문자이기 때문에 sum이 안되는거다. \n",
    "    if X % digit_sum == 0:\n",
    "        return True \n",
    "    else: \n",
    "        return False\n",
    "\n",
    "print(solution(X))"
   ]
  },
  {
   "cell_type": "code",
   "execution_count": 12,
   "id": "2c4cde60",
   "metadata": {},
   "outputs": [
    {
     "name": "stdout",
     "output_type": "stream",
     "text": [
      "10\n",
      "1\n",
      "1\n",
      "True\n"
     ]
    }
   ],
   "source": [
    "X = 10 # True \n",
    "a = str(X) \n",
    "print(a)\n",
    "temp = 0\n",
    "for b in str(X):\n",
    "    temp += int(b)\n",
    "    print(temp)\n",
    "\n",
    "if X % temp == 0:\n",
    "    print(True)\n",
    "else:\n",
    "    print(False)"
   ]
  },
  {
   "cell_type": "code",
   "execution_count": 22,
   "id": "1b9a5be0",
   "metadata": {},
   "outputs": [
    {
     "name": "stdout",
     "output_type": "stream",
     "text": [
      "9\n"
     ]
    }
   ],
   "source": [
    "# 음양 더하기 \n",
    "# 정수들이 있다. 정수들의 절댓값을 차례대로 담은 정수 배열 absolutes와 \n",
    "# 이 정수들의 부호를 차례대로 담은 불리언 배열 signs가 주어진다. \n",
    "# 실제 정수들의 합을 구하여 return하라 \n",
    "\n",
    "a = [4,7,12]\n",
    "s = [True, False, True] # 9 \n",
    "\n",
    "def solution(a, s):\n",
    "    answer = 0\n",
    "    for i in range(len(a)):\n",
    "        if s[i] == True:\n",
    "            answer += a[i]\n",
    "        elif s[i] == False:\n",
    "            answer += -a[i]\n",
    "    \n",
    "    return answer\n",
    "\n",
    "print(solution(a,s))\n",
    "\n"
   ]
  },
  {
   "cell_type": "code",
   "execution_count": null,
   "id": "52ee37c2",
   "metadata": {},
   "outputs": [],
   "source": [
    "# 없는 숫자 더하기 \n",
    "# 배열에 0부터 9까지 있는데 주어진 numbers에 0부터 9까지 숫자중 없는거 있으면 합해서 줘라. \n",
    "\n",
    "def solution(numbers):\n",
    "    ref = [0,1,2,3,4,5,6,7,8,9]\n",
    "    answer = 0 \n",
    "    for number in ref:\n",
    "        if number not in numbers:\n",
    "            answer += number \n",
    "    return answer \n",
    "\n",
    "\n"
   ]
  },
  {
   "cell_type": "code",
   "execution_count": null,
   "id": "a7f7fd52",
   "metadata": {},
   "outputs": [],
   "source": [
    "\n",
    "ref = [0,1,2,3,4,5,6,7,8,9]\n",
    "numbers = [1,2,3,4,6,7,8,0]\n",
    "answer = 0 \n",
    "for number in numbers:\n",
    "    if number not in :\n",
    "        answer += number \n",
    "    print(answer)\n"
   ]
  },
  {
   "cell_type": "code",
   "execution_count": 37,
   "id": "a8130e12",
   "metadata": {},
   "outputs": [
    {
     "name": "stdout",
     "output_type": "stream",
     "text": [
      "[5, 10]\n"
     ]
    }
   ],
   "source": [
    "# 나누어 떨어지는 숫자 배열 \n",
    "\n",
    "arr = [5,10,4]\n",
    "divisor = 5\n",
    "\n",
    "def solution(arr, divisor):\n",
    "    answer = []\n",
    "    for i in arr:\n",
    "        if i % divisor == 0: \n",
    "            answer.append(i)\n",
    "    if len(answer) == 0:\n",
    "        return [-1]\n",
    "    return sorted(answer)\n",
    "\n",
    "print(solution(arr, divisor))"
   ]
  },
  {
   "cell_type": "code",
   "execution_count": null,
   "id": "7938dc53",
   "metadata": {},
   "outputs": [
    {
     "name": "stdout",
     "output_type": "stream",
     "text": [
      "김서방은 1에 있다.\n"
     ]
    }
   ],
   "source": [
    "# 서울에서 김서방 찾기 \n",
    "\n",
    "def solution(seoul):\n",
    "    for i, target in enumerate(seoul):\n",
    "        if target == \"kim\"\n",
    "            return f\"김서방은 {i}에 있다.\" # kim을 찾자마자 return해야함. \n",
    "    # 밖으로 return이 나와있으면 마지막 인덱스까지 가게 됨. \n",
    "\n",
    "seoul = [\"Jane\", \"Kim\"]\n",
    "\n",
    "print(solution(seoul))"
   ]
  },
  {
   "cell_type": "code",
   "execution_count": null,
   "id": "c77a0379",
   "metadata": {},
   "outputs": [],
   "source": [
    "if target : 'kim' # 이거는 target이 True냐만 확인함. \n",
    "if target == 'kim' 이 되어야 함. \n"
   ]
  },
  {
   "cell_type": "code",
   "execution_count": null,
   "id": "281748e3",
   "metadata": {},
   "outputs": [],
   "source": [
    "def solution(seoul):\n",
    "    return f\"김서방은 {seoul.index('kim')}에 있다.\"\n",
    "\n",
    "list.index(target) #리스트 안에서 target의 인덱스를 반환한다. "
   ]
  }
 ],
 "metadata": {
  "kernelspec": {
   "display_name": "Python 3",
   "language": "python",
   "name": "python3"
  },
  "language_info": {
   "codemirror_mode": {
    "name": "ipython",
    "version": 3
   },
   "file_extension": ".py",
   "mimetype": "text/x-python",
   "name": "python",
   "nbconvert_exporter": "python",
   "pygments_lexer": "ipython3",
   "version": "3.12.3"
  }
 },
 "nbformat": 4,
 "nbformat_minor": 5
}
