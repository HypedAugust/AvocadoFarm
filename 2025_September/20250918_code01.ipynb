{
 "cells": [
  {
   "cell_type": "code",
   "execution_count": 7,
   "id": "f8c97e54",
   "metadata": {},
   "outputs": [
    {
     "name": "stdout",
     "output_type": "stream",
     "text": [
      "8\n"
     ]
    }
   ],
   "source": [
    "# 콜라츠 추측 \n",
    "# 입력된 수가 짝수면 2로 나눈다. \n",
    "# 입력된 수가 홀수면 3을 곱하고 1을 더한다. \n",
    "# 1이 될때 까지 반복한다. \n",
    "\n",
    "def solution(num):\n",
    "    count = 0 \n",
    "    if num == 1: \n",
    "        return 0\n",
    "    while num != 1:\n",
    "        if num % 2 == 0:\n",
    "            num = num // 2\n",
    "            count += 1\n",
    "        elif num % 2 == 1:\n",
    "            num = num*3+1\n",
    "            count += 1\n",
    "    if count > 500:\n",
    "        return -1\n",
    "    else:\n",
    "        return count\n",
    "\n",
    "num = 6\n",
    "print(solution(num))\n"
   ]
  },
  {
   "cell_type": "code",
   "execution_count": null,
   "id": "e256b85b",
   "metadata": {},
   "outputs": [
    {
     "name": "stdout",
     "output_type": "stream",
     "text": [
      "7777\n",
      "0106570****\n"
     ]
    }
   ],
   "source": [
    "# 핸드폰 번호 가리기 \n",
    "pn = \"01065707777\"\n",
    "print(pn[-4:])\n",
    "\n",
    "def solution(pn):\n",
    "    answer = ''\n",
    "    answer = pn[:-4]+'****'\n",
    "\n",
    "    return answer\n",
    "\n",
    "print(solution(pn))\n",
    "\n"
   ]
  },
  {
   "cell_type": "code",
   "execution_count": null,
   "id": "2c64d946",
   "metadata": {},
   "outputs": [],
   "source": [
    "newpn = \"*\" * (len(pn) - 4) + pn[-4:]"
   ]
  },
  {
   "cell_type": "code",
   "execution_count": 18,
   "id": "83fb1886",
   "metadata": {},
   "outputs": [
    {
     "name": "stdout",
     "output_type": "stream",
     "text": [
      "we\n"
     ]
    }
   ],
   "source": [
    "def solution(s):\n",
    "    answer = ''\n",
    "    if len(s) % 2 == 0:\n",
    "        fhalf = len(s)//2\n",
    "        answer = s[fhalf-1] + s[fhalf]\n",
    "    elif len(s) % 2 != 0:\n",
    "        fhalf = len(s)//2\n",
    "        answer = s[fhalf]\n",
    "    return answer\n",
    "\n",
    "s = \"qwer\"\n",
    "print(solution(s))"
   ]
  },
  {
   "cell_type": "code",
   "execution_count": null,
   "id": "726cc2cc",
   "metadata": {},
   "outputs": [
    {
     "name": "stdout",
     "output_type": "stream",
     "text": [
      "-1\n",
      "[4, 3, 2]\n"
     ]
    }
   ],
   "source": [
    "# 제일 작은 수 제거하기 \n",
    "# 정수를 저장한 배열 arr에서 가장 작은 수를 제거한 배열을 리턴하여라 \n",
    "# 배열이 비었다면 -1을 리턴하라 \n",
    "\n",
    "arr = [4,3,2,1]\n",
    "arr2 = [10]\n",
    "\n",
    "def solution(arr):\n",
    "    arr.remove(min(arr))\n",
    "    if len(arr) == 0:\n",
    "        return [-1] \n",
    "    elif len(arr) != 0:\n",
    "        return arr\n",
    "\n",
    "print(solution(arr2))\n",
    "print(solution(arr))"
   ]
  },
  {
   "cell_type": "code",
   "execution_count": 27,
   "id": "c2f2da49",
   "metadata": {},
   "outputs": [
    {
     "name": "stdout",
     "output_type": "stream",
     "text": [
      "3\n"
     ]
    }
   ],
   "source": [
    "# 내적 \n",
    "def solution(a, b):\n",
    "    lena = len(a)\n",
    "    lenb = len(b)\n",
    "    if len(a) != len(b):\n",
    "        return \"error\"\n",
    "    total = 0\n",
    "    for x,y in zip(a,b):\n",
    "        total += x*y\n",
    "    return total\n",
    "\n",
    "a = [1,2,3,4]\n",
    "b = [-3,-1,0,2]\t# 3\n",
    "\n",
    "print(solution(a,b))"
   ]
  }
 ],
 "metadata": {
  "kernelspec": {
   "display_name": "Python 3",
   "language": "python",
   "name": "python3"
  },
  "language_info": {
   "codemirror_mode": {
    "name": "ipython",
    "version": 3
   },
   "file_extension": ".py",
   "mimetype": "text/x-python",
   "name": "python",
   "nbconvert_exporter": "python",
   "pygments_lexer": "ipython3",
   "version": "3.12.3"
  }
 },
 "nbformat": 4,
 "nbformat_minor": 5
}
