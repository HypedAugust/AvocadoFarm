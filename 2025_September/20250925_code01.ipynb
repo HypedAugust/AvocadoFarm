{
 "cells": [
  {
   "cell_type": "code",
   "execution_count": 16,
   "id": "484d6f0f",
   "metadata": {},
   "outputs": [
    {
     "name": "stdout",
     "output_type": "stream",
     "text": [
      "TrY HeLlO WoRlD\n"
     ]
    }
   ],
   "source": [
    "# 이상한 문제 만들기 \n",
    "\n",
    "# 문자열 s = 한개 이상의 단어로 구성, \n",
    "# 각 단어는 하나 이상의 공백 문자로 구분, \n",
    "# 각 단어의 짝수 알파뱃은 대문자, 홀수는 소문자로 바꿔서 줘라 \n",
    "\n",
    "def solution(s):\n",
    "    answer = ''\n",
    "    news = s.split(' ')\n",
    "    templist = []\n",
    "    for word in news:\n",
    "        temp = ''\n",
    "        for i, letter in enumerate(word):\n",
    "            if i % 2 == 0:\n",
    "                temp += letter.upper()\n",
    "            else:\n",
    "                temp += letter.lower()\n",
    "        templist.append(temp)\n",
    "    return ' '.join(templist)\n",
    "\n",
    "print(solution(s))\n",
    "\n",
    "\n",
    "s = \"try hello world\"\n",
    "# \"TrY HeLlO WoRlD\""
   ]
  },
  {
   "cell_type": "code",
   "execution_count": null,
   "id": "65314cd3",
   "metadata": {},
   "outputs": [],
   "source": []
  }
 ],
 "metadata": {
  "kernelspec": {
   "display_name": "Python 3",
   "language": "python",
   "name": "python3"
  },
  "language_info": {
   "codemirror_mode": {
    "name": "ipython",
    "version": 3
   },
   "file_extension": ".py",
   "mimetype": "text/x-python",
   "name": "python",
   "nbconvert_exporter": "python",
   "pygments_lexer": "ipython3",
   "version": "3.12.3"
  }
 },
 "nbformat": 4,
 "nbformat_minor": 5
}
