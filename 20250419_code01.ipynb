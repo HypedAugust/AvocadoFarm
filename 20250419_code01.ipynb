{
 "cells": [
  {
   "cell_type": "code",
   "execution_count": null,
   "id": "3a6d0787",
   "metadata": {},
   "outputs": [],
   "source": [
    "def solution(arr):\n",
    "    answer = []\n",
    "    for i in arr:\n",
    "        if i >= 50 and i % 2 == 0:\n",
    "            answer.append(i // 2)\n",
    "        elif i >= 50 and i % 2 == 1:\n",
    "            answer.append(i)\n",
    "        elif i % 2 == 1:\n",
    "            answer.append(i*2)\n",
    "        else:\n",
    "            answer.append(i)\n",
    "    return answer"
   ]
  }
 ],
 "metadata": {
  "language_info": {
   "name": "python"
  }
 },
 "nbformat": 4,
 "nbformat_minor": 5
}
