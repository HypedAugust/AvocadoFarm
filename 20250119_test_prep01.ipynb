{
 "cells": [
  {
   "cell_type": "code",
   "execution_count": null,
   "metadata": {},
   "outputs": [],
   "source": [
    "# MLR : Linear regression with multiple variables. \n",
    "# 1) import needed packages \n",
    "# 2) import or download data \n",
    "\n",
    "# 3) preprocessing\n",
    "\n",
    "# 3-1)  read the data \n",
    "# df = pd.read_csv(\"FuelConsumption.csv\")\n",
    "# df.head()\n",
    "\n",
    "# 3-2) select features that we want to use for regression \n",
    "# cdf cdf = df[['ENGINESIZE','CYLINDERS','CO2EMISSIONS']]\n",
    "\n",
    "# 3-3) split train/test dataset \n",
    "# msk = np.random.rand(len(df)) < 0.8 # picking random rows for the split \n",
    "# train = cdf[msk]\n",
    "# test = cdf[~msk]\n",
    "\n",
    "# 4) modeling \n",
    "# from sklearn import linear_model\n",
    "# regr = linear_model.LinearRegression()\n",
    "# x = np.asanyarray(train[['ENGINESIZE','CYLINDERS','FUELCONSUMPTION_COMB']])\n",
    "# y = np.asanyarray(train[['CO2EMISSIONS']])\n",
    "# regr.fit (x, y)\n",
    "\n",
    "# # The coefficients\n",
    "# print ('Coefficients: ', regr.coef_)\n",
    "\n",
    "# 4-1) prediction \n",
    "# y_hat= regr.predict(test[['ENGINESIZE','CYLINDERS','FUELCONSUMPTION_COMB']])\n",
    "# x = np.asanyarray(test[['ENGINESIZE','CYLINDERS','FUELCONSUMPTION_COMB']])\n",
    "# y = np.asanyarray(test[['CO2EMISSIONS']])\n",
    "# print(\"Mean Squared Error (MSE) : %.2f\"\n",
    "#       % np.mean((y_hat - y) ** 2))\n",
    "\n",
    "# # Explained variance score: 1 is perfect prediction\n",
    "# print('Variance score: %.2f' % regr.score(x, y))\n",
    "\n"
   ]
  }
 ],
 "metadata": {
  "language_info": {
   "name": "python"
  }
 },
 "nbformat": 4,
 "nbformat_minor": 2
}
