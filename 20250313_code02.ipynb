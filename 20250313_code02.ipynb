{
 "cells": [
  {
   "cell_type": "code",
   "execution_count": null,
   "metadata": {},
   "outputs": [],
   "source": [
    "def solution(genre_array, play_array):\n",
    "    n=len(genre_array)\n",
    "    genre_total_play_dict = {}\n",
    "    genre_index_play_array_dict = {}\n",
    "\n",
    "    for i in range(n):\n",
    "        genre = genre_array[i]\n",
    "        play = play_array[i]\n",
    "        \n",
    "        if genre in genre_total_play_dict:\n",
    "            genre_total_play_dict[genre] += 1\n",
    "            genre_index_play_array_dict[genre].append([i,play])\n",
    "        else:\n",
    "            genre_total_play_dict[genre] = play\n",
    "            genre_index_play_array_dict[genre] = [[i, play]]\n",
    "    \n",
    "\n",
    "    sorted_genre_play_array = sorted(genre_total_play_dict.items(), key = lambda item: item[1], reverse = True)\n",
    "\n",
    "    result = []\n",
    "\n",
    "    for genre, total_play in sorted_genre_play_array:\n",
    "        sorted_genre_index_play_array = sorted(genre_index_play_array_dict[genre], key = lambda item: item[1], reverse = True)\n",
    "\n",
    "        genre_song_count = 0 \n",
    "        for index, play in sorted_genre_index_play_array:\n",
    "            if genre_song_count >= 2:\n",
    "                break\n",
    "\n",
    "            result.append(index)\n",
    "            genre_song_count += 1\n"
   ]
  }
 ],
 "metadata": {
  "language_info": {
   "name": "python"
  }
 },
 "nbformat": 4,
 "nbformat_minor": 2
}
