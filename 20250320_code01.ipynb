{
 "cells": [
  {
   "cell_type": "code",
   "execution_count": null,
   "metadata": {},
   "outputs": [
    {
     "name": "stdout",
     "output_type": "stream",
     "text": [
      "6\n"
     ]
    }
   ],
   "source": [
    "# Recursion \n",
    "\n",
    "def factorial(n):\n",
    "    if n == 1: \n",
    "        return 1 \n",
    "\n",
    "    return n*factorial(n-1)\n",
    "    \n",
    "print(factorial(3))\n",
    " "
   ]
  },
  {
   "cell_type": "code",
   "execution_count": null,
   "metadata": {},
   "outputs": [],
   "source": [
    "# 회문 검사 \n",
    "def is_palindrome(string):\n",
    "    n = len(string)\n",
    "    if n == 1: \n",
    "        return True\n",
    "    for i in range(n):\n",
    "        if string[i] == string[n-1-i]:\n",
    "            return False\n",
    "    return True\n",
    "    "
   ]
  },
  {
   "cell_type": "code",
   "execution_count": null,
   "metadata": {},
   "outputs": [],
   "source": [
    "# recursive palindrome \n",
    "\n",
    "# def is_palindrome(string):\n",
    "#     return is_palindrome(string[1:-1]) # 무한으로 작동해버림 \n",
    "\n",
    "def is_palindrome(string):\n",
    "    if len(string) <= 1:\n",
    "        return True \n",
    "    \n",
    "    return string[0] == string[-1] and is_palindrome(string[1:-1])"
   ]
  }
 ],
 "metadata": {
  "kernelspec": {
   "display_name": "coursera",
   "language": "python",
   "name": "python3"
  },
  "language_info": {
   "codemirror_mode": {
    "name": "ipython",
    "version": 3
   },
   "file_extension": ".py",
   "mimetype": "text/x-python",
   "name": "python",
   "nbconvert_exporter": "python",
   "pygments_lexer": "ipython3",
   "version": "3.10.8"
  }
 },
 "nbformat": 4,
 "nbformat_minor": 2
}
