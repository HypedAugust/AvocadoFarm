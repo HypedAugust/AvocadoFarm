{
 "cells": [
  {
   "cell_type": "code",
   "execution_count": null,
   "id": "8dc482c2",
   "metadata": {},
   "outputs": [
    {
     "name": "stdout",
     "output_type": "stream",
     "text": [
      "[-3, -2, -2, -1]\n",
      "3\n",
      "2\n",
      "2\n",
      "1\n",
      "[]\n"
     ]
    }
   ],
   "source": [
    "# 숫자가 더 크면 우선순위가 높다 = max heap \n",
    "# 1) max heap을 쓴다. \n",
    "# 2) location은 인덱스로 사용한다. \n",
    "# 3) return은 count 변수를 만든다. \n",
    "\n",
    "priorities = [2,1,3,2]\n",
    "location = 2 \n",
    "\n",
    "import heapq\n",
    "h = []\n",
    "\n",
    "for i in priorities:\n",
    "    heapq.heappush(h,-i)\n",
    "# print(h) # -3,-2,-2,-1\n",
    "\n",
    "for i in range(len(h)):\n",
    "    print(-heapq.heappop(h))\n",
    "# print(h) # 3, 2, 2, 1\n",
    "\n"
   ]
  },
  {
   "cell_type": "code",
   "execution_count": null,
   "id": "269451f8",
   "metadata": {},
   "outputs": [],
   "source": [
    "# # 1) 우선순위 큐 대신 큐를 사용해 우선순위와 원래 위치를 저장하는 큐를 만들자. \n",
    "# from collections import deque \n",
    "\n",
    "# def solution(priorities, location):\n",
    "#     queue = deque([(p,i) for i,p in enumerate(priorities)])\n",
    "#     count = 0 \n",
    "\n",
    "#     while queue: # 2) 큐를 다 꺼낼때까지 실행함.  \n",
    "#         # 3) 현재 처리할 것 꺼내기\n",
    "#         current = queue.popleft() # 꺼낸 것은 (priority, original index position)\n",
    "\n",
    "#         # 4) 더 높은 우선 순위가 있으면 다시 뒤로 넣기 \n",
    "#         for q in queue:\n",
    "#             if current[0] < q[0]:\n",
    "#                 queue.append(current)\n",
    "            \n",
    "#             # 5) 우선순위 젤 높은게 맞다면 count를 함. \n",
    "#             else:\n",
    "#                 count += 1\n",
    "\n",
    "#                 # 찾던 위치가 일치하면 count를 return한다. \n",
    "#                 if current[1] == location:\n",
    "#                     return count "
   ]
  },
  {
   "cell_type": "code",
   "execution_count": null,
   "id": "a2274e4c",
   "metadata": {},
   "outputs": [],
   "source": [
    "def solution(priorities, location):\n",
    "    queue = []\n",
    "    for i , p in enumerate(priorities):\n",
    "        queue.append((i,p))\n",
    "    \n",
    "    answer = 0 \n",
    "\n",
    "    while True:\n",
    "        cur = queue.pop()\n",
    "        higher_exist = False \n",
    "        \n",
    "        for q in queue:\n",
    "            if cur[1] < q[1]:\n",
    "                higher_exist = True\n",
    "                break\n",
    "        \n",
    "        if higher_exist:\n",
    "            queue.append(cur)\n",
    "        else:\n",
    "            answer += 1\n",
    "            if cur[0] == location:\n",
    "                return answer "
   ]
  }
 ],
 "metadata": {
  "kernelspec": {
   "display_name": "test_env",
   "language": "python",
   "name": "python3"
  },
  "language_info": {
   "codemirror_mode": {
    "name": "ipython",
    "version": 3
   },
   "file_extension": ".py",
   "mimetype": "text/x-python",
   "name": "python",
   "nbconvert_exporter": "python",
   "pygments_lexer": "ipython3",
   "version": "3.11.9"
  }
 },
 "nbformat": 4,
 "nbformat_minor": 5
}
