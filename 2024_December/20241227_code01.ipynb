{
 "cells": [
  {
   "cell_type": "code",
   "execution_count": null,
   "metadata": {},
   "outputs": [],
   "source": [
    "# counting sort \n",
    "\n",
    "# 정해진 데이터 \n",
    "array = [7,5,9,0,3,1,6,2,9,1,4,8,0,5,2]\n",
    "\n",
    "# 모든 범위를 포함하는 리스트 선언 (0으로 모두 초기화)\n",
    "count = [0]*(max(array) + 1) \n",
    "\n",
    "\n",
    "for i in range(len(array)):\n",
    "    count[array[i]] += 1 # 각 데이터에 해당하는 인덱스의 값 증가 \n",
    "\n",
    "for i in range(len(count)): # 리스트에 기록된 정렬 정보 확인 \n",
    "    for j in range(count[i]):\n",
    "        print(i, end = ' ')\n",
    "\n"
   ]
  }
 ],
 "metadata": {
  "language_info": {
   "name": "python"
  }
 },
 "nbformat": 4,
 "nbformat_minor": 2
}
