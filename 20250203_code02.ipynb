{
 "cells": [
  {
   "cell_type": "code",
   "execution_count": 17,
   "metadata": {},
   "outputs": [
    {
     "name": "stdout",
     "output_type": "stream",
     "text": [
      "c:\\Users\\82106\\Documents\\GitHub\\AvocadoFarm\n"
     ]
    }
   ],
   "source": [
    "# os libarary \n",
    "\n",
    "import os\n",
    "print(os.getcwd())"
   ]
  },
  {
   "cell_type": "code",
   "execution_count": 18,
   "metadata": {},
   "outputs": [
    {
     "name": "stdout",
     "output_type": "stream",
     "text": [
      "['.git', '2024_August', '2024_December', '2024_July', '2024_November', '2024_October', '2024_September', '20250202_code01.ipynb', '20250203_code01.ipynb', '20250203_code02.ipynb', '2025_January', 'transfer']\n"
     ]
    }
   ],
   "source": [
    "files_and_dirs = os.listdir('.')\n",
    "print(files_and_dirs)"
   ]
  },
  {
   "cell_type": "code",
   "execution_count": 19,
   "metadata": {},
   "outputs": [
    {
     "name": "stdout",
     "output_type": "stream",
     "text": [
      "do not exist\n"
     ]
    }
   ],
   "source": [
    "if os.path.exists('data'):\n",
    "    print('exist')\n",
    "else:\n",
    "    print('do not exist')"
   ]
  },
  {
   "cell_type": "code",
   "execution_count": 20,
   "metadata": {},
   "outputs": [
    {
     "name": "stdout",
     "output_type": "stream",
     "text": [
      "data\\sample.txt\n"
     ]
    }
   ],
   "source": [
    "path_to_file = os.path.join('data', 'sample.txt')\n",
    "print(path_to_file)"
   ]
  },
  {
   "cell_type": "code",
   "execution_count": 21,
   "metadata": {},
   "outputs": [
    {
     "name": "stdout",
     "output_type": "stream",
     "text": [
      "data sample.txt\n"
     ]
    }
   ],
   "source": [
    "folder, file_name = os.path.split(path_to_file)\n",
    "print(folder, file_name)"
   ]
  },
  {
   "cell_type": "code",
   "execution_count": 22,
   "metadata": {},
   "outputs": [
    {
     "name": "stdout",
     "output_type": "stream",
     "text": [
      "c:\\Users\\82106\\Documents\\GitHub\\AvocadoFarm\n",
      "['.git', '2024_August', '2024_December', '2024_July', '2024_November', '2024_October', '2024_September', '20250202_code01.ipynb', '20250203_code01.ipynb', '20250203_code02.ipynb', '2025_January', 'transfer']\n",
      "do not exist\n"
     ]
    }
   ],
   "source": [
    "# 경로와 디렉토리 관리 \n",
    "import os \n",
    "print(os.getcwd())\n",
    "# 파일 및 폴더 존재 확인 \n",
    "items = os.listdir('.')\n",
    "print(items)\n",
    "# 이름 변경 및 삭제 \n",
    "if os.path.exists('data'):\n",
    "    print('exist')\n",
    "else:\n",
    "    print('do not exist')"
   ]
  },
  {
   "cell_type": "code",
   "execution_count": 23,
   "metadata": {},
   "outputs": [],
   "source": [
    "for root, dirs, files in os.walk('AVOCADOFARM'):\n",
    "    for file in files:\n",
    "        print(os.path.join(root, file))"
   ]
  }
 ],
 "metadata": {
  "kernelspec": {
   "display_name": "coursera",
   "language": "python",
   "name": "python3"
  },
  "language_info": {
   "codemirror_mode": {
    "name": "ipython",
    "version": 3
   },
   "file_extension": ".py",
   "mimetype": "text/x-python",
   "name": "python",
   "nbconvert_exporter": "python",
   "pygments_lexer": "ipython3",
   "version": "3.10.8"
  }
 },
 "nbformat": 4,
 "nbformat_minor": 2
}
