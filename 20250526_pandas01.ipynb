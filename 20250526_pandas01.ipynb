{
 "cells": [
  {
   "cell_type": "code",
   "execution_count": null,
   "id": "209e7ccd",
   "metadata": {},
   "outputs": [],
   "source": [
    "df = pd.DataFrame({'year': [2015, 2016],\n",
    "'month': [2, 3],\n",
    "'day': [4, 5]})\n",
    "\n",
    "pd.to_datetime(df)\n",
    "dtype: datetime64[ns]"
   ]
  },
  {
   "cell_type": "code",
   "execution_count": null,
   "id": "fe90cc06",
   "metadata": {},
   "outputs": [],
   "source": [
    "pd.to_datetime(1490195805, unit='s')\n",
    "Timestamp('2017-03-22 15:16:45')\n",
    "\n",
    "pd.to_datetime(1490195805433502912, unit='ns')\n",
    "Timestamp('2017-03-22 15:16:45.433502912')"
   ]
  },
  {
   "cell_type": "code",
   "execution_count": null,
   "id": "4332c242",
   "metadata": {},
   "outputs": [],
   "source": [
    "# origin change \n",
    "pd.to_datetime([1, 2, 3], unit='D',\n",
    "origin=pd.Timestamp('1960-01-01'))\n",
    "\n",
    "DatetimeIndex(['1960-01-02', '1960-01-03', '1960-01-04'],\n",
    "dtype='datetime64[ns]', freq=None)"
   ]
  },
  {
   "cell_type": "code",
   "execution_count": null,
   "id": "96c2b134",
   "metadata": {},
   "outputs": [],
   "source": [
    "#utcTrue로 설정하여 서로다른 TZ에 있는 시간을 정리할 수 있다.\n",
    "pd.to_datetime(['2018-10-26 12:00 -0530', '2018-10-26 12:00 -0500'],\n",
    "utc=True)\n",
    "\n",
    "# 바뀐 버전\n",
    "DatetimeIndex(['2018-10-26 17:30:00+00:00', '2018-10-26 17:00:00+00:00'],\n",
    "dtype='datetime64[ns, UTC]', freq=None)"
   ]
  }
 ],
 "metadata": {
  "language_info": {
   "name": "python"
  }
 },
 "nbformat": 4,
 "nbformat_minor": 5
}
