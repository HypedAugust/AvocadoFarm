{
 "cells": [
  {
   "cell_type": "code",
   "execution_count": 12,
   "metadata": {},
   "outputs": [
    {
     "name": "stdout",
     "output_type": "stream",
     "text": [
      "5\n",
      "12\n"
     ]
    }
   ],
   "source": [
    "# 데이터와 다음 칸을 클래스로 구현 \n",
    "class Node:\n",
    "    def __init__(self, data):\n",
    "        self.data = data\n",
    "        self.next = None \n",
    "\n",
    "# Linked List\n",
    "class LinkedList:\n",
    "    def __init__(self, value):\n",
    "        self.head = Node(value)\n",
    "\n",
    "    def append(self,value):\n",
    "        cur = self.head\n",
    "        while cur.next is not None:\n",
    "            cur = cur.next \n",
    "        cur.next = Node(value)\n",
    "        \n",
    "    def print_all(self):\n",
    "        cur = self.head\n",
    "        while cur is not None:\n",
    "            print(cur.data)\n",
    "            cur = cur.next\n",
    "\n",
    "linked_list = LinkedList(5)  # head는 5를 갖는 Node\n",
    "linked_list.append(12)       # head 다음에 12를 갖는 Node 추가\n",
    "linked_list.print_all()      # 5, 12 순서대로 출력"
   ]
  },
  {
   "cell_type": "code",
   "execution_count": 9,
   "metadata": {},
   "outputs": [
    {
     "name": "stdout",
     "output_type": "stream",
     "text": [
      "[4, 3, 1, 1, 0]\n"
     ]
    }
   ],
   "source": [
    "from collections import deque\n",
    "prices = [1, 2, 3, 2, 3]\n",
    "\n",
    "def get_price_not_fall_periods(prices):\n",
    "    result = []\n",
    "    prices = deque(prices)\n",
    "\n",
    "    while prices:\n",
    "        price_not_fall = 0 \n",
    "        current_price = prices.popleft()\n",
    "        for next_price in prices:\n",
    "            if current_price > next_price:\n",
    "                price_not_fall += 1\n",
    "                break \n",
    "            else: \n",
    "                price_not_fall += 1\n",
    "        result.append(price_not_fall)\n",
    "    return result \n",
    "\n",
    "print(get_price_not_fall_periods(prices))  # 4,3,1,1,0"
   ]
  },
  {
   "cell_type": "code",
   "execution_count": 15,
   "metadata": {},
   "outputs": [
    {
     "name": "stdout",
     "output_type": "stream",
     "text": [
      "인덱스 0, 현재 합계: 0, 다음 단계: +4\n",
      "인덱스 1, 현재 합계: 4, 다음 단계: +1\n",
      "인덱스 2, 현재 합계: 5, 다음 단계: +2\n",
      "인덱스 3, 현재 합계: 7, 다음 단계: +1\n",
      "인덱스 3, 현재 합계: 7, 다음 단계: -1\n",
      "인덱스 2, 현재 합계: 5, 다음 단계: -2\n",
      "인덱스 3, 현재 합계: 3, 다음 단계: +1\n",
      "인덱스 3, 현재 합계: 3, 다음 단계: -1\n",
      "인덱스 1, 현재 합계: 4, 다음 단계: -1\n",
      "인덱스 2, 현재 합계: 3, 다음 단계: +2\n",
      "인덱스 3, 현재 합계: 5, 다음 단계: +1\n",
      "인덱스 3, 현재 합계: 5, 다음 단계: -1\n",
      "인덱스 2, 현재 합계: 3, 다음 단계: -2\n",
      "인덱스 3, 현재 합계: 1, 다음 단계: +1\n",
      "인덱스 3, 현재 합계: 1, 다음 단계: -1\n",
      "인덱스 0, 현재 합계: 0, 다음 단계: -4\n",
      "인덱스 1, 현재 합계: -4, 다음 단계: +1\n",
      "인덱스 2, 현재 합계: -3, 다음 단계: +2\n",
      "인덱스 3, 현재 합계: -1, 다음 단계: +1\n",
      "인덱스 3, 현재 합계: -1, 다음 단계: -1\n",
      "인덱스 2, 현재 합계: -3, 다음 단계: -2\n",
      "인덱스 3, 현재 합계: -5, 다음 단계: +1\n",
      "인덱스 3, 현재 합계: -5, 다음 단계: -1\n",
      "인덱스 1, 현재 합계: -4, 다음 단계: -1\n",
      "인덱스 2, 현재 합계: -5, 다음 단계: +2\n",
      "인덱스 3, 현재 합계: -3, 다음 단계: +1\n",
      "인덱스 3, 현재 합계: -3, 다음 단계: -1\n",
      "인덱스 2, 현재 합계: -5, 다음 단계: -2\n",
      "인덱스 3, 현재 합계: -7, 다음 단계: +1\n",
      "인덱스 3, 현재 합계: -7, 다음 단계: -1\n",
      "타겟 3을 만드는 방법의 수: 0\n"
     ]
    }
   ],
   "source": [
    "def solution(numbers, target):\n",
    "    def dfs(index, total, path):  # path 매개변수 추가\n",
    "        if index == len(numbers):\n",
    "            if total == target:\n",
    "                print(f\"찾음! 경로: {path}, 합계: {total}\")\n",
    "                return 1\n",
    "            else:\n",
    "                return 0\n",
    "        \n",
    "        # 더하는 경우\n",
    "        print(f\"인덱스 {index}, 현재 합계: {total}, 다음 단계: +{numbers[index]}\")\n",
    "        count1 = dfs(index + 1, total + numbers[index], path + [f\"+{numbers[index]}\"])\n",
    "        \n",
    "        # 빼는 경우\n",
    "        print(f\"인덱스 {index}, 현재 합계: {total}, 다음 단계: -{numbers[index]}\")\n",
    "        count2 = dfs(index + 1, total - numbers[index], path + [f\"-{numbers[index]}\"])\n",
    "        \n",
    "        return count1 + count2\n",
    "    \n",
    "    return dfs(0, 0, [])\n",
    "\n",
    "numbers = [4, 1, 2, 1]\n",
    "target = 3\n",
    "print(f\"타겟 {target}을 만드는 방법의 수: {solution(numbers, target)}\")"
   ]
  },
  {
   "cell_type": "code",
   "execution_count": null,
   "metadata": {},
   "outputs": [],
   "source": []
  }
 ],
 "metadata": {
  "kernelspec": {
   "display_name": "Python 3",
   "language": "python",
   "name": "python3"
  },
  "language_info": {
   "codemirror_mode": {
    "name": "ipython",
    "version": 3
   },
   "file_extension": ".py",
   "mimetype": "text/x-python",
   "name": "python",
   "nbconvert_exporter": "python",
   "pygments_lexer": "ipython3",
   "version": "3.11.9"
  }
 },
 "nbformat": 4,
 "nbformat_minor": 2
}
