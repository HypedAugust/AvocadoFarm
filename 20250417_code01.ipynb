{
 "cells": [
  {
   "cell_type": "code",
   "execution_count": 14,
   "id": "9676c594",
   "metadata": {},
   "outputs": [
    {
     "name": "stdout",
     "output_type": "stream",
     "text": [
      "['practiceguitar', 'studygraph']\n"
     ]
    }
   ],
   "source": [
    "todo_list = [\"problemsolving\", \"practiceguitar\", \"swim\", \"studygraph\"]\n",
    "finished = [\"true\", \"false\", \"true\", \"false\"]\n",
    "# result = [\"practiceguitar\", \"studygraph\"]\n",
    "def solution(todo_list, finished):\n",
    "    answer = []\n",
    "    for i in range(len(todo_list)):\n",
    "        if finished[i] == \"true\":\n",
    "            continue\n",
    "        elif finished[i] == \"false\":\n",
    "            answer.append(todo_list[i])\n",
    "    return answer\n",
    "\n",
    "print(solution(todo_list, finished))\n"
   ]
  },
  {
   "cell_type": "code",
   "execution_count": 22,
   "id": "63716167",
   "metadata": {},
   "outputs": [
    {
     "name": "stdout",
     "output_type": "stream",
     "text": [
      "('a', 22)\n",
      "('b', 3)\n",
      "('c', 4)\n",
      "a:22\n",
      "b:3\n",
      "c:4\n",
      "[('a', 22), ('b', 3), ('c', 4)]\n",
      "{'a': 22, 'b': 3, 'c': 4}\n"
     ]
    }
   ],
   "source": [
    "#### zip #### \n",
    "# 병렬로 묶어준다. \n",
    "\n",
    "names = ['a','b','c']\n",
    "ages = [22,3,4]\n",
    "\n",
    "for pair in zip(names,ages):\n",
    "    print(pair)\n",
    "\n",
    "for name,age in zip(names, ages):\n",
    "    print(f'{name}:{age}')\n",
    "\n",
    "info = list(zip(names,ages))\n",
    "print(info)\n",
    "\n",
    "info2 = dict(zip(names,ages))\n",
    "print(info2)"
   ]
  },
  {
   "cell_type": "code",
   "execution_count": null,
   "id": "78bdef00",
   "metadata": {},
   "outputs": [],
   "source": [
    "from collections import deque \n",
    "\n",
    "def solution(bridge_length, weight, truck_weights):\n",
    "    time = 0 \n",
    "    bridge = deque([0]*bridge_length)\n",
    "    trucks = deque(truck_weights)\n",
    "    brdige_weight = 0\n",
    "\n",
    "    while trucks or brdige_weight >0:\n",
    "    \n",
    "    return time \n",
    "\n",
    "bridge_length = 2 \n",
    "weight = 10 \n",
    "truck_weights = [7,4,5,6]\n",
    "\n"
   ]
  },
  {
   "cell_type": "code",
   "execution_count": 23,
   "id": "8b60c662",
   "metadata": {},
   "outputs": [
    {
     "name": "stdout",
     "output_type": "stream",
     "text": [
      "[False, False, False]\n"
     ]
    }
   ],
   "source": [
    "a = [False]*3\n",
    "print(a)"
   ]
  }
 ],
 "metadata": {
  "kernelspec": {
   "display_name": "Python 3",
   "language": "python",
   "name": "python3"
  },
  "language_info": {
   "codemirror_mode": {
    "name": "ipython",
    "version": 3
   },
   "file_extension": ".py",
   "mimetype": "text/x-python",
   "name": "python",
   "nbconvert_exporter": "python",
   "pygments_lexer": "ipython3",
   "version": "3.11.9"
  }
 },
 "nbformat": 4,
 "nbformat_minor": 5
}
