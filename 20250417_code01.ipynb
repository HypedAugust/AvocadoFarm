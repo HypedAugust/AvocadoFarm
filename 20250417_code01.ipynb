{
 "cells": [
  {
   "cell_type": "code",
   "execution_count": 14,
   "id": "9676c594",
   "metadata": {},
   "outputs": [
    {
     "name": "stdout",
     "output_type": "stream",
     "text": [
      "['practiceguitar', 'studygraph']\n"
     ]
    }
   ],
   "source": [
    "todo_list = [\"problemsolving\", \"practiceguitar\", \"swim\", \"studygraph\"]\n",
    "finished = [\"true\", \"false\", \"true\", \"false\"]\n",
    "# result = [\"practiceguitar\", \"studygraph\"]\n",
    "def solution(todo_list, finished):\n",
    "    answer = []\n",
    "    for i in range(len(todo_list)):\n",
    "        if finished[i] == \"true\":\n",
    "            continue\n",
    "        elif finished[i] == \"false\":\n",
    "            answer.append(todo_list[i])\n",
    "    return answer\n",
    "\n",
    "print(solution(todo_list, finished))\n"
   ]
  },
  {
   "cell_type": "code",
   "execution_count": 22,
   "id": "63716167",
   "metadata": {},
   "outputs": [
    {
     "name": "stdout",
     "output_type": "stream",
     "text": [
      "('a', 22)\n",
      "('b', 3)\n",
      "('c', 4)\n",
      "a:22\n",
      "b:3\n",
      "c:4\n",
      "[('a', 22), ('b', 3), ('c', 4)]\n",
      "{'a': 22, 'b': 3, 'c': 4}\n"
     ]
    }
   ],
   "source": [
    "#### zip #### \n",
    "# 병렬로 묶어준다. \n",
    "\n",
    "names = ['a','b','c']\n",
    "ages = [22,3,4]\n",
    "\n",
    "for pair in zip(names,ages):\n",
    "    print(pair)\n",
    "\n",
    "for name,age in zip(names, ages):\n",
    "    print(f'{name}:{age}')\n",
    "\n",
    "info = list(zip(names,ages))\n",
    "print(info)\n",
    "\n",
    "info2 = dict(zip(names,ages))\n",
    "print(info2)"
   ]
  },
  {
   "cell_type": "code",
   "execution_count": null,
   "id": "78bdef00",
   "metadata": {},
   "outputs": [
    {
     "name": "stdout",
     "output_type": "stream",
     "text": [
      "0\n",
      "7\n",
      "0\n",
      "4\n",
      "5\n",
      "0\n",
      "6\n",
      "0\n",
      "8\n"
     ]
    }
   ],
   "source": [
    "from collections import deque\n",
    "\n",
    "def solution(bridge_length, weight, truck_weights):\n",
    "    time = 0 \n",
    "    bridge = deque([0]*bridge_length)  # 다리의 각 칸을 0으로 초기화\n",
    "    trucks = deque(truck_weights)      # 대기 중인 트럭 목록\n",
    "    bridge_weight = 0                  # 현재 다리 위 트럭 무게 합\n",
    "    \n",
    "    while trucks or bridge_weight > 0:  # 대기 트럭이 있거나 다리 위에 트럭이 있는 동안\n",
    "        bridge_weight -= bridge.popleft()  # 다리 맨 앞의 요소를 빼고 무게에서 차감\n",
    "        \n",
    "        if trucks and bridge_weight + trucks[0] <= weight:  # 다리에 새 트럭이 올라갈 수 있으면\n",
    "            truck = trucks.popleft()      # 대기 트럭에서 하나 꺼내서\n",
    "            bridge.append(truck)          # 다리 맨 뒤에 추가\n",
    "            bridge_weight += truck        # 다리 무게에 더함\n",
    "        else:\n",
    "            bridge.append(0)              # 새 트럭이 못 올라가면 0 추가\n",
    "            \n",
    "        time += 1  # 시간 증가\n",
    "        \n",
    "    return time"
   ]
  },
  {
   "cell_type": "code",
   "execution_count": 23,
   "id": "8b60c662",
   "metadata": {},
   "outputs": [
    {
     "name": "stdout",
     "output_type": "stream",
     "text": [
      "[False, False, False]\n"
     ]
    }
   ],
   "source": [
    "a = [False]*3\n",
    "print(a)"
   ]
  }
 ],
 "metadata": {
  "kernelspec": {
   "display_name": "Python 3",
   "language": "python",
   "name": "python3"
  },
  "language_info": {
   "codemirror_mode": {
    "name": "ipython",
    "version": 3
   },
   "file_extension": ".py",
   "mimetype": "text/x-python",
   "name": "python",
   "nbconvert_exporter": "python",
   "pygments_lexer": "ipython3",
   "version": "3.11.9"
  }
 },
 "nbformat": 4,
 "nbformat_minor": 5
}
