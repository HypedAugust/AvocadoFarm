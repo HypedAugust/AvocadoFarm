{
 "cells": [
  {
   "cell_type": "code",
   "execution_count": null,
   "id": "28cb4415",
   "metadata": {},
   "outputs": [],
   "source": [
    "# # Merge Sorted Array \n",
    "# You are given two integer arrays nums1 and nums2, sorted in non-decreasing order, and two integers m and n, \n",
    "# representing the number of elements in nums1 and nums2 respectively.\n",
    "\n",
    "# Merge nums1 and nums2 into a single array sorted in non-decreasing order.\n",
    "\n",
    "# The final sorted array should not be returned by the function, but instead be stored inside the array nums1. \n",
    "# To accommodate this, nums1 has a length of m + n, where the first m elements denote the elements that should be merged,\n",
    "#  and the last n elements are set to 0 and should be ignored. nums2 has a length of n.\n",
    "\n",
    "class Solution:\n",
    "    def merge(self, nums1: List[int], m: int, nums2: List[int], n: int) -> None:\n",
    "        \"\"\"\n",
    "        Do not return anything, modify nums1 in-place instead.\n",
    "        \"\"\"\n",
    "        # 세 개의 포인터 설정\n",
    "        p1 = m - 1      # nums1의 마지막 실제 값 위치\n",
    "        p2 = n - 1      # nums2의 마지막 값 위치\n",
    "        p = m + n - 1   # nums1의 마지막 위치 (결과를 저장할 위치)\n",
    "        \n",
    "        # 뒤에서부터 채우기\n",
    "        while p1 >= 0 and p2 >= 0:\n",
    "            if nums1[p1] > nums2[p2]:\n",
    "                nums1[p] = nums1[p1]\n",
    "                p1 -= 1\n",
    "            else:\n",
    "                nums1[p] = nums2[p2]\n",
    "                p2 -= 1\n",
    "            p -= 1\n",
    "        \n",
    "        # nums2에 남은 요소가 있으면 nums1에 복사\n",
    "        # (nums1에 남은 요소는 이미 적절한 위치에 있으므로 처리할 필요 없음)\n",
    "        while p2 >= 0:\n",
    "            nums1[p] = nums2[p2]\n",
    "            p2 -= 1\n",
    "            p -= 1"
   ]
  }
 ],
 "metadata": {
  "language_info": {
   "name": "python"
  }
 },
 "nbformat": 4,
 "nbformat_minor": 5
}
