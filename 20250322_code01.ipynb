{
 "cells": [
  {
   "cell_type": "code",
   "execution_count": null,
   "metadata": {},
   "outputs": [],
   "source": [
    "# stack - 수신 탑 for 문 버전 \n",
    "\n",
    "top_heights = [6,9,5,7,4]\n",
    "def solution(heights):\n",
    "    answer = [0]*len(heights) # len이 5개 [0,0,0,0,0] \n",
    "    for i in range(len(h)-1, 0,-1): # range(5-1,0,-1) 인덱스 4번째부터 1번째 까지 뒤로 감. \n",
    "        for j in range(i-1,-1,-1): # i가 인덱스 4라면 j는 3에서 시작해서 0번째 까지 뒤로 감. \n",
    "            if heights[i] <= heights[j]:\n",
    "                answer[i] = j + 1 \n",
    "                break \n",
    "    return answer "
   ]
  },
  {
   "cell_type": "code",
   "execution_count": 1,
   "metadata": {},
   "outputs": [
    {
     "data": {
      "text/plain": [
       "4"
      ]
     },
     "execution_count": 1,
     "metadata": {},
     "output_type": "execute_result"
    }
   ],
   "source": [
    "top_heights = [6,9,5,7,4]\n",
    "top_heights.pop()"
   ]
  },
  {
   "cell_type": "code",
   "execution_count": null,
   "metadata": {},
   "outputs": [],
   "source": [
    "# stack - 수신 탑 stack 버전 \n",
    "top_heights = [6,9,5,7,4]\n",
    "def solution(heights):\n",
    "    answer = [0]*len(heights) # [0,0,0,0,0]\n",
    "    while heights:\n",
    "        height = heights.pop() # pop했으니 height는 4이고 heights는 6,9,5,7임\n",
    "        for i in range(len(heights)-1, -1, -1): # 7,5,9,6 순으로 인덱스 3~0 까지 뒤로 순회\n",
    "            if height <= heights[i]: # 4하고 7을 비교했을때, 7이 더크니 수신한거임. \n",
    "                answer[len(heights)] = i+1 \n",
    "                # answer의 len(heights)의 인덱스에 i+1 값이 들어가게됨. \n",
    "                # 한번 팝 했다면 4번째 인덱스에 값이 들어가야함. (5번째 탑의 위치)\n",
    "                # 3번째 인덱스가 i일때는 여기에 +1 하여 4가 [0,0,0,0,4] 이렇게 들어감. \n",
    "                break "
   ]
  },
  {
   "cell_type": "code",
   "execution_count": null,
   "metadata": {},
   "outputs": [],
   "source": [
    "# 큐 주식가격 문제 for 문버전 \n",
    "prices = [1,2,3,2,3]\n",
    "\n",
    "def solution(prices):\n",
    "    result = [0]*len(prices)\n",
    "\n",
    "    for i in range(0, len(prices)-1,1): #[1,2,3,2] 까지만 돔. 마지막꺼는 떨어질게 없어서 그럼. \n",
    "        prices_not_fall_count = 0 \n",
    "        for j in range(i+1, len(prices), 1): # 1이 i라면 2에서 부터 비교 시작 \n",
    "            if prices[i] <= prices[j]:\n",
    "                prices_not_fall_count += 1\n",
    "            else:\n",
    "                prices_not_fall_count += 1 # 이 부분 이상함. 이 얘기는 i가 j 보다 커도 카운트임. \n",
    "                break \n",
    "        result[i] = prices_not_fall_count\n",
    "    return result "
   ]
  },
  {
   "cell_type": "code",
   "execution_count": null,
   "metadata": {},
   "outputs": [],
   "source": [
    "# 큐 주식가격 문제 큐 버전 \n",
    "\n",
    "from collections import deque\n",
    "\n",
    "prices = [1,2,3,2,3]\n",
    "\n",
    "def solution(prices):\n",
    "    result = []\n",
    "    prices = deque(prices)\n",
    "\n",
    "    while prices:\n",
    "        prices_not_fall_count = 0 \n",
    "        current_price = prices.popleft() # 1을 먼저 꺼낸다. \n",
    "\n",
    "        for next_price in prices: # popleft 했으니 이제 남은것은 2,3,2,3임. \n",
    "            if current_price > next_price:\n",
    "                prices_not_fall_count += 1\n",
    "                break\n",
    "            prices_not_fall_count += 1\n",
    "\n",
    "        result.append(prices_not_fall_count)\n",
    "    \n",
    "    return result "
   ]
  }
 ],
 "metadata": {
  "kernelspec": {
   "display_name": "coursera",
   "language": "python",
   "name": "python3"
  },
  "language_info": {
   "codemirror_mode": {
    "name": "ipython",
    "version": 3
   },
   "file_extension": ".py",
   "mimetype": "text/x-python",
   "name": "python",
   "nbconvert_exporter": "python",
   "pygments_lexer": "ipython3",
   "version": "3.10.8"
  }
 },
 "nbformat": 4,
 "nbformat_minor": 2
}
