{
 "cells": [
  {
   "cell_type": "code",
   "execution_count": null,
   "metadata": {},
   "outputs": [],
   "source": [
    "# 셀을 한번에 가져오기 \n",
    "\n",
    "from openpyxl import Workbook\n",
    "from random import*\n",
    "\n",
    "wb = Workbook()\n",
    "ws = wb.active\n",
    "\n",
    "# 1줄씩 데이터 넣기 \n",
    "ws.append(['번호', '영어', '수학'])\n",
    "\n",
    "for i in range(1,11): # 10개 데이터 넣기 \n",
    "    ws.append([i,randint(0,100),randint(0,100)])\n",
    "\n",
    "Col_B = ws['B'] # 영어 column만 가져오기 \n",
    "# print(Col_B)\n",
    "for cell in Col_B:\n",
    "    print(cell.value)\n",
    "\n",
    "col_range = ws['B:C'] # 영어, 수학 column 함께 가지고 오기\n",
    "for cols in col_range:\n",
    "    for cell in cols:\n",
    "        print(cell.value)\n",
    "\n",
    "wb.save('sample.xlsx')\n"
   ]
  },
  {
   "cell_type": "code",
   "execution_count": null,
   "metadata": {},
   "outputs": [],
   "source": [
    "# row 가져오는 법 \n",
    "row_title = ws[1]\n",
    "for cell in row_title:\n",
    "    print(cell.value)\n",
    "\n",
    "row_range = ws[2:6] # 이 슬라이싱에서는 6줄을 포함한다. \n",
    "for rows in row_range:\n",
    "    for cell in rows:\n",
    "        print(cell.value, end = \" \")\n",
    "    print()\n",
    "\n",
    "\n",
    "\n",
    "wb.save('sample.xlsx')"
   ]
  },
  {
   "cell_type": "code",
   "execution_count": null,
   "metadata": {},
   "outputs": [],
   "source": [
    "from openpyxl.utils.cell import coordinate_from_string\n",
    "\n",
    "\n",
    "row_range = ws[2:ws.max_row] # 2번째 줄부터 마지막 줄까지 \n",
    "for rows in row_range:\n",
    "    for cell in rows:\n",
    "        # print(cell.coordinate, end = \" \")\n",
    "        xy = coordinate_from_string(cell.coordinate)\n",
    "        print(xy, end = \" \")\n",
    "    print()\n",
    "\n",
    "wb.save('sample.xlsx')"
   ]
  }
 ],
 "metadata": {
  "kernelspec": {
   "display_name": "Python 3",
   "language": "python",
   "name": "python3"
  },
  "language_info": {
   "codemirror_mode": {
    "name": "ipython",
    "version": 3
   },
   "file_extension": ".py",
   "mimetype": "text/x-python",
   "name": "python",
   "nbconvert_exporter": "python",
   "pygments_lexer": "ipython3",
   "version": "3.11.9"
  }
 },
 "nbformat": 4,
 "nbformat_minor": 2
}
