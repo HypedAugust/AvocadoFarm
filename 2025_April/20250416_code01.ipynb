{
 "cells": [
  {
   "cell_type": "code",
   "execution_count": 4,
   "id": "3999d404",
   "metadata": {},
   "outputs": [
    {
     "name": "stdout",
     "output_type": "stream",
     "text": [
      "1\n"
     ]
    }
   ],
   "source": [
    "def solution(myString, pat):\n",
    "    answer = 0\n",
    "    myString_lower = myString.lower()\n",
    "    pat_lower = pat.lower()\n",
    "    if pat_lower in myString_lower:\n",
    "        return 1\n",
    "    else:\n",
    "        return 0\n",
    "\n",
    "myString =  \"AbCdEfG\"\t\n",
    "pat = \"aBc\"\n",
    "\n",
    "print(solution(myString, pat))"
   ]
  },
  {
   "cell_type": "code",
   "execution_count": null,
   "id": "b710f354",
   "metadata": {},
   "outputs": [],
   "source": [
    "from collections import deque\n",
    "\n",
    "\n",
    "def get_adjacent(current, words):\n",
    "    for word in words:\n",
    "        if len(current) != len(word):\n",
    "            continue\n",
    "\n",
    "        count = 0\n",
    "        for c, w in zip(current, word):\n",
    "            if c != w:\n",
    "                count += 1\n",
    "\n",
    "        if count == 1:\n",
    "            yield word # yield 뭐야? 이거 쉽게 설명해줘. \n",
    "\n",
    "\n",
    "def solution(begin, target, words):\n",
    "    dist = {begin: 0} # dist는 지금 begin이 visit한 걸 저장하는 딕셔너리 인거지? value값은 count이고? \n",
    "    queue = deque([begin])\n",
    "\n",
    "    while queue:\n",
    "        current = queue.popleft()\n",
    "\n",
    "        for next_word in get_adjacent(current, words): # 중첩으로 함수를 쓸수 있는거였어? \n",
    "            if next_word not in dist:\n",
    "                dist[next_word] = dist[current] + 1 # 이거는 무슨의미야? \n",
    "                queue.append(next_word)\n",
    "\n",
    "    return dist.get(target, 0) # get 함수에 대해 이야기 해주고 여기의 매개변수 무슨 얘긴지도 쉽게 설명해줘. "
   ]
  }
 ],
 "metadata": {
  "kernelspec": {
   "display_name": "Python 3",
   "language": "python",
   "name": "python3"
  },
  "language_info": {
   "codemirror_mode": {
    "name": "ipython",
    "version": 3
   },
   "file_extension": ".py",
   "mimetype": "text/x-python",
   "name": "python",
   "nbconvert_exporter": "python",
   "pygments_lexer": "ipython3",
   "version": "3.11.9"
  }
 },
 "nbformat": 4,
 "nbformat_minor": 5
}
