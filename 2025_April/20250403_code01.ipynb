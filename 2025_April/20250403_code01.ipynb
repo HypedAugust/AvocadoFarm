{
 "cells": [
  {
   "cell_type": "code",
   "execution_count": null,
   "metadata": {},
   "outputs": [],
   "source": [
    "memo = {\n",
    "    1:1,\n",
    "    2:1\n",
    "}\n",
    "\n",
    "input = 50\n",
    "\n",
    "\n",
    "\n",
    "def fibo_dynamic_programming(n, fibo_memo):\n",
    "    if n in fibo_memo:\n",
    "        return fibo_memo[n]\n",
    "    \n",
    "    nth_fibo = fibo_dynamic_programming(n-1, fibo_memo) + fibo_dynamic_programming(n-2, fibo_memo)\n",
    "    fibo_memo[n] = nth_fibo\n",
    "    return nth_fibo\n",
    "\n",
    "\n",
    "print(fibo_dynamic_programming(input, memo))\n"
   ]
  }
 ],
 "metadata": {
  "language_info": {
   "name": "python"
  }
 },
 "nbformat": 4,
 "nbformat_minor": 2
}
