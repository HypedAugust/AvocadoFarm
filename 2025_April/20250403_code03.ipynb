{
 "cells": [
  {
   "cell_type": "code",
   "execution_count": null,
   "metadata": {},
   "outputs": [
    {
     "name": "stdout",
     "output_type": "stream",
     "text": [
      "5\n"
     ]
    }
   ],
   "source": [
    "def solution(numbers, target):\n",
    "    answer = 0 \n",
    "    \n",
    "    def dfs(index, current_sum): \n",
    "        nonlocal answer \n",
    "        \n",
    "        if index == len(numbers): \n",
    "            if current_sum == target: \n",
    "                answer += 1\n",
    "            return \n",
    "        \n",
    "        dfs(index+1, current_sum + numbers[index]) \n",
    "        dfs(index+1, current_sum - numbers[index])\n",
    "       \n",
    "       \n",
    "    \n",
    "    dfs(0,0) \n",
    "    return answer\n",
    "\n",
    "# 예시 테스트\n",
    "print(solution([1, 1, 1, 1, 1], 3))  # 출력: 5"
   ]
  },
  {
   "cell_type": "code",
   "execution_count": 8,
   "metadata": {},
   "outputs": [
    {
     "name": "stdout",
     "output_type": "stream",
     "text": [
      "5\n"
     ]
    }
   ],
   "source": [
    "def solution(numbers, target):\n",
    "    answer = 0 \n",
    "\n",
    "    stack = [(0,0)]\n",
    "\n",
    "    while stack: # 스택 빌때까지 한다. \n",
    "        index, current_sum = stack.pop() # 0,0을 먼저 꺼냈음. \n",
    "\n",
    "        if index == len(numbers): # 인덱스가 첨엔 0인데 이게 len(number)될때까지하면 index 끝까지 가는거임. \n",
    "            if current_sum == target: # current sum 이 target 되면 answer += 1\n",
    "                answer += 1\n",
    "            continue # 될때까지 계속 코드 진행 시켜 \n",
    "\n",
    "        stack.append((index +1, current_sum + numbers[index]))\n",
    "        stack.append((index +1, current_sum - numbers[index]))\n",
    "    \n",
    "    return answer \n",
    "\n",
    "print(solution([1, 1, 1, 1, 1], 3)) "
   ]
  },
  {
   "cell_type": "code",
   "execution_count": 6,
   "metadata": {},
   "outputs": [
    {
     "name": "stdout",
     "output_type": "stream",
     "text": [
      "인덱스: 0, 현재합: 0, 경로: []\n",
      "인덱스: 1, 현재합: 1, 경로: ['+1']\n",
      "인덱스: 2, 현재합: 2, 경로: ['+1', '+1']\n",
      "인덱스: 3, 현재합: 3, 경로: ['+1', '+1', '+1']\n",
      "인덱스: 3, 현재합: 1, 경로: ['+1', '+1', '-1']\n",
      "✓ 정답 찾음! 경로: ['+1', '+1', '-1'], 합계: 1\n",
      "인덱스: 2, 현재합: 0, 경로: ['+1', '-1']\n",
      "인덱스: 3, 현재합: 1, 경로: ['+1', '-1', '+1']\n",
      "✓ 정답 찾음! 경로: ['+1', '-1', '+1'], 합계: 1\n",
      "인덱스: 3, 현재합: -1, 경로: ['+1', '-1', '-1']\n",
      "인덱스: 1, 현재합: -1, 경로: ['-1']\n",
      "인덱스: 2, 현재합: 0, 경로: ['-1', '+1']\n",
      "인덱스: 3, 현재합: 1, 경로: ['-1', '+1', '+1']\n",
      "✓ 정답 찾음! 경로: ['-1', '+1', '+1'], 합계: 1\n",
      "인덱스: 3, 현재합: -1, 경로: ['-1', '+1', '-1']\n",
      "인덱스: 2, 현재합: -2, 경로: ['-1', '-1']\n",
      "인덱스: 3, 현재합: -1, 경로: ['-1', '-1', '+1']\n",
      "인덱스: 3, 현재합: -3, 경로: ['-1', '-1', '-1']\n",
      "3\n"
     ]
    }
   ],
   "source": [
    "def solution(numbers, target):\n",
    "    answer = 0 \n",
    "    \n",
    "    def dfs(index, current_sum, path): \n",
    "        nonlocal answer \n",
    "        \n",
    "        # 현재 상태 출력\n",
    "        print(f\"인덱스: {index}, 현재합: {current_sum}, 경로: {path}\")\n",
    "        \n",
    "        if index == len(numbers): \n",
    "            if current_sum == target: \n",
    "                answer += 1\n",
    "                print(f\"✓ 정답 찾음! 경로: {path}, 합계: {current_sum}\")\n",
    "            return \n",
    "        \n",
    "        # + 연산을 선택하는 경우\n",
    "        dfs(index+1, current_sum + numbers[index], path + [f\"+{numbers[index]}\"])\n",
    "        \n",
    "        # - 연산을 선택하는 경우\n",
    "        dfs(index+1, current_sum - numbers[index], path + [f\"-{numbers[index]}\"])\n",
    "    \n",
    "    # dfs는 함수 정의 후에 호출해야 합니다\n",
    "    # 초기값으로 index=0, current_sum=0, 빈 경로로 시작\n",
    "    dfs(0, 0, [])\n",
    "    return answer\n",
    "\n",
    "# 예시로 작은 배열로 테스트 (출력이 많아지지 않게)\n",
    "print(solution([1, 1, 1], 1))"
   ]
  },
  {
   "cell_type": "code",
   "execution_count": null,
   "metadata": {},
   "outputs": [],
   "source": []
  }
 ],
 "metadata": {
  "kernelspec": {
   "display_name": "Python 3",
   "language": "python",
   "name": "python3"
  },
  "language_info": {
   "codemirror_mode": {
    "name": "ipython",
    "version": 3
   },
   "file_extension": ".py",
   "mimetype": "text/x-python",
   "name": "python",
   "nbconvert_exporter": "python",
   "pygments_lexer": "ipython3",
   "version": "3.11.9"
  }
 },
 "nbformat": 4,
 "nbformat_minor": 2
}
