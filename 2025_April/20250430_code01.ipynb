{
 "cells": [
  {
   "cell_type": "code",
   "execution_count": null,
   "id": "67d81cf9",
   "metadata": {},
   "outputs": [],
   "source": [
    "def solution(num_list):\n",
    "    for i in range(len(num_list)):\n",
    "        if num_list[i] <= 0:\n",
    "            return i \n",
    "    return -1"
   ]
  }
 ],
 "metadata": {
  "language_info": {
   "name": "python"
  }
 },
 "nbformat": 4,
 "nbformat_minor": 5
}
