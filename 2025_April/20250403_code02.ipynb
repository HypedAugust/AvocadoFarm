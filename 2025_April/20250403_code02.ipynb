{
 "cells": [
  {
   "cell_type": "code",
   "execution_count": 15,
   "metadata": {},
   "outputs": [
    {
     "name": "stdout",
     "output_type": "stream",
     "text": [
      "정답 = 926000 / 현재 풀이 값 =  926000\n"
     ]
    }
   ],
   "source": [
    "# 쓱 최대로 할인 적용하기 \n",
    "# 배열이 2개가 있음. 1) 상품 가격 2) 쿠폰 \n",
    "# 최대 할인 받으면 얼마를 내는가? \n",
    "\n",
    "# 가장 비싼 물건을 최대 할인 받으면 됨. \n",
    "\n",
    "# price = 20000\n",
    "# coupon = 40\n",
    "# int(price * ( 1 - coupon / 100))\n",
    "\n",
    "prices = [30000, 2000, 1500000]\n",
    "coupons = [20, 40]\n",
    "\n",
    "\n",
    "def get_max_discounted_price(prices, coupons):\n",
    "    total_price = 0 \n",
    "    prices.sort(reverse = True) \n",
    "    coupons.sort(reverse = True) \n",
    "\n",
    "    for i in range(min(len(prices), len(coupons))):\n",
    "        discounted_price = prices[i]*(1-coupons[i]/100)\n",
    "        total_price += discounted_price\n",
    "    \n",
    "    if len(prices) > len(coupons):\n",
    "        for i in range(len(coupons), len(prices)):\n",
    "            total_price += prices[i]\n",
    "    \n",
    "    return int(total_price)\n",
    "                   \n",
    "\n",
    "\n",
    "print(\"정답 = 926000 / 현재 풀이 값 = \", get_max_discounted_price(prices, coupons))"
   ]
  },
  {
   "cell_type": "code",
   "execution_count": null,
   "metadata": {},
   "outputs": [],
   "source": [
    "def solution(prices,coupons):\n",
    "    coupons.sort(reverse = True)\n",
    "    prices.sort(reverse = True)\n",
    "    price_index = 0 \n",
    "    coupon_index = 0 \n",
    "    max_discounted_price = 0 \n",
    "\n",
    "    while price_index < len(prices) and coupon_index < len(coupons):\n",
    "        max_discounted_price += prices[price_index]*(100-coupons[coupon_index]) /100\n",
    "        price_index += 1\n",
    "        coupon_index += 1\n",
    "    \n",
    "    while price_index < len(prices):\n",
    "        max_discounted_price += prices[price_index] \n",
    "        price_index += 1\n",
    "    \n",
    "    return max_discounted_price"
   ]
  },
  {
   "cell_type": "code",
   "execution_count": 3,
   "metadata": {},
   "outputs": [
    {
     "name": "stdout",
     "output_type": "stream",
     "text": [
      "[1500000, 30000, 2000]\n"
     ]
    }
   ],
   "source": [
    "prices = [30000, 2000, 1500000]\n",
    "prices.sort(reverse=True)\n",
    "print(prices)"
   ]
  },
  {
   "cell_type": "code",
   "execution_count": 10,
   "metadata": {},
   "outputs": [
    {
     "data": {
      "text/plain": [
       "12000"
      ]
     },
     "execution_count": 10,
     "metadata": {},
     "output_type": "execute_result"
    }
   ],
   "source": [
    "100*(1 - 20/100)\n",
    "price = 20000\n",
    "coupon = 40\n",
    "int(price * ( 1 - coupon / 100))\n"
   ]
  },
  {
   "cell_type": "code",
   "execution_count": 24,
   "metadata": {},
   "outputs": [
    {
     "name": "stdout",
     "output_type": "stream",
     "text": [
      "정답 = True / 현재 풀이 값 =  True\n"
     ]
    }
   ],
   "source": [
    "# 올바른 괄호 \n",
    "\n",
    "# 문자열 s가 주어짐 \n",
    "# 올바른 괄호면 True 아니면 False 반환 필요 \n",
    "\n",
    "def is_correct_parenthesis(string):\n",
    "    stack = []\n",
    "    for i in string:\n",
    "        if i == '(':\n",
    "            stack.append(i)\n",
    "        elif i == ')':\n",
    "            if not stack:\n",
    "                return False\n",
    "            stack.pop()\n",
    "    \n",
    "    return len(stack) == 0\n",
    "\n",
    "\n",
    "\n",
    "print(\"정답 = True / 현재 풀이 값 = \", is_correct_parenthesis(\"(())\"))"
   ]
  },
  {
   "cell_type": "code",
   "execution_count": null,
   "metadata": {},
   "outputs": [
    {
     "name": "stdout",
     "output_type": "stream",
     "text": [
      "정답 = [4, 1, 3, 0] / 현재 풀이 값 =  [4, 1, 3, 0]\n"
     ]
    }
   ],
   "source": [
    "# 1. 속한 노래가 많이 재생된 장르를 먼저 수록한다.(단, 각 장르에 속한 노래의재생 수 총합은 모두 다르다.)\n",
    "# - dictionary 만들어서 기록함. value 기준으로 가장 많이 쌓인 장르 순으로 reverse 해서 sort 함. \n",
    "\n",
    "# 2. 장르 내에서 많이 재생된 노래를 먼저 수록한다.\n",
    "\n",
    "# 3. 장르 내에서 재생 횟수가 같은 노래 중에서는 고유 번호가 낮은 노래를 먼저 수록한다.\n",
    "\n",
    "# 1\n",
    "genres = [\"classic\", \"pop\", \"classic\", \"classic\", \"pop\"]\n",
    "plays = [500, 600, 150, 800, 2500]\n",
    "# 정답 = [4, 1, 3, 0]\n",
    "\n",
    "def get_melon_best_album(genre_array, play_array):\n",
    "    # 딕셔너리 셋업\n",
    "    genre_dict = {}\n",
    "\n",
    "    # 인덱스 중심으로 접근, 효과적인 딕셔너리 설계 \n",
    "    for i in range(len(genres)):\n",
    "        genre = genres[i]\n",
    "        play = plays[i]\n",
    "\n",
    "        # 딕셔너리 아무것도 없을 때 포메팅 \n",
    "        if genre not in genre_dict:\n",
    "            genre_dict[genre] = {\n",
    "                'total':0,\n",
    "                'songs':[]\n",
    "            }\n",
    "        # total에서는 play 횟수를 추가한다. \n",
    "        # songs에서는 해당 장르의 인덱스와 플레이 횟수를 기록한다.     \n",
    "        genre_dict[genre]['total'] += play\n",
    "        genre_dict[genre]['songs'].append((i,play))\n",
    "        \n",
    "    # 딕셔너리를 플레이수 많은 순으로 정렬 \n",
    "    sorted_genres = sorted(genre_dict.items(), key=lambda x: x[1]['total'], reverse = True)\n",
    "\n",
    "    answer = [] \n",
    "    for genre, info in sorted_genres:\n",
    "        sorted_songs = sorted(info['songs'], key=lambda x:(-x[1], x[0]))\n",
    "\n",
    "        for i in range(min(2,len(sorted_songs))):\n",
    "            answer.append(sorted_songs[i][0])\n",
    "    \n",
    "    return answer \n",
    "\n",
    "\n",
    "\n",
    "print(\"정답 = [4, 1, 3, 0] / 현재 풀이 값 = \", get_melon_best_album([\"classic\", \"pop\", \"classic\", \"classic\", \"pop\"], [500, 600, 150, 800, 2500]))"
   ]
  },
  {
   "cell_type": "code",
   "execution_count": 27,
   "metadata": {},
   "outputs": [
    {
     "name": "stdout",
     "output_type": "stream",
     "text": [
      "정답 = True / 현재 풀이 값 =  True\n",
      "정답 = False / 현재 풀이 값 =  False\n"
     ]
    }
   ],
   "source": [
    "def solution(string):\n",
    "    stack = []\n",
    "    for i in range(len(string)):\n",
    "        if string[i] == \"(\":\n",
    "            stack.append(\"(\")\n",
    "        elif string[i] == ')':\n",
    "            if not stack:\n",
    "                return False\n",
    "            stack.pop()\n",
    "    return len(stack) == 0 \n",
    "\n",
    "print(\"정답 = True / 현재 풀이 값 = \", is_correct_parenthesis(\"(())\"))\n",
    "print(\"정답 = False / 현재 풀이 값 = \", is_correct_parenthesis(\")\"))"
   ]
  },
  {
   "cell_type": "code",
   "execution_count": null,
   "metadata": {},
   "outputs": [],
   "source": [
    "def solution(genre_array, play_array):\n",
    "    #1 장르별로 얼마나 재생횟수를 가지고 있는가. \n",
    "    #2 장르별로 어느 인덱스에 몇번 재생횟수를 가지고 있는가. \n",
    "\n",
    "    n = len(genre_array)\n",
    "    genre_total_play_dict = {}\n",
    "    genre_index_play_array_dict = {} \n",
    "     \n",
    "    for i in range(n):\n",
    "        genre = genre_array[i]\n",
    "        play = play_array[i]\n",
    "\n",
    "        if genre in genre_total_play_dict:\n",
    "            genre_total_play_dict[genre] += play \n",
    "            genre_index_play_array_dict[genre].append([i,play]) \n",
    "        else: \n",
    "            genre_total_play_dict[genre] = play \n",
    "            genre_index_play_array_dict[genre] = [[i,play]]\n",
    "    \n",
    "    sorted()\n",
    "\n",
    "    return []"
   ]
  },
  {
   "cell_type": "code",
   "execution_count": 10,
   "metadata": {},
   "outputs": [
    {
     "name": "stdout",
     "output_type": "stream",
     "text": [
      "정답 = 2 / 현재 풀이 값 =  2\n",
      "정답 = 4 / 현재 풀이 값 =  4\n",
      "정답 = 1 / 현재 풀이 값 =  1\n"
     ]
    }
   ],
   "source": [
    "import heapq\n",
    "\n",
    "def get_minimum_count_of_overseas_supply(stock, dates, supplies, k):\n",
    "    answer = 0\n",
    "    last_added_date_index = 0\n",
    "    max_heap = []  # 빈 리스트로 초기화\n",
    "    \n",
    "    # stock이 k일 이상이 될 때까지 반복\n",
    "    while stock < k:  # <= 대신 < 사용 (k일까지 버티면 됨)\n",
    "        # 현재 재고로 버틸 수 있는 날짜까지의 공급을 최대 힙에 추가\n",
    "        while last_added_date_index < len(dates) and dates[last_added_date_index] <= stock:\n",
    "            heapq.heappush(max_heap, -supplies[last_added_date_index])\n",
    "            last_added_date_index += 1\n",
    "        \n",
    "        # 가장 많은 공급량 선택\n",
    "        if max_heap:\n",
    "            stock += -heapq.heappop(max_heap)\n",
    "            answer += 1\n",
    "        else:\n",
    "            return -1  # 불가능한 경우\n",
    "    \n",
    "    return answer\n",
    "\n",
    "# 테스트 케이스\n",
    "print(\"정답 = 2 / 현재 풀이 값 = \", get_minimum_count_of_overseas_supply(4, [4, 10, 15], [20, 5, 10], 30))\n",
    "print(\"정답 = 4 / 현재 풀이 값 = \", get_minimum_count_of_overseas_supply(4, [4, 10, 15, 20], [20, 5, 10, 5], 40))\n",
    "print(\"정답 = 1 / 현재 풀이 값 = \", get_minimum_count_of_overseas_supply(2, [1, 10], [10, 100], 11))"
   ]
  },
  {
   "cell_type": "code",
   "execution_count": null,
   "metadata": {},
   "outputs": [
    {
     "name": "stdout",
     "output_type": "stream",
     "text": [
      "57\n"
     ]
    }
   ],
   "source": [
    "from collections import deque\n",
    "\n",
    "current_r, current_c, current_d = 7, 4, 0\n",
    "current_room_map = [\n",
    "    [1, 1, 1, 1, 1, 1, 1, 1, 1, 1],\n",
    "    [1, 0, 0, 0, 0, 0, 0, 0, 0, 1],\n",
    "    [1, 0, 0, 0, 1, 1, 1, 1, 0, 1],\n",
    "    [1, 0, 0, 1, 1, 0, 0, 0, 0, 1],\n",
    "    [1, 0, 1, 1, 0, 0, 0, 0, 0, 1],\n",
    "    [1, 0, 0, 0, 0, 0, 0, 0, 0, 1],\n",
    "    [1, 0, 0, 0, 0, 0, 0, 1, 0, 1],\n",
    "    [1, 0, 0, 0, 0, 0, 1, 1, 0, 1],\n",
    "    [1, 0, 0, 0, 0, 0, 1, 1, 0, 1],\n",
    "    [1, 0, 0, 0, 0, 0, 0, 0, 0, 1],\n",
    "    [1, 1, 1, 1, 1, 1, 1, 1, 1, 1]\n",
    "]\n",
    "\n",
    "# 북 동 남 서\n",
    "dr = [-1, 0, 1, 0]\n",
    "dc = [0, 1, 0, -1]\n",
    "\n",
    "# 방향 전환\n",
    "def get_d_index_when_rotate_to_left(d):\n",
    "    return (d + 3) % 4\n",
    "\n",
    "def get_d_index_when_go_back(d):\n",
    "    return (d + 2) % 4\n",
    "\n",
    "def solution(r, c, d, room_map):\n",
    "    # 시작 위치 청소 표시\n",
    "    room_map[r][c] = 2\n",
    "    \n",
    "    n = len(room_map)\n",
    "    m = len(room_map[0])  # 열\n",
    "    count_of_departments_cleaned = 1\n",
    "    \n",
    "    queue = deque([\n",
    "        [r, c, d]  # 시작 위치와 방향\n",
    "    ])\n",
    "    \n",
    "    while queue:\n",
    "        r, c, d = queue.popleft()\n",
    "        temp_d = d # 처음에 북쪽이니까 0 \n",
    "        \n",
    "        for i in range(4):\n",
    "            temp_d = get_d_index_when_rotate_to_left(temp_d) \n",
    "            new_r, new_c = r + dr[temp_d], c + dc[temp_d] \n",
    "            \n",
    "            \n",
    "            if 0 <= new_r < n and 0 <= new_c < m and room_map[new_r][new_c] == 0:\n",
    "                count_of_departments_cleaned += 1\n",
    "                room_map[new_r][new_c] = 2\n",
    "                queue.append([new_r, new_c, temp_d])\n",
    "                break\n",
    "        else:  \n",
    "            back_d = get_d_index_when_go_back(d)\n",
    "            new_r, new_c = r + dr[back_d], c + dc[back_d]\n",
    "            \n",
    "            if 0 <= new_r < n and 0 <= new_c < m:\n",
    "                if room_map[new_r][new_c] != 1:  # 벽이 아니라면 후진\n",
    "                    queue.append([new_r, new_c, d])\n",
    "                else:  # 벽이라면 작동 중지\n",
    "                    return count_of_departments_cleaned\n",
    "    \n",
    "    return count_of_departments_cleaned\n",
    "\n",
    "print(solution(current_r, current_c, current_d, current_room_map))"
   ]
  },
  {
   "cell_type": "code",
   "execution_count": 11,
   "metadata": {},
   "outputs": [
    {
     "name": "stdout",
     "output_type": "stream",
     "text": [
      "12\n"
     ]
    }
   ],
   "source": [
    "seat_count = 9\n",
    "vip_seat_array = [4, 7]\n",
    "\n",
    "# 예전에 만들었던 fibo_dynamic_programming 에서 가져오면 됩니다!\n",
    "memo = {\n",
    "    1: 1,  # 이 문제에서는 Fibo(1) = 1, Fibo(2) = 2 로 시작합니다!\n",
    "    2: 2\n",
    "}\n",
    "\n",
    "\n",
    "def fibo_dynamic_programming(n, fibo_memo):\n",
    "    if n in fibo_memo:\n",
    "        return fibo_memo[n]\n",
    "    \n",
    "    nth_fibo = fibo_dynamic_programming(n-1, fibo_memo) + fibo_dynamic_programming(n-2, fibo_memo)\n",
    "    fibo_memo[n] = nth_fibo\n",
    "\n",
    "    return nth_fibo\n",
    "\n",
    "def solution(total_count, fixed_seat_array):\n",
    "    all_ways = 1\n",
    "    current_index = 0\n",
    "\n",
    "    for fixed_seat in fixed_seat_array:\n",
    "        fixed_seat_index = fixed_seat -1 \n",
    "        count_of_ways = fibo_dynamic_programming(fixed_seat_index - current_index, memo)\n",
    "        all_ways *= count_of_ways\n",
    "        current_index = fixed_seat_index +1 \n",
    "    \n",
    "    count_of_ways= fibo_dynamic_programming(total_count-current_index, memo)\n",
    "    all_ways*= count_of_ways\n",
    "    return all_ways\n",
    "\n",
    "print(solution(seat_count, vip_seat_array))"
   ]
  }
 ],
 "metadata": {
  "kernelspec": {
   "display_name": "test_env",
   "language": "python",
   "name": "python3"
  },
  "language_info": {
   "codemirror_mode": {
    "name": "ipython",
    "version": 3
   },
   "file_extension": ".py",
   "mimetype": "text/x-python",
   "name": "python",
   "nbconvert_exporter": "python",
   "pygments_lexer": "ipython3",
   "version": "3.11.9"
  }
 },
 "nbformat": 4,
 "nbformat_minor": 2
}
