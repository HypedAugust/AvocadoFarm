{
 "cells": [
  {
   "cell_type": "code",
   "execution_count": 3,
   "id": "d49750db",
   "metadata": {},
   "outputs": [
    {
     "name": "stdout",
     "output_type": "stream",
     "text": [
      "[5, 10, 15]\n"
     ]
    }
   ],
   "source": [
    "def solution(n, k):\n",
    "    answer = []\n",
    "    for i in range(1,n):\n",
    "        number = i*k \n",
    "        if number <= n:\n",
    "            answer.append(number)\n",
    "        else:\n",
    "            continue\n",
    "    return answer\n",
    "\n",
    "print(solution(15,5))"
   ]
  },
  {
   "cell_type": "code",
   "execution_count": 6,
   "id": "7201a075",
   "metadata": {},
   "outputs": [
    {
     "data": {
      "text/plain": [
       "0"
      ]
     },
     "execution_count": 6,
     "metadata": {},
     "output_type": "execute_result"
    }
   ],
   "source": [
    "a = \"011\"\n",
    "int(a[0])"
   ]
  },
  {
   "cell_type": "code",
   "execution_count": 16,
   "id": "d6b1ec79",
   "metadata": {},
   "outputs": [
    {
     "name": "stdout",
     "output_type": "stream",
     "text": [
      "[('1', '2', '3'), ('1', '3', '2'), ('2', '1', '3'), ('2', '3', '1'), ('3', '1', '2'), ('3', '2', '1')]\n"
     ]
    }
   ],
   "source": [
    "from itertools import permutations\n",
    "perms = list((permutations(\"123\", 3)))\n",
    "print(perms)"
   ]
  },
  {
   "cell_type": "code",
   "execution_count": 33,
   "id": "86907776",
   "metadata": {},
   "outputs": [],
   "source": [
    "from itertools import combinations\n",
    "\n",
    "def solution(numbers):\n",
    "    # 모든 가능한 조합 만들기\n",
    "    number_combinations = []\n",
    "    for i in range(1, len(numbers) + 1):\n",
    "        number_combinations += list(combinations(numbers, i))\n",
    "    \n",
    "    # 숫자로 변환\n",
    "    possible_numbers = set()\n",
    "    for combo in number_combinations:\n",
    "        num = int(''.join(combo))\n",
    "        if num > 1:  # 0과 1은 소수가 아님\n",
    "            possible_numbers.add(num)\n",
    "    \n",
    "    # 소수 체크\n",
    "    prime_count = 0\n",
    "    for num in possible_numbers:\n",
    "        if is_prime(num):\n",
    "            prime_count += 1\n",
    "            \n",
    "    return prime_count\n",
    "\n",
    "def is_prime(n):\n",
    "    if n <= 1:\n",
    "        return False\n",
    "    if n <= 3:\n",
    "        return True\n",
    "    if n % 2 == 0 or n % 3 == 0:\n",
    "        return False\n",
    "    i = 5\n",
    "    while i * i <= n:\n",
    "        if n % i == 0 or n % (i + 2) == 0:\n",
    "            return False\n",
    "        i += 6\n",
    "    return True"
   ]
  },
  {
   "cell_type": "code",
   "execution_count": null,
   "id": "9c24af45",
   "metadata": {},
   "outputs": [
    {
     "name": "stdout",
     "output_type": "stream",
     "text": [
      "123\n",
      "132\n"
     ]
    }
   ],
   "source": [
    "comb = [('1', '2', '3'), ('1', '3', '2')]\n",
    "\n",
    "\n",
    "for j in comb: \n",
    "    ready_numbers = ''.join(map(str,j))\n",
    "    ready_numbers_list.append(j)\n",
    "    print(ready_numbers)\n"
   ]
  },
  {
   "cell_type": "code",
   "execution_count": 28,
   "id": "9b8fad7a",
   "metadata": {},
   "outputs": [
    {
     "name": "stdout",
     "output_type": "stream",
     "text": [
      "123\n"
     ]
    },
    {
     "data": {
      "text/plain": [
       "int"
      ]
     },
     "execution_count": 28,
     "metadata": {},
     "output_type": "execute_result"
    }
   ],
   "source": [
    "number = ('1', '2', '3')\n",
    "a = ''.join(map(str,number))\n",
    "print(a)\n",
    "\n",
    "type(123)"
   ]
  }
 ],
 "metadata": {
  "kernelspec": {
   "display_name": "Python 3",
   "language": "python",
   "name": "python3"
  },
  "language_info": {
   "codemirror_mode": {
    "name": "ipython",
    "version": 3
   },
   "file_extension": ".py",
   "mimetype": "text/x-python",
   "name": "python",
   "nbconvert_exporter": "python",
   "pygments_lexer": "ipython3",
   "version": "3.11.9"
  }
 },
 "nbformat": 4,
 "nbformat_minor": 5
}
