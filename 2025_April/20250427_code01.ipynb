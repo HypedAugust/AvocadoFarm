{
 "cells": [
  {
   "cell_type": "code",
   "execution_count": null,
   "id": "d7fb2450",
   "metadata": {},
   "outputs": [
    {
     "name": "stdout",
     "output_type": "stream",
     "text": [
      "[2, 3, 4, 1, 2, 3, 4, 5]\n"
     ]
    }
   ],
   "source": [
    "arr = [1,2,3,4,5]\n",
    "intervals = [[1, 3], [0, 4]]\n",
    "# result = [2, 3, 4, 1, 2, 3, 4, 5]\n",
    "def solution(arr, intervals):\n",
    "    answer = []\n",
    "\n",
    "    for i in intervals:\n",
    "        start = i[0]\n",
    "        end = i[1]\n",
    "        answer.extend(arr[start:end+1]) \n",
    "        \n",
    "    return answer\n",
    "\n",
    "print(solution(arr,intervals))"
   ]
  },
  {
   "cell_type": "code",
   "execution_count": 3,
   "id": "d199f11b",
   "metadata": {},
   "outputs": [
    {
     "name": "stdout",
     "output_type": "stream",
     "text": [
      "1 3\n",
      "0 4\n"
     ]
    }
   ],
   "source": [
    "intervals = [[1, 3], [0, 4]]\n",
    "\n",
    "for i in intervals:\n",
    "    start = i[0]\n",
    "    end = i[1]\n",
    "    print(start, end)"
   ]
  },
  {
   "cell_type": "code",
   "execution_count": null,
   "id": "63a20920",
   "metadata": {},
   "outputs": [],
   "source": [
    "def solution(arr, intervals):\n",
    "    s1, e1 = intervals[0] \n",
    "    return arr[s1:e1+1] + arr[s2:e2+1]"
   ]
  },
  {
   "cell_type": "code",
   "execution_count": null,
   "id": "9d4a7e27",
   "metadata": {},
   "outputs": [
    {
     "name": "stdout",
     "output_type": "stream",
     "text": [
      "10 20\n",
      "[1, 3]\n",
      "1 3\n",
      "1\n",
      "3\n"
     ]
    }
   ],
   "source": [
    "### python 다중 할당 (언패킹) 이해하기 ### \n",
    "# 이 코드 패턴은 리스트나 튜플의 여러 값을 한 번에 여러 변수에 \n",
    "# 할당하는 '언패킹(unpacking)' 방식입니다. 코드를 더 간결하고 읽기 쉽게 만들어줍니다.\n",
    "\n",
    "a,b = [10,20]\n",
    "print(a,b)\n",
    "\n",
    "intervals = [[1,3],[4,5]]\n",
    "section1 = intervals[0]\n",
    "s1, e1 = section1\n",
    "print(section1)\n",
    "print(s1,e1)\n",
    "print(s1)\n",
    "print(e1)"
   ]
  },
  {
   "cell_type": "code",
   "execution_count": null,
   "id": "3ebde922",
   "metadata": {},
   "outputs": [
    {
     "name": "stdout",
     "output_type": "stream",
     "text": [
      "['사과', '바나나']\n",
      "['사과', '바나나', '오렌지', '키위']\n",
      "['사과', '바나나', '오렌지', '키위', '망', '고']\n"
     ]
    }
   ],
   "source": [
    "# append: 객체 하나를 리스트 끝에 단일 항목으로 추가\n",
    "# extend: 반복 가능한 객체(리스트, 튜플 등)의 모든 항목을 리스트 끝에 개별적으로 추가\n",
    "fruits = ['사과', '바나나']\n",
    "print(fruits)\n",
    "\n",
    "fruits.extend(['오렌지', '키위'])  # ['사과', '바나나', '오렌지', '키위']\n",
    "print(fruits)\n",
    "\n",
    "# 문자열을 extend하면?\n",
    "fruits.extend('망고')  # ['사과', '바나나', '오렌지', '키위', '망', '고']\n",
    "# 문자열의 각 문자가 개별 요소로 추가됨\n",
    "\n",
    "print(fruits)"
   ]
  },
  {
   "cell_type": "code",
   "execution_count": 18,
   "id": "3ca56bfa",
   "metadata": {},
   "outputs": [
    {
     "name": "stdout",
     "output_type": "stream",
     "text": [
      "[2, 3, 4]\n",
      "[2, 3, 4, 1, 2, 3, 4, 5]\n"
     ]
    }
   ],
   "source": [
    "answer = []\n",
    "answer.extend(arr[1:4])\n",
    "print(answer)\n",
    "\n",
    "answer.extend(arr[0:5])\n",
    "print(answer)"
   ]
  }
 ],
 "metadata": {
  "kernelspec": {
   "display_name": "Python 3",
   "language": "python",
   "name": "python3"
  },
  "language_info": {
   "codemirror_mode": {
    "name": "ipython",
    "version": 3
   },
   "file_extension": ".py",
   "mimetype": "text/x-python",
   "name": "python",
   "nbconvert_exporter": "python",
   "pygments_lexer": "ipython3",
   "version": "3.11.9"
  }
 },
 "nbformat": 4,
 "nbformat_minor": 5
}
