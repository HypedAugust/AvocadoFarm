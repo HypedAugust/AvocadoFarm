{
 "cells": [
  {
   "cell_type": "code",
   "execution_count": 2,
   "id": "5aee2fbb",
   "metadata": {},
   "outputs": [
    {
     "name": "stdout",
     "output_type": "stream",
     "text": [
      "139\n"
     ]
    }
   ],
   "source": [
    "\n",
    "def solution(numbers, n):\n",
    "    sum_numbers = 0\n",
    "    for i in numbers:\n",
    "        sum_numbers += i\n",
    "        if sum_numbers <= n:\n",
    "            continue\n",
    "        if sum_numbers >= n:\n",
    "            return sum_numbers\n",
    "\n",
    "numbers = [34, 5, 71, 29, 100, 34]\n",
    "n = 123\n",
    "\n",
    "print(solution(numbers, n))\n"
   ]
  },
  {
   "cell_type": "code",
   "execution_count": null,
   "id": "c1d927cb",
   "metadata": {},
   "outputs": [
    {
     "name": "stdout",
     "output_type": "stream",
     "text": [
      "False\n"
     ]
    }
   ],
   "source": [
    "def solution(phone_book):\n",
    "    answer = True\n",
    "    phone_book.sort()\n",
    "    for i in range(len(phone_book)-1):\n",
    "        if phone_book[i+1].startswith(phone_book[i]):\n",
    "            return False\n",
    "        else:\n",
    "            return True \n",
    "\n",
    "# ----------------------- #\n",
    "def solution(phone_book):\n",
    "    # 1. 전화번호부 정렬 (정렬하면 접두어 비교가 쉬워집니다)\n",
    "    phone_book.sort()\n",
    "    \n",
    "    # 2. 인접한 전화번호끼리만 비교 (정렬했기 때문에 가능)\n",
    "    for i in range(len(phone_book)-1):\n",
    "        if phone_book[i+1].startswith(phone_book[i]):\n",
    "            return False\n",
    "    \n",
    "    # 3. 접두어가 없으면 True 반환\n",
    "    return True\n",
    "\n",
    "\n",
    "phone_book = [\"12\",\"123\",\"1235\",\"567\",\"88\"] # false\n",
    "\n",
    "print(solution(phone_book))"
   ]
  },
  {
   "cell_type": "code",
   "execution_count": null,
   "id": "dfbdb112",
   "metadata": {},
   "outputs": [
    {
     "name": "stdout",
     "output_type": "stream",
     "text": [
      "hashmap : {'12': 1}\n",
      "hashmap : {'12': 1, '123': 1}\n",
      "hashmap : {'12': 1, '123': 1, '1235': 1}\n",
      "hashmap : {'12': 1, '123': 1, '1235': 1, '567': 1}\n",
      "hashmap : {'12': 1, '123': 1, '1235': 1, '567': 1, '88': 1}\n",
      "phone_number : 12\n",
      "number:1\n",
      "number:2\n",
      "phone_number : 123\n",
      "number:1\n",
      "number:2\n",
      "number:3\n",
      "phone_number : 1235\n",
      "number:1\n",
      "number:2\n",
      "number:3\n",
      "number:5\n",
      "phone_number : 567\n",
      "number:5\n",
      "number:6\n",
      "number:7\n",
      "phone_number : 88\n",
      "number:8\n",
      "number:8\n",
      "False\n"
     ]
    }
   ],
   "source": [
    "def solution(phone_book):\n",
    "    answer = True\n",
    "    hash_map = {}\n",
    "\n",
    "    for phone_number in phone_book:\n",
    "        hash_map[phone_number] = 1\n",
    "        print(f'hashmap : {hash_map}')\n",
    "\n",
    "    for phone_number in phone_book:\n",
    "        temp = \"\"\n",
    "        print(f'phone_number : {phone_number}')\n",
    "        for number in phone_number:\n",
    "            print(f'number:{number}')\n",
    "            temp += number \n",
    "            if temp in hash_map and temp != phone_number:  # 이 부분이 이해가 안됨. \n",
    "                answer = False\n",
    "    return answer \n",
    "\n",
    "phone_book = [\"12\",\"123\",\"1235\",\"567\",\"88\"] # false\n",
    "\n",
    "print(solution(phone_book))"
   ]
  },
  {
   "cell_type": "code",
   "execution_count": null,
   "id": "34eabdd1",
   "metadata": {},
   "outputs": [],
   "source": []
  }
 ],
 "metadata": {
  "kernelspec": {
   "display_name": "test_env",
   "language": "python",
   "name": "python3"
  },
  "language_info": {
   "codemirror_mode": {
    "name": "ipython",
    "version": 3
   },
   "file_extension": ".py",
   "mimetype": "text/x-python",
   "name": "python",
   "nbconvert_exporter": "python",
   "pygments_lexer": "ipython3",
   "version": "3.11.9"
  }
 },
 "nbformat": 4,
 "nbformat_minor": 5
}
