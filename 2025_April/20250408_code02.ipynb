{
 "cells": [
  {
   "cell_type": "code",
   "execution_count": null,
   "metadata": {},
   "outputs": [],
   "source": [
    "def solution(scoville, K):\n",
    "    count = 0\n",
    "    while len(scoville) >= 2 and min(scoville) < K:\n",
    "        scoville.sort()\n",
    "        number1 = scoville.pop(0)\n",
    "        number2 = scoville.pop(0)\n",
    "        new_number = number1 + (number2 * 2)\n",
    "        scoville.append(new_number)\n",
    "\n",
    "        count += 1\n",
    "    \n",
    "    if min(scoville) >= K:\n",
    "        return count\n",
    "    else:\n",
    "        return(-1)\n",
    "    \n",
    "    "
   ]
  },
  {
   "cell_type": "code",
   "execution_count": null,
   "metadata": {},
   "outputs": [],
   "source": [
    "import heapq\n",
    "\n",
    "def solution(scoville, K):\n",
    "    heapq.heapify(scoville)\n",
    "    count = 0 \n",
    "\n",
    "    while len(scoville) >=2 and scoville[0] <K:\n",
    "        first = heapq.heappop(scoville)\n",
    "        second = heapq.heappop(scoville)\n",
    "\n",
    "        new_food = first + (second * 2)\n",
    "\n",
    "        heapq.heappush(scoville, new_food)\n",
    "        count += 1\n",
    "    \n",
    "    if scoville[0] >= K:\n",
    "        return count \n",
    "    \n",
    "    else: \n",
    "        return -1"
   ]
  },
  {
   "cell_type": "code",
   "execution_count": null,
   "metadata": {},
   "outputs": [
    {
     "name": "stdout",
     "output_type": "stream",
     "text": [
      "1 2\n",
      "[2]\n"
     ]
    }
   ],
   "source": [
    "# scoville = [1,2,3]\n",
    "# k = 9\n",
    "\n",
    "# while len(scoville) >= 2 and min(scoville) < K:\n",
    "#     scoville.sort()\n",
    "#     number1 = scoville.pop(0)\n",
    "#     number2 = scoville.pop(0)\n",
    "\n",
    "#     new_number = number1 + (number2 * 2)\n",
    "#     scoville.append(new_number)\n",
    "\n",
    "# if min(scoville) >= k:\n",
    "#     return count\n",
    "# else:\n",
    "#     return(-1)\n",
    "\n",
    "# # # 리스트를 정렬하면 최소값들을 쉽게 얻을 수 있습니다\n",
    "\n",
    "# # while i in scoville >= k:\n",
    "# #     scoville.sort()\n",
    "# #     number1 = scoville[0]  # 첫 번째 최소값\n",
    "# #     number2 = scoville[1]  # 두 번째 최소값\n",
    "# #     # print(number1, number2)  # 1 2 출력\n",
    "# #     del scoville[0]\n",
    "# #     del scoville[1]\n",
    "\n",
    "# #     new_number = number1 + (number2*number2)\n",
    "# #     scoville.append(new_number)\n",
    "\n",
    "\n",
    "\n",
    "\n",
    "\n",
    "# # print(temp_pop)\n",
    "\n",
    "# # # 인덱스 출력 버전 \n",
    "# # for j in range(len(scoville)):\n",
    "# #     print(j)\n",
    "\n",
    "# # for key in dic.keys():\n",
    "# #     print(key)\n",
    "\n"
   ]
  },
  {
   "cell_type": "code",
   "execution_count": null,
   "metadata": {},
   "outputs": [],
   "source": []
  }
 ],
 "metadata": {
  "kernelspec": {
   "display_name": "test_env",
   "language": "python",
   "name": "python3"
  },
  "language_info": {
   "codemirror_mode": {
    "name": "ipython",
    "version": 3
   },
   "file_extension": ".py",
   "mimetype": "text/x-python",
   "name": "python",
   "nbconvert_exporter": "python",
   "pygments_lexer": "ipython3",
   "version": "3.11.9"
  }
 },
 "nbformat": 4,
 "nbformat_minor": 2
}
