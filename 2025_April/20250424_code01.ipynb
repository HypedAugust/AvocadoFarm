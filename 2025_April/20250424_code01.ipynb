{
 "cells": [
  {
   "cell_type": "code",
   "execution_count": 22,
   "id": "9ba9a07c",
   "metadata": {},
   "outputs": [
    {
     "name": "stdout",
     "output_type": "stream",
     "text": [
      "['nami', 'vex']\n"
     ]
    }
   ],
   "source": [
    "names = [\"nami\", \"ahri\", \"jayce\", \"garen\", \"ivern\", \"vex\", \"jinx\"]\n",
    "# result = [\"nami\", \"vex\"]\n",
    "\n",
    "def solution(names):\n",
    "    answer = []\n",
    "    for i in range(0, len(names), 5):\n",
    "        temp = names[i:i+5]\n",
    "        if temp: \n",
    "            answer.append(temp[0])\n",
    "    return answer \n",
    "\n",
    "names = [\"nami\", \"ahri\", \"jayce\", \"garen\", \"ivern\", \"vex\", \"jinx\"]\n",
    "print(solution(names))"
   ]
  }
 ],
 "metadata": {
  "kernelspec": {
   "display_name": "Python 3",
   "language": "python",
   "name": "python3"
  },
  "language_info": {
   "codemirror_mode": {
    "name": "ipython",
    "version": 3
   },
   "file_extension": ".py",
   "mimetype": "text/x-python",
   "name": "python",
   "nbconvert_exporter": "python",
   "pygments_lexer": "ipython3",
   "version": "3.11.9"
  }
 },
 "nbformat": 4,
 "nbformat_minor": 5
}
