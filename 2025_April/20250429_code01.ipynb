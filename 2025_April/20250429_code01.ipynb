{
 "cells": [
  {
   "cell_type": "code",
   "execution_count": null,
   "id": "30892b28",
   "metadata": {},
   "outputs": [],
   "source": [
    "num_list = [2, 1, 6]\n",
    "n = 1\n",
    "# result = [1,6,2]\n",
    "\n",
    "def solution(num_list, n):\n",
    "    answer = []\n",
    "    update_n = n-1\n",
    "    answer.extend(num_list[update_n+1:])\n",
    "    answer.extend(num_list[:update_n+1])\n",
    "    return answer\n"
   ]
  },
  {
   "cell_type": "code",
   "execution_count": 16,
   "id": "2f2a7824",
   "metadata": {},
   "outputs": [
    {
     "name": "stdout",
     "output_type": "stream",
     "text": [
      "[1, 6]\n",
      "[1, 6, 2]\n"
     ]
    }
   ],
   "source": [
    "num_list = [2, 1, 6]\n",
    "n = 1\n",
    "\n",
    "answer = []\n",
    "update_n = n-1\n",
    "answer.extend(num_list[update_n+1:])\n",
    "\n",
    "print(answer)\n",
    "\n",
    "answer.extend(num_list[:update_n+1])\n",
    "\n",
    "print(answer)"
   ]
  },
  {
   "cell_type": "code",
   "execution_count": null,
   "id": "fd012b6c",
   "metadata": {},
   "outputs": [],
   "source": [
    "def solution(num_list, n):\n",
    "    answer = []\n",
    "    answer.extend(num_list[n:] + num_list[:n])\n",
    "    return answer"
   ]
  },
  {
   "cell_type": "code",
   "execution_count": null,
   "id": "6b3ab614",
   "metadata": {},
   "outputs": [],
   "source": [
    "board = [\n",
    "    [0,0,0,0,0], # 0 \n",
    "    [0,0,1,0,3], # 1\n",
    "    [0,2,5,0,1], # 2\n",
    "    [4,2,4,4,2], # 3\n",
    "    [3,5,1,3,1]  # 4\n",
    "    ]\n",
    "\n",
    "moves = [1,5,3,5,1,2,1,4] # result = 4\n",
    "\n",
    "def solution(board, moves):\n",
    "    answer = 0 \n",
    "    stack = []\n",
    "    for move in moves:\n",
    "        move_index = move-1\n",
    "        for row_info in board:\n",
    "            if row_info[move_index] != 0:\n",
    "                stack.append(row_info[move_index])\n",
    "                row_info[move_index] = 0 \n",
    "                \n",
    "                if len(stack)>=2 and stack[-1] == stack[-2]:\n",
    "                     answer += 2\n",
    "                     stack = stack[0:-2] # 슬라이싱 설명 쉽게 해줘. \n",
    "                \n",
    "                break \n",
    "    return answer "
   ]
  },
  {
   "cell_type": "code",
   "execution_count": null,
   "id": "0fc69068",
   "metadata": {},
   "outputs": [
    {
     "name": "stdout",
     "output_type": "stream",
     "text": [
      "[4, 3]\n"
     ]
    }
   ],
   "source": [
    "board = [\n",
    "    [0,0,0,0,0], # 0 \n",
    "    [0,0,1,0,3], # 1\n",
    "    [0,2,5,0,1], # 2\n",
    "    [4,2,4,4,2], # 3\n",
    "    [3,5,1,3,1]  # 4\n",
    "    ]\n",
    "moves = [1] # result = 4\n",
    "\n",
    "stack = []\n",
    "\n",
    "for move in moves:\n",
    "        move_index = move-1\n",
    "        for row_info in board:\n",
    "            if row_info[move_index] != 0:\n",
    "                stack.append(row_info[move_index])\n",
    "                row_info[move_index] = 0 \n",
    "                \n",
    "                if len(stack)>=2 and stack[-1] == stack[-2]:\n",
    "                     answer += 2\n",
    "                     stack = stack[0:-2] # 슬라이싱 설명 쉽게 해줘. \n",
    "\n",
    "\n",
    "print(stack)\n",
    "\n",
    "# # 기본 형태\n",
    "# board[row][column] ## 행 == row \n",
    "\n",
    "# # 예시\n",
    "# element = board[2][3]  # 2행 3열의 요소 (값은 0)"
   ]
  },
  {
   "cell_type": "code",
   "execution_count": null,
   "id": "101a2556",
   "metadata": {},
   "outputs": [],
   "source": []
  }
 ],
 "metadata": {
  "kernelspec": {
   "display_name": "test_env",
   "language": "python",
   "name": "python3"
  },
  "language_info": {
   "codemirror_mode": {
    "name": "ipython",
    "version": 3
   },
   "file_extension": ".py",
   "mimetype": "text/x-python",
   "name": "python",
   "nbconvert_exporter": "python",
   "pygments_lexer": "ipython3",
   "version": "3.11.9"
  }
 },
 "nbformat": 4,
 "nbformat_minor": 5
}
