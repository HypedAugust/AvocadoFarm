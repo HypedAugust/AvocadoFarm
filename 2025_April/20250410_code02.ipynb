{
 "cells": [
  {
   "cell_type": "code",
   "execution_count": 1,
   "id": "c7bfefa8",
   "metadata": {},
   "outputs": [
    {
     "name": "stdout",
     "output_type": "stream",
     "text": [
      "2\n"
     ]
    }
   ],
   "source": [
    "def solution():\n",
    "    friends = [\n",
    "        [1, 1, 0, 0],\n",
    "        [1, 1, 0, 0],\n",
    "        [0, 0, 1, 1],\n",
    "        [0, 0, 1, 1]\n",
    "    ]\n",
    "\n",
    "    visited = [False]*4\n",
    "    count = 0 \n",
    "\n",
    "    for person in range(4):\n",
    "        if not visited[person]:\n",
    "            count +=1\n",
    "            \n",
    "            stack = [person]\n",
    "\n",
    "            while stack:\n",
    "                current_person = stack.pop()\n",
    "                visited[current_person] = True \n",
    "\n",
    "                for friend in range(4):\n",
    "                    if friends[current_person][friend] ==1 and not visited[friend]:\n",
    "                        stack.append(friend)\n",
    "    return count \n",
    "\n",
    "print(solution())"
   ]
  }
 ],
 "metadata": {
  "kernelspec": {
   "display_name": "Python 3",
   "language": "python",
   "name": "python3"
  },
  "language_info": {
   "codemirror_mode": {
    "name": "ipython",
    "version": 3
   },
   "file_extension": ".py",
   "mimetype": "text/x-python",
   "name": "python",
   "nbconvert_exporter": "python",
   "pygments_lexer": "ipython3",
   "version": "3.11.9"
  }
 },
 "nbformat": 4,
 "nbformat_minor": 5
}
