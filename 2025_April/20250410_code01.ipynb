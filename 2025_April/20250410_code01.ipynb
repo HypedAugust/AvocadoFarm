{
 "cells": [
  {
   "cell_type": "code",
   "execution_count": null,
   "id": "0eae14de",
   "metadata": {},
   "outputs": [],
   "source": [
    "def solution(n, computers):\n",
    "    answer = 0\n",
    "    visited = [False]*n \n",
    "\n",
    "    for i in range(n): \n",
    "\n",
    "        if not visited[i]: \n",
    "            answer += 1\n",
    "            stack = [i]\n",
    "\n",
    "            while stack:\n",
    "                current = stack.pop()\n",
    "                visited[current] = True\n",
    "\n",
    "                for j in range(n): \n",
    "                    if computers[current][j] == 1 and not visited[j]:\n",
    "                        stack.append(j)\n",
    "    return answer\n"
   ]
  },
  {
   "cell_type": "code",
   "execution_count": null,
   "id": "76b578d9",
   "metadata": {},
   "outputs": [
    {
     "name": "stdout",
     "output_type": "stream",
     "text": [
      "4\n",
      "4\n",
      "4\n",
      "4\n",
      "4\n",
      "4\n",
      "4\n",
      "4\n",
      "4\n",
      "4\n",
      "4\n",
      "4\n",
      "4\n",
      "4\n",
      "4\n",
      "4\n",
      "2\n"
     ]
    }
   ],
   "source": [
    "def solution(n, friends): \n",
    "    visited = [False]*n\n",
    "    count = 0 \n",
    "\n",
    "    for student in range(n):\n",
    "        if not visited[student]:\n",
    "            count += 1\n",
    "            find_f(student, friends, visited)\n",
    "    return count \n",
    "\n",
    "def find_f(student, friends, visited):\n",
    "    visited[student] = True\n",
    "    n = len(friends)  # 학생 수\n",
    "    for friend in range(n): \n",
    "        if friends[student][friend] == 1 and not visited[friend]:\n",
    "            find_f(friend, friends, visited)\n",
    "\n",
    "n = 4\n",
    "friends = [\n",
    "    [1, 1, 0, 0],  # 학생 0은 학생 1과 친구\n",
    "    [1, 1, 0, 0],  # 학생 1은 학생 0과 친구\n",
    "    [0, 0, 1, 1],  # 학생 2는 학생 3과 친구\n",
    "    [0, 0, 1, 1]   # 학생 3은 학생 2와 친구\n",
    "]\n",
    "print(solution(n, friends))"
   ]
  },
  {
   "cell_type": "code",
   "execution_count": null,
   "id": "7e3727d1",
   "metadata": {},
   "outputs": [],
   "source": []
  }
 ],
 "metadata": {
  "kernelspec": {
   "display_name": "Python 3",
   "language": "python",
   "name": "python3"
  },
  "language_info": {
   "codemirror_mode": {
    "name": "ipython",
    "version": 3
   },
   "file_extension": ".py",
   "mimetype": "text/x-python",
   "name": "python",
   "nbconvert_exporter": "python",
   "pygments_lexer": "ipython3",
   "version": "3.11.9"
  }
 },
 "nbformat": 4,
 "nbformat_minor": 5
}
