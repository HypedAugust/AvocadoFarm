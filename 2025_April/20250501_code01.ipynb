{
 "cells": [
  {
   "cell_type": "code",
   "execution_count": null,
   "id": "81e6c85f",
   "metadata": {},
   "outputs": [],
   "source": [
    "def solution(num_list, n):\n",
    "    answer = []\n",
    "    while len(num_list):\n",
    "    if len(num_list) >= n:\n",
    "        answer.append(num_list[0])\n",
    "        del num_list[0:n]\n",
    "    elif len(num_list)<= n:\n",
    "        answer.append(num_list[0])\n",
    "        del num_list[0:]\n",
    "    return answer"
   ]
  },
  {
   "cell_type": "code",
   "execution_count": 14,
   "id": "e0b2a5d9",
   "metadata": {},
   "outputs": [
    {
     "name": "stdout",
     "output_type": "stream",
     "text": [
      "[4, 7]\n"
     ]
    }
   ],
   "source": [
    "num_list = [4, 2, 6, 1, 7, 6]\n",
    "n = 4 \n",
    "# [4,7]\n",
    "\n",
    "def solution(num_list,n):\n",
    "    return num_list[::n]\n",
    "\n",
    "print(solution(num_list,n))\n"
   ]
  }
 ],
 "metadata": {
  "kernelspec": {
   "display_name": "Python 3",
   "language": "python",
   "name": "python3"
  },
  "language_info": {
   "codemirror_mode": {
    "name": "ipython",
    "version": 3
   },
   "file_extension": ".py",
   "mimetype": "text/x-python",
   "name": "python",
   "nbconvert_exporter": "python",
   "pygments_lexer": "ipython3",
   "version": "3.11.9"
  }
 },
 "nbformat": 4,
 "nbformat_minor": 5
}
