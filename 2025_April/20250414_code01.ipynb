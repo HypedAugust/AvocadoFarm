{
 "cells": [
  {
   "cell_type": "code",
   "execution_count": null,
   "id": "59a11cdd",
   "metadata": {},
   "outputs": [
    {
     "ename": "NameError",
     "evalue": "name 'price' is not defined",
     "output_type": "error",
     "traceback": [
      "\u001b[1;31m---------------------------------------------------------------------------\u001b[0m",
      "\u001b[1;31mNameError\u001b[0m                                 Traceback (most recent call last)",
      "Cell \u001b[1;32mIn[1], line 23\u001b[0m\n\u001b[0;32m     19\u001b[0m         count \u001b[38;5;241m=\u001b[39m \u001b[38;5;241m0\u001b[39m \n\u001b[0;32m     21\u001b[0m     \u001b[38;5;28;01mreturn\u001b[39;00m answer\n\u001b[1;32m---> 23\u001b[0m \u001b[38;5;28mprint\u001b[39m(\u001b[43msolution\u001b[49m\u001b[43m(\u001b[49m\u001b[43mprices\u001b[49m\u001b[43m)\u001b[49m)\n",
      "Cell \u001b[1;32mIn[1], line 12\u001b[0m, in \u001b[0;36msolution\u001b[1;34m(prices)\u001b[0m\n\u001b[0;32m      9\u001b[0m prices \u001b[38;5;241m=\u001b[39m deque(prices)\n\u001b[0;32m     10\u001b[0m count \u001b[38;5;241m=\u001b[39m \u001b[38;5;241m0\u001b[39m \n\u001b[1;32m---> 12\u001b[0m \u001b[38;5;28;01mwhile\u001b[39;00m \u001b[43mprice\u001b[49m \u001b[38;5;129;01min\u001b[39;00m \u001b[38;5;28mrange\u001b[39m(\u001b[38;5;28mlen\u001b[39m(prices)):\n\u001b[0;32m     13\u001b[0m     current_price \u001b[38;5;241m=\u001b[39m prices\u001b[38;5;241m.\u001b[39mpopleft() \u001b[38;5;66;03m# 첫 숫자는 1 임.\u001b[39;00m\n\u001b[0;32m     14\u001b[0m     \u001b[38;5;28;01mif\u001b[39;00m current_price \u001b[38;5;241m<\u001b[39m prices[price]:\n",
      "\u001b[1;31mNameError\u001b[0m: name 'price' is not defined"
     ]
    }
   ],
   "source": [
    "from collections import deque\n",
    "\n",
    "def solution(prices):\n",
    "    answer = [] \n",
    "    prices = deque(prices)\n",
    "    \n",
    "    while prices:\n",
    "        current_price = prices.popleft()\n",
    "        count = 0\n",
    "        \n",
    "        # 남은 가격들과 직접 비교\n",
    "        for next_price in prices:\n",
    "            count += 1  # 시간은 항상 1초 증가\n",
    "            if current_price > next_price:  # 가격이 떨어졌다면\n",
    "                break  # 중단\n",
    "        \n",
    "        answer.append(count)\n",
    "    \n",
    "    return answer\n",
    "\n",
    "prices = [1, 2, 3, 2, 3]\n",
    "print(solution(prices))  # [4, 3, 1, 1, 0]"
   ]
  }
 ],
 "metadata": {
  "kernelspec": {
   "display_name": "Python 3",
   "language": "python",
   "name": "python3"
  },
  "language_info": {
   "codemirror_mode": {
    "name": "ipython",
    "version": 3
   },
   "file_extension": ".py",
   "mimetype": "text/x-python",
   "name": "python",
   "nbconvert_exporter": "python",
   "pygments_lexer": "ipython3",
   "version": "3.11.9"
  }
 },
 "nbformat": 4,
 "nbformat_minor": 5
}
