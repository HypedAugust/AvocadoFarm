{
 "cells": [
  {
   "cell_type": "code",
   "execution_count": 5,
   "id": "09782f02",
   "metadata": {},
   "outputs": [
    {
     "name": "stdout",
     "output_type": "stream",
     "text": [
      "[10, 9, 8, 7, 6, 5, 4, 3]\n"
     ]
    }
   ],
   "source": [
    "def solution(start_num, end_num):\n",
    "    answer = []\n",
    "    while start_num >= end_num:\n",
    "        answer.append(start_num)\n",
    "        start_num = start_num - 1 \n",
    "        if start_num == end_num:\n",
    "            answer.append(end_num)\n",
    "            break\n",
    "    return answer\n",
    "\n",
    "\n",
    "def solution(start, end):\n",
    "    return list(range(start,end-1,-1))\n",
    "\n",
    "start_num = 10\n",
    "end_num = 3\n",
    "\n",
    "print(solution(start_num, end_num))"
   ]
  }
 ],
 "metadata": {
  "kernelspec": {
   "display_name": "Python 3",
   "language": "python",
   "name": "python3"
  },
  "language_info": {
   "codemirror_mode": {
    "name": "ipython",
    "version": 3
   },
   "file_extension": ".py",
   "mimetype": "text/x-python",
   "name": "python",
   "nbconvert_exporter": "python",
   "pygments_lexer": "ipython3",
   "version": "3.11.9"
  }
 },
 "nbformat": 4,
 "nbformat_minor": 5
}
