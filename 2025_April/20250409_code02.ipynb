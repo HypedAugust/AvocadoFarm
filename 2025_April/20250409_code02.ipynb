{
 "cells": [
  {
   "cell_type": "code",
   "execution_count": null,
   "id": "668a0a7c",
   "metadata": {},
   "outputs": [],
   "source": [
    "# from collections import deque\n",
    "# def solution(maps):\n",
    "#     n, m = len(maps), len(maps[0]) \n",
    "\n",
    "#     dx = [-1,1,0,0]\n",
    "#     dy = [0,0,-1,1]\n",
    "#     x = 0\n",
    "#     y = 0\n",
    "\n",
    "#     queue = deque() \n",
    "#     queue.append((x,y)) # queue에 0,0이 들어감. \n",
    "#     while queue: # queue가 다 빌때 까지 한다. \n",
    "#         x,y = queue.popleft() # 0,0꺼냄 \n",
    "#         for i in range(4): \n",
    "#             nx = x + dx[i] \n",
    "#             ny = y + dy[i] \n",
    "#             if nx <0 or nx >= n or ny <0 or ny >= m:\n",
    "#                 continue # 범위 벗어나면 continue \n",
    "#             if maps[nx][ny] == 0: \n",
    "#                 continue \n",
    "#             if maps[nx][ny] == 1:  \n",
    "#                 maps[nx][ny] = maps[x][y]+1   \n",
    "#                 queue.append((nx,ny)) \n",
    "#     return maps[n-1][m-1] \n"
   ]
  },
  {
   "cell_type": "code",
   "execution_count": null,
   "id": "68eafa57",
   "metadata": {},
   "outputs": [],
   "source": [
    "from collections import deque\n",
    "\n",
    "def solution(maps):\n",
    "    n, m = len(maps), len(maps[0])\n",
    "    queue = deque([(0,0,1)]) \n",
    "    maps[0][0] = 0 \n",
    "\n",
    "    while queue:\n",
    "        x,y, dist = queue.popleft()\n",
    "        if x == n-1 and y == m-1: \n",
    "            return dist \n",
    "        \n",
    "        for nx, ny in [(x+1, y), (x-1,y), (x,y+1), (x,y-1)]: \n",
    "            if 0 <= nx <n and 0 <= ny <m and maps[nx][ny] == 1:\n",
    "                maps[nx][ny] = 0 \n",
    "                queue.append((nx, ny, dist+1))"
   ]
  }
 ],
 "metadata": {
  "kernelspec": {
   "display_name": "Python 3",
   "language": "python",
   "name": "python3"
  },
  "language_info": {
   "codemirror_mode": {
    "name": "ipython",
    "version": 3
   },
   "file_extension": ".py",
   "mimetype": "text/x-python",
   "name": "python",
   "nbconvert_exporter": "python",
   "pygments_lexer": "ipython3",
   "version": "3.11.9"
  }
 },
 "nbformat": 4,
 "nbformat_minor": 5
}
