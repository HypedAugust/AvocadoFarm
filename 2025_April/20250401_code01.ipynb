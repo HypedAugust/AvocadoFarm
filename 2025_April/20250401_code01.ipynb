{
 "cells": [
  {
   "cell_type": "code",
   "execution_count": null,
   "metadata": {},
   "outputs": [],
   "source": [
    "import math \n",
    "def solution(progresses, speeds):\n",
    "    answer = []\n",
    "    days = []\n",
    "    for i in range(len(progresses)):\n",
    "        progress = progresses[i]\n",
    "        speed = speeds[i]\n",
    "        days_needed = math.ceil((100-progress)/speed)\n",
    "        days.append(days_needed)\n",
    "    \n",
    "    count = 1\n",
    "    max_days = days[0]\n",
    "\n",
    "    for i in range(1, len(days)):\n",
    "        if days[i] <= max_days:\n",
    "            count += 1\n",
    "        else:\n",
    "            answer.append(count)\n",
    "            count = 1\n",
    "            max_days = days[i]\n",
    "    \n",
    "    answer.append(count)\n",
    "\n",
    "    return answer"
   ]
  },
  {
   "cell_type": "code",
   "execution_count": null,
   "metadata": {},
   "outputs": [],
   "source": [
    "import math \n",
    "\n",
    "progresses = [93, 30, 55]\n",
    "speeds = [1, 30, 5]\n",
    "\n",
    "answer = []\n",
    "count = 0 \n",
    "stack = []\n",
    "\n",
    "# 1) stack.append(ceil(100 - progresses / speed)) \n",
    "# 2) current = stack.pop()\n",
    "# 3) if current == stack[i], count 1 else answer.append(count) count = 0 stack.pop()\n",
    "progresses = [93, 30, 55]\n",
    "speeds = [1, 30, 5]\n"
   ]
  }
 ],
 "metadata": {
  "kernelspec": {
   "display_name": "coursera",
   "language": "python",
   "name": "python3"
  },
  "language_info": {
   "codemirror_mode": {
    "name": "ipython",
    "version": 3
   },
   "file_extension": ".py",
   "mimetype": "text/x-python",
   "name": "python",
   "nbconvert_exporter": "python",
   "pygments_lexer": "ipython3",
   "version": "3.10.8"
  }
 },
 "nbformat": 4,
 "nbformat_minor": 2
}
