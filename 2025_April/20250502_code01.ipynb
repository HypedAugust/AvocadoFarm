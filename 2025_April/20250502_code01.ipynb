{
 "cells": [
  {
   "cell_type": "code",
   "execution_count": null,
   "id": "27c1d19e",
   "metadata": {},
   "outputs": [],
   "source": [
    "# 홀수 = 인덱스로 짝수 \n",
    "def solution(num_list):\n",
    "    length = len(num_list)\n",
    "    left = 0\n",
    "    right = 0\n",
    "    for i in range(0,length,2):\n",
    "        left += num_list[i]\n",
    "    \n",
    "    for j in range(1, length,2):\n",
    "        right += num_list[j]\n",
    "    \n",
    "    if left > right:\n",
    "        return left\n",
    "    else:\n",
    "        return right\n"
   ]
  }
 ],
 "metadata": {
  "language_info": {
   "name": "python"
  }
 },
 "nbformat": 4,
 "nbformat_minor": 5
}
