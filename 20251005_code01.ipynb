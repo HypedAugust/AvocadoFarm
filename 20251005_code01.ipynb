{
 "cells": [
  {
   "cell_type": "code",
   "execution_count": null,
   "id": "ca677868",
   "metadata": {},
   "outputs": [
    {
     "name": "stdout",
     "output_type": "stream",
     "text": [
      "1478\n"
     ]
    }
   ],
   "source": [
    "#  숫자 문자열과 영단어 \n",
    "dic = {'one':'1', 'two':'2','three':'3', 'four':'4', 'five':'5', 'six':'6', 'seven':'7', 'eight': '8', 'nine':'9'}\n",
    "\n",
    "def solution(s):\n",
    "    for key, value in dic.items():\n",
    "        s = s.replace(key,value)\n",
    "    return int(s)\n",
    "\n",
    "s = \"one4seveneight\"\n",
    "print(solution(s))"
   ]
  },
  {
   "cell_type": "code",
   "execution_count": null,
   "id": "9d1f76a5",
   "metadata": {},
   "outputs": [],
   "source": [
    "# 완주하지 못한 선수 \n",
    "\n",
    "def solution(participant, completion):\n",
    "    participant.sort()\n",
    "    completion.sort()\n",
    "    for p, c in zip(participant, completion):\n",
    "        if p != c:\n",
    "            return p\n",
    "    return participant[-1]\n",
    "participant = [\"leo\", \"kiki\", \"eden\"]\n",
    "completion = [\"eden\", \"kiki\"]\n",
    "\n",
    "# \"leo\"\n",
    "\n",
    "\n"
   ]
  },
  {
   "cell_type": "code",
   "execution_count": null,
   "id": "532ef9fb",
   "metadata": {},
   "outputs": [],
   "source": [
    "def solution(participant, completion):\n",
    "    dic = {}\n",
    "    for p in participant:\n",
    "        dic[p] = dic.get(p,0)+1\n",
    "    for c in completion:\n",
    "        dict[c] -= 1\n",
    "    for key, val in dic.items():\n",
    "        if val >0:\n",
    "            return key \n"
   ]
  },
  {
   "cell_type": "code",
   "execution_count": 5,
   "id": "583195ed",
   "metadata": {},
   "outputs": [
    {
     "name": "stdout",
     "output_type": "stream",
     "text": [
      "{'a': 1}\n"
     ]
    }
   ],
   "source": [
    "dic = {}\n",
    "dic.get(\"a\", 0)\n",
    "dic[\"a\"] = dic.get(\"a\",0) +1\n",
    "print(dic)"
   ]
  },
  {
   "cell_type": "code",
   "execution_count": 4,
   "id": "0cae6154",
   "metadata": {},
   "outputs": [
    {
     "name": "stdout",
     "output_type": "stream",
     "text": [
      "['eden', 'kiki', 'leo']\n"
     ]
    }
   ],
   "source": [
    "participant = [\"leo\", \"kiki\", \"eden\"]\n",
    "participant.sort()\n",
    "print(participant)"
   ]
  },
  {
   "cell_type": "code",
   "execution_count": null,
   "id": "9ab57ee0",
   "metadata": {},
   "outputs": [],
   "source": [
    "# Linked List \n",
    "\n",
    "class Node:\n",
    "    def __init__(self, data):\n",
    "        self.data = data\n",
    "        self.next = None\n",
    "\n",
    "        \n",
    "class LinkedList:\n",
    "    def __init__(self,value):\n",
    "        self.head = Node(value)\n",
    "    \n",
    "    def append(self, value):\n",
    "        cur = self.head\n",
    "        while cur.next is not None:\n",
    "            cur = cur.next\n",
    "        cur.next = Node(value)\n",
    "    \n",
    "    def print_all(self):\n",
    "        cur = self.head\n",
    "        while cur is not None:\n",
    "            print(cur.data)\n",
    "            cur = cur.next\n",
    "        \n",
    "    def get_node(self,index):\n",
    "        cur = self.head\n",
    "        cur_index = 0\n",
    "\n",
    "        while cur_index != index:\n",
    "            cur = cur.next\n",
    "            cur_index += 1\n",
    "        return cur \n",
    "    \n",
    "    def add_node(self, index, value):\n",
    "        new_node = Node(value)\n",
    "        if index == 0:\n",
    "            new_node.next = self.head\n",
    "            self.head = new_node\n",
    "            return \n",
    "        \n",
    "        prev_node = self.get_node(index-1)\n",
    "        next_node = prev_node.next\n",
    "        prev_node.next = new_node\n",
    "        new_node.next = next_node \n",
    "    \n",
    "    def delete_node(self, index):\n",
    "        if index == 0:\n",
    "            self.head = self.head.next\n",
    "            return \n",
    "        \n",
    "        node = self.get_node(index-1)\n",
    "        node.next = node.next.next\n",
    "\n",
    "\n",
    "\n",
    "\n"
   ]
  }
 ],
 "metadata": {
  "kernelspec": {
   "display_name": "Python 3",
   "language": "python",
   "name": "python3"
  },
  "language_info": {
   "codemirror_mode": {
    "name": "ipython",
    "version": 3
   },
   "file_extension": ".py",
   "mimetype": "text/x-python",
   "name": "python",
   "nbconvert_exporter": "python",
   "pygments_lexer": "ipython3",
   "version": "3.12.3"
  }
 },
 "nbformat": 4,
 "nbformat_minor": 5
}
