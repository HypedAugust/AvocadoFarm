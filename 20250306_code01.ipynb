{
 "cells": [
  {
   "cell_type": "code",
   "execution_count": 1,
   "metadata": {},
   "outputs": [
    {
     "name": "stdout",
     "output_type": "stream",
     "text": [
      "728\n"
     ]
    }
   ],
   "source": [
    "# Q. 다음과 같이 0 혹은 양의 정수로만 이루어진 배열이 있을 때, 왼쪽부터 오른쪽으로 하나씩 모든 숫자를 확인하며 숫자 사이에 '✕' 혹은 '+' 연산자를 넣어 결과적으로 가장 큰 수를 구하는 프로그램을 작성하시오. \n",
    "\n",
    "# 단, '+' 보다 '✕' 를 먼저 계산하는 일반적인 방식과는 달리, 모든 연산은 왼쪽에서 순서대로 이루어진다.\n",
    "def solution(numbers):\n",
    "    def dfs(index, current_total): \n",
    "        if index == len(numbers):\n",
    "            return current_total\n",
    "        \n",
    "        if index == 0:\n",
    "            return dfs(index+1, numbers[0])\n",
    "        \n",
    "        # 더하는 경우\n",
    "        count1 = dfs(index + 1, current_total + numbers[index])\n",
    "        \n",
    "        # 곱하는 경우\n",
    "        count2 = dfs(index + 1, current_total * numbers[index])\n",
    "        \n",
    "        return max(count1, count2)\n",
    "    \n",
    "    return dfs(0, 0)\n",
    "\n",
    "numbers = [0, 3, 5, 6, 1, 2, 4]\n",
    "\n",
    "print(solution(numbers))"
   ]
  },
  {
   "cell_type": "code",
   "execution_count": 2,
   "metadata": {},
   "outputs": [
    {
     "name": "stdout",
     "output_type": "stream",
     "text": [
      "728\n"
     ]
    }
   ],
   "source": [
    "def solution(array):\n",
    "    \n",
    "    if not array:\n",
    "        return 0 \n",
    "    \n",
    "    plus_mul_sum = array[0]\n",
    "\n",
    "    for i in range(1,len(array)):\n",
    "        if array[i] <= 1 or plus_mul_sum <= 1:\n",
    "            plus_mul_sum += array[i]\n",
    "        else: \n",
    "            plus_mul_sum *= array[i]\n",
    "    \n",
    "    return plus_mul_sum \n",
    "numbers = [0, 3, 5, 6, 1, 2, 4]\n",
    "print(solution(numbers))"
   ]
  },
  {
   "cell_type": "code",
   "execution_count": null,
   "metadata": {},
   "outputs": [],
   "source": [
    "# # Q. 다음과 같이 영어로 되어 있는 문자열이 있을 때, \n",
    "# # 이 문자열에서 반복되지 않는 첫번째 문자를 반환하시오. \n",
    "# # 만약 그런 문자가 없다면 _ 를 반환하시오.\n",
    "\n",
    "# def find_not_repeating_first_character(string):\n",
    "#     string_copy = string\n",
    "#     for i in range(len(string)):\n",
    "#         for j in range(len(string)):\n",
    "#             if string[i] ==  string[j]:\n",
    "#                 string_copy.remove(i)\n",
    "#                 string_copy.remove(j)\n",
    "#             elif string_copy is None:\n",
    "#                 return '_'\n",
    "\n",
    "#         return string_copy[0]                               \n",
    "\n",
    "            \n",
    "# string = \"abadabac\"\n",
    "\n",
    "# print(find_not_repeating_first_character(string))\n"
   ]
  },
  {
   "cell_type": "code",
   "execution_count": 9,
   "metadata": {},
   "outputs": [
    {
     "name": "stdout",
     "output_type": "stream",
     "text": [
      "d\n"
     ]
    }
   ],
   "source": [
    "def find_not_repeating_first_character(string):\n",
    "    char_count = {}\n",
    "\n",
    "    for char in string:\n",
    "        if char not in char_count:\n",
    "            char_count[char] = 1 \n",
    "\n",
    "        else: \n",
    "            char_count[char] += 1\n",
    "\n",
    "    for char in string:\n",
    "        if char_count[char] == 1:\n",
    "            return char\n",
    "    \n",
    "    return '_'\n",
    "\n",
    "string = \"abadabac\"\n",
    "print(find_not_repeating_first_character(string))"
   ]
  },
  {
   "cell_type": "code",
   "execution_count": 10,
   "metadata": {},
   "outputs": [
    {
     "name": "stdout",
     "output_type": "stream",
     "text": [
      "_\n"
     ]
    }
   ],
   "source": [
    "def find_not_repeating_first_character(string):\n",
    "    char_count = {}\n",
    "\n",
    "    for char in string:\n",
    "        if char not in char_count:\n",
    "            char_count[char] = 1 \n",
    "\n",
    "        else: \n",
    "            char_count[char] += 1\n",
    "\n",
    "    for char in string:\n",
    "        if char_count[char] == 1:\n",
    "            return char\n",
    "        else:\n",
    "            return '_'\n",
    "        \n",
    "string = \"abadabac\"\n",
    "print(find_not_repeating_first_character(string))"
   ]
  },
  {
   "cell_type": "code",
   "execution_count": null,
   "metadata": {},
   "outputs": [],
   "source": [
    "def solution(string):\n",
    "    alphabet_occurence_array = [0]*26\n",
    "\n",
    "    for char in string:\n",
    "        if not char.isalpha(): \n",
    "            # continue는 현재 반복을 건너뛰고 다음 반복으로 넘어가는 명령어입니다. \n",
    "            # 즉, \"알파벳이 아니면 이 문자는 무시하고 다음 문자로 넘어가라\"는 의미입니다. \n",
    "            # 알파벳만 카운트하기 위한 코드입니다. \n",
    "\n",
    "            continue\n",
    "        arr_index = ord(char) - ord('a') \n",
    "        alphabet_occurence_array[arr_index] += 1 \n",
    "    \n",
    "    not_repeating = []\n",
    "    for index in range(len(alphabet_occurence_array)): \n",
    "        alphabet_occurence = alphabet_occurence_array[index]\n",
    "        \n",
    "\n",
    "        if alphabet_occurence == 1: \n",
    "            \n",
    "            not_repeating.append(chr(index + ord('a') ))\n",
    "           \n",
    "\n",
    "    for char in string: \n",
    "        if char in not_repeating: \n",
    "            return char  \n",
    "        #  여기서 return은 함수를 즉시 종료하고 값을 반환합니다. \n",
    "        # 따라서 반복되지 않는 문자 중 문자열에서 가장 먼저 등장하는 \n",
    "        # 문자를 찾는 즉시 함수는 종료됩니다. \n",
    "        # return 이후의 코드는 실행되지 않습니다.\n",
    "    \n",
    "    return '_'"
   ]
  },
  {
   "cell_type": "code",
   "execution_count": 15,
   "metadata": {},
   "outputs": [
    {
     "name": "stdout",
     "output_type": "stream",
     "text": [
      "[2]\n"
     ]
    }
   ],
   "source": [
    "# import math \n",
    "\n",
    "# def solution(number):\n",
    "#     answer = []\n",
    "#     for i in range(2,int(math.sqrt(number))+1):\n",
    "#         if number % i == 0: \n",
    "#             continue\n",
    "#         else:\n",
    "#             answer.append(i)\n",
    "    \n",
    "#     return answer \n",
    "\n",
    "# number = 5\n",
    "# print(solution(number))"
   ]
  },
  {
   "cell_type": "code",
   "execution_count": null,
   "metadata": {},
   "outputs": [],
   "source": [
    "# 이중 포문 \n",
    "\n",
    "prime_list = []\n",
    "\n",
    "for n in range(n,number + 1):\n",
    "    for i in range(2,n):\n",
    "        if n % i == 0:\n",
    "            break \n",
    "        else:\n",
    "            prime_list.append(n)\n",
    " "
   ]
  },
  {
   "cell_type": "code",
   "execution_count": null,
   "metadata": {},
   "outputs": [],
   "source": [
    "number = 6\n",
    "def solution(number):\n",
    "    primt_list = []\n",
    "    for n in range(n, number +1):\n",
    "        for i in primt_list:\n",
    "            if n % i == 0 and i*i <= n:\n",
    "                break \n",
    "        else:\n",
    "            prime_list.append(n)\n",
    "    return prime_list"
   ]
  },
  {
   "cell_type": "code",
   "execution_count": 2,
   "metadata": {},
   "outputs": [],
   "source": [
    "def solution(string):\n",
    "    count_zero = 0 \n",
    "    count_one = 0\n",
    "\n",
    "    if string[0] == '0':\n",
    "        count_one += 1\n",
    "    else: \n",
    "        count_zero += 1\n",
    "        \n",
    "    for i in range(len(string)-1):\n",
    "        if string[i] != string[i+1]:\n",
    "            if string[i+1] == '1':\n",
    "                count_zero += 1\n",
    "            else: \n",
    "                count_one += 1\n",
    "\n",
    "    return min(count_zero,count_one)"
   ]
  }
 ],
 "metadata": {
  "kernelspec": {
   "display_name": "Python 3",
   "language": "python",
   "name": "python3"
  },
  "language_info": {
   "codemirror_mode": {
    "name": "ipython",
    "version": 3
   },
   "file_extension": ".py",
   "mimetype": "text/x-python",
   "name": "python",
   "nbconvert_exporter": "python",
   "pygments_lexer": "ipython3",
   "version": "3.11.9"
  }
 },
 "nbformat": 4,
 "nbformat_minor": 2
}
