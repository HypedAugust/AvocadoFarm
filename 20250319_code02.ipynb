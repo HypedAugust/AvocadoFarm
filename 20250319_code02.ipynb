{
 "cells": [
  {
   "cell_type": "code",
   "execution_count": 8,
   "metadata": {},
   "outputs": [
    {
     "name": "stdout",
     "output_type": "stream",
     "text": [
      "강빨나나바\n"
     ]
    }
   ],
   "source": [
    "# 문자열 뒤집기 \n",
    "string = '바나나빨강'\n",
    "def solution(string):\n",
    "    result = []\n",
    "    for i in range(len(string)-1, -1,-1):\n",
    "        result.append(string[i])\n",
    "    \n",
    "    return ''.join(result)\n",
    "\n",
    "print(solution(string))\n",
    "\n"
   ]
  },
  {
   "cell_type": "code",
   "execution_count": null,
   "metadata": {},
   "outputs": [
    {
     "ename": "KeyboardInterrupt",
     "evalue": "",
     "output_type": "error",
     "traceback": [
      "\u001b[1;31m---------------------------------------------------------------------------\u001b[0m",
      "\u001b[1;31mKeyboardInterrupt\u001b[0m                         Traceback (most recent call last)",
      "Cell \u001b[1;32mIn[9], line 16\u001b[0m\n\u001b[0;32m     12\u001b[0m     \u001b[38;5;28;01mreturn\u001b[39;00m queue\n\u001b[0;32m     15\u001b[0m \u001b[38;5;66;03m# 테스트\u001b[39;00m\n\u001b[1;32m---> 16\u001b[0m \u001b[38;5;28mprint\u001b[39m(\u001b[43mhot_potato\u001b[49m\u001b[43m(\u001b[49m\u001b[38;5;241;43m5\u001b[39;49m\u001b[43m,\u001b[49m\u001b[43m \u001b[49m\u001b[38;5;241;43m3\u001b[39;49m\u001b[43m)\u001b[49m)  \u001b[38;5;66;03m# 4가 출력되어야 합니다\u001b[39;00m\n\u001b[0;32m     17\u001b[0m \u001b[38;5;28mprint\u001b[39m(hot_potato(\u001b[38;5;241m7\u001b[39m, \u001b[38;5;241m4\u001b[39m))  \u001b[38;5;66;03m# 출력을 확인해보세요\u001b[39;00m\n",
      "Cell \u001b[1;32mIn[9], line 11\u001b[0m, in \u001b[0;36mhot_potato\u001b[1;34m(n, m)\u001b[0m\n\u001b[0;32m      9\u001b[0m \u001b[38;5;28;01mwhile\u001b[39;00m queue:\n\u001b[0;32m     10\u001b[0m     \u001b[38;5;28;01mfor\u001b[39;00m _ \u001b[38;5;129;01min\u001b[39;00m \u001b[38;5;28mrange\u001b[39m(m\u001b[38;5;241m-\u001b[39m\u001b[38;5;241m1\u001b[39m):\n\u001b[1;32m---> 11\u001b[0m         queue\u001b[38;5;241m.\u001b[39mappend(\u001b[43mqueue\u001b[49m\u001b[38;5;241;43m.\u001b[39;49m\u001b[43mpopleft\u001b[49m\u001b[43m(\u001b[49m\u001b[43m)\u001b[49m)\n\u001b[0;32m     12\u001b[0m \u001b[38;5;28;01mreturn\u001b[39;00m queue\n",
      "\u001b[1;31mKeyboardInterrupt\u001b[0m: "
     ]
    }
   ],
   "source": [
    "# 뜨거운 감자 게임 \n",
    "from collections import deque\n",
    "# 여기에 코드를 작성하세요\n",
    "def hot_potato(n, m):\n",
    "    # n: 아이들의 수\n",
    "    # m: 감자가 전달되는 횟수\n",
    "    queue = deque(range(1, n+1))\n",
    "    result = []\n",
    "    while queue:\n",
    "        for _ in range(m-1):\n",
    "            queue.append(queue.popleft())\n",
    "    return queue\n",
    "\n",
    "\n",
    "# 테스트\n",
    "print(hot_potato(5, 3))  # 4가 출력되어야 합니다\n",
    "print(hot_potato(7, 4))  # 출력을 확인해보세요\n"
   ]
  }
 ],
 "metadata": {
  "kernelspec": {
   "display_name": "coursera",
   "language": "python",
   "name": "python3"
  },
  "language_info": {
   "codemirror_mode": {
    "name": "ipython",
    "version": 3
   },
   "file_extension": ".py",
   "mimetype": "text/x-python",
   "name": "python",
   "nbconvert_exporter": "python",
   "pygments_lexer": "ipython3",
   "version": "3.10.8"
  }
 },
 "nbformat": 4,
 "nbformat_minor": 2
}
