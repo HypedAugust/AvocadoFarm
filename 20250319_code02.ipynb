{
 "cells": [
  {
   "cell_type": "code",
   "execution_count": 8,
   "metadata": {},
   "outputs": [
    {
     "name": "stdout",
     "output_type": "stream",
     "text": [
      "강빨나나바\n"
     ]
    }
   ],
   "source": [
    "# 문자열 뒤집기 \n",
    "string = '바나나빨강'\n",
    "def solution(string):\n",
    "    result = []\n",
    "    for i in range(len(string)-1, -1,-1):\n",
    "        result.append(string[i])\n",
    "    \n",
    "    return ''.join(result)\n",
    "\n",
    "print(solution(string))\n",
    "\n"
   ]
  },
  {
   "cell_type": "code",
   "execution_count": 2,
   "metadata": {},
   "outputs": [
    {
     "name": "stdout",
     "output_type": "stream",
     "text": [
      "4\n",
      "2\n"
     ]
    }
   ],
   "source": [
    "# 뜨거운 감자 게임 \n",
    "from collections import deque\n",
    "# 여기에 코드를 작성하세요\n",
    "def hot_potato(n, m):\n",
    "    # n: 아이들의 수\n",
    "    # m: 감자가 전달되는 횟수\n",
    "    queue = deque(range(1, n+1))\n",
    "    while len(queue) > 1: \n",
    "        for _ in range(m-1):\n",
    "            queue.append(queue.popleft())\n",
    "        \n",
    "        queue.popleft()\n",
    "    \n",
    "    return queue[0]\n",
    "\n",
    "# 테스트\n",
    "print(hot_potato(5, 3))  # 4가 출력되어야 합니다\n",
    "print(hot_potato(7, 4))  # 출력을 확인해보세요\n"
   ]
  }
 ],
 "metadata": {
  "kernelspec": {
   "display_name": "coursera",
   "language": "python",
   "name": "python3"
  },
  "language_info": {
   "codemirror_mode": {
    "name": "ipython",
    "version": 3
   },
   "file_extension": ".py",
   "mimetype": "text/x-python",
   "name": "python",
   "nbconvert_exporter": "python",
   "pygments_lexer": "ipython3",
   "version": "3.10.8"
  }
 },
 "nbformat": 4,
 "nbformat_minor": 2
}
