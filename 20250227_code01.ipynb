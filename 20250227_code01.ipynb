{
 "cells": [
  {
   "cell_type": "code",
   "execution_count": 1,
   "metadata": {},
   "outputs": [
    {
     "name": "stdout",
     "output_type": "stream",
     "text": [
      "[1, 2, 4, 6, 9]\n"
     ]
    }
   ],
   "source": [
    "# bubble sort \n",
    "input = [4, 6, 2, 9, 1]\n",
    "\n",
    "def bubble_sort(array):\n",
    "    n = len(array)\n",
    "    for i in range(n-1):\n",
    "        for j in range(n-1-i):\n",
    "            if array[j] > array[j+1]:\n",
    "                array[j],array[j+1]= array[j+1], array[j]\n",
    "    return array\n",
    "\n",
    "\n",
    "bubble_sort(input)\n",
    "print(input)  # [1, 2, 4, 6, 9] 가 되어야 합니다!\n",
    "\n"
   ]
  },
  {
   "cell_type": "code",
   "execution_count": null,
   "metadata": {},
   "outputs": [],
   "source": [
    "def selection_sort(array):\n",
    "    n = len(array)\n",
    "    for i in range(n-1):\n",
    "        min_index = i\n",
    "        for j in range(i+1, n):  # i+1부터 n까지 탐색\n",
    "            if array[j] < array[min_index]:  # 최소값 찾기\n",
    "                min_index = j\n",
    "        array[i], array[min_index] = array[min_index], array[i]  # swap\n",
    "    return array\n",
    "\n",
    "# 실행 예제\n",
    "input_data = [4, 6, 2, 9, 1]\n",
    "sorted_data = selection_sort(input_data)\n",
    "print(sorted_data)  # [1, 2, 4, 6, 9]\n"
   ]
  },
  {
   "cell_type": "code",
   "execution_count": null,
   "metadata": {},
   "outputs": [],
   "source": [
    "# insertionsort \n",
    "def insertionsort(arr):\n",
    "    for i in range(1, len(arr)):\n",
    "        for j in range(i):\n",
    "            if arr[i-j-1] > arr[i-j]:\n",
    "                arr[i-j-1],arr[i-j] = arr[i-j],arr[i-j-1]\n",
    "            else:\n",
    "                break\n",
    "    return arr\n",
    "\n",
    "def insertionsort(arr):  \n",
    "    for i in range(1, len(arr)):  \n",
    "        j = i  \n",
    "        while j > 0 and arr[j-1] > arr[j]:  # j=0이 되면 멈춤!\n",
    "            arr[j-1], arr[j] = arr[j], arr[j-1]  # swap\n",
    "            j -= 1  # 왼쪽으로 한 칸 이동\n",
    "    return arr\n"
   ]
  }
 ],
 "metadata": {
  "kernelspec": {
   "display_name": "transfer",
   "language": "python",
   "name": "python3"
  },
  "language_info": {
   "codemirror_mode": {
    "name": "ipython",
    "version": 3
   },
   "file_extension": ".py",
   "mimetype": "text/x-python",
   "name": "python",
   "nbconvert_exporter": "python",
   "pygments_lexer": "ipython3",
   "version": "3.10.16"
  }
 },
 "nbformat": 4,
 "nbformat_minor": 2
}
