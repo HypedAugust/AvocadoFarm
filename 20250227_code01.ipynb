{
 "cells": [
  {
   "cell_type": "code",
   "execution_count": 1,
   "metadata": {},
   "outputs": [
    {
     "name": "stdout",
     "output_type": "stream",
     "text": [
      "[1, 2, 4, 6, 9]\n"
     ]
    }
   ],
   "source": [
    "# bubble sort \n",
    "input = [4, 6, 2, 9, 1]\n",
    "\n",
    "def bubble_sort(array):\n",
    "    n = len(array)\n",
    "    for i in range(n-1):\n",
    "        for j in range(n-1-i):\n",
    "            if array[j] > array[j+1]:\n",
    "                array[j],array[j+1]= array[j+1], array[j]\n",
    "    return array\n",
    "\n",
    "\n",
    "bubble_sort(input)\n",
    "print(input)  # [1, 2, 4, 6, 9] 가 되어야 합니다!\n",
    "\n"
   ]
  },
  {
   "cell_type": "code",
   "execution_count": null,
   "metadata": {},
   "outputs": [],
   "source": [
    "# selection sort \n",
    "input = [4, 6, 2, 9, 1]\n",
    "\n",
    "\n",
    "def selection_sort(array):\n",
    "    n = len(array)\n",
    "    for i in range(n-1):\n",
    "        min_index  = i\n",
    "        for j in range(n-1-i):\n",
    "            if array[i+j] < array[min_index]:\n",
    "                min_index = i+j\n",
    "        array[i], array[min_index]= array[min_index], array[i]\n",
    "\n",
    "\n",
    "    return array\n"
   ]
  },
  {
   "cell_type": "code",
   "execution_count": null,
   "metadata": {},
   "outputs": [],
   "source": [
    "# insertionsort \n",
    "def insertionsort(arr):\n",
    "    for i in range(1, len(arr)):\n",
    "        for j in range(i):\n",
    "            if arr[i-j-1] > arr[i-j]:\n",
    "                arr[i-j-1],arr[i-j] = arr[i-j],arr[i-j-1]\n",
    "            else:\n",
    "                break\n",
    "    return arr"
   ]
  }
 ],
 "metadata": {
  "kernelspec": {
   "display_name": "transfer",
   "language": "python",
   "name": "python3"
  },
  "language_info": {
   "codemirror_mode": {
    "name": "ipython",
    "version": 3
   },
   "file_extension": ".py",
   "mimetype": "text/x-python",
   "name": "python",
   "nbconvert_exporter": "python",
   "pygments_lexer": "ipython3",
   "version": "3.10.16"
  }
 },
 "nbformat": 4,
 "nbformat_minor": 2
}
