{
 "cells": [
  {
   "cell_type": "code",
   "execution_count": null,
   "metadata": {},
   "outputs": [],
   "source": [
    "def solution(clothes):\n",
    "    catecount = {}\n",
    "    \n",
    "    for item, category in clothes:\n",
    "        if category not in catecount:\n",
    "            catecount[category] = 2\n",
    "        else:\n",
    "            catecount[category] += 1\n",
    "    \n",
    "    totalcomb = 1\n",
    "    for i in catecount.values():\n",
    "        totalcomb *= i \n",
    "    \n",
    "    return totalcomb - 1\n",
    "    \n",
    "    "
   ]
  },
  {
   "cell_type": "code",
   "execution_count": null,
   "metadata": {},
   "outputs": [],
   "source": [
    "def solution(s):\n",
    "    stack = []\n",
    "    \n",
    "    for i in s:\n",
    "        if i == \"(\":\n",
    "            stack.append(i)\n",
    "        elif i == \")\":\n",
    "            if not stack: \n",
    "                return False\n",
    "            stack.pop()\n",
    "    \n",
    "    return stack == []"
   ]
  },
  {
   "cell_type": "code",
   "execution_count": null,
   "metadata": {},
   "outputs": [],
   "source": [
    "from collections import deque\n",
    "import math\n",
    "def solution(progresses, speeds):\n",
    "    answer = []\n",
    "\n",
    "    days_left = deque()\n",
    "    for i in range(len(progresses)):\n",
    "        remainingwork = 100 - progresses[i]\n",
    "        days_needed = math.ceil(remainingwork/speeds[i])\n",
    "        days_left.append(days_needed)\n",
    "\n",
    "        while days_left: # days left 에 들어있는게 [7,3,9] 라고 가정하자\n",
    "            count = 1 # 지금 출시할거 첫번째니까 1임 \n",
    "            first_day = days_left.popleft() # 첫 번째 날은 7이고 이거를 뽑음. \n",
    "\n",
    "            while days_left and days_left[0] <= first_day: # daysleft 에 남은거이자 남은것의 첫숫자인 3과 방금 뽑은 7일 비교한다.\n",
    "                count += 1 # 3이 7보다 작으니까 1을 올려줌. \n",
    "                days_left.popleft() # 3을 뽑아준다. \n",
    "            \n",
    "            answer.append(count)\n",
    "        \n",
    "        return answer "
   ]
  }
 ],
 "metadata": {
  "language_info": {
   "name": "python"
  }
 },
 "nbformat": 4,
 "nbformat_minor": 2
}
