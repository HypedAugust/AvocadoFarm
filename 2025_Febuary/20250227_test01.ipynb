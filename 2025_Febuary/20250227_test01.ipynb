{
 "cells": [
  {
   "cell_type": "code",
   "execution_count": null,
   "metadata": {},
   "outputs": [],
   "source": [
    "import math\n",
    "\n",
    "def solution(progresses, speeds):\n",
    "    answer = []\n",
    "\n",
    "    # 각 기능이 배포될 때까지 걸리는 남은 일수 계산\n",
    "    progressleft = [math.ceil((100 - progresses[i]) / speeds[i]) for i in range(len(progresses))]\n",
    "    print(f\"남은 작업 일수: {progressleft}\")  # 디버깅용 출력\n",
    "    \n",
    "    count = 1\n",
    "    first_day = progressleft[0]  # 첫 번째 배포 기준 날짜\n",
    "\n",
    "    for k in range(1, len(progressleft)):  # 1부터 끝까지 탐색\n",
    "        if progressleft[k] <= first_day:  # 같은 날 배포할 수 있는 경우\n",
    "            count += 1\n",
    "        else:  # 새로운 배포 그룹 시작\n",
    "            answer.append(count)  # 이전까지의 배포 그룹 개수 저장\n",
    "            count = 1  # 새로운 그룹 시작\n",
    "            first_day = progressleft[k]  # 새로운 배포 기준 날짜 설정\n",
    "\n",
    "    answer.append(count)  # 마지막 배포 그룹 추가 \n",
    "    return answer\n"
   ]
  },
  {
   "cell_type": "code",
   "execution_count": null,
   "metadata": {},
   "outputs": [],
   "source": [
    "import math\n",
    "\n",
    "def solution(progresses, speeds):\n",
    "    answer = []\n",
    "    releasedate = []\n",
    "\n",
    "    # 🚀 각 작업의 배포까지 걸리는 남은 일수 계산\n",
    "    for i in range(len(progresses)):  \n",
    "        days_left = math.ceil((100 - progresses[i]) / speeds[i])  # 올바른 계산 적용\n",
    "        releasedate.append(days_left)  # 남은 날짜 리스트에 추가\n",
    "\n",
    "    print(f\"🚀 작업별 배포 일수: {releasedate}\")  # 디버깅용\n",
    "\n",
    "    # 🚀 배포 가능한 기능 묶음 계산\n",
    "    count = 1  # 첫 번째 기능 배포 카운트\n",
    "    date1 = releasedate[0]  # 첫 번째 기능의 배포 기준일\n",
    "\n",
    "    for k in range(1, len(releasedate)):  # 두 번째 기능부터 순회\n",
    "        if releasedate[k] <= date1:  # 현재 기능이 같은 날 배포될 수 있는 경우\n",
    "            count += 1  # 같은 날 배포할 기능 개수 증가\n",
    "        else:  # 새로운 배포 시작\n",
    "            answer.append(count)  # 이전 배포 그룹 추가\n",
    "            count = 1  # 새로운 배포 그룹 초기화\n",
    "            date1 = releasedate[k]  # 새로운 배포 기준 업데이트\n",
    "\n",
    "    answer.append(count)  # 마지막 배포 그룹 추가\n",
    "\n",
    "    return answer\n"
   ]
  }
 ],
 "metadata": {
  "language_info": {
   "name": "python"
  }
 },
 "nbformat": 4,
 "nbformat_minor": 2
}
