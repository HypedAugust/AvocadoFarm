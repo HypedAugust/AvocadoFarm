{
 "cells": [
  {
   "cell_type": "code",
   "execution_count": null,
   "metadata": {},
   "outputs": [],
   "source": [
    "top_heights = [6, 9, 5, 7, 4]\n",
    "\n",
    "\n",
    "def get_receiver_top_orders(heights):\n",
    "    answer = [0] * len(heights)\n",
    "    while heights:\n",
    "        height = heights.pop()\n",
    "        for idx in range(len(heights) - 1, -1, -1): # 여기서 두번째 -1은 뭐야.\n",
    "            if height <= heights[idx]:\n",
    "                answer[len(heights)] = idx + 1\n",
    "                break\n",
    "    return answer\n",
    "\n",
    "\n",
    "print(get_receiver_top_orders(top_heights))  # [0, 0, 2, 2, 4] 가 반환되어야 한다!\n",
    "\n",
    "print(\"정답 = [0, 0, 2, 2, 4] / 현재 풀이 값 = \",get_receiver_top_orders([6,9,5,7,4]))\n",
    "print(\"정답 = [0, 0, 0, 3, 3, 3, 6] / 현재 풀이 값 = \",get_receiver_top_orders([3,9,9,3,5,7,2]))\n",
    "print(\"정답 = [0, 0, 2, 0, 0, 5, 6] / 현재 풀이 값 = \",get_receiver_top_orders([1,5,3,6,7,6,5]))"
   ]
  },
  {
   "cell_type": "code",
   "execution_count": null,
   "metadata": {},
   "outputs": [],
   "source": [
    "def solution(numbers, target):\n",
    "    # DFS 탐색 함수\n",
    "    def dfs(index, total):\n",
    "        if index == len(numbers):  # 모든 숫자를 사용했을 때\n",
    "            return 1 if total == target else 0  # 목표값이면 1 반환, 아니면 0 반환\n",
    "\n",
    "        # 현재 숫자를 더하거나 빼는 두 가지 경우를 탐색\n",
    "        count1 = dfs(index + 1, total + numbers[index])  # 더하기\n",
    "        count2 = dfs(index + 1, total - numbers[index])  # 빼기\n",
    "        return count1 + count2  # 두 경우의 합 반환\n",
    "\n",
    "    return dfs(0, 0)  # 탐색 시작\n"
   ]
  }
 ],
 "metadata": {
  "language_info": {
   "name": "python"
  }
 },
 "nbformat": 4,
 "nbformat_minor": 2
}
