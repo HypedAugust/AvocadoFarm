{
 "cells": [
  {
   "cell_type": "code",
   "execution_count": null,
   "metadata": {},
   "outputs": [],
   "source": [
    "def solution(people, limit):\n",
    "    people.sort()\n",
    "\n",
    "    left = 0\n",
    "    right = len(people)-1 \n",
    "    boatcount = 0\n",
    "\n",
    "    while left <= right:\n",
    "        if people[left] + people[right] <= limit: \n",
    "            left += 1\n",
    "        right -= 1 \n",
    "        boatcount +=1\n",
    "    \n",
    "    return boatcount\n"
   ]
  }
 ],
 "metadata": {
  "language_info": {
   "name": "python"
  }
 },
 "nbformat": 4,
 "nbformat_minor": 2
}
