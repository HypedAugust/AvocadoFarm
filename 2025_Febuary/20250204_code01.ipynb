{
 "cells": [
  {
   "cell_type": "code",
   "execution_count": 1,
   "metadata": {},
   "outputs": [
    {
     "name": "stdout",
     "output_type": "stream",
     "text": [
      "c:\\Users\\82106\\Documents\\GitHub\\AvocadoFarm\n"
     ]
    }
   ],
   "source": [
    "import os \n",
    "print(os.getcwd())"
   ]
  },
  {
   "cell_type": "code",
   "execution_count": 2,
   "metadata": {},
   "outputs": [
    {
     "name": "stdout",
     "output_type": "stream",
     "text": [
      "['.git', '2024_August', '2024_December', '2024_July', '2024_November', '2024_October', '2024_September', '20250202_code01.ipynb', '20250203_code01.ipynb', '20250203_code02.ipynb', '20250204_code01.ipynb', '2025_January', 'transfer']\n"
     ]
    }
   ],
   "source": [
    "items = os.listdir()\n",
    "print(items)"
   ]
  },
  {
   "cell_type": "code",
   "execution_count": 5,
   "metadata": {},
   "outputs": [
    {
     "name": "stdout",
     "output_type": "stream",
     "text": [
      "yes\n"
     ]
    }
   ],
   "source": [
    "if os.path.exists('2024_August'):\n",
    "    print('yes')\n",
    "else:\n",
    "    print('no')"
   ]
  },
  {
   "cell_type": "code",
   "execution_count": 6,
   "metadata": {},
   "outputs": [
    {
     "name": "stdout",
     "output_type": "stream",
     "text": [
      "2025_January\\20250104_code01.ipynb\n",
      "2025_January\\20250105_code01.ipynb\n",
      "2025_January\\20250106_code01.ipynb\n",
      "2025_January\\20250107_code01.ipynb\n",
      "2025_January\\20250108_code01.ipynb\n",
      "2025_January\\20250109_code01.ipynb\n",
      "2025_January\\20250113_code01.ipynb\n",
      "2025_January\\20250114_code01.ipynb\n",
      "2025_January\\20250115_code01.ipynb\n",
      "2025_January\\20250117_code01.ipynb\n",
      "2025_January\\20250119_code01.ipynb\n",
      "2025_January\\20250119_test_prep01.ipynb\n",
      "2025_January\\20250120_code01.ipynb\n",
      "2025_January\\20250120_code02.ipynb\n",
      "2025_January\\20250123_code01.ipynb\n",
      "2025_January\\20250124_code01.ipynb\n",
      "2025_January\\20250125_code01.ipynb\n",
      "2025_January\\20250126_code01.ipynb\n",
      "2025_January\\20250127_code01.ipynb\n",
      "2025_January\\20250129_code01.ipynb\n",
      "2025_January\\fetaqa.jsonl\n",
      "2025_January\\snarks.json\n"
     ]
    }
   ],
   "source": [
    "for root, dirs, files in os.walk('2025_January'): # os walk 쓸때 원래 root dir file다 찾아야해? \n",
    "    for file in files:\n",
    "        print(os.path.join(root, file))"
   ]
  },
  {
   "cell_type": "code",
   "execution_count": 7,
   "metadata": {},
   "outputs": [
    {
     "name": "stdout",
     "output_type": "stream",
     "text": [
      "api_key\n"
     ]
    }
   ],
   "source": [
    "api_key = os.getenv('api_key', 'default_value')\n",
    "print('api_key')"
   ]
  },
  {
   "cell_type": "code",
   "execution_count": null,
   "metadata": {},
   "outputs": [],
   "source": [
    "os.makedirs('results/plots',exist_ok=True)\n",
    "save_path = os.path.join('results', 'model.pt')"
   ]
  },
  {
   "cell_type": "code",
   "execution_count": 8,
   "metadata": {},
   "outputs": [
    {
     "name": "stdout",
     "output_type": "stream",
     "text": [
      "abc\n"
     ]
    }
   ],
   "source": [
    "import re \n",
    "pattern = r'[a-z]+'\n",
    "text = 'abc123XYZ'\n",
    "match_obj = re.search(pattern, text)\n",
    "print(match_obj.group())"
   ]
  },
  {
   "cell_type": "code",
   "execution_count": 10,
   "metadata": {},
   "outputs": [
    {
     "name": "stdout",
     "output_type": "stream",
     "text": [
      "[]\n"
     ]
    }
   ],
   "source": [
    "text = 'abc123XYZ'\n",
    "all_matches = re.findall(r'\\\\d+', text)\n",
    "print(all_matches)"
   ]
  },
  {
   "cell_type": "code",
   "execution_count": 14,
   "metadata": {},
   "outputs": [
    {
     "ename": "AttributeError",
     "evalue": "'NoneType' object has no attribute 'group'",
     "output_type": "error",
     "traceback": [
      "\u001b[1;31m---------------------------------------------------------------------------\u001b[0m",
      "\u001b[1;31mAttributeError\u001b[0m                            Traceback (most recent call last)",
      "Cell \u001b[1;32mIn[14], line 3\u001b[0m\n\u001b[0;32m      1\u001b[0m pattern \u001b[38;5;241m=\u001b[39m \u001b[38;5;124mr\u001b[39m\u001b[38;5;124m'\u001b[39m\u001b[38;5;124m([a-z]+)(\u001b[39m\u001b[38;5;130;01m\\\\\u001b[39;00m\u001b[38;5;124md+)\u001b[39m\u001b[38;5;124m'\u001b[39m\n\u001b[0;32m      2\u001b[0m result \u001b[38;5;241m=\u001b[39m re\u001b[38;5;241m.\u001b[39msearch(pattern, text)\n\u001b[1;32m----> 3\u001b[0m \u001b[38;5;28mprint\u001b[39m(\u001b[43mresult\u001b[49m\u001b[38;5;241;43m.\u001b[39;49m\u001b[43mgroup\u001b[49m(\u001b[38;5;241m1\u001b[39m))  \u001b[38;5;66;03m# 'abc'\u001b[39;00m\n\u001b[0;32m      4\u001b[0m \u001b[38;5;28mprint\u001b[39m(result\u001b[38;5;241m.\u001b[39mgroup(\u001b[38;5;241m2\u001b[39m))  \u001b[38;5;66;03m# '123'\u001b[39;00m\n",
      "\u001b[1;31mAttributeError\u001b[0m: 'NoneType' object has no attribute 'group'"
     ]
    }
   ],
   "source": [
    "pattern = r'([a-z]+)(\\\\d+)'\n",
    "result = re.search(pattern, text)\n",
    "print(result.group(1))  # 'abc'\n",
    "print(result.group(2))  # '123'\n"
   ]
  },
  {
   "cell_type": "code",
   "execution_count": 15,
   "metadata": {},
   "outputs": [
    {
     "name": "stdout",
     "output_type": "stream",
     "text": [
      "***123XYZ\n"
     ]
    }
   ],
   "source": [
    "new_text = re.sub(r'[a-z]+', '***', text)\n",
    "print(new_text)  # \"***123XYZ\"\n"
   ]
  },
  {
   "cell_type": "code",
   "execution_count": 16,
   "metadata": {},
   "outputs": [
    {
     "ename": "AttributeError",
     "evalue": "'NoneType' object has no attribute 'group'",
     "output_type": "error",
     "traceback": [
      "\u001b[1;31m---------------------------------------------------------------------------\u001b[0m",
      "\u001b[1;31mAttributeError\u001b[0m                            Traceback (most recent call last)",
      "Cell \u001b[1;32mIn[16], line 4\u001b[0m\n\u001b[0;32m      1\u001b[0m \u001b[38;5;28;01mimport\u001b[39;00m\u001b[38;5;250m \u001b[39m\u001b[38;5;21;01mre\u001b[39;00m\n\u001b[0;32m      3\u001b[0m match \u001b[38;5;241m=\u001b[39m re\u001b[38;5;241m.\u001b[39msearch(\u001b[38;5;124mr\u001b[39m\u001b[38;5;124m'\u001b[39m\u001b[38;5;124m(\u001b[39m\u001b[38;5;130;01m\\\\\u001b[39;00m\u001b[38;5;124md+)-(\u001b[39m\u001b[38;5;130;01m\\\\\u001b[39;00m\u001b[38;5;124md+)\u001b[39m\u001b[38;5;124m'\u001b[39m, \u001b[38;5;124m'\u001b[39m\u001b[38;5;124m123-456\u001b[39m\u001b[38;5;124m'\u001b[39m)\n\u001b[1;32m----> 4\u001b[0m \u001b[38;5;28mprint\u001b[39m(\u001b[43mmatch\u001b[49m\u001b[38;5;241;43m.\u001b[39;49m\u001b[43mgroup\u001b[49m(\u001b[38;5;241m1\u001b[39m)) \u001b[38;5;66;03m# '123'\u001b[39;00m\n\u001b[0;32m      5\u001b[0m \u001b[38;5;28mprint\u001b[39m(match\u001b[38;5;241m.\u001b[39mgroup(\u001b[38;5;241m2\u001b[39m)) \u001b[38;5;66;03m# '456'\u001b[39;00m\n",
      "\u001b[1;31mAttributeError\u001b[0m: 'NoneType' object has no attribute 'group'"
     ]
    }
   ],
   "source": [
    "import re\n",
    "\n",
    "match = re.search(r'(\\\\d+)-(\\\\d+)', '123-456')\n",
    "print(match.group(1)) # '123'\n",
    "print(match.group(2)) # '456'"
   ]
  },
  {
   "cell_type": "code",
   "execution_count": null,
   "metadata": {},
   "outputs": [],
   "source": []
  }
 ],
 "metadata": {
  "kernelspec": {
   "display_name": "coursera",
   "language": "python",
   "name": "python3"
  },
  "language_info": {
   "codemirror_mode": {
    "name": "ipython",
    "version": 3
   },
   "file_extension": ".py",
   "mimetype": "text/x-python",
   "name": "python",
   "nbconvert_exporter": "python",
   "pygments_lexer": "ipython3",
   "version": "3.10.8"
  }
 },
 "nbformat": 4,
 "nbformat_minor": 2
}
