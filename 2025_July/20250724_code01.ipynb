{
 "cells": [
  {
   "cell_type": "code",
   "execution_count": 11,
   "id": "d49fa863",
   "metadata": {},
   "outputs": [],
   "source": [
    "# 차트만들기 \n",
    "\n",
    "from openpyxl import load_workbook \n",
    "wb = load_workbook(\"sample.xlsx\")\n",
    "ws = wb.active\n",
    "\n",
    "from openpyxl.chart import BarChart, Reference, LineChart\n",
    "# bar_value = Reference(ws, min_row=2, max_row=11, min_col=2, max_col=3)\n",
    "# bar_chart = BarChart()\n",
    "# bar_chart.add_data(bar_value)\n",
    "# ws.add_chart(bar_chart, \"E1\")\n",
    "\n",
    "line_value = Reference(ws, min_row=1, max_row=11, min_col=2, max_col=3)\n",
    "line_chart = LineChart()\n",
    "line_chart.add_data(line_value, titles_from_data=True)\n",
    "line_chart.title = \"성적표\"\n",
    "line_chart.style = 10 \n",
    "line_chart.y_axis.title = \"점수\"\n",
    "line_chart.x_axis.title = \"번호\"\n",
    "ws.add_chart(line_chart, \"E1\")\n",
    "wb.save(\"sample_chart.xlsx\")"
   ]
  }
 ],
 "metadata": {
  "kernelspec": {
   "display_name": "iclr",
   "language": "python",
   "name": "python3"
  },
  "language_info": {
   "codemirror_mode": {
    "name": "ipython",
    "version": 3
   },
   "file_extension": ".py",
   "mimetype": "text/x-python",
   "name": "python",
   "nbconvert_exporter": "python",
   "pygments_lexer": "ipython3",
   "version": "3.10.16"
  }
 },
 "nbformat": 4,
 "nbformat_minor": 5
}
