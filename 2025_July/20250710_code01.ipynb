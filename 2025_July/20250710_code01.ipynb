{
 "cells": [
  {
   "cell_type": "code",
   "execution_count": 21,
   "id": "3aa63ab9",
   "metadata": {},
   "outputs": [],
   "source": [
    "# 셀을 컨트롤 하는 방법\n",
    "from openpyxl import Workbook\n",
    "wb = Workbook()\n",
    "ws = wb.active \n",
    "ws.title = \"NadoSheet\""
   ]
  },
  {
   "cell_type": "code",
   "execution_count": 22,
   "id": "807d898b",
   "metadata": {},
   "outputs": [],
   "source": [
    "# A1 셀에 1 이라는 값을 입력 \n",
    "\n",
    "ws[\"A1\"] = 1\n",
    "ws[\"A2\"] = 2\n",
    "ws[\"A3\"] = 3\n",
    "\n",
    "ws[\"B1\"] = 4\n",
    "ws[\"B2\"] = 5\n",
    "ws[\"B3\"] = 6\n",
    "\n",
    "wb.save(\"sample.xlsx\")\n"
   ]
  },
  {
   "cell_type": "code",
   "execution_count": 23,
   "id": "ae4226e4",
   "metadata": {},
   "outputs": [
    {
     "name": "stdout",
     "output_type": "stream",
     "text": [
      "<Cell 'NadoSheet'.A1>\n",
      "1\n",
      "None\n",
      "1\n"
     ]
    }
   ],
   "source": [
    "print(ws['A1']) # A1 셀의 정보를 출력 \n",
    "print(ws['A1'].value) # A1 셀의 값을 출력 \n",
    "print(ws['A10'].value) # 값이 없을 땐 'None'을 출력 \n",
    "\n",
    "# row = 1,2,3\n",
    "# colum = A(1), B(2)... \n",
    "print(ws.cell(row=1, column=1).value)"
   ]
  },
  {
   "cell_type": "code",
   "execution_count": 24,
   "id": "9bb17dc7",
   "metadata": {},
   "outputs": [
    {
     "name": "stdout",
     "output_type": "stream",
     "text": [
      "10\n"
     ]
    }
   ],
   "source": [
    "c = ws.cell(column = 3, row =1, value = 10) # C1에 10\n",
    "print(c.value)\n",
    "\n",
    "wb.save(\"sample.xlsx\")"
   ]
  },
  {
   "cell_type": "code",
   "execution_count": 26,
   "id": "cfb931ac",
   "metadata": {},
   "outputs": [],
   "source": [
    "from random import *\n",
    "# 반복문써서 렌덤숫자 채우기 \n",
    "\n",
    "index = 1\n",
    "\n",
    "for x in range(1,11): # 10개 row\n",
    "    for y in range(1, 11): # 10개 column\n",
    "        #ws.cell(row=x, column=y, value=randint(0,100))\n",
    "        ws.cell(row=x, column=y, value=index)\n",
    "        index += 1\n",
    "wb.save(\"sample.xlsx\")"
   ]
  }
 ],
 "metadata": {
  "kernelspec": {
   "display_name": "iclr",
   "language": "python",
   "name": "python3"
  },
  "language_info": {
   "codemirror_mode": {
    "name": "ipython",
    "version": 3
   },
   "file_extension": ".py",
   "mimetype": "text/x-python",
   "name": "python",
   "nbconvert_exporter": "python",
   "pygments_lexer": "ipython3",
   "version": "3.10.16"
  }
 },
 "nbformat": 4,
 "nbformat_minor": 5
}
