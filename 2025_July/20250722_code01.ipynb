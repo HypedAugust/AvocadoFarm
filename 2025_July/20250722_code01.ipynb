{
 "cells": [
  {
   "cell_type": "code",
   "execution_count": 4,
   "id": "1e9114f2",
   "metadata": {},
   "outputs": [],
   "source": [
    "from openpyxl import load_workbook \n",
    "wb = load_workbook(\"sample.xlsx\")\n",
    "ws = wb.active \n",
    "\n",
    "ws.insert_rows(8) # 8번줄에 새로운 줄이 삽입이 됨. \n",
    "ws.insert_rows(8,5) # 8번쨰 줄 위치에 5줄을 추가. \n",
    "\n",
    "ws.insert_cols(2) # B 번쨰 열이 비워짐 \n",
    "wb.save(\"sample_insert_cols.xlsx\")\n",
    "\n",
    "ws.insert_cols(2,3) # B열로 부터 3열 추가 \n",
    "wb.save(\"sample_insert_rows.xlsx\")"
   ]
  }
 ],
 "metadata": {
  "kernelspec": {
   "display_name": "iclr",
   "language": "python",
   "name": "python3"
  },
  "language_info": {
   "codemirror_mode": {
    "name": "ipython",
    "version": 3
   },
   "file_extension": ".py",
   "mimetype": "text/x-python",
   "name": "python",
   "nbconvert_exporter": "python",
   "pygments_lexer": "ipython3",
   "version": "3.10.16"
  }
 },
 "nbformat": 4,
 "nbformat_minor": 5
}
