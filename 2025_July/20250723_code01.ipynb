{
 "cells": [
  {
   "cell_type": "code",
   "execution_count": 14,
   "id": "292ff4df",
   "metadata": {},
   "outputs": [],
   "source": [
    "# 삭제 \n",
    "from openpyxl import load_workbook \n",
    "wb = load_workbook(\"sample.xlsx\")\n",
    "ws = wb.active \n",
    "\n",
    "# ws.delete_rows(8) # 8번쨰 줄에 있는 7번 학생 데이터 삭제 \n",
    "\n",
    "# ws.delete_rows(8,3) # 8번쨰 부터 3줄 삭제 \n",
    "\n",
    "# ws.delete_cols(2) # 2번쨰 열인 B를 삭제 \n",
    "\n",
    "ws.delete_cols(2,2) # 2번째 열로부터 총 2개 열 삭제 \n",
    "wb.save(\"sample_delete_col2.xlsx\")\n"
   ]
  },
  {
   "cell_type": "code",
   "execution_count": 15,
   "id": "d333a44a",
   "metadata": {},
   "outputs": [],
   "source": [
    "# 셀 이동 \n",
    "\n",
    "from openpyxl import load_workbook \n",
    "wb = load_workbook(\"sample.xlsx\")\n",
    "ws = wb.active \n",
    "\n",
    "# 번호 영어 수학 \n",
    "# 번호 (국어) 영어 수학 \n",
    "\n",
    "ws.move_range(\"B1:C11\", rows = 0, cols = 1)\n",
    "ws[\"B1\"].value = \"국어\"\n",
    "wb.save(\"sample_korean.xlsx\")"
   ]
  },
  {
   "cell_type": "code",
   "execution_count": 16,
   "id": "1d074ce3",
   "metadata": {},
   "outputs": [],
   "source": [
    "\n",
    "from openpyxl import load_workbook \n",
    "wb = load_workbook(\"sample.xlsx\")\n",
    "ws = wb.active \n",
    "\n",
    "ws.move_range(\"C1:C11\", rows = 5, cols = -1)\n",
    "wb.save(\"sample_korean.xlsx\")"
   ]
  }
 ],
 "metadata": {
  "kernelspec": {
   "display_name": "iclr",
   "language": "python",
   "name": "python3"
  },
  "language_info": {
   "codemirror_mode": {
    "name": "ipython",
    "version": 3
   },
   "file_extension": ".py",
   "mimetype": "text/x-python",
   "name": "python",
   "nbconvert_exporter": "python",
   "pygments_lexer": "ipython3",
   "version": "3.10.16"
  }
 },
 "nbformat": 4,
 "nbformat_minor": 5
}
