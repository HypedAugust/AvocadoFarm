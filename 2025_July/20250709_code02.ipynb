{
 "cells": [
  {
   "cell_type": "code",
   "execution_count": null,
   "id": "c2cf252d",
   "metadata": {},
   "outputs": [
    {
     "name": "stdout",
     "output_type": "stream",
     "text": [
      "['Sheet', 'Mysheet', 'NewSheet', 'YourSheet']\n"
     ]
    }
   ],
   "source": [
    "# 워크 시트 다루기 \n",
    "from openpyxl import Workbook\n",
    "wb = Workbook()\n",
    "ws = wb.create_sheet() # 새로운 sheet 기본 이름으로 생성 \n",
    "ws.title = 'Mysheet' # Sheet 이름 변경 \n",
    "ws.sheet_properties.tabColor = \"ff66ff\" # RGB 형태로 값을 넣어주면 탭 색상 변경 \n",
    "\n",
    "\n",
    "# sheet, my sheet, new sheet, your sheet\n",
    "ws1 = wb.create_sheet(\"YourSheet\")\n",
    "ws2 = wb.create_sheet(\"NewSheet\", 2) # 2번째 index에 sheet를 생성 \n",
    "\n",
    "new_ws = wb[\"NewSheet\"] # Dict 형태로 Sheet에 접근 \n",
    "\n",
    "print(wb.sheetnames) # s는 소문자 여야한다. \n",
    "\n",
    "wb.save('sample.xlsx')\n",
    "\n",
    "# sheet 복사 \n",
    "new_ws[\"A1\"] = \"Test\"\n",
    "target = wb.copy_worksheet(new_ws)\n",
    "target.title = \"Copied Sheet\"\n",
    "\n",
    "wb.save(\"sample.xlsx\")\n"
   ]
  }
 ],
 "metadata": {
  "kernelspec": {
   "display_name": "iclr",
   "language": "python",
   "name": "python3"
  },
  "language_info": {
   "codemirror_mode": {
    "name": "ipython",
    "version": 3
   },
   "file_extension": ".py",
   "mimetype": "text/x-python",
   "name": "python",
   "nbconvert_exporter": "python",
   "pygments_lexer": "ipython3",
   "version": "3.10.16"
  }
 },
 "nbformat": 4,
 "nbformat_minor": 5
}
