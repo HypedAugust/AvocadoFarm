{
 "cells": [
  {
   "cell_type": "code",
   "execution_count": 1,
   "id": "6eb797c5",
   "metadata": {},
   "outputs": [
    {
     "name": "stdout",
     "output_type": "stream",
     "text": [
      "영어\n",
      "30\n",
      "48\n",
      "91\n",
      "34\n",
      "57\n",
      "80\n",
      "66\n",
      "7\n",
      "9\n",
      "28\n",
      "영어\n",
      "30\n",
      "48\n",
      "91\n",
      "34\n",
      "57\n",
      "80\n",
      "66\n",
      "7\n",
      "9\n",
      "28\n",
      "수학\n",
      "6\n",
      "76\n",
      "66\n",
      "1\n",
      "52\n",
      "63\n",
      "65\n",
      "90\n",
      "16\n",
      "44\n"
     ]
    }
   ],
   "source": [
    "# 셀을 한번에 가져오기 \n",
    "\n",
    "from openpyxl import Workbook\n",
    "from random import*\n",
    "\n",
    "wb = Workbook()\n",
    "ws = wb.active\n",
    "\n",
    "# 1줄씩 데이터 넣기 \n",
    "ws.append(['번호', '영어', '수학'])\n",
    "\n",
    "for i in range(1,11): # 10개 데이터 넣기 \n",
    "    ws.append([i,randint(0,100),randint(0,100)])\n",
    "\n",
    "Col_B = ws['B'] # 영어 column만 가져오기 \n",
    "# print(Col_B)\n",
    "for cell in Col_B:\n",
    "    print(cell.value)\n",
    "\n",
    "col_range = ws['B:C'] # 영어, 수학 column 함께 가지고 오기\n",
    "for cols in col_range:\n",
    "    for cell in cols:\n",
    "        print(cell.value)\n",
    "\n",
    "wb.save('sample.xlsx')\n"
   ]
  },
  {
   "cell_type": "code",
   "execution_count": 2,
   "id": "60019b2d",
   "metadata": {},
   "outputs": [
    {
     "name": "stdout",
     "output_type": "stream",
     "text": [
      "번호\n",
      "영어\n",
      "수학\n",
      "1 30 6 \n",
      "2 48 76 \n",
      "3 91 66 \n",
      "4 34 1 \n",
      "5 57 52 \n"
     ]
    }
   ],
   "source": [
    "# row 가져오는 법 \n",
    "row_title = ws[1]\n",
    "for cell in row_title:\n",
    "    print(cell.value)\n",
    "\n",
    "row_range = ws[2:6] # 이 슬라이싱에서는 6줄을 포함한다. \n",
    "for rows in row_range:\n",
    "    for cell in rows:\n",
    "        print(cell.value, end = \" \")\n",
    "    print()\n",
    "\n",
    "\n",
    "\n",
    "wb.save('sample.xlsx')"
   ]
  },
  {
   "cell_type": "code",
   "execution_count": 3,
   "id": "16141e62",
   "metadata": {},
   "outputs": [
    {
     "name": "stdout",
     "output_type": "stream",
     "text": [
      "('A', 2) ('B', 2) ('C', 2) \n",
      "('A', 3) ('B', 3) ('C', 3) \n",
      "('A', 4) ('B', 4) ('C', 4) \n",
      "('A', 5) ('B', 5) ('C', 5) \n",
      "('A', 6) ('B', 6) ('C', 6) \n",
      "('A', 7) ('B', 7) ('C', 7) \n",
      "('A', 8) ('B', 8) ('C', 8) \n",
      "('A', 9) ('B', 9) ('C', 9) \n",
      "('A', 10) ('B', 10) ('C', 10) \n",
      "('A', 11) ('B', 11) ('C', 11) \n"
     ]
    }
   ],
   "source": [
    "from openpyxl.utils.cell import coordinate_from_string\n",
    "\n",
    "\n",
    "row_range = ws[2:ws.max_row] # 2번째 줄부터 마지막 줄까지 \n",
    "for rows in row_range:\n",
    "    for cell in rows:\n",
    "        # print(cell.coordinate, end = \" \")\n",
    "        xy = coordinate_from_string(cell.coordinate)\n",
    "        print(xy, end = \" \")\n",
    "    print()\n",
    "\n",
    "wb.save('sample.xlsx')"
   ]
  },
  {
   "cell_type": "code",
   "execution_count": 6,
   "id": "f7ec249b",
   "metadata": {},
   "outputs": [
    {
     "name": "stdout",
     "output_type": "stream",
     "text": [
      "((<Cell 'Sheet'.A1>, <Cell 'Sheet'.B1>, <Cell 'Sheet'.C1>), (<Cell 'Sheet'.A2>, <Cell 'Sheet'.B2>, <Cell 'Sheet'.C2>), (<Cell 'Sheet'.A3>, <Cell 'Sheet'.B3>, <Cell 'Sheet'.C3>), (<Cell 'Sheet'.A4>, <Cell 'Sheet'.B4>, <Cell 'Sheet'.C4>), (<Cell 'Sheet'.A5>, <Cell 'Sheet'.B5>, <Cell 'Sheet'.C5>), (<Cell 'Sheet'.A6>, <Cell 'Sheet'.B6>, <Cell 'Sheet'.C6>), (<Cell 'Sheet'.A7>, <Cell 'Sheet'.B7>, <Cell 'Sheet'.C7>), (<Cell 'Sheet'.A8>, <Cell 'Sheet'.B8>, <Cell 'Sheet'.C8>), (<Cell 'Sheet'.A9>, <Cell 'Sheet'.B9>, <Cell 'Sheet'.C9>), (<Cell 'Sheet'.A10>, <Cell 'Sheet'.B10>, <Cell 'Sheet'.C10>), (<Cell 'Sheet'.A11>, <Cell 'Sheet'.B11>, <Cell 'Sheet'.C11>))\n",
      "영어\n",
      "30\n",
      "48\n",
      "91\n",
      "34\n",
      "57\n",
      "80\n",
      "66\n",
      "7\n",
      "9\n",
      "28\n"
     ]
    }
   ],
   "source": [
    "# 전체 rows \n",
    "print(tuple(ws.rows))\n",
    "wb.save(\"sample.xlsx\")\n",
    "\n",
    "# 전체 columns \n",
    "# print(tuple(ws.columns))\n",
    "\n",
    "for row in tuple(ws.rows):\n",
    "    print(row[1].value)"
   ]
  },
  {
   "cell_type": "code",
   "execution_count": 7,
   "id": "d16e211e",
   "metadata": {},
   "outputs": [
    {
     "name": "stdout",
     "output_type": "stream",
     "text": [
      "영어\n",
      "30\n",
      "48\n",
      "91\n",
      "34\n",
      "57\n",
      "80\n",
      "66\n",
      "7\n",
      "9\n",
      "28\n"
     ]
    }
   ],
   "source": [
    "for row in ws.iter_rows():\n",
    "    print(row[1].value)\n",
    "\n",
    "wb.save(\"sample.xlsx\")"
   ]
  },
  {
   "cell_type": "code",
   "execution_count": 8,
   "id": "87bcec18",
   "metadata": {},
   "outputs": [
    {
     "name": "stdout",
     "output_type": "stream",
     "text": [
      "번호\n",
      "영어\n",
      "수학\n"
     ]
    }
   ],
   "source": [
    "for column in ws.iter_cols():\n",
    "    print(column[0].value) "
   ]
  },
  {
   "cell_type": "code",
   "execution_count": 14,
   "id": "924aa9ea",
   "metadata": {},
   "outputs": [
    {
     "name": "stdout",
     "output_type": "stream",
     "text": [
      "30 6\n",
      "48 76\n",
      "91 66\n",
      "34 1\n",
      "57 52\n",
      "80 63\n",
      "66 65\n",
      "7 90\n",
      "9 16\n",
      "28 44\n"
     ]
    }
   ],
   "source": [
    "for row in ws.iter_rows(min_row=2, max_row=11, min_col=2, max_col=3):\n",
    "    print(row[0].value, row[1].value)"
   ]
  },
  {
   "cell_type": "code",
   "execution_count": 15,
   "id": "bd37b7e5",
   "metadata": {},
   "outputs": [
    {
     "name": "stdout",
     "output_type": "stream",
     "text": [
      "(<Cell 'Sheet'.A1>, <Cell 'Sheet'.A2>, <Cell 'Sheet'.A3>, <Cell 'Sheet'.A4>, <Cell 'Sheet'.A5>)\n",
      "(<Cell 'Sheet'.B1>, <Cell 'Sheet'.B2>, <Cell 'Sheet'.B3>, <Cell 'Sheet'.B4>, <Cell 'Sheet'.B5>)\n",
      "(<Cell 'Sheet'.C1>, <Cell 'Sheet'.C2>, <Cell 'Sheet'.C3>, <Cell 'Sheet'.C4>, <Cell 'Sheet'.C5>)\n"
     ]
    }
   ],
   "source": [
    "for col in ws.iter_cols(min_row=1, max_row=5, min_col=1, max_col=3):\n",
    "    print(col)"
   ]
  }
 ],
 "metadata": {
  "kernelspec": {
   "display_name": "iclr",
   "language": "python",
   "name": "python3"
  },
  "language_info": {
   "codemirror_mode": {
    "name": "ipython",
    "version": 3
   },
   "file_extension": ".py",
   "mimetype": "text/x-python",
   "name": "python",
   "nbconvert_exporter": "python",
   "pygments_lexer": "ipython3",
   "version": "3.10.16"
  }
 },
 "nbformat": 4,
 "nbformat_minor": 5
}
