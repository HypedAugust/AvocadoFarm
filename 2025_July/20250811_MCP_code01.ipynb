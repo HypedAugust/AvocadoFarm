{
 "cells": [
  {
   "cell_type": "markdown",
   "id": "e292cdb6",
   "metadata": {},
   "source": [
    "# Introduction\n",
    "\n",
    "- ICL : LLMs can solve new tasks during inference just by seeing some examples\n",
    "- We defined 'task superposition' : LLMs can do several different ICL tasks at the same time in one prompt\n",
    "- Example:\n",
    "    - If you give examples of:\n",
    "    Addition problems\n",
    "    Translations\n",
    "    in the same prompt, the model can:\n",
    "    Solve additions correctly\n",
    "    Translate correctly\n",
    "    Even do the combined task: solve the addition and translate the answer.\n",
    "- Why is this important?\n",
    "It shows LLMs can mix and maintain multiple “mental modes” in parallel, not just switch between them."
   ]
  }
 ],
 "metadata": {
  "kernelspec": {
   "display_name": "iclr",
   "language": "python",
   "name": "python3"
  },
  "language_info": {
   "codemirror_mode": {
    "name": "ipython",
    "version": 3
   },
   "file_extension": ".py",
   "mimetype": "text/x-python",
   "name": "python",
   "nbconvert_exporter": "python",
   "pygments_lexer": "ipython3",
   "version": "3.10.16"
  }
 },
 "nbformat": 4,
 "nbformat_minor": 5
}
