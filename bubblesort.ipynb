{
 "cells": [
  {
   "cell_type": "code",
   "execution_count": 7,
   "metadata": {},
   "outputs": [
    {
     "name": "stdout",
     "output_type": "stream",
     "text": [
      "0 0\n",
      "0 1\n",
      "0 2\n",
      "0 3\n",
      "1 0\n",
      "1 1\n",
      "1 2\n",
      "2 0\n",
      "2 1\n",
      "3 0\n"
     ]
    },
    {
     "data": {
      "text/plain": [
       "[1, 2, 4, 6, 9]"
      ]
     },
     "execution_count": 7,
     "metadata": {},
     "output_type": "execute_result"
    }
   ],
   "source": [
    "input = [4, 6, 2, 9, 1]\n",
    "\n",
    "\n",
    "def bubble_sort(array):\n",
    "    n = len(array)\n",
    "    for i in range(n-1):\n",
    "        for j in range(n-1-i):\n",
    "            print(i,j)\n",
    "            if array[j] > array[j+1]:\n",
    "                array[j], array[j + 1] = array[j + 1], array[j]\n",
    "    return array\n",
    "\n",
    "bubble_sort(input)\n",
    "# print(input)  # [1, 2, 4, 6, 9] 가 되어야 합니다!\n",
    "\n",
    "# print(\"정답 = [1, 2, 4, 6, 9] / 현재 풀이 값 = \",bubble_sort([4, 6, 2, 9, 1]))\n",
    "# print(\"정답 = [-1, 3, 9, 17] / 현재 풀이 값 = \",bubble_sort([3,-1,17,9]))\n",
    "# print(\"정답 = [-3, 32, 44, 56, 100] / 현재 풀이 값 = \",bubble_sort([100,56,-3,32,44]))"
   ]
  },
  {
   "cell_type": "code",
   "execution_count": null,
   "metadata": {},
   "outputs": [],
   "source": []
  }
 ],
 "metadata": {
  "kernelspec": {
   "display_name": "transfer",
   "language": "python",
   "name": "python3"
  },
  "language_info": {
   "codemirror_mode": {
    "name": "ipython",
    "version": 3
   },
   "file_extension": ".py",
   "mimetype": "text/x-python",
   "name": "python",
   "nbconvert_exporter": "python",
   "pygments_lexer": "ipython3",
   "version": "3.10.16"
  }
 },
 "nbformat": 4,
 "nbformat_minor": 2
}
