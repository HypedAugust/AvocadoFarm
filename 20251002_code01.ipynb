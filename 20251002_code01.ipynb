{
 "cells": [
  {
   "cell_type": "code",
   "execution_count": 1,
   "id": "877ccc67",
   "metadata": {},
   "outputs": [
    {
     "name": "stdout",
     "output_type": "stream",
     "text": [
      "111303111\n"
     ]
    }
   ],
   "source": [
    "# 푸드 파이트 대회 \n",
    "def solution(food):\n",
    "    answer = ''\n",
    "    left = \"\"\n",
    "    for index, i in enumerate(food[1:], start=1):\n",
    "        dish_count = i // 2\n",
    "        if dish_count >0:\n",
    "            left += str(index)*dish_count\n",
    "    right = left[::-1]\n",
    "    left+='0'\n",
    "    answer=left + right\n",
    "    return answer\n",
    "\n",
    "food = [1, 7, 1, 2]\n",
    "\n",
    "print(solution(food))\n"
   ]
  },
  {
   "cell_type": "code",
   "execution_count": 4,
   "id": "99156dc1",
   "metadata": {},
   "outputs": [
    {
     "name": "stdout",
     "output_type": "stream",
     "text": [
      "None\n"
     ]
    }
   ],
   "source": [
    "class Node:\n",
    "    def __init__(self,data):\n",
    "        self.data = data\n",
    "        self.next = None\n",
    "node = Node(3)\n",
    "print(node.next)"
   ]
  },
  {
   "cell_type": "code",
   "execution_count": null,
   "id": "e61ebb11",
   "metadata": {},
   "outputs": [],
   "source": [
    "class Node:\n",
    "    def __init__(self,data):\n",
    "        self.data = data\n",
    "        self.next = None\n",
    "\n",
    "class LinkedList:\n",
    "    def __init__(self, value):\n",
    "        self.head = Node(value)\n",
    "    \n",
    "    def append(self, value):\n",
    "        cur = self.head\n",
    "        while cur.next is not None:\n",
    "            cur = cur.next\n",
    "        cur.next = Node(value)\n",
    "    \n",
    "    def print_all(self):\n",
    "        cur = self.head\n",
    "        while cur is not None:\n",
    "            print(cur.data)\n",
    "            cur = cur.next \n",
    "\n",
    "\n"
   ]
  },
  {
   "cell_type": "code",
   "execution_count": null,
   "id": "819fc283",
   "metadata": {},
   "outputs": [],
   "source": []
  }
 ],
 "metadata": {
  "kernelspec": {
   "display_name": "Python 3",
   "language": "python",
   "name": "python3"
  },
  "language_info": {
   "codemirror_mode": {
    "name": "ipython",
    "version": 3
   },
   "file_extension": ".py",
   "mimetype": "text/x-python",
   "name": "python",
   "nbconvert_exporter": "python",
   "pygments_lexer": "ipython3",
   "version": "3.12.3"
  }
 },
 "nbformat": 4,
 "nbformat_minor": 5
}
