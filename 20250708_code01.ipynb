{
 "cells": [
  {
   "cell_type": "code",
   "execution_count": null,
   "id": "2f68420f",
   "metadata": {},
   "outputs": [],
   "source": [
    "# 파일 다루기 \n",
    "# Create file py \n",
    "from openpyxl import Workbook \n",
    "\n",
    "wb = Workbook() # 워크북 생성 \n",
    "ws = wb.active # 활성화된 sheet 가져온다. \n",
    "ws.title = 'Nadosheet' # sheet 이름 변경 \n",
    "wb.save('sample.xlsx')\n",
    "wb.close()"
   ]
  }
 ],
 "metadata": {
  "kernelspec": {
   "display_name": "iclr",
   "language": "python",
   "name": "python3"
  },
  "language_info": {
   "codemirror_mode": {
    "name": "ipython",
    "version": 3
   },
   "file_extension": ".py",
   "mimetype": "text/x-python",
   "name": "python",
   "nbconvert_exporter": "python",
   "pygments_lexer": "ipython3",
   "version": "3.10.16"
  }
 },
 "nbformat": 4,
 "nbformat_minor": 5
}
