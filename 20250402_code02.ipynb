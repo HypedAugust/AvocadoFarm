{
 "cells": [
  {
   "cell_type": "code",
   "execution_count": 4,
   "metadata": {},
   "outputs": [
    {
     "name": "stdout",
     "output_type": "stream",
     "text": [
      "mislav\n"
     ]
    }
   ],
   "source": [
    "participant = [\"mislav\", \"stanko\", \"mislav\", \"ana\"]\n",
    "\n",
    "completion = [\"stanko\", \"ana\", \"mislav\"] # \"mislav\"\n",
    "\n",
    "def solution(participant, completion):\n",
    "    dic = {}\n",
    "    for person in participant:\n",
    "        if person in dic:\n",
    "            dic[person] += 1\n",
    "        else:\n",
    "            dic[person] = 1\n",
    "    \n",
    "    for person in completion:\n",
    "        dic[person] -= 1\n",
    "    \n",
    "    for person in dic:\n",
    "        if dic[person] > 0:\n",
    "            return person\n",
    "\n",
    "print(solution(participant, completion))"
   ]
  },
  {
   "cell_type": "code",
   "execution_count": null,
   "metadata": {},
   "outputs": [],
   "source": []
  }
 ],
 "metadata": {
  "kernelspec": {
   "display_name": "Python 3",
   "language": "python",
   "name": "python3"
  },
  "language_info": {
   "codemirror_mode": {
    "name": "ipython",
    "version": 3
   },
   "file_extension": ".py",
   "mimetype": "text/x-python",
   "name": "python",
   "nbconvert_exporter": "python",
   "pygments_lexer": "ipython3",
   "version": "3.11.9"
  }
 },
 "nbformat": 4,
 "nbformat_minor": 2
}
