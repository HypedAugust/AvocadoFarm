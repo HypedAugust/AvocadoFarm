{
 "cells": [
  {
   "cell_type": "markdown",
   "id": "261e9d7c",
   "metadata": {},
   "source": [
    "\n",
    "[컨설팅 방법론]\n",
    "\n",
    "1) 관리회계를 파악할 수 있어야 한다. \n",
    "\n",
    "2) PMP 자격증 고려할 것 \n",
    "\n",
    "3) 컨설턴트형 영업(Consultative Sales)이란, 고객의 니즈를 청취하며 고객의 이슈와 문제를 주도적으로 해결하고 그 과정에서 기업의 제품과 서비스 판매를 그 결과로 얻는 영업 방식이라고 설명할 수 있다.\n",
    "\n",
    "4) Inductive, Deductive - Logical thinking \n",
    "\n",
    "귀납법 = inductive = 관찰에서 가설로 \n",
    "연역법 = deductive = 가설 세우고 관찰로 "
   ]
  },
  {
   "cell_type": "markdown",
   "id": "6871ce99",
   "metadata": {},
   "source": [
    "\n",
    "5) SCQA 프레임워크와 논리 minto 피라미드 (바바라 민토)\n",
    "- 논리 minto 피라미드 전개 시작점으로 Situation, Complication Question Answer로 구성된다. \n"
   ]
  },
  {
   "cell_type": "markdown",
   "id": "b6acb7d2",
   "metadata": {},
   "source": [
    "6) Logic Tree \n",
    "\n",
    "6-1) 초기 질문을 작성한다. 초기 질문은 분석 대상과 범위를 명확하게 하기 위해 기술하는 것으로 주어와 술어의 형태를 취한다. (예) A 공장 가공 라인의 핵심 부품 불량률이 높은 이유는 무엇인가?\n",
    "\n",
    "6-2) MECE의 원칙에 따라 트리(Tree)를 전개한다. 일반적으로 3차에 걸쳐 세분화 및 그룹핑하며 그 이하로 내려갈 경우는 MECE를 반드시 고려하지 않는다. \n",
    "\n",
    "연역적 로직 트리를 검증하기 위해서는 최종 분류된 것들이 주제와 관련된 문제 전체를 포함하는가? Sub 내용들 간에 중복이 되지 않는가? 등 MECE의 원칙이 충분히 적용되었는가를 살펴본다.\n",
    "\n",
    "6-3) 귀납적 로직 트리(Inductive logic tree)의 경우, 분석의 범위나 방향이 불명확하거나 로직 트리 작성의 경험이 부족한 경우 많이 활용한다.\n"
   ]
  },
  {
   "cell_type": "markdown",
   "id": "42027e1e",
   "metadata": {},
   "source": [
    "7) 발생형 문제와 설정형 문제 \n",
    "7-1) 해결할 문제를 질문 형식을 써본다. \n",
    "7-2) 프로젝트와 관련된 상황을 기술해 본다. 다양한 환경적 context를 포함한다. \n",
    "7-3) 문제 해결의 성공에 대한 모습 기준을 정해야한다. Criteria for Success 이떄 성공의 모습은 proejct sponser가 정한다. \n",
    "7-3) constraints with solution space를 정리한다. \n",
    "7-4) scope을 명확히 한다. \n"
   ]
  },
  {
   "cell_type": "markdown",
   "id": "330f2941",
   "metadata": {},
   "source": [
    "8) 효과적인 커뮤니케이션은 ‘자신의 의도대로 상대방이 생각하고 행동하도록 만드는 것’\n",
    "8-1) 인터뷰 방법 : \n",
    "- 무엇에 집중할 것인가?\n",
    "- 어떤 정보를 알고, 얻고 싶은가?\n",
    "- 필요한 정보는 어떻게 확보할 것인가?\n",
    "- 인터뷰에는 어떤 질문을 적절하게 사용해야 하는가?\n",
    "- 누구를 인터뷰 해야 하는가?"
   ]
  },
  {
   "cell_type": "markdown",
   "id": "d2a5cccb",
   "metadata": {},
   "source": [
    "9) 문서화 방법 \n",
    "- 누구를 위해 문서를 작성하는가? 누구에게발표하는가? (Who am I writing/speaking to?)\n",
    "- 구체적인 목적이 무엇인가? (What is my specific objective?)\n",
    "- 어떤 정보가 필수적인가? 어떤 정보가 생략되어야 하나? (What information is essential? What information should be omitted?)\n",
    "- 아이디어들을 종합하기 위한 가장 좋은 방법은 무엇인가? (What would be the most effective way to organize my ideas?)\n",
    "- 슬라이드에서 차트의 삽입은 ‘일도일사(1圖 1事)’의 원칙을 따르는 것이 좋다. \n",
    "즉, 한 페이지에 하나의 개념이 전달되도록 하는 것"
   ]
  },
  {
   "cell_type": "code",
   "execution_count": null,
   "id": "0a500832",
   "metadata": {
    "vscode": {
     "languageId": "plaintext"
    }
   },
   "outputs": [],
   "source": [
    "10) MECE Pockets \n",
    "10-1. 사업환경분석(PEST): 정치적(Political), 경제적(Economic), 사회문화적(Sociocultural), 기술적 (Technological)\n",
    "\n",
    "10-2. 사업환경분석(3C): 고객(Customer), 경쟁사(Competitors), 자사(Corporate)\n",
    "\n",
    "10-3. 전략수립 SWOT: 강점(Strength), 약점(Weakness), 기회(Opportunity), 위협(Threats)\n",
    "\n",
    "10-4. 전략수립 7S: Strategy, Structure, System,Staff, Skill, Shared Value, Style\n",
    "\n",
    "10-5. 전략수립 비즈니스 시스템: 연구개발, 생산, 유통, 판매, 서비스\n",
    "\n",
    "10-6. 전략수립 SPOT: Strategy, People, Organization,Technology\n",
    "\n",
    "10-7. 전략수립 STAR: Strategy, People, Process,Rewards, Structure\n",
    "\n",
    "10-8. 경영진단 PPT: People, Process,Technology\n",
    "\n",
    "10-9. 마케팅 4P Mix: 제품(Product), 가격(Price), 유통(Place), 홍보(Promotion)\n",
    "\n",
    "10-10. 마케팅 4C: 소비자(Consumer), 비용(Cost), 편의성(Convenience), 커뮤니케이션(Communication)\n",
    "\n",
    "10-11. 디지털 비즈니스 4C: Contents,Community, Communication, Commerce\n",
    "\n",
    "10-12. 역할행동 CARE: Capability, Authority,Responsibility, Evaluation\n",
    "\n",
    "10-13. 경쟁분석 5 포스: 경쟁자, 공급자, 구매자, 대체제, 신규 진입자\n",
    "\n",
    "10-14. 프로세스 요건: 기준, 절차, 지식/스킬, 장비/도구\n",
    "\n",
    "10-15. 프로세스의 단계 IPO: Input,Process, Output\n",
    "\n",
    "10-16. 현장 Trouble 4M: Man, Machine, Material,Method\n",
    "\n",
    "10-17. 제품 경쟁의 3요소 QCD: Quality, Cost, Delivery\n"
   ]
  },
  {
   "cell_type": "code",
   "execution_count": null,
   "id": "28efb7bc",
   "metadata": {
    "vscode": {
     "languageId": "plaintext"
    }
   },
   "outputs": [],
   "source": [
    "11) 경쟁 및 산업분석 \n",
    "11-1) 메가 트랜드 및 Macroscopic 분석 방법 -> PEST \n",
    "- 정치적 관점(Political perspective)\n",
    "- 경제적 관점(Economic perspective)\n",
    "- 사회문화적 관점(Sociocultural perspective)\n",
    "- 기술적 관점(Technological perspective)\n",
    "\n",
    "- 랜드연구소(The RANDCorporation. www.rand.org)\n",
    "- 전미경제조사국(NBER. www.nber.org)\n",
    "- 한국은행(www.bok.or.kr)\n",
    "- 기획재정부(www.mosf.go.kr)\n",
    "\n",
    "11-2) 시장분석 (시장/ 세그먼트 크기와 성장을 정량화)\n",
    "\n",
    "[시장 크기 산정법]\n",
    "1. 시장의 크기를 정하는 데이터 원천(Data Source)를 이해한다.\n",
    "2. 데이터 원천의 신뢰성을 검증한다.\n",
    "3. 2 ~ 3회 상호검증하여본다.\n",
    "4. 시장 크기의 트렌드를 이해한다. 핵심 원인도 같이 파악한다\n",
    "5. 고객 또는 해당 산업전문가들과 같이 검증한다\n",
    "\n",
    "[각 기업 고유의 시장과 사업의 크기를 산정하는 법]\n",
    "1. 시장의 크기를 정하는 주요 요인들(drivers)을 인지한다.\n",
    "\n",
    "    예를 들면, 전체 사업 또는 세그먼태 내의 고객수, 제품 또는 서비스 단위의 개수, 고객 인당 평균 구입\n",
    "\n",
    "    하는 제품 또는 서비스 개수 등\n",
    "\n",
    "2. 미래 시장의 크기를 결정할 수 있는 주요 요인들(drivers)을 인지한다.\n",
    "\n",
    "     예를 들면, 관련 거시경제 동향, 고객 수요에 영향을 미치는 요인들의 변화, 고객 수의 증감, 인당 구매량\n",
    "\n",
    "    의 변화 등\n",
    "\n",
    "3. 시장의 크기를 결정하는 방법론을 선정하는데, ‘Top-down 방식’과 ‘Bottom-up 방식’이 있다.\n",
    "\n",
    "    Top-down 방식은 거시 변수(Macro variables) 즉, 유관 사업의 규모를 합하여 시장의 크기를 추정\n",
    "\n",
    "   하는 방식이고 Bottom-up 방식은 미시 변수(Micro variables) 즉, 고객의 개수로부터 시장의 크기를\n",
    "\n",
    "   추정하는 방식이다. 그 외 상품 및 서비스의 개수, 고객당 평균 구매단가 같은 것들이 시장의 규모를 파악\n",
    "\n",
    "   하는데 도움을 줄 수 있다. 방법론 차원에서 Top-Down 또는 Bottom-Up이지 실제 업무에서는 2가지\n",
    "\n",
    "   방식을 모두 적용하여 추정된 시장 규모의 정확성을 보완한다.\n",
    "\n",
    "4. 이제 시간 변수를 고려하여 시장의 크기가 어떻게 변화했는지 계산한다. 가장 많이 이용하는 방법이\n",
    "\n",
    "   연평균성장률(CompoundAnnual Growth Rate: CAGR)을 이용하는 방법이다. GAGR의 개념은 매년\n",
    "\n",
    "   성장률은 들쑥날쑥 하겠지만 오랜 기간을 두고 일정한 비율로 성장한다고 가정하고 얼마나 성장하였는가\n",
    "\n",
    "   계산하는 것이다. 쉽게 말하면 ‘자대고 줄긋기’이다.\n",
    "\n",
    "    예를 들어 2010년 1,500억 원, 2015년 2,100억 원의 매출을 올린 기업이 5년 동안 얼마나 성장했는지\n",
    "\n",
    "    CAGR을 구해본다면 이는 다음과 같이 쓸 수 있다.\n",
    "\n",
    "\n",
    "\n",
    "        1500 *(1+CAGR)^5 = 2100;\n",
    "\n",
    "\n",
    "\n",
    "  이 식을 CAGR 관점에서 풀어보면\n",
    "\n",
    "\n",
    "\n",
    "        CAGR = (2100/1500)^(1/5) -1\n",
    "\n",
    "\n",
    "\n",
    "이를 일반화하면 아래와 같이 표현할 수 있다.\n",
    "\n",
    "\n",
    "\n",
    "\n",
    "또한, 엑셀의 rate 함수를 사용하면 보다 쉽게 계산 가능한데 다음과 같다[5].\n",
    "\n",
    "\n",
    "    CAGR = rate(기간, 0, -첫 해 값, 마지막 해 값) = rate(5,0,-1500,2100)\n",
    "\n",
    "\n",
    "\n",
    "5. 그 외 고려할만한 것은 물가지수(CPI)[6] 등이다. 보정이 필요할 경우 반영하면 된다.\n"
   ]
  },
  {
   "cell_type": "code",
   "execution_count": null,
   "id": "ddc95edb",
   "metadata": {
    "vscode": {
     "languageId": "plaintext"
    }
   },
   "outputs": [],
   "source": []
  }
 ],
 "metadata": {
  "language_info": {
   "name": "python"
  }
 },
 "nbformat": 4,
 "nbformat_minor": 5
}
