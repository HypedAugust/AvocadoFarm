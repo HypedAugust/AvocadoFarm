{
 "cells": [
  {
   "cell_type": "code",
   "execution_count": 4,
   "id": "624f7639",
   "metadata": {},
   "outputs": [
    {
     "name": "stdout",
     "output_type": "stream",
     "text": [
      "['there', 'are', 'no', 'a', 'ds']\n"
     ]
    }
   ],
   "source": [
    "def solution(strArr):\n",
    "    answer = []\n",
    "    for word in strArr:\n",
    "        if 'ad' in word:\n",
    "            del word\n",
    "        else:\n",
    "            answer.append(word)\n",
    "    return answer\n",
    "\n",
    "strArr = [\"there\",\"are\",\"no\",\"a\",\"ds\"]\n",
    "print(solution(strArr))"
   ]
  }
 ],
 "metadata": {
  "kernelspec": {
   "display_name": "Python 3",
   "language": "python",
   "name": "python3"
  },
  "language_info": {
   "codemirror_mode": {
    "name": "ipython",
    "version": 3
   },
   "file_extension": ".py",
   "mimetype": "text/x-python",
   "name": "python",
   "nbconvert_exporter": "python",
   "pygments_lexer": "ipython3",
   "version": "3.11.9"
  }
 },
 "nbformat": 4,
 "nbformat_minor": 5
}
