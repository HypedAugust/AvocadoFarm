{
 "cells": [
  {
   "cell_type": "code",
   "execution_count": 13,
   "id": "86a32744",
   "metadata": {},
   "outputs": [
    {
     "name": "stdout",
     "output_type": "stream",
     "text": [
      "1 4\n"
     ]
    }
   ],
   "source": [
    "# split 공백 기준으로 S를 순회하며 나눈다. \n",
    "# append해서 return하는데, min과 max를 사용. \n",
    "# sort 써도 될거 같다. \n",
    "def solution(s):\n",
    "    numbers = list(map(int, s.split(' ')))\n",
    "\n",
    "    min_val = min(numbers)\n",
    "    max_val = max(numbers)\n",
    "\n",
    "    answer = f\"{min_val} {max_val}\"\n",
    "\n",
    "    return answer\n",
    "\n",
    "s = \"1 2 3 4\"\n",
    "\n",
    "print(solution(s))"
   ]
  },
  {
   "cell_type": "code",
   "execution_count": 7,
   "id": "6176db94",
   "metadata": {},
   "outputs": [
    {
     "name": "stdout",
     "output_type": "stream",
     "text": [
      "1\n",
      "2\n",
      "3\n",
      "4\n"
     ]
    }
   ],
   "source": [
    "s = \"1 2 3 4\"\n",
    "\n",
    "s_new = s.split(' ')\n",
    "for i in s_new:\n",
    "    print(int(i))\n"
   ]
  },
  {
   "cell_type": "code",
   "execution_count": null,
   "id": "08075422",
   "metadata": {},
   "outputs": [
    {
     "name": "stdout",
     "output_type": "stream",
     "text": [
      "[11, 12, 13, 14, 15]\n"
     ]
    }
   ],
   "source": [
    "numbers = [1,2,3,4,5]\n",
    "result = list(map(lambda x: x+10, numbers))\n",
    "print(result) \n",
    "\n",
    "result = list(map(lambda x: x**2, numbers))\n",
    "\n"
   ]
  }
 ],
 "metadata": {
  "kernelspec": {
   "display_name": "Python 3",
   "language": "python",
   "name": "python3"
  },
  "language_info": {
   "codemirror_mode": {
    "name": "ipython",
    "version": 3
   },
   "file_extension": ".py",
   "mimetype": "text/x-python",
   "name": "python",
   "nbconvert_exporter": "python",
   "pygments_lexer": "ipython3",
   "version": "3.11.9"
  }
 },
 "nbformat": 4,
 "nbformat_minor": 5
}
