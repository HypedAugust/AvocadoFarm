{
 "cells": [
  {
   "cell_type": "code",
   "execution_count": 14,
   "id": "7b927a11",
   "metadata": {},
   "outputs": [],
   "source": [
    "from selenium import webdriver\n",
    "from selenium.webdriver.chrome.service import Service\n",
    "from webdriver_manager.chrome import ChromeDriverManager\n",
    "\n",
    "options = webdriver.ChromeOptions()\n",
    "# options.add_argument(\"--headless\")  # 화면 없이 실행하고 싶으면 주석 해제\n",
    "service = Service(ChromeDriverManager().install())\n",
    "driver = webdriver.Chrome(service=service, options=options)\n"
   ]
  },
  {
   "cell_type": "code",
   "execution_count": 15,
   "id": "7053594e",
   "metadata": {},
   "outputs": [
    {
     "name": "stdout",
     "output_type": "stream",
     "text": [
      "가져온 수도: [('Tokyo', '14,094,034'), ('Moscow', '13,104,177'), ('Kinshasa', '12,691,000'), ('Jakarta', '10,562,088'), ('Lima', '10,151,000')]\n"
     ]
    }
   ],
   "source": [
    "from selenium.webdriver.common.by import By\n",
    "\n",
    "# 1) 페이지 열기\n",
    "driver.get(\"https://en.wikipedia.org/wiki/List_of_national_capitals_by_population\")\n",
    "\n",
    "# 2) 표(table)에서 첫 번째 5개 행(row)만 선택\n",
    "rows = driver.find_elements(By.CSS_SELECTOR, \"table.wikitable tbody tr\")[1:6]\n",
    "\n",
    "capitals = []\n",
    "for row in rows:\n",
    "    cells = row.find_elements(By.TAG_NAME, \"td\")\n",
    "    capital = cells[1].text             # 2번째 칸: 수도 이름\n",
    "    country = cells[2].text             # 3번째 칸: 나라 이름\n",
    "    capitals.append((capital, country))\n",
    "\n",
    "driver.quit()  # 끝나면 브라우저 닫기\n",
    "print(\"가져온 수도:\", capitals)\n"
   ]
  },
  {
   "cell_type": "code",
   "execution_count": 16,
   "id": "6d3dc937",
   "metadata": {},
   "outputs": [
    {
     "name": "stdout",
     "output_type": "stream",
     "text": [
      "⚠️ Moscow 좌표를 못 찾았어요.\n",
      "⚠️ Kinshasa 좌표를 못 찾았어요.\n",
      "⚠️ Lima 좌표를 못 찾았어요.\n",
      "위경도 변환 결과: [{'name': 'Tokyo', 'country': '14,094,034', 'lat': 35.5843267, 'lon': 139.3501652}, {'name': 'Jakarta', 'country': '10,562,088', 'lat': -6.2885599, 'lon': 106.7781032}]\n"
     ]
    }
   ],
   "source": [
    "from geopy.geocoders import Nominatim\n",
    "geocoder = Nominatim(user_agent=\"capital_mapper\")\n",
    "\n",
    "locations = []\n",
    "for city, country in capitals:\n",
    "    # “수도, 나라” 형태로 검색\n",
    "    place = geocoder.geocode(f\"{city}, {country}\")\n",
    "    if place:\n",
    "        locations.append({\n",
    "            \"name\": city,\n",
    "            \"country\": country,\n",
    "            \"lat\": place.latitude,\n",
    "            \"lon\": place.longitude\n",
    "        })\n",
    "    else:\n",
    "        print(f\"⚠️ {city} 좌표를 못 찾았어요.\")\n",
    "\n",
    "print(\"위경도 변환 결과:\", locations)\n"
   ]
  },
  {
   "cell_type": "code",
   "execution_count": 17,
   "id": "61b40616",
   "metadata": {},
   "outputs": [
    {
     "name": "stdout",
     "output_type": "stream",
     "text": [
      "✅ 지도가 'capitals_map.html'에 저장되었어요.\n"
     ]
    }
   ],
   "source": [
    "import folium\n",
    "\n",
    "# 1) 지도를 만든 뒤 (전 세계가 보이도록 중심을 [20,0], 줌 레벨 2로 설정)\n",
    "m = folium.Map(location=[20, 0], zoom_start=2)\n",
    "\n",
    "# 2) 각 수도마다 마커(marker) 추가\n",
    "for loc in locations:\n",
    "    folium.Marker(\n",
    "        location=[loc[\"lat\"], loc[\"lon\"]],\n",
    "        popup=f\"{loc['name']} ({loc['country']})\"\n",
    "    ).add_to(m)\n",
    "\n",
    "# 3) HTML 파일로 저장\n",
    "m.save(\"capitals_map.html\")\n",
    "print(\"✅ 지도가 'capitals_map.html'에 저장되었어요.\")\n"
   ]
  }
 ],
 "metadata": {
  "kernelspec": {
   "display_name": "WK3_class310",
   "language": "python",
   "name": "python3"
  },
  "language_info": {
   "codemirror_mode": {
    "name": "ipython",
    "version": 3
   },
   "file_extension": ".py",
   "mimetype": "text/x-python",
   "name": "python",
   "nbconvert_exporter": "python",
   "pygments_lexer": "ipython3",
   "version": "3.10.14"
  }
 },
 "nbformat": 4,
 "nbformat_minor": 5
}
