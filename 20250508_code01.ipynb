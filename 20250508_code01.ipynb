{
 "cells": [
  {
   "cell_type": "code",
   "execution_count": 3,
   "id": "1eb017d6",
   "metadata": {},
   "outputs": [
    {
     "name": "stdout",
     "output_type": "stream",
     "text": [
      "1\n"
     ]
    }
   ],
   "source": [
    "def solution(arr1, arr2):\n",
    "    answer = 0\n",
    "    if len(arr1) != len(arr2):\n",
    "        if len(arr1) > len(arr2):\n",
    "            return 1\n",
    "        else:\n",
    "            return -1\n",
    "    elif len(arr1) == len(arr2):\n",
    "        if sum(arr1) == sum(arr2):\n",
    "            return 0\n",
    "        elif sum(arr1) > sum(arr2):\n",
    "            return 1\n",
    "        else:\n",
    "            return -1 \n",
    "    return answer\n",
    "\n",
    "arr1 = [100, 17, 84, 1]\n",
    "arr2 = [55, 12, 65, 36]\n",
    "\n",
    "print(solution(arr1,arr2))"
   ]
  }
 ],
 "metadata": {
  "kernelspec": {
   "display_name": "Python 3",
   "language": "python",
   "name": "python3"
  },
  "language_info": {
   "codemirror_mode": {
    "name": "ipython",
    "version": 3
   },
   "file_extension": ".py",
   "mimetype": "text/x-python",
   "name": "python",
   "nbconvert_exporter": "python",
   "pygments_lexer": "ipython3",
   "version": "3.11.9"
  }
 },
 "nbformat": 4,
 "nbformat_minor": 5
}
