{
 "cells": [
  {
   "cell_type": "code",
   "execution_count": null,
   "id": "14c6937d",
   "metadata": {},
   "outputs": [
    {
     "name": "stdout",
     "output_type": "stream",
     "text": [
      "144\n"
     ]
    }
   ],
   "source": [
    "# 정수 제곱근 판별 \n",
    "import math \n",
    "\n",
    "def solution(n): \n",
    "    newn = int(math.sqrt(n))\n",
    "    if newn**2 == n:\n",
    "        return (newn+1)**2\n",
    "    else:\n",
    "        return -1\n",
    "\n",
    "n = 121\n",
    "\n",
    "print(solution(n))"
   ]
  }
 ],
 "metadata": {
  "kernelspec": {
   "display_name": "Python 3",
   "language": "python",
   "name": "python3"
  },
  "language_info": {
   "codemirror_mode": {
    "name": "ipython",
    "version": 3
   },
   "file_extension": ".py",
   "mimetype": "text/x-python",
   "name": "python",
   "nbconvert_exporter": "python",
   "pygments_lexer": "ipython3",
   "version": "3.12.3"
  }
 },
 "nbformat": 4,
 "nbformat_minor": 5
}
