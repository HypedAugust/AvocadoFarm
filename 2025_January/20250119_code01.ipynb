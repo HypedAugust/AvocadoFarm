{
 "cells": [
  {
   "cell_type": "code",
   "execution_count": null,
   "metadata": {},
   "outputs": [],
   "source": [
    "# clustering - unsupervised \n",
    "# k-means clustering algorithms - partitioning clustering  \n",
    "# - intra cluster distances are minimized \n",
    "# - inter cluster distances are maximized\n",
    "\n",
    "# k-means clustering process\n",
    "# 1) initialized k (number of clusters) centrioid randomly\n",
    "# 2) distance calculation \n",
    "# 3) assign each point to the closest centroid \n",
    "# 4) compute the new centroids for each cluster \n",
    "# 5) Repeat until there are no more changes \n",
    "\n",
    "# k-means accuracy \n",
    "# - external approach : compare to ground truth \n",
    "# - internal approach : average the distance \n",
    "\n",
    "# choosing right k in k-means\n",
    "# - means distance of data points to cluster centroid. \n",
    "# - 'elbow point' = elbow method "
   ]
  },
  {
   "cell_type": "code",
   "execution_count": null,
   "metadata": {},
   "outputs": [],
   "source": [
    "# Clustering - K means - can quickly discover insights from UNCLABELED DATA "
   ]
  },
  {
   "cell_type": "code",
   "execution_count": null,
   "metadata": {},
   "outputs": [],
   "source": [
    "# Chap1 K-means on a randomly generated dataset \n",
    "# 1 setting up k means \n",
    "np.random.seed(0) # random seed \n",
    "X, y = make_blobs(n_samples=5000, centers=[[4,4], [-2, -1], [2, -3], [1, 1]], cluster_std=0.9)\n",
    "k_means = KMeans(init = \"k-means++\", n_clusters = 4, n_init = 12)\n",
    "k_means.fit(X)\n",
    "k_means_labels = k_means.labels_\n",
    "k_means_labels\n",
    "# creating the visual plot"
   ]
  },
  {
   "cell_type": "code",
   "execution_count": null,
   "metadata": {},
   "outputs": [],
   "source": [
    "# Chap2 customer segmentation with k means\n",
    "\n",
    "# load the data \n",
    "import pandas as pd\n",
    "cust_df = pd.read_csv(\"https://cf-courses-data.s3.us.cloud-object-storage.appdomain.cloud/IBMDeveloperSkillsNetwork-ML0101EN-SkillsNetwork/labs/Module%204/data/Cust_Segmentation.csv\")\n",
    "cust_df.head()\n",
    "\n",
    "# 1 preprocessing\n",
    "# # drop categorical variables \n",
    "df = cust_df.drop('Address', axis=1)\n",
    "df.head()\n",
    "# # normalize : Normalization is a statistical method that helps mathematical-based algorithms to \n",
    "# # interpret features with different magnitudes and distributions equally. \n",
    "# # We use StandardScaler() to normalize our dataset.\n",
    "from sklearn.preprocessing import StandardScaler\n",
    "X = df.values[:,1:]\n",
    "X = np.nan_to_num(X)\n",
    "Clus_dataSet = StandardScaler().fit_transform(X)\n",
    "Clus_dataSet\n",
    "\n",
    "# 2 modeling \n",
    "clusterNum = 3\n",
    "k_means = KMeans(init = \"k-means++\", n_clusters = clusterNum, n_init = 12)\n",
    "k_means.fit(X)\n",
    "labels = k_means.labels_\n",
    "print(labels)\n",
    "\n",
    "# 3 insights \n",
    "df[\"Clus_km\"] = labels\n",
    "df.head(5)"
   ]
  }
 ],
 "metadata": {
  "kernelspec": {
   "display_name": "Python 3",
   "language": "python",
   "name": "python3"
  },
  "language_info": {
   "codemirror_mode": {
    "name": "ipython",
    "version": 3
   },
   "file_extension": ".py",
   "mimetype": "text/x-python",
   "name": "python",
   "nbconvert_exporter": "python",
   "pygments_lexer": "ipython3",
   "version": "3.11.9"
  }
 },
 "nbformat": 4,
 "nbformat_minor": 2
}
