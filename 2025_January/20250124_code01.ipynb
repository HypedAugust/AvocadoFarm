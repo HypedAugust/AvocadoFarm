{
 "cells": [
  {
   "cell_type": "markdown",
   "metadata": {},
   "source": [
    "# Arbitrary\n",
    "\n",
    "# Activation Function \n",
    "RELU\n",
    "Sigmoid \n",
    "Hyperbolic Tangent\n",
    "Softmax for classifiction \n",
    "\n",
    "# Vanishing Gradient and Sigmoid\n",
    "\n",
    "# Graph\n",
    "composed of edge and node \n",
    "\n",
    "# Directed Acyclic Graph \n",
    "\n",
    "# Sparsity \n",
    "\n",
    "# Adjacency matrix \n",
    "\n",
    "# Sparsitication \n",
    "\n",
    "# Low Rank \n",
    "\n",
    "# Forbenius Norm "
   ]
  }
 ],
 "metadata": {
  "language_info": {
   "name": "python"
  }
 },
 "nbformat": 4,
 "nbformat_minor": 2
}
