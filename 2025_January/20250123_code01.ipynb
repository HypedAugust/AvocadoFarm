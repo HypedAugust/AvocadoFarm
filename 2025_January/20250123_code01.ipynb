{
 "cells": [
  {
   "cell_type": "code",
   "execution_count": null,
   "metadata": {},
   "outputs": [],
   "source": [
    "# 경로 C:\\Users\\1\\anaconda3\n",
    "# conda prompt \n",
    "\n",
    "# conda create -n test_env\n",
    "# conda env list\n",
    "\n",
    "# conda activate test_env \n",
    "# conda deactivate \n",
    "\n",
    "# conda install python==3.11.9\n",
    "\n",
    "# conda install conda-forge::huggingface_hub\n",
    "# conda install -c conda-forge accelerate"
   ]
  }
 ],
 "metadata": {
  "language_info": {
   "name": "python"
  }
 },
 "nbformat": 4,
 "nbformat_minor": 2
}
