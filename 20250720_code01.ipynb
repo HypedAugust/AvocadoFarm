{
 "cells": [
  {
   "cell_type": "code",
   "execution_count": 12,
   "id": "3ecb9200",
   "metadata": {},
   "outputs": [
    {
     "name": "stdout",
     "output_type": "stream",
     "text": [
      "3 번 학생은 영어 천재\n"
     ]
    }
   ],
   "source": [
    "from openpyxl import load_workbook \n",
    "wb = load_workbook(\"sample.xlsx\")\n",
    "ws = wb.active \n",
    "\n",
    "for row in ws.iter_rows(min_row=2):\n",
    "    # 번호, 영어, 수학 \n",
    "    if int(row[1].value) > 80:\n",
    "        print(row[0].value,\"번 학생은 영어 천재\")\n",
    "\n",
    "\n",
    "\n"
   ]
  },
  {
   "cell_type": "code",
   "execution_count": 13,
   "id": "25f261f6",
   "metadata": {},
   "outputs": [],
   "source": [
    "for row in ws.iter_rows(max_row=1): \n",
    "    for cell in row:\n",
    "        if cell.value == \"영어\":\n",
    "            cell.value = \"컴퓨터\"\n",
    "\n",
    "wb.save(\"sample_modified.xlsx\")\n"
   ]
  }
 ],
 "metadata": {
  "kernelspec": {
   "display_name": "iclr",
   "language": "python",
   "name": "python3"
  },
  "language_info": {
   "codemirror_mode": {
    "name": "ipython",
    "version": 3
   },
   "file_extension": ".py",
   "mimetype": "text/x-python",
   "name": "python",
   "nbconvert_exporter": "python",
   "pygments_lexer": "ipython3",
   "version": "3.10.16"
  }
 },
 "nbformat": 4,
 "nbformat_minor": 5
}
