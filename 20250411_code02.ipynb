{
 "cells": [
  {
   "cell_type": "code",
   "execution_count": null,
   "id": "a3c61114",
   "metadata": {},
   "outputs": [],
   "source": [
    "def solution(tickets):\n",
    "    route = {}\n",
    "    for departure, arrival in tickets:\n",
    "        if departure not in routes:\n",
    "            route[departrue] = []\n",
    "        route[departure].append(arrival)\n",
    "    \n",
    "    for departure in route:\n",
    "        route[departure].sort()\n",
    "    \n",
    "    path = [\"ICN\"]\n",
    "\n",
    "    current = \"ICN\"\n",
    "    while current in route and route[current]:\n",
    "        next_steop = route[current].pop(0)\n",
    "        path.append(next_stop)\n",
    "        current = next_stop\n",
    "    \n",
    "    return path "
   ]
  }
 ],
 "metadata": {
  "language_info": {
   "name": "python"
  }
 },
 "nbformat": 4,
 "nbformat_minor": 5
}
