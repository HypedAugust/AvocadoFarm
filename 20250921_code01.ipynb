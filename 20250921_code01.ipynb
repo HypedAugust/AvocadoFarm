{
 "cells": [
  {
   "cell_type": "code",
   "execution_count": 2,
   "metadata": {},
   "outputs": [
    {
     "name": "stdout",
     "output_type": "stream",
     "text": [
      "None\n"
     ]
    }
   ],
   "source": [
    "# 행렬의 덧셈 \n",
    "def solution(arr1, arr2):\n",
    "    answer = []\n",
    "    for i in range(len(arr1)):\n",
    "        jlist = []\n",
    "        for j in range(len(arr1[0])):            \n",
    "            jlist.append(arr1[i][j] + arr2[i][j])\n",
    "        answer.append(jlist)   # 여기에서 행을 추가\n",
    "    return answer              # 마지막엔 리스트 자체 반환\n",
    "\n",
    "print(solution(arr1, arr2))\n",
    "\n"
   ]
  },
  {
   "cell_type": "code",
   "execution_count": null,
   "metadata": {},
   "outputs": [
    {
     "name": "stdout",
     "output_type": "stream",
     "text": [
      "*****\n",
      "*****\n",
      "*****\n"
     ]
    }
   ],
   "source": [
    "\n",
    "a, b = map(int, input().strip().split(' '))\n",
    "for x in range(b):\n",
    "    print(a*'*')\n",
    "\n",
    "\n",
    "\n"
   ]
  },
  {
   "cell_type": "code",
   "execution_count": 9,
   "metadata": {},
   "outputs": [
    {
     "name": "stdout",
     "output_type": "stream",
     "text": [
      "[1, 3, 0, 1]\n"
     ]
    }
   ],
   "source": [
    "# 같은 숫자는 싫어 (스택 / 큐)\n",
    "\n",
    "arr = [1,1,3,3,0,1,1] # [1,3,0,1]\n",
    "\n",
    "def solution(arr):\n",
    "    answer = [arr[0]]\n",
    "    for num in arr[1:]:\n",
    "        if answer[-1] != num:\n",
    "            answer.append(num)\n",
    "        else:\n",
    "            continue \n",
    "    return answer\n",
    "\n",
    "print(solution(arr))"
   ]
  },
  {
   "cell_type": "code",
   "execution_count": 12,
   "metadata": {},
   "outputs": [
    {
     "name": "stdout",
     "output_type": "stream",
     "text": [
      "[3, 12]\n"
     ]
    }
   ],
   "source": [
    "# 최대공약수와 최소 공배수 \n",
    "\n",
    "import math \n",
    "\n",
    "def solution(n, m):\n",
    "    answer = []\n",
    "    # 최대 공약수 부터 구한다. \n",
    "    gcd = math.gcd(3,12)\n",
    "    answer.append(gcd)\n",
    "    lcm = math.lcm(3,12)\n",
    "    answer.append(lcm)\n",
    "    return answer\n",
    "\n",
    "print(solution(n,m))"
   ]
  },
  {
   "cell_type": "code",
   "execution_count": null,
   "metadata": {},
   "outputs": [
    {
     "ename": "SyntaxError",
     "evalue": "cannot assign to function call (2003663439.py, line 13)",
     "output_type": "error",
     "traceback": [
      "  \u001b[36mCell\u001b[39m\u001b[36m \u001b[39m\u001b[32mIn[14]\u001b[39m\u001b[32m, line 13\u001b[39m\n\u001b[31m    \u001b[39m\u001b[31mfor int(i) in temp:\u001b[39m\n        ^\n\u001b[31mSyntaxError\u001b[39m\u001b[31m:\u001b[39m cannot assign to function call\n"
     ]
    }
   ],
   "source": [
    "# 크기가 작은 부분문자열 \n",
    "t = \"3141592\"\n",
    "p = \"271\"\n",
    "\n",
    "# 1) t를 len(p) 만큼 끊는다. // 끊은 숫자를 p와 비교해서 같거나 더 크면 answer count 추가 \n",
    "def solution(t, p):\n",
    "    answer = 0\n",
    "    for i in range(len(t)-len(p)+1): \n",
    "        if int(t[i:i+len(p)]) <= int(p):\n",
    "            answer += 1\n",
    "    return answer\n",
    "\n",
    "print(t, p)"
   ]
  }
 ],
 "metadata": {
  "kernelspec": {
   "display_name": "Python 3",
   "language": "python",
   "name": "python3"
  },
  "language_info": {
   "codemirror_mode": {
    "name": "ipython",
    "version": 3
   },
   "file_extension": ".py",
   "mimetype": "text/x-python",
   "name": "python",
   "nbconvert_exporter": "python",
   "pygments_lexer": "ipython3",
   "version": "3.11.9"
  }
 },
 "nbformat": 4,
 "nbformat_minor": 2
}
