{
 "cells": [
  {
   "cell_type": "code",
   "execution_count": null,
   "id": "2d530384",
   "metadata": {},
   "outputs": [
    {
     "name": "stdout",
     "output_type": "stream",
     "text": [
      "3\n"
     ]
    }
   ],
   "source": [
    "def dfs(x,y):\n",
    "    if x <= -1 or x>= n or y <= -1 or y >= m: \n",
    "        return False\n",
    "    if graph[x][y] == 0:\n",
    "        graph[x][y] = 1\n",
    "        dfs(x-1, y)\n",
    "        dfs(x,y-1)\n",
    "        dfs(x+1, y)\n",
    "        dfs(x, y+1)\n",
    "        return True\n",
    "    return False \n",
    "\n",
    "n,m = map(int, input().split()) # 입력 예시가 4,5 이므로 이렇게 split 헤줘야 한다. \n",
    "\n",
    "graph = [] # 이 문제는 dfs 그래프 형태로 풀어야 한다. dfs는 stack을 보통 쓰므로 리스트 사용한다. \n",
    "for i in range(n): # 행이 n 이라서 각 행의 값이 input으로 들어갈 것이다. 예시는 00110, 00011, 11111, 00000이다. \n",
    "    graph.append(list(map(int,input()))) # input 값은 int처리 될 것이라서 map 함수를 사용하고 list로 변환 한다. \n",
    "    # 변환된 각 값은 이중 리스트 형태로 담긴다. \n",
    "\n",
    "result = 0 # 답이 담길 곳이다. \n",
    "for i in range(n): # 각 행을 돌것이다. \n",
    "    for j in range(m): # 각 행의 요소를 열을 돌면서 체크할 것이다. \n",
    "        if dfs(i,j) == True: # 각 행과 열을 사방으로 돌면서 주변에 0이 있는 것을 다 확인 했으면 True 처리를 하고 result 값을 올린다. \n",
    "            result += 1\n",
    "\n",
    "print(result)"
   ]
  },
  {
   "cell_type": "code",
   "execution_count": null,
   "id": "20e77299",
   "metadata": {},
   "outputs": [
    {
     "ename": "ValueError",
     "evalue": "not enough values to unpack (expected 2, got 0)",
     "output_type": "error",
     "traceback": [
      "\u001b[1;31m---------------------------------------------------------------------------\u001b[0m",
      "\u001b[1;31mValueError\u001b[0m                                Traceback (most recent call last)",
      "Cell \u001b[1;32mIn[3], line 20\u001b[0m\n\u001b[0;32m     16\u001b[0m     \u001b[38;5;28;01mreturn\u001b[39;00m graph[n\u001b[38;5;241m-\u001b[39m\u001b[38;5;241m1\u001b[39m][m\u001b[38;5;241m-\u001b[39m\u001b[38;5;241m1\u001b[39m]\n\u001b[0;32m     18\u001b[0m \u001b[38;5;28;01mfrom\u001b[39;00m \u001b[38;5;21;01mcollections\u001b[39;00m \u001b[38;5;28;01mimport\u001b[39;00m deque\n\u001b[1;32m---> 20\u001b[0m n, m \u001b[38;5;241m=\u001b[39m \u001b[38;5;28mmap\u001b[39m(\u001b[38;5;28mint\u001b[39m, \u001b[38;5;28minput\u001b[39m()\u001b[38;5;241m.\u001b[39msplit()) \u001b[38;5;66;03m# 입력 값이 5 6일 예정 \u001b[39;00m\n\u001b[0;32m     22\u001b[0m graph \u001b[38;5;241m=\u001b[39m []\n\u001b[0;32m     23\u001b[0m \u001b[38;5;28;01mfor\u001b[39;00m i \u001b[38;5;129;01min\u001b[39;00m \u001b[38;5;28mrange\u001b[39m(n):\n",
      "\u001b[1;31mValueError\u001b[0m: not enough values to unpack (expected 2, got 0)"
     ]
    }
   ],
   "source": [
    "def bfs(x,y):\n",
    "    queue = deque() \n",
    "    queue.append((x,y)) # queue에 0,0이 들어감. \n",
    "    while queue: # queue가 다 빌때 까지 한다. \n",
    "        x,y = queue.popleft() # 0,0꺼냄 \n",
    "        for i in range(4): # 4방을 돌거라서 range 4임. \n",
    "            nx = x + dx[i] # nx = 0 + (-1)\n",
    "            ny = y + dy[i] # ny = 0 + 0\n",
    "            if nx <0 or nx >= n or ny <0 or ny >= m:\n",
    "                continue # ny가 0이고 nx가 0 보다 작으니 계속 진행 함. \n",
    "            if graph[nx][ny] == 0: \n",
    "                continue \n",
    "            if graph[nx][ny] == 1: # 만약 graph[nx][ny] 가 1 이라고 치자. graph[1][0] = 1임. \n",
    "                graph[nx][ny] = graph[x][y]+1  # 이때 graph[1][0]은 왜 +1 이야? \n",
    "                queue.append((nx,ny)) \n",
    "    return graph[n-1][m-1] # 이거 이해가 안가네. bfs 코드를 한줄 한줄 이해가능하도록 진행 상황 프린트해가며 예시를 주라. \n",
    "\n",
    "from collections import deque\n",
    "\n",
    "n, m = map(int, input().split()) # 입력 값이 5 6일 예정 \n",
    "\n",
    "graph = []\n",
    "for i in range(n):\n",
    "    graph.append(list(map(int, input()))) # 입력값 예시 101010, 111111, 000001, 111111,111111\n",
    "\n",
    "    # graph의 결과 \n",
    "    # graph = [\n",
    "    # [101010],\n",
    "    # [111111],\n",
    "    # [000001],\n",
    "    # [111111],\n",
    "    # [111111]\n",
    "    # ] \n",
    "    \n",
    "\n",
    "dx = [-1,1,0,0]\n",
    "dy = [0,0,-1,1]\n",
    "\n",
    "print(bfs(0,0)) # 0, 0에서 시작  고로 1에서 시작임 "
   ]
  },
  {
   "cell_type": "code",
   "execution_count": null,
   "id": "34b7ef57",
   "metadata": {},
   "outputs": [],
   "source": []
  }
 ],
 "metadata": {
  "kernelspec": {
   "display_name": "Python 3",
   "language": "python",
   "name": "python3"
  },
  "language_info": {
   "codemirror_mode": {
    "name": "ipython",
    "version": 3
   },
   "file_extension": ".py",
   "mimetype": "text/x-python",
   "name": "python",
   "nbconvert_exporter": "python",
   "pygments_lexer": "ipython3",
   "version": "3.11.9"
  }
 },
 "nbformat": 4,
 "nbformat_minor": 5
}
