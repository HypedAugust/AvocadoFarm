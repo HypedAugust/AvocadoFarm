{
 "cells": [
  {
   "cell_type": "code",
   "execution_count": null,
   "id": "8dad8b56",
   "metadata": {},
   "outputs": [
    {
     "name": "stdout",
     "output_type": "stream",
     "text": [
      "4\n"
     ]
    }
   ],
   "source": [
    "def solution(board, moves):\n",
    "    answer = 0\n",
    "    temp = []\n",
    "    for move in moves:\n",
    "        move_index = move-1\n",
    "\n",
    "        for b in board: # 각행\n",
    "            if b[move_index] != 0: # 그 행의 move index열 확인   \n",
    "                newdoll = b[move_index] # 인형집기 \n",
    "                b[move_index] = 0 # 빈칸으로 바꾸기 \n",
    "                \n",
    "                # --- 스택 ---\n",
    "                if temp and temp[-1] == newdoll:\n",
    "                    temp.pop()\n",
    "                    answer += 2\n",
    "                else:\n",
    "                    temp.append(newdoll)\n",
    "                # ------------\n",
    "                break \n",
    "    return answer\n",
    "\n",
    "board = [[0,0,0,0,0],\n",
    "         [0,0,1,0,3],\n",
    "         [0,2,5,0,1],\n",
    "         [4,2,4,4,2],\n",
    "         [3,5,1,3,1]]\n",
    "\n",
    "moves = [1,5,3,5,1,2,1,4]\t\n",
    "\n",
    "# 4\n",
    "print(solution(board, moves))"
   ]
  },
  {
   "cell_type": "code",
   "execution_count": null,
   "id": "303574d1",
   "metadata": {},
   "outputs": [],
   "source": [
    "def solution(participant, completion):\n",
    "    participant.sort()  # 먼저 정렬\n",
    "    completion.sort()\n",
    "\n",
    "\n",
    "    for p,c in zip(new_c, new_p):\n",
    "        if p != c:\n",
    "            return p\n",
    "    return new_p[-1]\n",
    "    \n",
    "participant = [\"leo\", \"kiki\", \"eden\"]\n",
    "completion = [\"eden\", \"kiki\"]"
   ]
  },
  {
   "cell_type": "code",
   "execution_count": null,
   "id": "7eb1e624",
   "metadata": {},
   "outputs": [],
   "source": []
  }
 ],
 "metadata": {
  "kernelspec": {
   "display_name": "Python 3",
   "language": "python",
   "name": "python3"
  },
  "language_info": {
   "codemirror_mode": {
    "name": "ipython",
    "version": 3
   },
   "file_extension": ".py",
   "mimetype": "text/x-python",
   "name": "python",
   "nbconvert_exporter": "python",
   "pygments_lexer": "ipython3",
   "version": "3.12.3"
  }
 },
 "nbformat": 4,
 "nbformat_minor": 5
}
