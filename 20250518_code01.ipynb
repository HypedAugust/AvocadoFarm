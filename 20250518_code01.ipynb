{
 "cells": [
  {
   "cell_type": "code",
   "execution_count": null,
   "id": "4a464179",
   "metadata": {},
   "outputs": [],
   "source": [
    "class Solution:\n",
    "    def removeDuplicates(self, nums: List[int]) -> int:\n",
    "\n",
    "        slow = 0 \n",
    "\n",
    "        for fast in range(1,len(nums)):\n",
    "            if nums[fast] != nums[slow]:\n",
    "                slow +=1\n",
    "                nums[slow] = nums[fast]\n",
    "        return slow +1\n",
    "\n",
    "nums = [0,0,1,1,1,2,2,3,3,4]"
   ]
  }
 ],
 "metadata": {
  "language_info": {
   "name": "python"
  }
 },
 "nbformat": 4,
 "nbformat_minor": 5
}
