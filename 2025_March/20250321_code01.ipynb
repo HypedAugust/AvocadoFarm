{
 "cells": [
  {
   "cell_type": "code",
   "execution_count": null,
   "metadata": {},
   "outputs": [],
   "source": [
    "array = [3,2,1]\n",
    "\n",
    "def bubble_sort(array):\n",
    "    n = len(array) # 3\n",
    "\n",
    "    for i in range(n-1): \n",
    "        for j in range(n-i-1):\n",
    "            if array[j] > array[j+1]:\n",
    "                array[j], array[j+1] = array[j+1], array[j]\n",
    "    return array"
   ]
  },
  {
   "cell_type": "code",
   "execution_count": null,
   "metadata": {},
   "outputs": [],
   "source": [
    "def selection_sort(array):\n",
    "    n = len(array)\n",
    "    for i in range(n-1):\n",
    "        min_index = i\n",
    "        for j in range(n-i):\n",
    "            if array[i+j] < array[min_index]:\n",
    "                min_index = i + j\n",
    "        array[i], array[min_index] = array[min_index], array[i]\n",
    "    return array "
   ]
  },
  {
   "cell_type": "code",
   "execution_count": null,
   "metadata": {},
   "outputs": [],
   "source": [
    "def insertion_sort(array):\n",
    "    n = len(array)\n",
    "    for i in range(1,n):\n",
    "        for j in range(i):\n",
    "            if array[i-j-1] > array[i-j]:\n",
    "                array[i-j-1], array[i-j] = array[i-j], array[i-j-1]\n",
    "            else:\n",
    "                breal\n",
    "    return array"
   ]
  },
  {
   "cell_type": "code",
   "execution_count": null,
   "metadata": {},
   "outputs": [],
   "source": [
    "def merge(array1, array2):\n",
    "    result = []\n",
    "    array1_index = 0 \n",
    "    array2_index = 0 \n",
    "\n",
    "    while array1_index < len(array1) and array2_index <len(array2):\n",
    "        if array1[array1_index] < array2[array2_index]:\n",
    "            result.append(array1[array1_index])\n",
    "            array1_index +=1\n",
    "        else: \n",
    "            result.append(array2[array2_index])\n",
    "            array2_index += 1\n",
    "    \n",
    "\n",
    "    while array1_index < len(array1):\n",
    "        result.append(array1[array1_index])\n",
    "        array1_index += 1\n",
    "    \n",
    "    while array2_index < len(array2):\n",
    "        result.append(array2[array2_index])\n",
    "        array2_index += 1\n",
    "    \n",
    "    return result \n"
   ]
  },
  {
   "cell_type": "code",
   "execution_count": null,
   "metadata": {},
   "outputs": [],
   "source": [
    "def merge_sort(array):\n",
    "    if len(array) <= 1:\n",
    "        return array\n",
    "    mid = (0+len(array))//2\n",
    "    left_array = merge_sort(array[:mid])\n",
    "    right_array = merge_sort(array[mid:])\n",
    "    merge(left_array, right_array)\n"
   ]
  }
 ],
 "metadata": {
  "language_info": {
   "name": "python"
  }
 },
 "nbformat": 4,
 "nbformat_minor": 2
}
