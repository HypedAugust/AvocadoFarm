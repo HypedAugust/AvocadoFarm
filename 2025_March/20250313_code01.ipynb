{
 "cells": [
  {
   "cell_type": "code",
   "execution_count": null,
   "metadata": {},
   "outputs": [],
   "source": [
    "def get_absent_student(all_array, present_array):\n",
    "    dic = {}\n",
    "    for i in all_array:\n",
    "        if i not in dic:\n",
    "            dic[i] = 0\n",
    "    \n",
    "    for j in present_array:\n",
    "        dic[j] = 1\n",
    "    \n",
    "    absent_students = []\n",
    "    for student in dic:\n",
    "        if dic[student] == 0:\n",
    "            absent_students.append(student)\n",
    "    return absent_students"
   ]
  },
  {
   "cell_type": "code",
   "execution_count": null,
   "metadata": {},
   "outputs": [],
   "source": [
    "def get_absent_student(all_array, present_array):\n",
    "    absent_students = set(all_array) - set(present_array)\n",
    "    return list(absent_students)"
   ]
  },
  {
   "cell_type": "code",
   "execution_count": null,
   "metadata": {},
   "outputs": [],
   "source": [
    "def solution(prices, coupons):\n",
    "    coupons.sort(reverse = True)\n",
    "    prices.sort(reverse = True)\n",
    "    price_index = 0 \n",
    "    coupon_index = 0 \n",
    "    max_discounted_price = 0 \n",
    "\n",
    "    while price_index < len(prices) and coupon_index < len(coupons):\n",
    "        max_discounted_price += prices[price_index]*(100-coupons[coupon_index])/100\n",
    "        price_index += 1\n",
    "        coupon_index += 1\n",
    "\n",
    "    while price_index < len(prices):\n",
    "        max_discounted_price += prices[price_index]\n",
    "        price_index += 1\n",
    "\n",
    "    \n",
    "    return max_discounted_price "
   ]
  }
 ],
 "metadata": {
  "language_info": {
   "name": "python"
  }
 },
 "nbformat": 4,
 "nbformat_minor": 2
}
