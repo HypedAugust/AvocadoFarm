{
 "cells": [
  {
   "cell_type": "code",
   "execution_count": null,
   "metadata": {},
   "outputs": [
    {
     "name": "stdout",
     "output_type": "stream",
     "text": [
      "[1, 2, 3, 4, 5, 6, 7, 8, 9, 10]\n"
     ]
    }
   ],
   "source": [
    "# dfs - non recursive \n",
    "\n",
    "graph = {\n",
    "    1: [2, 5, 9],\n",
    "    2: [1, 3],\n",
    "    3: [2, 4],\n",
    "    4: [3],\n",
    "    5: [1, 6, 8],\n",
    "    6: [5, 7],\n",
    "    7: [6],\n",
    "    8: [5],\n",
    "    9: [1, 10],\n",
    "    10: [9]\n",
    "}\n",
    "\n",
    "start_node = 1\n",
    "def solution(graph, start_node):\n",
    "    stack = [start_node] # 1 # 2\n",
    "    visited = []  # 방문한 순서를 기록\n",
    "    \n",
    "    \n",
    "    while stack:\n",
    "        current_node = stack.pop() # 1 # 2\n",
    "        \n",
    "        # 인접 노드를 역순으로 처리하면 원래 순서대로 방문 가능\n",
    "        for adjacent_node in reversed(graph[current_node]): # 2,5,9 # 1,3\n",
    "            if adjacent_node not in visited_set: \n",
    "                stack.append(adjacent_node) # 2 # 3\n",
    "                \n",
    "    \n",
    "    return visited\n",
    "\n",
    "print(solution(graph, start_node))"
   ]
  },
  {
   "cell_type": "code",
   "execution_count": 6,
   "metadata": {},
   "outputs": [
    {
     "name": "stdout",
     "output_type": "stream",
     "text": [
      "[1, 2, 3, 4, 5, 6, 7, 8, 9, 10]\n"
     ]
    }
   ],
   "source": [
    "graph = {\n",
    "    1: [2, 5, 9],\n",
    "    2: [1, 3],\n",
    "    3: [2, 4],\n",
    "    4: [3],\n",
    "    5: [1, 6, 8],\n",
    "    6: [5, 7],\n",
    "    7: [6],\n",
    "    8: [5],\n",
    "    9: [1, 10],\n",
    "    10: [9]\n",
    "}\n",
    "\n",
    "def solution(graph, cur_node, visited_array):\n",
    "    visited_array.append(cur_node)\n",
    "    for adjacent_node in graph[cur_node]:\n",
    "        if adjacent_node not in visited_array:\n",
    "            solution(graph, adjacent_node, visited_array)\n",
    "    return visited_array\n",
    "\n",
    "visited_array = []\n",
    "\n",
    "print(solution(graph, 1, visited_array))"
   ]
  },
  {
   "cell_type": "code",
   "execution_count": null,
   "metadata": {},
   "outputs": [
    {
     "name": "stdout",
     "output_type": "stream",
     "text": [
      "[1, 2, 3, 4, 5, 6, 7, 8, 9, 10]\n"
     ]
    }
   ],
   "source": [
    "# bfs \n",
    "graph = {\n",
    "    1: [2, 3, 4],\n",
    "    2: [1, 5],\n",
    "    3: [1, 6, 7],\n",
    "    4: [1, 8],\n",
    "    5: [2, 9],\n",
    "    6: [3, 10],\n",
    "    7: [3],\n",
    "    8: [4],\n",
    "    9: [5],\n",
    "    10: [6]\n",
    "}\n",
    "\n",
    "def solution(graph, start_node):\n",
    "    queue = [start_node] # 1 \n",
    "    visited = []\n",
    "\n",
    "    while queue:\n",
    "        current_node = queue.pop(0) # 1 \n",
    "        visited.append(current_node) # 1\n",
    "        for adjacent_node in graph[current_node]: # 2,3,4\n",
    "            if adjacent_node not in visited: # 2,3,4 \n",
    "                queue.append(adjacent_node) # 1,2,3,4\n",
    "    \n",
    "    return visited \n",
    "\n",
    "print(solution(graph, 1))"
   ]
  }
 ],
 "metadata": {
  "kernelspec": {
   "display_name": "coursera",
   "language": "python",
   "name": "python3"
  },
  "language_info": {
   "codemirror_mode": {
    "name": "ipython",
    "version": 3
   },
   "file_extension": ".py",
   "mimetype": "text/x-python",
   "name": "python",
   "nbconvert_exporter": "python",
   "pygments_lexer": "ipython3",
   "version": "3.10.8"
  }
 },
 "nbformat": 4,
 "nbformat_minor": 2
}
