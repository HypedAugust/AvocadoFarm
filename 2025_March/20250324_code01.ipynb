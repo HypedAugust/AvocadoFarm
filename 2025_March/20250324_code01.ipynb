{
 "cells": [
  {
   "cell_type": "code",
   "execution_count": 8,
   "metadata": {},
   "outputs": [
    {
     "name": "stdout",
     "output_type": "stream",
     "text": [
      "지효\n"
     ]
    }
   ],
   "source": [
    "# Q. 오늘 수업에 많은 학생들이 참여했습니다. \n",
    "# 단 한 명의 학생을 제외하고는 모든 학생이 출석했습니다. \n",
    "\n",
    "# 모든 학생의 이름이 담긴 배열과 출석한 학생들의 \n",
    "# 배열이 주어질 때, 출석하지 않은 학생의 이름을 반환하시오.\n",
    "\n",
    "# 해쉬 \n",
    "all_students = [\"나연\", \"정연\", \"모모\", \"사나\", \"지효\", \"미나\", \"다현\", \"채영\", \"쯔위\"]\n",
    "present_students = [\"정연\", \"모모\", \"채영\", \"쯔위\", \"사나\", \"나연\", \"미나\", \"다현\"]\n",
    "\n",
    "# for 문으로 \n",
    "def solution(all_students, present_students):\n",
    "    for student in all_students:\n",
    "        if student not in present_students:\n",
    "            return student\n",
    "    return None\n",
    "\n",
    "print(solution(all_students, present_students))"
   ]
  },
  {
   "cell_type": "code",
   "execution_count": 11,
   "metadata": {},
   "outputs": [
    {
     "name": "stdout",
     "output_type": "stream",
     "text": [
      "지효\n"
     ]
    }
   ],
   "source": [
    "# 해쉬 \n",
    "all_students = [\"나연\", \"정연\", \"모모\", \"사나\", \"지효\", \"미나\", \"다현\", \"채영\", \"쯔위\"]\n",
    "present_students = [\"정연\", \"모모\", \"채영\", \"쯔위\", \"사나\", \"나연\", \"미나\", \"다현\"]\n",
    "\n",
    "def solution(all_students, present_students):\n",
    "    dict = {}\n",
    "    for student in all_students:\n",
    "        dict[student] = True\n",
    "    \n",
    "    for present_student in present_students:\n",
    "        del dict[present_student]\n",
    "    \n",
    "    for student in dict.keys():\n",
    "        return student\n",
    "    \n",
    "print(solution(all_students, present_students))"
   ]
  },
  {
   "cell_type": "code",
   "execution_count": 13,
   "metadata": {},
   "outputs": [
    {
     "name": "stdout",
     "output_type": "stream",
     "text": [
      "정답 = 926000 / 현재 풀이 값 =  4020000\n",
      "정답 = 485000 / 현재 풀이 값 =  49500000\n",
      "정답 = 1550000 / 현재 풀이 값 =  1550000\n",
      "정답 = 1458000 / 현재 풀이 값 =  145800000\n"
     ]
    }
   ],
   "source": [
    "# # Q. \n",
    "# # 다음과 같이 숫자로 이루어진 배열이 두 개가 있다. \n",
    "# # 하나는 상품의 가격을 담은 배열이고, 하나는 쿠폰을 담은 배열이다. \n",
    "# # 쿠폰의 할인율에 따라 상품의 가격을 할인 받을 수 있다. \n",
    "# # 이 때, 최대한 할인을 많이 받는다면 얼마를 내야 하는가?\n",
    "# # 단, 할인쿠폰은 한 제품에 한 번씩만 적용 가능하다.\n",
    "\n",
    "# [30000, 2000, 1500000] # 상품의 가격\n",
    "# [20, 40]               # 쿠폰, 할인율의 단위는 % 입니다.\n",
    "\n",
    "shop_prices = [30000, 2000, 1500000]\n",
    "user_coupons = [20, 40]\n",
    "\n",
    "\n",
    "def get_max_discounted_price(prices, coupons):\n",
    "    shop_prices.sort(reverse=True)\n",
    "    user_coupons.sort(reverse=True)\n",
    "    shop_prices_idx = 0 \n",
    "    user_coupons_idx = 0 \n",
    "    final_price = 0 \n",
    "\n",
    "    while shop_prices_idx < len(prices) and user_coupons_idx < len(coupons):\n",
    "        final_price += prices[shop_prices_idx] * (100 - coupons[user_coupons_idx])\n",
    "        shop_prices_idx += 1\n",
    "        user_coupons_idx += 1\n",
    "    \n",
    "    while shop_prices_idx < len(prices):\n",
    "        final_price += prices[shop_prices_idx]\n",
    "        shop_prices_idx += 1\n",
    "    \n",
    "    return final_price\n",
    "\n",
    "\n",
    "\n",
    "print(\"정답 = 926000 / 현재 풀이 값 = \", get_max_discounted_price([30000, 2000, 1500000], [20, 40]))\n",
    "print(\"정답 = 485000 / 현재 풀이 값 = \", get_max_discounted_price([50000, 1500000], [10, 70, 30, 20]))\n",
    "print(\"정답 = 1550000 / 현재 풀이 값 = \", get_max_discounted_price([50000, 1500000], []))\n",
    "print(\"정답 = 1458000 / 현재 풀이 값 = \", get_max_discounted_price([20000, 100000, 1500000], [10, 10, 10]))"
   ]
  },
  {
   "cell_type": "code",
   "execution_count": 17,
   "metadata": {},
   "outputs": [
    {
     "name": "stdout",
     "output_type": "stream",
     "text": [
      "정답 = True / 현재 풀이 값 =  True\n",
      "정답 = False / 현재 풀이 값 =  False\n",
      "정답 = False / 현재 풀이 값 =  False\n",
      "정답 = False / 현재 풀이 값 =  False\n",
      "정답 = False / 현재 풀이 값 =  False\n"
     ]
    }
   ],
   "source": [
    "# Q. 괄호가 바르게 짝지어졌다는 것은 '(' 문자로 열렸으면 반드시 짝지어서 ')' 문자로 닫혀야 한다는 뜻이다. 예를 들어\n",
    "\n",
    "# ()() 또는 (())() 는 올바르다.\n",
    "# )()( 또는 (()( 는 올바르지 않다.\n",
    "\n",
    "# 이 때, '(' 또는 ')' 로만 이루어진 문자열 s가 주어졌을 때, 문자열 s가 올바른 괄호이면 True 를 반환하고 아니라면 False 를 반환하시오.\n",
    "\n",
    "def is_correct_parenthesis(string):\n",
    "    stack = []\n",
    "    for i in string:\n",
    "        if i == \"(\":\n",
    "            stack.append(i)\n",
    "        else:\n",
    "            if len(stack) == 0:\n",
    "                return False\n",
    "            stack.pop()\n",
    "\n",
    "    if len(stack) == 0:\n",
    "        return True\n",
    "    else: \n",
    "        return False\n",
    "\n",
    "\n",
    "\n",
    "print(\"정답 = True / 현재 풀이 값 = \", is_correct_parenthesis(\"(())\"))\n",
    "print(\"정답 = False / 현재 풀이 값 = \", is_correct_parenthesis(\")\"))\n",
    "print(\"정답 = False / 현재 풀이 값 = \", is_correct_parenthesis(\"((())))\"))\n",
    "print(\"정답 = False / 현재 풀이 값 = \", is_correct_parenthesis(\"())()\"))\n",
    "print(\"정답 = False / 현재 풀이 값 = \", is_correct_parenthesis(\"((())\"))"
   ]
  },
  {
   "cell_type": "code",
   "execution_count": null,
   "metadata": {},
   "outputs": [],
   "source": [
    "genres = [\"classic\", \"pop\", \"classic\", \"classic\", \"pop\"]\n",
    "plays = [500, 600, 150, 800, 2500]\n",
    "\n",
    "\n",
    "def get_melon_best_album(genre_array, play_array):\n",
    "    # 1. dict 에 장르별로 얼마나 재생횟수를 가지고 있는가\n",
    "    # 2. dict 에 장르별로 어느 인덱스에 몇번 재생횟수를 가지고 있는가\n",
    "\n",
    "    n = len(genre_array)\n",
    "    genre_total_play_dict = {}\n",
    "    genre_index_play_array_dict = {}\n",
    "\n",
    "    for i in range(n):\n",
    "        genre = genre_array[i] # classic\n",
    "        play = play_array[i] # 500\n",
    "\n",
    "        if genre in genre_total_play_dict: #classic 이라는 키값이 있었으면\n",
    "            genre_total_play_dict[genre] += play #재생횟수를 더해줘야 할테니까요\n",
    "            genre_index_play_array_dict[genre].append([i, play]) # (0, 500)\n",
    "        else: #키 값이 없는 상황이라면\n",
    "            genre_total_play_dict[genre] = play # 500\n",
    "            genre_index_play_array_dict[genre] = [[i, play]] # (0, 500)\n",
    "\n",
    "    # 장르별로 가장 재생횟수가 많은 장르들 중, 곡수가 많은 순서대로 2개씩 출력하기.\n",
    "    sorted_genre_play_array = sorted(genre_total_play_dict.items(), key=lambda item: item[1], reverse=True)\n",
    "\n",
    "    result = []\n",
    "    for genre, total_play in sorted_genre_play_array:\n",
    "        sorted_genre_index_play_array = sorted(genre_index_play_array_dict[genre], key=lambda item: item[1], reverse=True)\n",
    "# 1. genre_total_play_dict.items() 실행\n",
    "# 결과: [('classic', 1450), ('pop', 3100)]\n",
    "\n",
    "# 2. sorted(genre_total_play_dict.items(), key=lambda item: item[1], reverse=True) 실행\n",
    "# key=lambda item: item[1]는 각 튜플의 두 번째 값(재생 횟수)을 기준으로 정렬\n",
    "# reverse=True는 내림차순 정렬 (큰 값이 먼저)\n",
    "# 결과: [('pop', 3100), ('classic', 1450)]\n",
    "        genre_song_count = 0\n",
    "        for index, play in sorted_genre_index_play_array:\n",
    "            if genre_song_count >= 2: \n",
    "                break\n",
    "\n",
    "            result.append(index)\n",
    "            genre_song_count += 1"
   ]
  }
 ],
 "metadata": {
  "kernelspec": {
   "display_name": "coursera",
   "language": "python",
   "name": "python3"
  },
  "language_info": {
   "codemirror_mode": {
    "name": "ipython",
    "version": 3
   },
   "file_extension": ".py",
   "mimetype": "text/x-python",
   "name": "python",
   "nbconvert_exporter": "python",
   "pygments_lexer": "ipython3",
   "version": "3.10.8"
  }
 },
 "nbformat": 4,
 "nbformat_minor": 2
}
