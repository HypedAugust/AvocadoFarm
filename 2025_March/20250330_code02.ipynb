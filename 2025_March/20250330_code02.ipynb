{
 "cells": [
  {
   "cell_type": "code",
   "execution_count": 6,
   "metadata": {},
   "outputs": [
    {
     "name": "stdout",
     "output_type": "stream",
     "text": [
      "[5, 2, 6, 3, 7, 4]\n",
      "[1, 5, 2, 6, 3]\n",
      "[5, 2, 6, 3]\n"
     ]
    }
   ],
   "source": [
    "array=[1,5,2,6,3,7,4]\n",
    "print(array[1:])\n",
    "print(array[:5])\n",
    "print(array[1:5])"
   ]
  },
  {
   "cell_type": "code",
   "execution_count": 23,
   "metadata": {},
   "outputs": [
    {
     "name": "stdout",
     "output_type": "stream",
     "text": [
      "5\n",
      "4\n",
      "7\n"
     ]
    }
   ],
   "source": [
    "command = [[2, 5, 3], [4, 4, 1], [1, 7, 3]]\t\n",
    "for i in command: \n",
    "    print(i[1])"
   ]
  },
  {
   "cell_type": "code",
   "execution_count": null,
   "metadata": {},
   "outputs": [
    {
     "name": "stdout",
     "output_type": "stream",
     "text": [
      "i:2\n",
      "i:4\n",
      "i:1\n",
      "[5, 6, 3]\n"
     ]
    }
   ],
   "source": [
    "# array [1,5,2,6,3,7,4] i = 2, j = 5, k = 3\n",
    "# 5263 index = 1,2,3,4 // i-1:j 까지 \n",
    "# 5263을 정렬 하면 2,3,5,6\n",
    "# 2356에서 3번째는 5임. [k-1] \n",
    "\n",
    "\n",
    "array = [1, 5, 2, 6, 3, 7, 4]\n",
    "commands = [[2, 5, 3], [4, 4, 1], [1, 7, 3]]\n",
    "def solution(array, commands):\n",
    "    answer = []    \n",
    "    for command in commands:\n",
    "        i = command[0] \n",
    "        j = command[1]\n",
    "        k = command[2]\n",
    "        new_array = array[i-1:j]\n",
    "        new_array.sort()\n",
    "        answer.append(new_array[k-1])\n",
    "    return answer \n",
    "\n",
    "print(solution(array, commands))"
   ]
  },
  {
   "cell_type": "code",
   "execution_count": null,
   "metadata": {},
   "outputs": [],
   "source": []
  }
 ],
 "metadata": {
  "kernelspec": {
   "display_name": "coursera",
   "language": "python",
   "name": "python3"
  },
  "language_info": {
   "codemirror_mode": {
    "name": "ipython",
    "version": 3
   },
   "file_extension": ".py",
   "mimetype": "text/x-python",
   "name": "python",
   "nbconvert_exporter": "python",
   "pygments_lexer": "ipython3",
   "version": "3.10.8"
  }
 },
 "nbformat": 4,
 "nbformat_minor": 2
}
