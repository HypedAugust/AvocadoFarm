{
 "cells": [
  {
   "cell_type": "code",
   "execution_count": null,
   "metadata": {},
   "outputs": [],
   "source": [
    "def solution(clothes):\n",
    "    catecount = {}\n",
    "    \n",
    "    for item, category in clothes:\n",
    "        if category not in catecount:\n",
    "            catecount[category] = 2 # 의상 1개일때, 의상 선택 안했을 때 \n",
    "        else:\n",
    "            catecount[category] += 1\n",
    "    \n",
    "    totalcomb = 1\n",
    "    for i in catecount.values():\n",
    "        totalcomb *= i \n",
    "    \n",
    "    return totalcomb - 1\n",
    "    \n",
    "    "
   ]
  },
  {
   "cell_type": "code",
   "execution_count": 2,
   "metadata": {},
   "outputs": [
    {
     "name": "stdout",
     "output_type": "stream",
     "text": [
      "12\n"
     ]
    }
   ],
   "source": [
    "array = [12,3,4,5]\n",
    "def find_max_num(array):\n",
    "    answer = max(array)\n",
    "    return answer\n",
    "\n",
    "print(find_max_num(array))"
   ]
  },
  {
   "cell_type": "code",
   "execution_count": 6,
   "metadata": {},
   "outputs": [
    {
     "name": "stdout",
     "output_type": "stream",
     "text": [
      " \n",
      " \n"
     ]
    }
   ],
   "source": [
    "string = \"hello my name is dingcodingco\"\n",
    "\n",
    "def find_max_occurred_alphabet(string):\n",
    "    max_occurred = {}\n",
    "    for i in string:\n",
    "\n",
    "        if i not in max_occurred:\n",
    "            max_occurred[i] = 1\n",
    "        \n",
    "        else:\n",
    "            max_occurred[i] += 1\n",
    "    \n",
    "    max_value = max(max_occurred.values())\n",
    "\n",
    "    for char, count in max_occurred.items():\n",
    "        if count == max_value:\n",
    "            return char\n",
    "\n",
    "\n",
    "print(find_max_occurred_alphabet(string))\n",
    "print(find_max_occurred_alphabet(string))"
   ]
  },
  {
   "cell_type": "code",
   "execution_count": 9,
   "metadata": {},
   "outputs": [
    {
     "name": "stdout",
     "output_type": "stream",
     "text": [
      "97\n",
      "a\n"
     ]
    }
   ],
   "source": [
    "print(ord('a'))\n",
    "print(chr(97))"
   ]
  },
  {
   "cell_type": "code",
   "execution_count": 16,
   "metadata": {},
   "outputs": [
    {
     "name": "stdout",
     "output_type": "stream",
     "text": [
      "max alphabet : a\n",
      "max occur : 1\n",
      "max alphabet : c\n",
      "max occur : 2\n",
      "max alphabet : i\n",
      "max occur : 3\n",
      "정답 = i 현재 풀이 값 = i\n"
     ]
    }
   ],
   "source": [
    "def find_max_occurred_alphabet(string):\n",
    "    alphabet_array = [\"a\", \"b\", \"c\", \"d\", \"e\", \"f\", \"g\", \"h\", \"i\", \"j\", \"k\", \"l\", \"m\", \"n\", \"o\", \"p\", \"q\", \"r\", \"s\",\n",
    "                      \"t\", \"u\", \"v\", \"x\", \"y\", \"z\"]\n",
    "    max_occurrence = 0\n",
    "    max_alphabet = alphabet_array[0]\n",
    "\n",
    "    for alphabet in alphabet_array:\n",
    "        occurrence = 0\n",
    "        for char in string:\n",
    "            if char == alphabet:\n",
    "                occurrence += 1\n",
    "\n",
    "        if occurrence > max_occurrence:\n",
    "            max_alphabet = alphabet\n",
    "            print(f'max alphabet : {max_alphabet}')\n",
    "            max_occurrence = occurrence # 이 코드가 이해가 안됨.\n",
    "            print(f'max occur : {max_occurrence}')\n",
    "\n",
    "    return max_alphabet\n",
    "\n",
    "\n",
    "print(\"정답 = i 현재 풀이 값 =\", find_max_occurred_alphabet(\"hello my name is dingcodingco\"))"
   ]
  },
  {
   "cell_type": "code",
   "execution_count": 21,
   "metadata": {},
   "outputs": [
    {
     "name": "stdout",
     "output_type": "stream",
     "text": [
      "i\n"
     ]
    }
   ],
   "source": [
    "def find_max_occurred_alphabet(string):\n",
    "    alphabet_occurence_array = [0]*26\n",
    "\n",
    "    for char in string:\n",
    "        if not char.isalpha():\n",
    "            continue\n",
    "\n",
    "        arr_index = ord(char) - ord('a') #인덱스로 치환 \n",
    "        alphabet_occurence_array[arr_index] += 1 \n",
    "    \n",
    "    \n",
    "    max_occurence = 0 \n",
    "    max_alphabet_index = 0 \n",
    "    \n",
    "    for index in range(len(alphabet_occurence_array)):\n",
    "        alphabet_occurrence = alphabet_occurence_array[index]\n",
    "\n",
    "        if alphabet_occurrence > max_occurence: \n",
    "            max_occurence = alphabet_occurrence\n",
    "            max_alphabet_index = index \n",
    "\n",
    "    return chr(max_alphabet_index + ord('a'))\n",
    "print(find_max_occurred_alphabet(\"hello my name is dingcodingco\"))"
   ]
  }
 ],
 "metadata": {
  "kernelspec": {
   "display_name": "Python 3",
   "language": "python",
   "name": "python3"
  },
  "language_info": {
   "codemirror_mode": {
    "name": "ipython",
    "version": 3
   },
   "file_extension": ".py",
   "mimetype": "text/x-python",
   "name": "python",
   "nbconvert_exporter": "python",
   "pygments_lexer": "ipython3",
   "version": "3.11.9"
  }
 },
 "nbformat": 4,
 "nbformat_minor": 2
}
