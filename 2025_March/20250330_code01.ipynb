{
 "cells": [
  {
   "cell_type": "code",
   "execution_count": null,
   "metadata": {},
   "outputs": [
    {
     "name": "stdout",
     "output_type": "stream",
     "text": [
      "[1, 2, 4, 6, 9]\n"
     ]
    }
   ],
   "source": [
    "# 버블 정렬 \n",
    "\n",
    "input = [4, 6, 2, 9, 1]\n",
    "\n",
    "def bubble_sort(array):\n",
    "    n = len(array)\n",
    "    for i in range(n-1): \n",
    "        for j in range(n-i-1):\n",
    "            if array[j] > array[j+1]:\n",
    "                array[j], array[j+1] = array[j+1], array[j]\n",
    "    return array\n",
    "\n",
    "\n",
    "bubble_sort(input)\n",
    "print(input)  # [1, 2, 4, 6, 9] 가 되어야 합니다!"
   ]
  },
  {
   "cell_type": "code",
   "execution_count": 11,
   "metadata": {},
   "outputs": [
    {
     "name": "stdout",
     "output_type": "stream",
     "text": [
      "0\n",
      "1\n",
      "2\n",
      "3\n",
      "0\n",
      "1\n",
      "2\n",
      "0\n",
      "1\n",
      "0\n"
     ]
    }
   ],
   "source": [
    "for i in range(5 - 1):         # 4번만 비교하면 되니까!\n",
    "\t\tfor j in range(5 - i - 1): # Q. 여기서ㅓ왜 5 - i - 1 일까요? \n",
    "\t\t    print(j)               # A. array[j] 와 array[j + 1] 을 비교할거라,\n",
    "                               #    마지막 원소까지 가지 않아도 되기 때문이에요!\n",
    "\n",
    "# 실행결과\n",
    "# 0\n",
    "# 1\n",
    "# 2\n",
    "# 3\n",
    "# 0\n",
    "# 1\n",
    "# 2\n",
    "# 0\n",
    "# 1\n",
    "# 0"
   ]
  },
  {
   "cell_type": "code",
   "execution_count": null,
   "metadata": {},
   "outputs": [
    {
     "name": "stdout",
     "output_type": "stream",
     "text": [
      "minindex0\n",
      "n-i 5\n",
      "j:0\n",
      "n-i 5\n",
      "j:1\n",
      "n-i 5\n",
      "j:2\n",
      "i+j:2\n",
      "n-i 5\n",
      "j:3\n",
      "n-i 5\n",
      "j:4\n",
      "i+j:4\n",
      "minindex1\n",
      "n-i 4\n",
      "j:0\n",
      "n-i 4\n",
      "j:1\n",
      "i+j:2\n",
      "n-i 4\n",
      "j:2\n",
      "n-i 4\n",
      "j:3\n",
      "minindex2\n",
      "n-i 3\n",
      "j:0\n",
      "n-i 3\n",
      "j:1\n",
      "n-i 3\n",
      "j:2\n",
      "i+j:4\n",
      "minindex3\n",
      "n-i 2\n",
      "j:0\n",
      "n-i 2\n",
      "j:1\n",
      "i+j:4\n",
      "[1, 2, 4, 6, 9]\n"
     ]
    }
   ],
   "source": [
    "# selection sort \n",
    "input = [4, 6, 2, 9, 1]\n",
    "\n",
    "\n",
    "def selection_sort(array):\n",
    "    n = len(array) \n",
    "    for i in range(n-1): \n",
    "        min_index = i \n",
    "        print(f'minindex{i}')\n",
    "        for j in range(n - i): \n",
    "            print(f'n-i {n-i}')\n",
    "            print(f'j:{j}')\n",
    "            if array[min_index] > array[i+j]: \n",
    "                min_index = i+j \n",
    "                print(f'i+j:{i+j}')\n",
    "        array[i], array[min_index] = array[min_index], array[i]\n",
    "    return\n",
    "\n",
    "\n",
    "selection_sort(input)\n",
    "print(input) # [1, 2, 4, 6, 9] 가 되어야 합니다!"
   ]
  },
  {
   "cell_type": "code",
   "execution_count": null,
   "metadata": {},
   "outputs": [
    {
     "name": "stdout",
     "output_type": "stream",
     "text": [
      "i:1\n",
      "j0\n",
      "1\n",
      "i:2\n",
      "j0\n",
      "2\n",
      "j1\n",
      "1\n",
      "i:3\n",
      "j0\n",
      "3\n",
      "j1\n",
      "2\n",
      "j2\n",
      "1\n",
      "i:4\n",
      "j0\n",
      "4\n",
      "j1\n",
      "3\n",
      "j2\n",
      "2\n",
      "j3\n",
      "1\n",
      "[4, 6, 2, 9, 1]\n"
     ]
    }
   ],
   "source": [
    "input = [4, 6, 2, 9, 1]\n",
    "\n",
    "\n",
    "def insertion_sort(array):\n",
    "    n = len(array)\n",
    "    for i in range (1,5): \n",
    "        for j in range(i):\n",
    "            if array[i-j-1] > array[i-j]:\n",
    "                array[i-j-1], array[i-j] = array[i-j], array[i-j-1]\n",
    "            else:\n",
    "                break\n",
    "    return array \n",
    "\n",
    "\n",
    "insertion_sort(input)\n",
    "print(input) # [1, 2, 4, 6, 9] 가 되어야 합니다!"
   ]
  },
  {
   "cell_type": "code",
   "execution_count": null,
   "metadata": {},
   "outputs": [
    {
     "name": "stdout",
     "output_type": "stream",
     "text": [
      "[0, 0, 2, 2, 4]\n"
     ]
    }
   ],
   "source": [
    " # stack \n",
    "\n",
    "top_heights = [6, 9, 5, 7, 4]\n",
    "\n",
    "\n",
    "def get_receiver_top_orders(heights):\n",
    "    answer = [0]*5\n",
    "    length = len(heights) \n",
    "    for i in range(length-1,-1,-1):\n",
    "        current = heights[i]\n",
    "        for j in range(i-1,-1,-1):\n",
    "            if heights[j] > current:\n",
    "                answer[i] = j + 1\n",
    "                break \n",
    "    return answer \n",
    "\n",
    "print(get_receiver_top_orders(top_heights))  # [0, 0, 2, 2, 4] 가 반환되어야 한다!\n"
   ]
  },
  {
   "cell_type": "code",
   "execution_count": null,
   "metadata": {},
   "outputs": [
    {
     "name": "stdout",
     "output_type": "stream",
     "text": [
      "[0, 0, 0, 0, 4]\n",
      "[0, 0, 0, 2, 4]\n",
      "[0, 0, 2, 2, 4]\n",
      "[0, 0, 2, 2, 4]\n"
     ]
    }
   ],
   "source": [
    "top_heights = [6, 9, 5, 7, 4]\n",
    "\n",
    "def solution(heights):\n",
    "    answer = [0]*len(heights)\n",
    "\n",
    "    while heights:\n",
    "        height = heights.pop()\n",
    "        for index in range(len(heights)-1,-1,-1):\n",
    "            if height <= heights[index]: # 4가 heights[3] = 7보다 작으므로 \n",
    "                answer[len(heights)] = index + 1 # 이 코드가 이해가 안감. \n",
    "                break \n",
    "    return answer \n",
    "print(solution(top_heights)) "
   ]
  },
  {
   "cell_type": "code",
   "execution_count": null,
   "metadata": {},
   "outputs": [
    {
     "name": "stdout",
     "output_type": "stream",
     "text": [
      "[4, 3, 1, 1, 0]\n"
     ]
    }
   ],
   "source": [
    "from collections import deque\n",
    "\n",
    "prices = [1, 2, 3, 2, 3]\n",
    "\n",
    "\n",
    "def get_price_not_fall_periods(prices):\n",
    "    result = []\n",
    "    prices = deque(prices)\n",
    "\n",
    "    while prices:\n",
    "        price_not_fall_period = 0\n",
    "        current_price = prices.popleft()\n",
    "        for next_price in prices:\n",
    "            if current_price > next_price:\n",
    "                price_not_fall_period += 1\n",
    "                break\n",
    "            price_not_fall_period += 1 \n",
    "\n",
    "        result.append(price_not_fall_period)\n",
    "\n",
    "    return result\n",
    "\n",
    "\n",
    "print(get_price_not_fall_periods(prices))"
   ]
  },
  {
   "cell_type": "code",
   "execution_count": null,
   "metadata": {},
   "outputs": [],
   "source": [
    "def selection_sort(arr):\n",
    "    for i in range(len(arr)):\n",
    "        min_idx = i\n",
    "        for j in range(i + 1, len(arr)):\n",
    "            if arr[min_idx] > arr[j]:\n",
    "                min_idx = j\n",
    "        arr[i], arr[min_idx] = arr[min_idx], arr[i]\n",
    "    return arr\n",
    "\n",
    "arr = [64, 25, 12, 22, 11]\n",
    "print(selection_sort(arr))"
   ]
  },
  {
   "cell_type": "code",
   "execution_count": 41,
   "metadata": {},
   "outputs": [
    {
     "name": "stdout",
     "output_type": "stream",
     "text": [
      "dict_keys(['지효'])\n"
     ]
    }
   ],
   "source": [
    "all_students = [\"나연\", \"정연\", \"모모\", \"사나\", \"지효\", \"미나\", \"다현\", \"채영\", \"쯔위\"]\n",
    "present_students = [\"정연\", \"모모\", \"채영\", \"쯔위\", \"사나\", \"나연\", \"미나\", \"다현\"]\n",
    "\n",
    "def get_absent_student(all_array, present_array):\n",
    "    dict = {}\n",
    "    for student in all_students:\n",
    "        dict[student] = True\n",
    "    \n",
    "    for present_student in present_array:\n",
    "        del dict[present_student]\n",
    "    return dict.keys()\n",
    "\n",
    "\n",
    "print(get_absent_student(all_students, present_students))"
   ]
  }
 ],
 "metadata": {
  "kernelspec": {
   "display_name": "coursera",
   "language": "python",
   "name": "python3"
  },
  "language_info": {
   "codemirror_mode": {
    "name": "ipython",
    "version": 3
   },
   "file_extension": ".py",
   "mimetype": "text/x-python",
   "name": "python",
   "nbconvert_exporter": "python",
   "pygments_lexer": "ipython3",
   "version": "3.10.8"
  }
 },
 "nbformat": 4,
 "nbformat_minor": 2
}
