{
 "cells": [
  {
   "cell_type": "code",
   "execution_count": 1,
   "metadata": {},
   "outputs": [],
   "source": [
    "\n",
    "current_r, current_c, current_d = 7, 4, 0\n",
    "current_room_map = [\n",
    "    [1, 1, 1, 1, 1, 1, 1, 1, 1, 1],\n",
    "    [1, 0, 0, 0, 0, 0, 0, 0, 0, 1],\n",
    "    [1, 0, 0, 0, 1, 1, 1, 1, 0, 1],\n",
    "    [1, 0, 0, 1, 1, 0, 0, 0, 0, 1],\n",
    "    [1, 0, 1, 1, 0, 0, 0, 0, 0, 1],\n",
    "    [1, 0, 0, 0, 0, 0, 0, 0, 0, 1],\n",
    "    [1, 0, 0, 0, 0, 0, 0, 1, 0, 1],\n",
    "    [1, 0, 0, 0, 0, 0, 1, 1, 0, 1],\n",
    "    [1, 0, 0, 0, 0, 0, 1, 1, 0, 1],\n",
    "    [1, 0, 0, 0, 0, 0, 0, 0, 0, 1],\n",
    "    [1, 1, 1, 1, 1, 1, 1, 1, 1, 1]\n",
    "]\n",
    "\n"
   ]
  },
  {
   "cell_type": "code",
   "execution_count": 2,
   "metadata": {},
   "outputs": [],
   "source": [
    "# 구하려는 것 : 로봇 청소기가 청소하는 칸의 갯수 \n",
    "# 모든 칸을 탐색해야함. -> BFS 문제이며 큐를 사용해야한다. \n",
    "\n",
    "# 로봇 청소기의 장소 사이즈 = N X M\n",
    "# 현재 위치를 청소함. 현재 위치는 (r,c) 로 매개변수가 주어짐. 현재것도 청소함으로 카운트는 1부터 해야함. \n",
    "# 왼쪽 부터 청소함. -> 왼쪽방향으로 회전한다는 개념임. 이걸 구현해야함. \n",
    "\n",
    "# 왼쪽 방향에 청소안한 공간이 있다면, 거기로 회전하고 한칸 전진 후 1번부터 진행.  \n",
    "\n",
    "# 왼쪽 방향에 청소할 공간이 없다면 그 방향으로 회전하고 2번으로 돌아감. 현재 방향에 청소할거 없으면 회전 왼쪽으로 한번 더하고 청소가능 공간 확인. \n",
    "\n",
    "# 4 방향 모두 청소가 되어있거나 벽인 경우에는 뒤로 한칸 후진하고 다시 청소할 곳 없는지 확인해라 \n",
    "\n",
    "# 갈곳 없이 모두 청소 되었으면 break "
   ]
  },
  {
   "cell_type": "code",
   "execution_count": 3,
   "metadata": {},
   "outputs": [
    {
     "name": "stdout",
     "output_type": "stream",
     "text": [
      "57\n"
     ]
    }
   ],
   "source": [
    "# deque \n",
    "from collections import deque\n",
    "\n",
    "# direction \n",
    "# 북, 남\n",
    "dr = [-1,0,1,0]\n",
    "# 동, 서\n",
    "dc = [0,1,0,-1]\n",
    "\n",
    "# rotate \n",
    "def rotate(d):\n",
    "    return (d+3) % 4\n",
    "\n",
    "# going back  \n",
    "def ride_back(d): # 이 함수 이해 안됨. \n",
    "    return (d+2) % 4\n",
    "\n",
    "# answer \n",
    "def solution(r,c,d,room_map): # 7,4,0\n",
    "    n = len(room_map)\n",
    "    m = len(room_map[0])\n",
    "\n",
    "    answer = 1 \n",
    "    room_map[r][c] = 2 # newly cleaned , start position \n",
    "    queue = deque([[r,c,d]])\n",
    "\n",
    "    while queue:\n",
    "        r,c,d = queue.popleft() # (7,4) 위치에 북쪽 방향 바라보고 있는거 얘기하는거임. \n",
    "        temp_d = d # 시작 d가 0이니까 북쪽 보고 있음. \n",
    "\n",
    "        for i in range(4): # 4 방향이므로 4임. \n",
    "            temp_d = rotate(temp_d) # 지금 북쪽 보고 있었는데 rotate 함수 때문에 왼쪽으로 돌게 됨. 그래서 서쪽 봄. \n",
    "            new_r , new_c = r + dr[temp_d], c + dc[temp_d] # ((7 + 0),(4 -1))  = (7, 3) 서쪽으로 한칸 이동 함. \n",
    "\n",
    "            if 0 <= new_r < n and 0 <= new_c < m and room_map[new_r][new_c] == 0: \n",
    "                answer += 1 # 청소 새로 했으니까 카운트 올라감 \n",
    "                room_map[new_r][new_c] = 2 # 새로 청소한곳으로 처리해둠. \n",
    "                queue.append([new_r, new_c, temp_d])\n",
    "                break \n",
    "\n",
    "            elif i == 3: # 이거 이해가 안됨. 왜 i 가 3일때 임? 이러면 방향이 동쪽이라는거 아님? \n",
    "                new_r, new_c = r + dr[ride_back(d)], c + dc[ride_back(d)]\n",
    "                queue.append([new_r, new_c, d])\n",
    "\n",
    "                if room_map[new_r][new_c] == 1: # 뒤가 벽임. \n",
    "                    return answer\n",
    "\n",
    "\n",
    "current_r, current_c, current_d = 7, 4, 0\n",
    "current_room_map = [\n",
    "    [1, 1, 1, 1, 1, 1, 1, 1, 1, 1],\n",
    "    [1, 0, 0, 0, 0, 0, 0, 0, 0, 1],\n",
    "    [1, 0, 0, 0, 1, 1, 1, 1, 0, 1],\n",
    "    [1, 0, 0, 1, 1, 0, 0, 0, 0, 1],\n",
    "    [1, 0, 1, 1, 0, 0, 0, 0, 0, 1],\n",
    "    [1, 0, 0, 0, 0, 0, 0, 0, 0, 1],\n",
    "    [1, 0, 0, 0, 0, 0, 0, 1, 0, 1],\n",
    "    [1, 0, 0, 0, 0, 0, 1, 1, 0, 1],\n",
    "    [1, 0, 0, 0, 0, 0, 1, 1, 0, 1],\n",
    "    [1, 0, 0, 0, 0, 0, 0, 0, 0, 1],\n",
    "    [1, 1, 1, 1, 1, 1, 1, 1, 1, 1]\n",
    "]\n",
    "\n",
    "print(solution(current_r, current_c, current_d, current_room_map))"
   ]
  }
 ],
 "metadata": {
  "kernelspec": {
   "display_name": "test_env",
   "language": "python",
   "name": "python3"
  },
  "language_info": {
   "codemirror_mode": {
    "name": "ipython",
    "version": 3
   },
   "file_extension": ".py",
   "mimetype": "text/x-python",
   "name": "python",
   "nbconvert_exporter": "python",
   "pygments_lexer": "ipython3",
   "version": "3.11.9"
  }
 },
 "nbformat": 4,
 "nbformat_minor": 2
}
