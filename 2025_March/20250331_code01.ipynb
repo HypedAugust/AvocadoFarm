{
 "cells": [
  {
   "cell_type": "code",
   "execution_count": null,
   "metadata": {},
   "outputs": [],
   "source": [
    "# 힙 \n",
    "# complete binary tree \n",
    "# min and max priority \n",
    "# 항상 자료를 순서대로 정렬해둠. \n",
    "# 정렬이 된 데이터 삽입 삭제가 잦은 상황에서는 힙을 쓰는 것이 더 효율적 \n"
   ]
  },
  {
   "cell_type": "code",
   "execution_count": 4,
   "metadata": {},
   "outputs": [
    {
     "name": "stdout",
     "output_type": "stream",
     "text": [
      "[None, 9, 4, 2, 3]\n"
     ]
    }
   ],
   "source": [
    "# 맥스힙의 원소 추가 \n",
    "# 1 원소를 제일 마지막에 넣는다. \n",
    "# 2 부모 노드와 비교해서 더 크다면 위로 올린다. \n",
    "\n",
    "class MaxHeap:\n",
    "    def __init__(self):\n",
    "        self.items = [None]\n",
    "\n",
    "    def insert(self, value):\n",
    "        self.items.append(value)\n",
    "        cur_index = len(self.items)-1 \n",
    "\n",
    "        while cur_index >1:\n",
    "            parent_index = cur_index //2 \n",
    "\n",
    "            if self.items[parent_index] < self.items[cur_index]:\n",
    "                self.items[parent_index], self.items[cur_index] = self.items[cur_index], self.items[parent_index]\n",
    "                cur_index = parent_index\n",
    "            else:\n",
    "                break\n",
    "            \n",
    "        return\n",
    "\n",
    "\n",
    "max_heap = MaxHeap()\n",
    "max_heap.insert(3)\n",
    "max_heap.insert(4)\n",
    "max_heap.insert(2)\n",
    "max_heap.insert(9)\n",
    "print(max_heap.items)  # [None, 9, 4, 2, 3] 가 출력되어야 합니다!"
   ]
  },
  {
   "cell_type": "code",
   "execution_count": null,
   "metadata": {},
   "outputs": [],
   "source": [
    "class MaxHeap:\n",
    "    def __init__(self):\n",
    "        self.items = [None]\n",
    "    \n",
    "    def insert(self, value):\n",
    "        self.items.append(value)\n",
    "        cur_index = len(self.items)-1\n",
    "\n",
    "        while cur_index > 1:\n",
    "            parent_index = cur_index //2\n",
    "            if self.items[parent_index] < self.items[cur_index]:\n",
    "                self.items[parent_index], self.items[cur_index] = self.items[cur_index], self.items[parent_index]\n",
    "                cur_index = parent_index\n",
    "            else:\n",
    "                break \n",
    "    \n",
    "    def delete(self):\n",
    "        self.items[1], self.items[-1] = self.items[-1], self.items[1]\n",
    "        prev_max = self.items.pop()\n",
    "        cur_index = 1 \n",
    "\n",
    "        while cur_index <= len(self.items)-1:\n",
    "            left_child_index = cur_index*2\n",
    "            right_child_index = cur_index*2+1\n",
    "            max_index = cur_index\n",
    "\n",
    "            if left_child_index <= len(self.items)-1 and self.items[left_child_index] > self.items[max_index]:\n",
    "                max_index = left_child_index\n",
    "            \n",
    "            if right_child_index <= len(self.items)-1 and self.items[right_child_index] > self.itmes[max_index]:\n",
    "                max_index = right_child_index\n",
    "            \n",
    "            if max_index == cur_index:\n",
    "                break \n",
    "\n",
    "            self.items[cur_index], self.items[max_index] = self.items[max_index], self.items[cur_index]\n",
    "            cur_index = max_index\n",
    "\n",
    "        return prev_max"
   ]
  },
  {
   "cell_type": "code",
   "execution_count": 6,
   "metadata": {},
   "outputs": [
    {
     "data": {
      "text/plain": [
       "5"
      ]
     },
     "execution_count": 6,
     "metadata": {},
     "output_type": "execute_result"
    }
   ],
   "source": [
    "arr = [1,1,3,3,0,1,5]\n",
    "arr.pop()"
   ]
  },
  {
   "cell_type": "code",
   "execution_count": 16,
   "metadata": {},
   "outputs": [
    {
     "name": "stdout",
     "output_type": "stream",
     "text": [
      "[1, 3, 0, 1]\n"
     ]
    }
   ],
   "source": [
    "arr = [1,1,3,3,0,1,1]\n",
    "# answer = [1,3,0,1]\n",
    "# arr = [4,4,4,3,3]\t, answer = [4,3]\n",
    "\n",
    "# 큐로 풀어보자 \n",
    "# list에 일단 넣는다. \n",
    "# 만약에 다음 값에도 겹치는거 있으면 pop 함. \n",
    "# 겹치는 값이 더이상 없으면 answer로 넣어버림. \n",
    "\n",
    "from collections import deque\n",
    "def solution(arr):\n",
    "    answer = []\n",
    "    queue = deque(arr)\n",
    "\n",
    "    if queue:\n",
    "        first_num = queue.popleft()\n",
    "        answer.append(first_num)\n",
    "    \n",
    "    while queue:\n",
    "        current_number = queue.popleft()\n",
    "        if current_number != answer[-1]:\n",
    "            answer.append(current_number)\n",
    "    \n",
    "    return answer \n",
    "    \n",
    "\n",
    "print(solution(arr))"
   ]
  },
  {
   "cell_type": "code",
   "execution_count": 23,
   "metadata": {},
   "outputs": [
    {
     "name": "stdout",
     "output_type": "stream",
     "text": [
      "Test 1: [1, 3, 0, 1]\n",
      "Test 2: [4, 3]\n",
      "Empty Array Test: []\n"
     ]
    }
   ],
   "source": [
    "from collections import deque\n",
    "\n",
    "def solution(arr):\n",
    "    answer = []\n",
    "    queue = deque(arr)\n",
    "    \n",
    "    # 원소 처리\n",
    "    while queue:\n",
    "        # 현재 숫자 가져오기\n",
    "        current_number = queue.popleft()\n",
    "        \n",
    "        # 첫 번째 원소이거나 이전 원소와 다른 경우에만 추가\n",
    "        if not answer or current_number != answer[-1]:\n",
    "            answer.append(current_number)\n",
    "    \n",
    "    return answer\n",
    "\n",
    "# 테스트\n",
    "arr1 = [1, 1, 3, 3, 0, 1, 1]\n",
    "arr2 = [4, 4, 4, 3, 3]\n",
    "empty_arr = []  # 빈 배열 테스트\n",
    "\n",
    "print(\"Test 1:\", solution(arr1))  # [1, 3, 0, 1]\n",
    "print(\"Test 2:\", solution(arr2))  # [4, 3]\n",
    "print(\"Empty Array Test:\", solution(empty_arr))  # []"
   ]
  },
  {
   "cell_type": "code",
   "execution_count": null,
   "metadata": {},
   "outputs": [],
   "source": []
  }
 ],
 "metadata": {
  "kernelspec": {
   "display_name": "coursera",
   "language": "python",
   "name": "python3"
  },
  "language_info": {
   "codemirror_mode": {
    "name": "ipython",
    "version": 3
   },
   "file_extension": ".py",
   "mimetype": "text/x-python",
   "name": "python",
   "nbconvert_exporter": "python",
   "pygments_lexer": "ipython3",
   "version": "3.10.8"
  }
 },
 "nbformat": 4,
 "nbformat_minor": 2
}
