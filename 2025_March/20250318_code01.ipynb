{
 "cells": [
  {
   "cell_type": "code",
   "execution_count": null,
   "metadata": {},
   "outputs": [],
   "source": [
    "# [어레이(배열) 와 링크드리스트] \n",
    "# 1 어레이 : 크기가 정해진 데이터, 원소 접근 O(1).  삽입삭제 O(N)\n",
    "# 2 링크드 리스트 : 원소 접근 O(N). 중간에 삽입 삭제 \n",
    "# O(1). 데이터 공간 늘어날 수 있다. 노드와, 포인터를 기억하자. \n",
    "\n",
    "# 링크드 리스트 구현 \n",
    "# Node \n",
    "\n",
    "class Node: \n",
    "    def __init__(self, data):\n",
    "        self.data = data\n",
    "        self.next = None \n",
    "\n",
    "class LinkedList:\n",
    "    def __init__(self,value):\n",
    "        self.head = Node(value)\n",
    "    \n",
    "    def append(self, value):\n",
    "        cur = self.head\n",
    "        while cur.next is not None:\n",
    "            cur = cur.next\n",
    "        \n",
    "        cur.next = Node(value)\n",
    "\n",
    "    def print_all(self):\n",
    "        cur = self.head\n",
    "        while cur is not None:\n",
    "            print(cur.data)\n",
    "            cur = cur.next\n",
    "    \n",
    "    def get_node(self,index):\n",
    "        cur = self.head\n",
    "        cur_index = 0\n",
    "\n",
    "        while cur_index != index:\n",
    "            cur = cur.next\n",
    "            cur_index += 1\n",
    "        \n",
    "        return cur \n",
    "    \n",
    "    def add_node(self, index, value):\n",
    "        new_node = Node(value)\n",
    "\n",
    "        if index == 0:\n",
    "            new_node.next = self.head\n",
    "            self.head = new_node\n",
    "            return \n",
    "        \n",
    "        prev_node = self.get_node(index-1)\n",
    "        next_node = prev_node.next\n",
    "        prev_node.next = new_node\n",
    "        new_node.next = next_node\n",
    "    \n",
    "    def delete_node(self, index):\n",
    "        if index == 0:\n",
    "            self.head = self.head.next\n",
    "            return\n",
    "        prev_node = self.get_node(index-1)\n",
    "        index_node = self.get_node(index)\n",
    "        prev_node.next = index_node.next "
   ]
  },
  {
   "cell_type": "code",
   "execution_count": 1,
   "metadata": {},
   "outputs": [
    {
     "name": "stdout",
     "output_type": "stream",
     "text": [
      "[5, 4]\n"
     ]
    }
   ],
   "source": [
    "a = [5]\n",
    "b = [4]\n",
    "\n",
    "print(a+b)"
   ]
  },
  {
   "cell_type": "code",
   "execution_count": null,
   "metadata": {},
   "outputs": [
    {
     "data": {
      "text/plain": [
       "'s'"
      ]
     },
     "execution_count": 2,
     "metadata": {},
     "output_type": "execute_result"
    }
   ],
   "source": [
    "def get_single_sum(LinkedList0):\n",
    "    sum = 0 \n",
    "    cur = LinkedList0.head\n",
    "    while cur is not None:\n",
    "        sum = sum*10 + cur.data\n",
    "        cur = cur.next\n",
    "    return sum \n",
    "\n",
    "def solution(LinkedList1, LinkedList2):\n",
    "    sum1 = get_single_sum(LinkedList1)\n",
    "    sum2 = get_single_sum(LinkedList2)\n",
    "    return sum1 + sum2 "
   ]
  }
 ],
 "metadata": {
  "kernelspec": {
   "display_name": "coursera",
   "language": "python",
   "name": "python3"
  },
  "language_info": {
   "codemirror_mode": {
    "name": "ipython",
    "version": 3
   },
   "file_extension": ".py",
   "mimetype": "text/x-python",
   "name": "python",
   "nbconvert_exporter": "python",
   "pygments_lexer": "ipython3",
   "version": "3.10.8"
  }
 },
 "nbformat": 4,
 "nbformat_minor": 2
}
